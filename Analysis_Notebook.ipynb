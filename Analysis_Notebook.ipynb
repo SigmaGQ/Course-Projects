{
  "nbformat": 4,
  "nbformat_minor": 0,
  "metadata": {
    "colab": {
      "name": "Analysis Notebook.ipynb",
      "provenance": [],
      "collapsed_sections": [],
      "toc_visible": true,
      "include_colab_link": true
    },
    "kernelspec": {
      "name": "python3",
      "display_name": "Python 3"
    },
    "language_info": {
      "name": "python"
    }
  },
  "cells": [
    {
      "cell_type": "markdown",
      "metadata": {
        "id": "view-in-github",
        "colab_type": "text"
      },
      "source": [
        "<a href=\"https://colab.research.google.com/github/SigmaGQ/Course-Projects/blob/main/Analysis_Notebook.ipynb\" target=\"_parent\"><img src=\"https://colab.research.google.com/assets/colab-badge.svg\" alt=\"Open In Colab\"/></a>"
      ]
    },
    {
      "cell_type": "markdown",
      "source": [
        "# Configuration"
      ],
      "metadata": {
        "id": "43j-_Xy6zrvI"
      }
    },
    {
      "cell_type": "code",
      "execution_count": null,
      "metadata": {
        "colab": {
          "base_uri": "https://localhost:8080/"
        },
        "id": "D2IcFipWKCp5",
        "outputId": "de1fc63f-502a-4d3f-bab5-648952203cdc"
      },
      "outputs": [
        {
          "output_type": "stream",
          "name": "stdout",
          "text": [
            "Mounted at /content/drive\n",
            "\n",
            "Current directory:\n",
            "/content/drive/MyDrive/200 Project\n"
          ]
        }
      ],
      "source": [
        "# import os\n",
        "# from google.colab import drive\n",
        "# # mount Google drive\n",
        "# drive.mount('/content/drive')\n",
        "\n",
        "# notebook_path = '/content/drive/MyDrive/200 Project' # WK\n",
        "# os.chdir(notebook_path)\n",
        "\n",
        "# !echo -e \"\\nCurrent directory:\"\n",
        "# !pwd"
      ]
    },
    {
      "cell_type": "code",
      "source": [
        "import json\n",
        "import gzip\n",
        "import pandas as pd\n",
        "import numpy as np\n",
        "import random\n",
        "import math\n",
        "from tqdm import tqdm\n",
        "from sklearn.model_selection import train_test_split\n",
        "from sklearn.decomposition import PCA\n",
        "import re\n",
        "\n",
        "import seaborn as sns\n",
        "from collections import defaultdict"
      ],
      "metadata": {
        "id": "eq3-X3olKTwo"
      },
      "execution_count": null,
      "outputs": []
    },
    {
      "cell_type": "markdown",
      "source": [
        "# Data Sampling and Collection"
      ],
      "metadata": {
        "id": "7Fa_AZueLTJj"
      }
    },
    {
      "cell_type": "markdown",
      "source": [
        "Our project uses the [Amazon review dataset](https://nijianmo.github.io/amazon/index.html) released in 2014. This dataset contains two types of data, one is product review data, including ratings, review text, etc., and the other is product information data, including product description, category, brand, price, etc. The updated dataset in 2018 contains all Amazon review data of all product categories from May 1996 to October 2018, with a total of 233.1 million entries.\n",
        "\n",
        "Due to computing power and storage constraints, we decided to narrow down the scope of our project and **we selected the products data in the  ‘Movies and TV’ category** for the following analysis and modeling experiments, which consists of **203,766 entries of product information data and 4,607,047 entries of product review data.** \n",
        "\n"
      ],
      "metadata": {
        "id": "8RSc1EHg0Prk"
      }
    },
    {
      "cell_type": "code",
      "source": [
        "!cd ../data; pwd; wget http://deepyeti.ucsd.edu/jianmo/amazon/metaFiles/meta_Movies_and_TV.json.gz\n",
        "!cd ../data; pwd; wget http://snap.stanford.edu/data/amazon/productGraph/categoryFiles/ratings_Movies_and_TV.csv"
      ],
      "metadata": {
        "id": "1RWBaDFbzVPG"
      },
      "execution_count": null,
      "outputs": []
    },
    {
      "cell_type": "code",
      "source": [
        "movie_info_data = []\n",
        "with gzip.open('../data/meta_Movies_and_TV.json.gz') as f:\n",
        "    for l in f:\n",
        "        movie_info_data.append(json.loads(l.strip()))"
      ],
      "metadata": {
        "id": "PsAtA75LKVIp"
      },
      "execution_count": null,
      "outputs": []
    },
    {
      "cell_type": "code",
      "source": [
        "df_movie_info = pd.DataFrame.from_dict(movie_info_data)\n",
        "df_movie_info.head()"
      ],
      "metadata": {
        "colab": {
          "base_uri": "https://localhost:8080/",
          "height": 565
        },
        "id": "dZZRK0zvK139",
        "outputId": "9ad21edc-47be-4a32-943d-e09037997b5d"
      },
      "execution_count": null,
      "outputs": [
        {
          "output_type": "execute_result",
          "data": {
            "text/plain": [
              "                category tech1  \\\n",
              "0  [Movies & TV, Movies]         \n",
              "1  [Movies & TV, Movies]         \n",
              "2  [Movies & TV, Movies]         \n",
              "3  [Movies & TV, Movies]         \n",
              "4  [Movies & TV, Movies]         \n",
              "\n",
              "                                         description fit  \\\n",
              "0                                                 []       \n",
              "1                                                 []       \n",
              "2  [Disc 1: Flour Power (Scones; Shortcakes; Sout...       \n",
              "3  [Barefoot Contessa Volume 2: On these three di...       \n",
              "4  [Rise and Swine (Good Eats Vol. 7) includes bo...       \n",
              "\n",
              "                                               title  \\\n",
              "0                Understanding Seizures and Epilepsy   \n",
              "1  Spirit Led&mdash;Moving By Grace In The Holy S...   \n",
              "2                  My Fair Pastry (Good Eats Vol. 9)   \n",
              "3  Barefoot Contessa (with Ina Garten), Entertain...   \n",
              "4                  Rise and Swine (Good Eats Vol. 7)   \n",
              "\n",
              "                                            also_buy tech2        brand  \\\n",
              "0                                                 []                      \n",
              "1                                                 []                      \n",
              "2                                                 []        Alton Brown   \n",
              "3  [B002I5GNW4, B005WXPVMM, B009UY3W8O, B00N27ID1...         Ina Garten   \n",
              "4                           [B000P1CKES, B000NR4CRM]        Alton Brown   \n",
              "\n",
              "  feature                      rank  \\\n",
              "0      []  886,503 in Movies & TV (   \n",
              "1      []  342,688 in Movies & TV (   \n",
              "2      []  370,026 in Movies & TV (   \n",
              "3      []  342,914 in Movies & TV (   \n",
              "4      []  351,684 in Movies & TV (   \n",
              "\n",
              "                                           also_view     main_cat  \\\n",
              "0                                                 []  Movies & TV   \n",
              "1                                                 []  Movies & TV   \n",
              "2                                                 []  Movies & TV   \n",
              "3  [B002I5GNW4, 0804187045, B009UY3W8O, 060960219...  Movies & TV   \n",
              "4                                       [B0015SVNXY]  Movies & TV   \n",
              "\n",
              "  similar_item date   price        asin  \\\n",
              "0                            0000695009   \n",
              "1                            0000791156   \n",
              "2                            0000143529   \n",
              "3                    $74.95  0000143588   \n",
              "4                            0000143502   \n",
              "\n",
              "                                            imageURL  \\\n",
              "0                                                 []   \n",
              "1  [https://images-na.ssl-images-amazon.com/image...   \n",
              "2  [https://images-na.ssl-images-amazon.com/image...   \n",
              "3                                                 []   \n",
              "4  [https://images-na.ssl-images-amazon.com/image...   \n",
              "\n",
              "                                     imageURLHighRes details  \n",
              "0                                                 []     NaN  \n",
              "1  [https://images-na.ssl-images-amazon.com/image...     NaN  \n",
              "2  [https://images-na.ssl-images-amazon.com/image...     NaN  \n",
              "3                                                 []     NaN  \n",
              "4  [https://images-na.ssl-images-amazon.com/image...     NaN  "
            ],
            "text/html": [
              "\n",
              "  <div id=\"df-f75ebf6a-ba13-4c9f-a081-c1d162ea571b\">\n",
              "    <div class=\"colab-df-container\">\n",
              "      <div>\n",
              "<style scoped>\n",
              "    .dataframe tbody tr th:only-of-type {\n",
              "        vertical-align: middle;\n",
              "    }\n",
              "\n",
              "    .dataframe tbody tr th {\n",
              "        vertical-align: top;\n",
              "    }\n",
              "\n",
              "    .dataframe thead th {\n",
              "        text-align: right;\n",
              "    }\n",
              "</style>\n",
              "<table border=\"1\" class=\"dataframe\">\n",
              "  <thead>\n",
              "    <tr style=\"text-align: right;\">\n",
              "      <th></th>\n",
              "      <th>category</th>\n",
              "      <th>tech1</th>\n",
              "      <th>description</th>\n",
              "      <th>fit</th>\n",
              "      <th>title</th>\n",
              "      <th>also_buy</th>\n",
              "      <th>tech2</th>\n",
              "      <th>brand</th>\n",
              "      <th>feature</th>\n",
              "      <th>rank</th>\n",
              "      <th>also_view</th>\n",
              "      <th>main_cat</th>\n",
              "      <th>similar_item</th>\n",
              "      <th>date</th>\n",
              "      <th>price</th>\n",
              "      <th>asin</th>\n",
              "      <th>imageURL</th>\n",
              "      <th>imageURLHighRes</th>\n",
              "      <th>details</th>\n",
              "    </tr>\n",
              "  </thead>\n",
              "  <tbody>\n",
              "    <tr>\n",
              "      <th>0</th>\n",
              "      <td>[Movies &amp; TV, Movies]</td>\n",
              "      <td></td>\n",
              "      <td>[]</td>\n",
              "      <td></td>\n",
              "      <td>Understanding Seizures and Epilepsy</td>\n",
              "      <td>[]</td>\n",
              "      <td></td>\n",
              "      <td></td>\n",
              "      <td>[]</td>\n",
              "      <td>886,503 in Movies &amp; TV (</td>\n",
              "      <td>[]</td>\n",
              "      <td>Movies &amp; TV</td>\n",
              "      <td></td>\n",
              "      <td></td>\n",
              "      <td></td>\n",
              "      <td>0000695009</td>\n",
              "      <td>[]</td>\n",
              "      <td>[]</td>\n",
              "      <td>NaN</td>\n",
              "    </tr>\n",
              "    <tr>\n",
              "      <th>1</th>\n",
              "      <td>[Movies &amp; TV, Movies]</td>\n",
              "      <td></td>\n",
              "      <td>[]</td>\n",
              "      <td></td>\n",
              "      <td>Spirit Led&amp;mdash;Moving By Grace In The Holy S...</td>\n",
              "      <td>[]</td>\n",
              "      <td></td>\n",
              "      <td></td>\n",
              "      <td>[]</td>\n",
              "      <td>342,688 in Movies &amp; TV (</td>\n",
              "      <td>[]</td>\n",
              "      <td>Movies &amp; TV</td>\n",
              "      <td></td>\n",
              "      <td></td>\n",
              "      <td></td>\n",
              "      <td>0000791156</td>\n",
              "      <td>[https://images-na.ssl-images-amazon.com/image...</td>\n",
              "      <td>[https://images-na.ssl-images-amazon.com/image...</td>\n",
              "      <td>NaN</td>\n",
              "    </tr>\n",
              "    <tr>\n",
              "      <th>2</th>\n",
              "      <td>[Movies &amp; TV, Movies]</td>\n",
              "      <td></td>\n",
              "      <td>[Disc 1: Flour Power (Scones; Shortcakes; Sout...</td>\n",
              "      <td></td>\n",
              "      <td>My Fair Pastry (Good Eats Vol. 9)</td>\n",
              "      <td>[]</td>\n",
              "      <td></td>\n",
              "      <td>Alton Brown</td>\n",
              "      <td>[]</td>\n",
              "      <td>370,026 in Movies &amp; TV (</td>\n",
              "      <td>[]</td>\n",
              "      <td>Movies &amp; TV</td>\n",
              "      <td></td>\n",
              "      <td></td>\n",
              "      <td></td>\n",
              "      <td>0000143529</td>\n",
              "      <td>[https://images-na.ssl-images-amazon.com/image...</td>\n",
              "      <td>[https://images-na.ssl-images-amazon.com/image...</td>\n",
              "      <td>NaN</td>\n",
              "    </tr>\n",
              "    <tr>\n",
              "      <th>3</th>\n",
              "      <td>[Movies &amp; TV, Movies]</td>\n",
              "      <td></td>\n",
              "      <td>[Barefoot Contessa Volume 2: On these three di...</td>\n",
              "      <td></td>\n",
              "      <td>Barefoot Contessa (with Ina Garten), Entertain...</td>\n",
              "      <td>[B002I5GNW4, B005WXPVMM, B009UY3W8O, B00N27ID1...</td>\n",
              "      <td></td>\n",
              "      <td>Ina Garten</td>\n",
              "      <td>[]</td>\n",
              "      <td>342,914 in Movies &amp; TV (</td>\n",
              "      <td>[B002I5GNW4, 0804187045, B009UY3W8O, 060960219...</td>\n",
              "      <td>Movies &amp; TV</td>\n",
              "      <td></td>\n",
              "      <td></td>\n",
              "      <td>$74.95</td>\n",
              "      <td>0000143588</td>\n",
              "      <td>[]</td>\n",
              "      <td>[]</td>\n",
              "      <td>NaN</td>\n",
              "    </tr>\n",
              "    <tr>\n",
              "      <th>4</th>\n",
              "      <td>[Movies &amp; TV, Movies]</td>\n",
              "      <td></td>\n",
              "      <td>[Rise and Swine (Good Eats Vol. 7) includes bo...</td>\n",
              "      <td></td>\n",
              "      <td>Rise and Swine (Good Eats Vol. 7)</td>\n",
              "      <td>[B000P1CKES, B000NR4CRM]</td>\n",
              "      <td></td>\n",
              "      <td>Alton Brown</td>\n",
              "      <td>[]</td>\n",
              "      <td>351,684 in Movies &amp; TV (</td>\n",
              "      <td>[B0015SVNXY]</td>\n",
              "      <td>Movies &amp; TV</td>\n",
              "      <td></td>\n",
              "      <td></td>\n",
              "      <td></td>\n",
              "      <td>0000143502</td>\n",
              "      <td>[https://images-na.ssl-images-amazon.com/image...</td>\n",
              "      <td>[https://images-na.ssl-images-amazon.com/image...</td>\n",
              "      <td>NaN</td>\n",
              "    </tr>\n",
              "  </tbody>\n",
              "</table>\n",
              "</div>\n",
              "      <button class=\"colab-df-convert\" onclick=\"convertToInteractive('df-f75ebf6a-ba13-4c9f-a081-c1d162ea571b')\"\n",
              "              title=\"Convert this dataframe to an interactive table.\"\n",
              "              style=\"display:none;\">\n",
              "        \n",
              "  <svg xmlns=\"http://www.w3.org/2000/svg\" height=\"24px\"viewBox=\"0 0 24 24\"\n",
              "       width=\"24px\">\n",
              "    <path d=\"M0 0h24v24H0V0z\" fill=\"none\"/>\n",
              "    <path d=\"M18.56 5.44l.94 2.06.94-2.06 2.06-.94-2.06-.94-.94-2.06-.94 2.06-2.06.94zm-11 1L8.5 8.5l.94-2.06 2.06-.94-2.06-.94L8.5 2.5l-.94 2.06-2.06.94zm10 10l.94 2.06.94-2.06 2.06-.94-2.06-.94-.94-2.06-.94 2.06-2.06.94z\"/><path d=\"M17.41 7.96l-1.37-1.37c-.4-.4-.92-.59-1.43-.59-.52 0-1.04.2-1.43.59L10.3 9.45l-7.72 7.72c-.78.78-.78 2.05 0 2.83L4 21.41c.39.39.9.59 1.41.59.51 0 1.02-.2 1.41-.59l7.78-7.78 2.81-2.81c.8-.78.8-2.07 0-2.86zM5.41 20L4 18.59l7.72-7.72 1.47 1.35L5.41 20z\"/>\n",
              "  </svg>\n",
              "      </button>\n",
              "      \n",
              "  <style>\n",
              "    .colab-df-container {\n",
              "      display:flex;\n",
              "      flex-wrap:wrap;\n",
              "      gap: 12px;\n",
              "    }\n",
              "\n",
              "    .colab-df-convert {\n",
              "      background-color: #E8F0FE;\n",
              "      border: none;\n",
              "      border-radius: 50%;\n",
              "      cursor: pointer;\n",
              "      display: none;\n",
              "      fill: #1967D2;\n",
              "      height: 32px;\n",
              "      padding: 0 0 0 0;\n",
              "      width: 32px;\n",
              "    }\n",
              "\n",
              "    .colab-df-convert:hover {\n",
              "      background-color: #E2EBFA;\n",
              "      box-shadow: 0px 1px 2px rgba(60, 64, 67, 0.3), 0px 1px 3px 1px rgba(60, 64, 67, 0.15);\n",
              "      fill: #174EA6;\n",
              "    }\n",
              "\n",
              "    [theme=dark] .colab-df-convert {\n",
              "      background-color: #3B4455;\n",
              "      fill: #D2E3FC;\n",
              "    }\n",
              "\n",
              "    [theme=dark] .colab-df-convert:hover {\n",
              "      background-color: #434B5C;\n",
              "      box-shadow: 0px 1px 3px 1px rgba(0, 0, 0, 0.15);\n",
              "      filter: drop-shadow(0px 1px 2px rgba(0, 0, 0, 0.3));\n",
              "      fill: #FFFFFF;\n",
              "    }\n",
              "  </style>\n",
              "\n",
              "      <script>\n",
              "        const buttonEl =\n",
              "          document.querySelector('#df-f75ebf6a-ba13-4c9f-a081-c1d162ea571b button.colab-df-convert');\n",
              "        buttonEl.style.display =\n",
              "          google.colab.kernel.accessAllowed ? 'block' : 'none';\n",
              "\n",
              "        async function convertToInteractive(key) {\n",
              "          const element = document.querySelector('#df-f75ebf6a-ba13-4c9f-a081-c1d162ea571b');\n",
              "          const dataTable =\n",
              "            await google.colab.kernel.invokeFunction('convertToInteractive',\n",
              "                                                     [key], {});\n",
              "          if (!dataTable) return;\n",
              "\n",
              "          const docLinkHtml = 'Like what you see? Visit the ' +\n",
              "            '<a target=\"_blank\" href=https://colab.research.google.com/notebooks/data_table.ipynb>data table notebook</a>'\n",
              "            + ' to learn more about interactive tables.';\n",
              "          element.innerHTML = '';\n",
              "          dataTable['output_type'] = 'display_data';\n",
              "          await google.colab.output.renderOutput(dataTable, element);\n",
              "          const docLink = document.createElement('div');\n",
              "          docLink.innerHTML = docLinkHtml;\n",
              "          element.appendChild(docLink);\n",
              "        }\n",
              "      </script>\n",
              "    </div>\n",
              "  </div>\n",
              "  "
            ]
          },
          "metadata": {},
          "execution_count": 4
        }
      ]
    },
    {
      "cell_type": "code",
      "source": [
        "# The size of the df_movie_info table\n",
        "df_movie_info.shape"
      ],
      "metadata": {
        "id": "u-MmXPNZK5BD",
        "colab": {
          "base_uri": "https://localhost:8080/"
        },
        "outputId": "81b6f9d5-be78-40c4-e32a-3c5533851035"
      },
      "execution_count": null,
      "outputs": [
        {
          "output_type": "execute_result",
          "data": {
            "text/plain": [
              "(203766, 19)"
            ]
          },
          "metadata": {},
          "execution_count": 5
        }
      ]
    },
    {
      "cell_type": "code",
      "source": [
        "df_movie_rating = pd.read_csv('../data/ratings_Movies_and_TV.csv', header = None)\n",
        "# df_movie_rating = pd.read_hdf('../data/ratings_Movies_and_TV.h5','df')\n",
        "df_movie_rating.rename({0: 'reviewerId', 1: 'movieId', 2: 'rating', 3: 'reviewTime'}, axis = 1, inplace = True)\n",
        "df_movie_rating.head()"
      ],
      "metadata": {
        "colab": {
          "base_uri": "https://localhost:8080/",
          "height": 206
        },
        "id": "9UEL0m5dLsOm",
        "outputId": "a5b7da89-84a1-4a21-f318-9f8e9cd26fa7"
      },
      "execution_count": null,
      "outputs": [
        {
          "output_type": "execute_result",
          "data": {
            "text/plain": [
              "       reviewerId     movieId  rating  reviewTime\n",
              "0  A3R5OBKS7OM2IR  0000143502     5.0  1358380800\n",
              "1  A3R5OBKS7OM2IR  0000143529     5.0  1380672000\n",
              "2   AH3QC2PC1VTGP  0000143561     2.0  1216252800\n",
              "3  A3LKP6WPMP9UKX  0000143588     5.0  1236902400\n",
              "4   AVIY68KEPQ5ZD  0000143588     5.0  1232236800"
            ],
            "text/html": [
              "\n",
              "  <div id=\"df-69d5b759-dca1-4257-9e0b-039b71a255b3\">\n",
              "    <div class=\"colab-df-container\">\n",
              "      <div>\n",
              "<style scoped>\n",
              "    .dataframe tbody tr th:only-of-type {\n",
              "        vertical-align: middle;\n",
              "    }\n",
              "\n",
              "    .dataframe tbody tr th {\n",
              "        vertical-align: top;\n",
              "    }\n",
              "\n",
              "    .dataframe thead th {\n",
              "        text-align: right;\n",
              "    }\n",
              "</style>\n",
              "<table border=\"1\" class=\"dataframe\">\n",
              "  <thead>\n",
              "    <tr style=\"text-align: right;\">\n",
              "      <th></th>\n",
              "      <th>reviewerId</th>\n",
              "      <th>movieId</th>\n",
              "      <th>rating</th>\n",
              "      <th>reviewTime</th>\n",
              "    </tr>\n",
              "  </thead>\n",
              "  <tbody>\n",
              "    <tr>\n",
              "      <th>0</th>\n",
              "      <td>A3R5OBKS7OM2IR</td>\n",
              "      <td>0000143502</td>\n",
              "      <td>5.0</td>\n",
              "      <td>1358380800</td>\n",
              "    </tr>\n",
              "    <tr>\n",
              "      <th>1</th>\n",
              "      <td>A3R5OBKS7OM2IR</td>\n",
              "      <td>0000143529</td>\n",
              "      <td>5.0</td>\n",
              "      <td>1380672000</td>\n",
              "    </tr>\n",
              "    <tr>\n",
              "      <th>2</th>\n",
              "      <td>AH3QC2PC1VTGP</td>\n",
              "      <td>0000143561</td>\n",
              "      <td>2.0</td>\n",
              "      <td>1216252800</td>\n",
              "    </tr>\n",
              "    <tr>\n",
              "      <th>3</th>\n",
              "      <td>A3LKP6WPMP9UKX</td>\n",
              "      <td>0000143588</td>\n",
              "      <td>5.0</td>\n",
              "      <td>1236902400</td>\n",
              "    </tr>\n",
              "    <tr>\n",
              "      <th>4</th>\n",
              "      <td>AVIY68KEPQ5ZD</td>\n",
              "      <td>0000143588</td>\n",
              "      <td>5.0</td>\n",
              "      <td>1232236800</td>\n",
              "    </tr>\n",
              "  </tbody>\n",
              "</table>\n",
              "</div>\n",
              "      <button class=\"colab-df-convert\" onclick=\"convertToInteractive('df-69d5b759-dca1-4257-9e0b-039b71a255b3')\"\n",
              "              title=\"Convert this dataframe to an interactive table.\"\n",
              "              style=\"display:none;\">\n",
              "        \n",
              "  <svg xmlns=\"http://www.w3.org/2000/svg\" height=\"24px\"viewBox=\"0 0 24 24\"\n",
              "       width=\"24px\">\n",
              "    <path d=\"M0 0h24v24H0V0z\" fill=\"none\"/>\n",
              "    <path d=\"M18.56 5.44l.94 2.06.94-2.06 2.06-.94-2.06-.94-.94-2.06-.94 2.06-2.06.94zm-11 1L8.5 8.5l.94-2.06 2.06-.94-2.06-.94L8.5 2.5l-.94 2.06-2.06.94zm10 10l.94 2.06.94-2.06 2.06-.94-2.06-.94-.94-2.06-.94 2.06-2.06.94z\"/><path d=\"M17.41 7.96l-1.37-1.37c-.4-.4-.92-.59-1.43-.59-.52 0-1.04.2-1.43.59L10.3 9.45l-7.72 7.72c-.78.78-.78 2.05 0 2.83L4 21.41c.39.39.9.59 1.41.59.51 0 1.02-.2 1.41-.59l7.78-7.78 2.81-2.81c.8-.78.8-2.07 0-2.86zM5.41 20L4 18.59l7.72-7.72 1.47 1.35L5.41 20z\"/>\n",
              "  </svg>\n",
              "      </button>\n",
              "      \n",
              "  <style>\n",
              "    .colab-df-container {\n",
              "      display:flex;\n",
              "      flex-wrap:wrap;\n",
              "      gap: 12px;\n",
              "    }\n",
              "\n",
              "    .colab-df-convert {\n",
              "      background-color: #E8F0FE;\n",
              "      border: none;\n",
              "      border-radius: 50%;\n",
              "      cursor: pointer;\n",
              "      display: none;\n",
              "      fill: #1967D2;\n",
              "      height: 32px;\n",
              "      padding: 0 0 0 0;\n",
              "      width: 32px;\n",
              "    }\n",
              "\n",
              "    .colab-df-convert:hover {\n",
              "      background-color: #E2EBFA;\n",
              "      box-shadow: 0px 1px 2px rgba(60, 64, 67, 0.3), 0px 1px 3px 1px rgba(60, 64, 67, 0.15);\n",
              "      fill: #174EA6;\n",
              "    }\n",
              "\n",
              "    [theme=dark] .colab-df-convert {\n",
              "      background-color: #3B4455;\n",
              "      fill: #D2E3FC;\n",
              "    }\n",
              "\n",
              "    [theme=dark] .colab-df-convert:hover {\n",
              "      background-color: #434B5C;\n",
              "      box-shadow: 0px 1px 3px 1px rgba(0, 0, 0, 0.15);\n",
              "      filter: drop-shadow(0px 1px 2px rgba(0, 0, 0, 0.3));\n",
              "      fill: #FFFFFF;\n",
              "    }\n",
              "  </style>\n",
              "\n",
              "      <script>\n",
              "        const buttonEl =\n",
              "          document.querySelector('#df-69d5b759-dca1-4257-9e0b-039b71a255b3 button.colab-df-convert');\n",
              "        buttonEl.style.display =\n",
              "          google.colab.kernel.accessAllowed ? 'block' : 'none';\n",
              "\n",
              "        async function convertToInteractive(key) {\n",
              "          const element = document.querySelector('#df-69d5b759-dca1-4257-9e0b-039b71a255b3');\n",
              "          const dataTable =\n",
              "            await google.colab.kernel.invokeFunction('convertToInteractive',\n",
              "                                                     [key], {});\n",
              "          if (!dataTable) return;\n",
              "\n",
              "          const docLinkHtml = 'Like what you see? Visit the ' +\n",
              "            '<a target=\"_blank\" href=https://colab.research.google.com/notebooks/data_table.ipynb>data table notebook</a>'\n",
              "            + ' to learn more about interactive tables.';\n",
              "          element.innerHTML = '';\n",
              "          dataTable['output_type'] = 'display_data';\n",
              "          await google.colab.output.renderOutput(dataTable, element);\n",
              "          const docLink = document.createElement('div');\n",
              "          docLink.innerHTML = docLinkHtml;\n",
              "          element.appendChild(docLink);\n",
              "        }\n",
              "      </script>\n",
              "    </div>\n",
              "  </div>\n",
              "  "
            ]
          },
          "metadata": {},
          "execution_count": 6
        }
      ]
    },
    {
      "cell_type": "code",
      "source": [
        "# The size of the df_movie_rating table\n",
        "df_movie_rating.shape"
      ],
      "metadata": {
        "colab": {
          "base_uri": "https://localhost:8080/"
        },
        "id": "0qtD0f7UMEM-",
        "outputId": "85041cca-0ba7-4d2b-827f-25a81ecb1192"
      },
      "execution_count": null,
      "outputs": [
        {
          "output_type": "execute_result",
          "data": {
            "text/plain": [
              "(4607047, 4)"
            ]
          },
          "metadata": {},
          "execution_count": 7
        }
      ]
    },
    {
      "cell_type": "markdown",
      "source": [
        "# Data Cleaning\n",
        "\n",
        "As introduced above, we have two types of data, product review data and product information data. \n",
        "\n",
        "- Product review data has four columns: Reviewer Id, Movie Id, Rating and Review time, which have no null value and format issue. \n",
        "\n",
        "- Product information data, 6 out of 19 columns have more than 95% null values. We directly dropped those columns. The data also contains image and text type columns such as product image links, product titles and detailed descriptions. Since we are not going to implement complex NLP and CV models, we also excluded these 3 columns. The remaining columns contain the information of product category, subcategory, brand, price, and ranking which need further processing as shown below.\n"
      ],
      "metadata": {
        "id": "tJGqqJbELV5a"
      }
    },
    {
      "cell_type": "markdown",
      "source": [
        "## Get Movie Type（Subcategory）"
      ],
      "metadata": {
        "id": "dEh1AUSic14k"
      }
    },
    {
      "cell_type": "markdown",
      "source": [
        "Though we only downloaded the `Movies and TV` Category from [Amazon product data](http://jmcauley.ucsd.edu/data/amazon/index_2014.html), there are several products from other categories like `Sports & Outdoors` in the dataset. Thus, we only selected `Movies & TV` in the column `main_cat` and there are 203464 entries left after selection."
      ],
      "metadata": {
        "id": "x7oEKojg0f7x"
      }
    },
    {
      "cell_type": "code",
      "source": [
        "df_movie_info.main_cat.value_counts().reset_index()"
      ],
      "metadata": {
        "colab": {
          "base_uri": "https://localhost:8080/",
          "height": 770
        },
        "id": "1wyALVlVzgfW",
        "outputId": "c67cc770-ccdd-4fa4-8a6d-41fda0a03bd7"
      },
      "execution_count": null,
      "outputs": [
        {
          "output_type": "execute_result",
          "data": {
            "text/plain": [
              "                                                index  main_cat\n",
              "0                                         Movies & TV    203464\n",
              "1                                   Sports & Outdoors       118\n",
              "2                                               Books        35\n",
              "3                                         Amazon Home        33\n",
              "4   <img src=\"https://images-na.ssl-images-amazon....        31\n",
              "5                                        Toys & Games        17\n",
              "6                                                            10\n",
              "7                                     All Electronics        10\n",
              "8                           Cell Phones & Accessories         9\n",
              "9                             Industrial & Scientific         8\n",
              "10                             Health & Personal Care         7\n",
              "11  <img src=\"https://images-na.ssl-images-amazon....         6\n",
              "12                                         All Beauty         3\n",
              "13                              Arts, Crafts & Sewing         3\n",
              "14                           Tools & Home Improvement         2\n",
              "15                                       Pet Supplies         2\n",
              "16                                    Office Products         2\n",
              "17                                               Baby         1\n",
              "18                                     Camera & Photo         1\n",
              "19                                        Video Games         1\n",
              "20                               Home Audio & Theater         1\n",
              "21                                Musical Instruments         1\n",
              "22                                            Grocery         1"
            ],
            "text/html": [
              "\n",
              "  <div id=\"df-673e5ae6-4e38-4d88-932b-fdd186cc0206\">\n",
              "    <div class=\"colab-df-container\">\n",
              "      <div>\n",
              "<style scoped>\n",
              "    .dataframe tbody tr th:only-of-type {\n",
              "        vertical-align: middle;\n",
              "    }\n",
              "\n",
              "    .dataframe tbody tr th {\n",
              "        vertical-align: top;\n",
              "    }\n",
              "\n",
              "    .dataframe thead th {\n",
              "        text-align: right;\n",
              "    }\n",
              "</style>\n",
              "<table border=\"1\" class=\"dataframe\">\n",
              "  <thead>\n",
              "    <tr style=\"text-align: right;\">\n",
              "      <th></th>\n",
              "      <th>index</th>\n",
              "      <th>main_cat</th>\n",
              "    </tr>\n",
              "  </thead>\n",
              "  <tbody>\n",
              "    <tr>\n",
              "      <th>0</th>\n",
              "      <td>Movies &amp; TV</td>\n",
              "      <td>203464</td>\n",
              "    </tr>\n",
              "    <tr>\n",
              "      <th>1</th>\n",
              "      <td>Sports &amp; Outdoors</td>\n",
              "      <td>118</td>\n",
              "    </tr>\n",
              "    <tr>\n",
              "      <th>2</th>\n",
              "      <td>Books</td>\n",
              "      <td>35</td>\n",
              "    </tr>\n",
              "    <tr>\n",
              "      <th>3</th>\n",
              "      <td>Amazon Home</td>\n",
              "      <td>33</td>\n",
              "    </tr>\n",
              "    <tr>\n",
              "      <th>4</th>\n",
              "      <td>&lt;img src=\"https://images-na.ssl-images-amazon....</td>\n",
              "      <td>31</td>\n",
              "    </tr>\n",
              "    <tr>\n",
              "      <th>5</th>\n",
              "      <td>Toys &amp; Games</td>\n",
              "      <td>17</td>\n",
              "    </tr>\n",
              "    <tr>\n",
              "      <th>6</th>\n",
              "      <td></td>\n",
              "      <td>10</td>\n",
              "    </tr>\n",
              "    <tr>\n",
              "      <th>7</th>\n",
              "      <td>All Electronics</td>\n",
              "      <td>10</td>\n",
              "    </tr>\n",
              "    <tr>\n",
              "      <th>8</th>\n",
              "      <td>Cell Phones &amp; Accessories</td>\n",
              "      <td>9</td>\n",
              "    </tr>\n",
              "    <tr>\n",
              "      <th>9</th>\n",
              "      <td>Industrial &amp; Scientific</td>\n",
              "      <td>8</td>\n",
              "    </tr>\n",
              "    <tr>\n",
              "      <th>10</th>\n",
              "      <td>Health &amp; Personal Care</td>\n",
              "      <td>7</td>\n",
              "    </tr>\n",
              "    <tr>\n",
              "      <th>11</th>\n",
              "      <td>&lt;img src=\"https://images-na.ssl-images-amazon....</td>\n",
              "      <td>6</td>\n",
              "    </tr>\n",
              "    <tr>\n",
              "      <th>12</th>\n",
              "      <td>All Beauty</td>\n",
              "      <td>3</td>\n",
              "    </tr>\n",
              "    <tr>\n",
              "      <th>13</th>\n",
              "      <td>Arts, Crafts &amp; Sewing</td>\n",
              "      <td>3</td>\n",
              "    </tr>\n",
              "    <tr>\n",
              "      <th>14</th>\n",
              "      <td>Tools &amp; Home Improvement</td>\n",
              "      <td>2</td>\n",
              "    </tr>\n",
              "    <tr>\n",
              "      <th>15</th>\n",
              "      <td>Pet Supplies</td>\n",
              "      <td>2</td>\n",
              "    </tr>\n",
              "    <tr>\n",
              "      <th>16</th>\n",
              "      <td>Office Products</td>\n",
              "      <td>2</td>\n",
              "    </tr>\n",
              "    <tr>\n",
              "      <th>17</th>\n",
              "      <td>Baby</td>\n",
              "      <td>1</td>\n",
              "    </tr>\n",
              "    <tr>\n",
              "      <th>18</th>\n",
              "      <td>Camera &amp; Photo</td>\n",
              "      <td>1</td>\n",
              "    </tr>\n",
              "    <tr>\n",
              "      <th>19</th>\n",
              "      <td>Video Games</td>\n",
              "      <td>1</td>\n",
              "    </tr>\n",
              "    <tr>\n",
              "      <th>20</th>\n",
              "      <td>Home Audio &amp; Theater</td>\n",
              "      <td>1</td>\n",
              "    </tr>\n",
              "    <tr>\n",
              "      <th>21</th>\n",
              "      <td>Musical Instruments</td>\n",
              "      <td>1</td>\n",
              "    </tr>\n",
              "    <tr>\n",
              "      <th>22</th>\n",
              "      <td>Grocery</td>\n",
              "      <td>1</td>\n",
              "    </tr>\n",
              "  </tbody>\n",
              "</table>\n",
              "</div>\n",
              "      <button class=\"colab-df-convert\" onclick=\"convertToInteractive('df-673e5ae6-4e38-4d88-932b-fdd186cc0206')\"\n",
              "              title=\"Convert this dataframe to an interactive table.\"\n",
              "              style=\"display:none;\">\n",
              "        \n",
              "  <svg xmlns=\"http://www.w3.org/2000/svg\" height=\"24px\"viewBox=\"0 0 24 24\"\n",
              "       width=\"24px\">\n",
              "    <path d=\"M0 0h24v24H0V0z\" fill=\"none\"/>\n",
              "    <path d=\"M18.56 5.44l.94 2.06.94-2.06 2.06-.94-2.06-.94-.94-2.06-.94 2.06-2.06.94zm-11 1L8.5 8.5l.94-2.06 2.06-.94-2.06-.94L8.5 2.5l-.94 2.06-2.06.94zm10 10l.94 2.06.94-2.06 2.06-.94-2.06-.94-.94-2.06-.94 2.06-2.06.94z\"/><path d=\"M17.41 7.96l-1.37-1.37c-.4-.4-.92-.59-1.43-.59-.52 0-1.04.2-1.43.59L10.3 9.45l-7.72 7.72c-.78.78-.78 2.05 0 2.83L4 21.41c.39.39.9.59 1.41.59.51 0 1.02-.2 1.41-.59l7.78-7.78 2.81-2.81c.8-.78.8-2.07 0-2.86zM5.41 20L4 18.59l7.72-7.72 1.47 1.35L5.41 20z\"/>\n",
              "  </svg>\n",
              "      </button>\n",
              "      \n",
              "  <style>\n",
              "    .colab-df-container {\n",
              "      display:flex;\n",
              "      flex-wrap:wrap;\n",
              "      gap: 12px;\n",
              "    }\n",
              "\n",
              "    .colab-df-convert {\n",
              "      background-color: #E8F0FE;\n",
              "      border: none;\n",
              "      border-radius: 50%;\n",
              "      cursor: pointer;\n",
              "      display: none;\n",
              "      fill: #1967D2;\n",
              "      height: 32px;\n",
              "      padding: 0 0 0 0;\n",
              "      width: 32px;\n",
              "    }\n",
              "\n",
              "    .colab-df-convert:hover {\n",
              "      background-color: #E2EBFA;\n",
              "      box-shadow: 0px 1px 2px rgba(60, 64, 67, 0.3), 0px 1px 3px 1px rgba(60, 64, 67, 0.15);\n",
              "      fill: #174EA6;\n",
              "    }\n",
              "\n",
              "    [theme=dark] .colab-df-convert {\n",
              "      background-color: #3B4455;\n",
              "      fill: #D2E3FC;\n",
              "    }\n",
              "\n",
              "    [theme=dark] .colab-df-convert:hover {\n",
              "      background-color: #434B5C;\n",
              "      box-shadow: 0px 1px 3px 1px rgba(0, 0, 0, 0.15);\n",
              "      filter: drop-shadow(0px 1px 2px rgba(0, 0, 0, 0.3));\n",
              "      fill: #FFFFFF;\n",
              "    }\n",
              "  </style>\n",
              "\n",
              "      <script>\n",
              "        const buttonEl =\n",
              "          document.querySelector('#df-673e5ae6-4e38-4d88-932b-fdd186cc0206 button.colab-df-convert');\n",
              "        buttonEl.style.display =\n",
              "          google.colab.kernel.accessAllowed ? 'block' : 'none';\n",
              "\n",
              "        async function convertToInteractive(key) {\n",
              "          const element = document.querySelector('#df-673e5ae6-4e38-4d88-932b-fdd186cc0206');\n",
              "          const dataTable =\n",
              "            await google.colab.kernel.invokeFunction('convertToInteractive',\n",
              "                                                     [key], {});\n",
              "          if (!dataTable) return;\n",
              "\n",
              "          const docLinkHtml = 'Like what you see? Visit the ' +\n",
              "            '<a target=\"_blank\" href=https://colab.research.google.com/notebooks/data_table.ipynb>data table notebook</a>'\n",
              "            + ' to learn more about interactive tables.';\n",
              "          element.innerHTML = '';\n",
              "          dataTable['output_type'] = 'display_data';\n",
              "          await google.colab.output.renderOutput(dataTable, element);\n",
              "          const docLink = document.createElement('div');\n",
              "          docLink.innerHTML = docLinkHtml;\n",
              "          element.appendChild(docLink);\n",
              "        }\n",
              "      </script>\n",
              "    </div>\n",
              "  </div>\n",
              "  "
            ]
          },
          "metadata": {},
          "execution_count": 8
        }
      ]
    },
    {
      "cell_type": "code",
      "source": [
        "print('Number of entries before selection: ', df_movie_info.shape[0])\n",
        "df_movie_info = df_movie_info[df_movie_info.main_cat == 'Movies & TV']\n",
        "print('Number of entries after selection: ', df_movie_info.shape[0])"
      ],
      "metadata": {
        "colab": {
          "base_uri": "https://localhost:8080/"
        },
        "id": "5atEvyDSO8d5",
        "outputId": "5ff53c2e-fd9b-441b-a3f3-2a4000fdfb18"
      },
      "execution_count": null,
      "outputs": [
        {
          "output_type": "stream",
          "name": "stdout",
          "text": [
            "Number of entries before selection:  203766\n",
            "Number of entries after selection:  203464\n"
          ]
        }
      ]
    },
    {
      "cell_type": "markdown",
      "source": [
        "For each main category, there are also several sub-category under it. For example, as shown below, there are sub-category like 'Science Fiction', 'Animation', 'Romance' under category 'Movies & TV'."
      ],
      "metadata": {
        "id": "2S3tyGyFzqzQ"
      }
    },
    {
      "cell_type": "code",
      "source": [
        "from collections import defaultdict\n",
        "\n",
        "cat_dict = defaultdict(int)\n",
        "for cat_list in df_movie_info.category:\n",
        "    for cat in cat_list:\n",
        "        cat_dict[cat] += 1\n",
        "\n",
        "cat_df = pd.DataFrame(pd.Series(cat_dict), columns = ['count']).reset_index().rename(columns={'index': 'category'})\n",
        "cat_df = cat_df[cat_df['count'] >= 200]\n",
        "cat_df.category.tolist()"
      ],
      "metadata": {
        "id": "Rteb4efuLWE7",
        "colab": {
          "base_uri": "https://localhost:8080/"
        },
        "outputId": "9d1f07b5-5f4d-45af-b335-6ddeb210c467"
      },
      "execution_count": null,
      "outputs": [
        {
          "output_type": "execute_result",
          "data": {
            "text/plain": [
              "['Movies & TV',\n",
              " 'Movies',\n",
              " 'Genre for Featured Categories',\n",
              " 'Exercise & Fitness',\n",
              " 'Faith & Spirituality',\n",
              " 'Christian Video',\n",
              " 'Documentary',\n",
              " 'Art House & International',\n",
              " 'By Original Language',\n",
              " 'General',\n",
              " 'Studio Specials',\n",
              " 'Warner Home Video',\n",
              " 'All Titles',\n",
              " 'Independently Distributed',\n",
              " 'Kids & Family',\n",
              " 'Fully Loaded DVDs',\n",
              " 'Special Editions',\n",
              " 'TV',\n",
              " 'Educational',\n",
              " 'Musicals & Performing Arts',\n",
              " 'Musicals',\n",
              " 'Ballet & Dance',\n",
              " 'Sony Pictures Home Entertainment',\n",
              " 'All Sony Pictures Titles',\n",
              " 'Science Fiction & Fantasy',\n",
              " 'Science Fiction',\n",
              " 'Animation',\n",
              " 'Romance',\n",
              " 'Drama',\n",
              " 'Action & Adventure',\n",
              " 'Comedy',\n",
              " 'BBC',\n",
              " 'All BBC Titles',\n",
              " 'Special Interests',\n",
              " 'Anime & Manga',\n",
              " 'Classical',\n",
              " 'Blu-ray',\n",
              " 'Music Artists',\n",
              " 'Music Videos & Concerts',\n",
              " 'Sports',\n",
              " 'Cult Movies',\n",
              " 'Westerns',\n",
              " 'Boxed Sets',\n",
              " 'Mystery & Suspense',\n",
              " 'Yoga',\n",
              " 'By Country',\n",
              " 'United Kingdom',\n",
              " 'Christian Movies & TV',\n",
              " 'Television',\n",
              " 'A&E Home Video',\n",
              " 'All A&E Titles',\n",
              " '20th Century Fox Home Entertainment',\n",
              " 'Criterion Collection',\n",
              " 'All',\n",
              " 'France',\n",
              " 'Classics',\n",
              " 'Fantasy',\n",
              " 'Warner Video Bargains',\n",
              " 'PBS',\n",
              " 'Horror',\n",
              " 'Lionsgate Home Entertainment',\n",
              " 'All Lionsgate Titles',\n",
              " 'Paramount Home Entertainment',\n",
              " 'HBO',\n",
              " 'All HBO Titles',\n",
              " 'Universal Studios Home Entertainment',\n",
              " 'All Universal Studios Titles',\n",
              " 'Mystery & Thrillers',\n",
              " 'Top Sellers',\n",
              " 'Disney Home Video',\n",
              " '3-6 Years',\n",
              " 'Miramax Home Entertainment',\n",
              " 'Walt Disney Studios Home Entertainment',\n",
              " 'All Disney Titles',\n",
              " 'Holidays & Seasonal',\n",
              " 'Christmas',\n",
              " 'Characters & Series',\n",
              " 'MGM Home Entertainment',\n",
              " 'All MGM Titles',\n",
              " 'All Fox Titles',\n",
              " 'Action',\n",
              " 'Shakespeare on DVD Store',\n",
              " 'The Works',\n",
              " 'Foreign Films',\n",
              " 'Fox TV',\n",
              " 'Military & War',\n",
              " 'DTS',\n",
              " 'German',\n",
              " 'Anime',\n",
              " 'LGBT',\n",
              " 'French',\n",
              " 'Discovery Channel',\n",
              " 'Channels',\n",
              " 'Silent Films',\n",
              " 'Japanese',\n",
              " 'First to Know',\n",
              " 'Reality TV',\n",
              " 'MOD CreateSpace Video']"
            ]
          },
          "metadata": {},
          "execution_count": 10
        }
      ]
    },
    {
      "cell_type": "markdown",
      "source": [
        "To further narrow down our scope, we selected the following 18 keywords of movie types, like 'Science Fiction' and  'Animation'. And we extracted movies whose subcategories contain these keywords using Regex. \n",
        "\n",
        "The number of movies under each selected keyword are shown in the first barplot below. And the second barplor shows the the number of movies under each movie type."
      ],
      "metadata": {
        "id": "sqksKmTlqrsV"
      }
    },
    {
      "cell_type": "code",
      "source": [
        "selected_cat = ['Exercise & Fitness', 'Faith & Spirituality', 'Documentary', \n",
        "                'Kids & Family', 'Educational', 'Musicals', 'Science Fiction', \n",
        "                'Animation', 'Romance', 'Drama', 'Action', 'Comedy', \n",
        "                'Classical', 'Sports', 'Horror', 'Mystery & Suspense', \n",
        "                'LGBT', 'Reality TV']"
      ],
      "metadata": {
        "id": "UBDbti1iShJI"
      },
      "execution_count": null,
      "outputs": []
    },
    {
      "cell_type": "code",
      "source": [
        "import seaborn as sns\n",
        "import matplotlib.pyplot as plt\n",
        "\n",
        "sel_cat_df = cat_df[cat_df['category'].isin(selected_cat)]\n",
        "plt.figure(figsize=(10,6))\n",
        "sns.barplot(x='category', y='count', data=sel_cat_df)\n",
        "plt.title('Number of movies under each selected keyword')\n",
        "plt.xlabel('keywords')\n",
        "plt.xticks(rotation=60)"
      ],
      "metadata": {
        "colab": {
          "base_uri": "https://localhost:8080/",
          "height": 522
        },
        "id": "e00r03qqT0UR",
        "outputId": "80e03750-7de7-46de-de36-05d6dedece35"
      },
      "execution_count": null,
      "outputs": [
        {
          "output_type": "execute_result",
          "data": {
            "text/plain": [
              "(array([ 0,  1,  2,  3,  4,  5,  6,  7,  8,  9, 10, 11, 12, 13, 14, 15, 16,\n",
              "        17]), <a list of 18 Text major ticklabel objects>)"
            ]
          },
          "metadata": {},
          "execution_count": 12
        },
        {
          "output_type": "display_data",
          "data": {
            "text/plain": [
              "<Figure size 720x432 with 1 Axes>"
            ],
            "image/png": "[encoded data removed]"
          },
          "metadata": {
            "needs_background": "light"
          }
        }
      ]
    },
    {
      "cell_type": "code",
      "source": [
        "df_movie_info['extracted_categories'] = df_movie_info.apply(lambda x: re.findall(r\"\\b(?=(\"+'|'.join(selected_cat) + r\")\\b)\", ' '.join(x['category'])), axis=1)\n",
        "df_movie_info['movie_type'] = df_movie_info['extracted_categories'].map(lambda x: x[0] if x else 'other')\n"
      ],
      "metadata": {
        "id": "veHUMVVNVs2B"
      },
      "execution_count": null,
      "outputs": []
    },
    {
      "cell_type": "code",
      "source": [
        "df_movie_info['movie_type'].value_counts()\n",
        "\n",
        "plt.figure(figsize=(10,6))\n",
        "sns.countplot(x='movie_type', data=df_movie_info[df_movie_info['movie_type'] != 'other'])\n",
        "plt.xticks(rotation=60)\n",
        "plt.title('Number of movies under each selected movie type')\n",
        "plt.xlabel('Movie types')"
      ],
      "metadata": {
        "colab": {
          "base_uri": "https://localhost:8080/",
          "height": 505
        },
        "id": "eD4ir2BwZtnl",
        "outputId": "20a0070b-aa07-4f9c-da40-29909022eaa2"
      },
      "execution_count": null,
      "outputs": [
        {
          "output_type": "execute_result",
          "data": {
            "text/plain": [
              "Text(0.5, 0, 'Movie types')"
            ]
          },
          "metadata": {},
          "execution_count": 14
        },
        {
          "output_type": "display_data",
          "data": {
            "text/plain": [
              "<Figure size 720x432 with 1 Axes>"
            ],
            "image/png": "[encoded data removed]"
          },
          "metadata": {
            "needs_background": "light"
          }
        }
      ]
    },
    {
      "cell_type": "markdown",
      "source": [
        "## Get Movie Rank & Price"
      ],
      "metadata": {
        "id": "lpQ-Cq-gw_Tw"
      }
    },
    {
      "cell_type": "markdown",
      "source": [
        "The data type of both ranking and price information are string. Specifically, the value of column ‘rank’ is in the format of  ‘370,026 in Movies & TV’, and the value of column ‘price’ is in the format of  ‘$74.95’. In this case, we used Regex to extract the target substring and convert it into integer."
      ],
      "metadata": {
        "id": "D-PTUoar7pOa"
      }
    },
    {
      "cell_type": "code",
      "source": [
        "df_movie_info['ranking'] = df_movie_info['rank'].str.findall(r'(?:\\+|\\-|\\$)?\\d{1,}(?:\\,?\\d{3})*(?:\\.\\d+)?%?')\n",
        "df_movie_info['ranking'] = df_movie_info.apply(lambda x: int(x['ranking'][0].replace(',', '')) if type(x['ranking'])==list else None, axis=1)"
      ],
      "metadata": {
        "id": "LEISKCp4xqQm"
      },
      "execution_count": null,
      "outputs": []
    },
    {
      "cell_type": "code",
      "source": [
        "df_movie_info['price_cleaned'] = df_movie_info['price'].str.findall(r'\\$\\d+(?:\\.\\d+)?')\n",
        "df_movie_info['price_cleaned'] = df_movie_info['price_cleaned'].map(lambda x: float(x[0][1:]) if x else None)"
      ],
      "metadata": {
        "id": "Pf45HWqYqvGL"
      },
      "execution_count": null,
      "outputs": []
    },
    {
      "cell_type": "markdown",
      "source": [
        "Besides, we found 1% of the ranking data and 40% of the price data are missing. Thus, we filled the missing data of the column ‘rank’ by the last value (ffill), and the missing data of the column ‘price’ by the mean value. ."
      ],
      "metadata": {
        "id": "h3wZ4vml8LKs"
      }
    },
    {
      "cell_type": "code",
      "source": [
        "print('Propotion of missing value in ranking: ', round(sum(df_movie_info['ranking'].isnull()) / df_movie_info['ranking'].shape[0], 2))\n",
        "print('Propotion of missing value in price: ', round(sum(df_movie_info['price_cleaned'].isnull()) / df_movie_info['price_cleaned'].shape[0], 2))"
      ],
      "metadata": {
        "colab": {
          "base_uri": "https://localhost:8080/"
        },
        "id": "AAuAt7Gug7A3",
        "outputId": "4018b07f-33fa-4580-e277-c66be6606b24"
      },
      "execution_count": null,
      "outputs": [
        {
          "output_type": "stream",
          "name": "stdout",
          "text": [
            "Propotion of missing value in ranking:  0.01\n",
            "Propotion of missing value in price:  0.47\n"
          ]
        }
      ]
    },
    {
      "cell_type": "code",
      "source": [
        "df_movie_info['ranking'] = df_movie_info['ranking'].fillna(method='ffill')\n",
        "df_movie_info['price_cleaned'] = df_movie_info['price_cleaned'].fillna(df_movie_info['price_cleaned'].mean())"
      ],
      "metadata": {
        "id": "o_kshiuE8hrN"
      },
      "execution_count": null,
      "outputs": []
    },
    {
      "cell_type": "markdown",
      "source": [
        "## Get Brand"
      ],
      "metadata": {
        "id": "1vWwnhhkc5VH"
      }
    },
    {
      "cell_type": "markdown",
      "source": [
        "Movie Brand actually refers to the movie director or movie actors/actresses. However, there are several meaningless symbols and words in this column, like ‘*’, ‘various’, etc. Thus, we used Regex to extract the names with both capitalized first name and last name. \n"
      ],
      "metadata": {
        "id": "V77djiWp9b0V"
      }
    },
    {
      "cell_type": "code",
      "source": [
        "df_movie_info['brand_cleaned'] = df_movie_info['brand'].str.findall(r'^[a-zA-Z ]+$')\n",
        "df_movie_info['brand_cleaned'] = df_movie_info['brand_cleaned'].map(lambda x: x[0] if x else None)\n",
        "df_movie_info['brand_cleaned'] = df_movie_info['brand_cleaned'].map(lambda x: x if (x != 'Various')&(x != 'Learn more')&(x!='Documentary') else None)"
      ],
      "metadata": {
        "id": "HpEhtr7jc5bY"
      },
      "execution_count": null,
      "outputs": []
    },
    {
      "cell_type": "code",
      "source": [
        "list(df_movie_info['brand'].unique())"
      ],
      "metadata": {
        "colab": {
          "base_uri": "https://localhost:8080/"
        },
        "id": "AbDXOtTqe_O9",
        "outputId": "dad3ca82-c87a-4e8a-ed3b-60d5ff48602c"
      },
      "execution_count": null,
      "outputs": [
        {
          "output_type": "execute_result",
          "data": {
            "text/plain": [
              "['',\n",
              " 'Alton Brown',\n",
              " 'Ina Garten',\n",
              " 'Joseph Prince',\n",
              " 'Douglas Miller',\n",
              " 'Steve Green',\n",
              " 'Michael Boldea',\n",
              " 'Sr. Faustina',\n",
              " 'Ben Kingsley',\n",
              " 'Tom Kane',\n",
              " 'Jack Hayford',\n",
              " 'Dr. Kent E. Hovind',\n",
              " 'Vision Video',\n",
              " 'Brian Barkley',\n",
              " 'Brian Deacon',\n",
              " 'Michael Omartian',\n",
              " 'Cedarmont Kids',\n",
              " 'Christopher Plummer',\n",
              " 'Jonathan Winters',\n",
              " 'Fred Astaire',\n",
              " 'Hyun Bin',\n",
              " 'Focus on the Family',\n",
              " 'Learn more',\n",
              " 'Jeremy Irons',\n",
              " 'Tasha Mulligan',\n",
              " 'Leonard Rossiter',\n",
              " 'Yvonne Kong',\n",
              " 'Martin Doblmeier',\n",
              " 'Kurt Ewald',\n",
              " 'Sedusa Instructors',\n",
              " 'Wendy Stevens',\n",
              " 'Erik Dalton',\n",
              " 'Andy Stanley',\n",
              " 'Jean-Georges Vongerichten',\n",
              " 'Trevor de Kock',\n",
              " 'J.T. Turner',\n",
              " 'Regardt Van Den Bergh',\n",
              " 'John Ankerberg / Jimmy DeYoung',\n",
              " 'Neil T. Anderson',\n",
              " 'Herbert von Karajan',\n",
              " 'Caroll Spinney',\n",
              " 'Ruthie Alcaide',\n",
              " 'Jim Henson',\n",
              " 'Carlo Alban',\n",
              " 'Pete Townshend',\n",
              " 'Paul Gilbert',\n",
              " 'Tom Green (III)',\n",
              " 'Michael H. King',\n",
              " '7th Grade',\n",
              " 'Levi Bonilla',\n",
              " 'Josh Hebner',\n",
              " 'Josh Murray',\n",
              " 'Dr. Danny R Faulkner',\n",
              " 'Dave Stotts',\n",
              " 'John Ashton',\n",
              " 'Rufus Reid',\n",
              " 'Joe Pass',\n",
              " 'Alfred Music',\n",
              " 'Gilda Radner',\n",
              " 'Barrie Ingham',\n",
              " \"Hugh O'Brian\",\n",
              " 'Robson Green',\n",
              " 'Oliver Reed',\n",
              " 'Michael Crawford',\n",
              " 'Gena Rowlands',\n",
              " 'Dragonfly Productions',\n",
              " 'Ioan Gruffudd',\n",
              " 'Lee Marvin',\n",
              " 'Graham Theakston',\n",
              " 'Gabriel Byrne',\n",
              " 'Bob Newhart',\n",
              " 'Gordon Jackson',\n",
              " 'Peter Coyote',\n",
              " 'Alphie McCourt',\n",
              " 'Diana Rigg',\n",
              " 'Edward Herrmann',\n",
              " 'John Nettles',\n",
              " 'Ted Dalaku',\n",
              " 'Paul Winfield',\n",
              " 'Samantha Morton',\n",
              " 'Graham Chapman',\n",
              " 'Patrick Macnee',\n",
              " 'David Janssen',\n",
              " 'Maury Chaykin',\n",
              " 'Jeff Daniels',\n",
              " 'Jonathan Coy, Julian Curry, Marion Mathie, Richard Murdoch Leo McKern',\n",
              " 'Paul Taylor',\n",
              " 'Ray Winstone',\n",
              " 'Aleksandr Lazarev',\n",
              " 'Cary Elwes',\n",
              " 'Richard Dreyfuss',\n",
              " 'Marisa Tomei',\n",
              " 'Federico Luppi',\n",
              " 'Daniel Day-Lewis',\n",
              " 'Bob Balaban',\n",
              " 'David Pierce',\n",
              " 'Tom Hanks',\n",
              " 'Walter Cronkite',\n",
              " 'Barbara Eden',\n",
              " 'Ronald Austin',\n",
              " 'Ernest Borgnine',\n",
              " 'George Wendt',\n",
              " 'Frank Oz',\n",
              " 'Paolo Bonacelli',\n",
              " 'Kim Basinger',\n",
              " 'Warren Oates',\n",
              " 'Phil Hartman',\n",
              " 'Sally Field',\n",
              " 'Arnold Schwarzenegger',\n",
              " 'Rick Rossovich',\n",
              " 'Michelle Pfeiffer',\n",
              " 'Amanda Bearse',\n",
              " 'Luke Perry',\n",
              " 'Devon Sawa',\n",
              " 'Julia Roberts',\n",
              " 'Charles Bronson',\n",
              " 'Bobby Sherwood',\n",
              " 'Jason Gedrick',\n",
              " 'Demi Moore',\n",
              " 'Jennifer Love Hewitt',\n",
              " 'Owen Wilson',\n",
              " 'Cybill Shepherd',\n",
              " 'Wendy Crewson',\n",
              " 'Billy West (II)',\n",
              " 'Milla Jovovich',\n",
              " 'Peter Horton',\n",
              " 'Kiami Davael',\n",
              " 'Brenda Blethyn',\n",
              " 'Melanie Griffith',\n",
              " 'Bill Murray',\n",
              " 'Jackie Chan',\n",
              " 'Sarah Michelle Gellar',\n",
              " 'Barbra Streisand',\n",
              " 'Dominique Swain',\n",
              " 'Michael A. Goorjian',\n",
              " 'Mandy Patinkin',\n",
              " 'Faye Dunaway',\n",
              " 'Aileen Quinn',\n",
              " 'Corey Russell',\n",
              " 'Cindy Trimm',\n",
              " 'Mikhail Baryshnikov',\n",
              " 'Manuel Legris',\n",
              " 'Alan Mowbray',\n",
              " 'Nazzareno Antinori',\n",
              " 'Kiri Te Kanawa',\n",
              " 'Andy Lau',\n",
              " 'Sean Bean',\n",
              " 'Rising Damp',\n",
              " 'John Thaw',\n",
              " 'James H. Billington',\n",
              " 'Machiko Ky',\n",
              " 'Constance Towers',\n",
              " 'Toshir Mifune',\n",
              " 'Victor Beaumont',\n",
              " 'Jarl Kulle',\n",
              " 'Elise Caron',\n",
              " 'Setsuko Hara',\n",
              " 'Yves Montand',\n",
              " 'Marcel Andr',\n",
              " 'Robert Atzorn',\n",
              " 'Jean Cocteau',\n",
              " 'Takashi Shimura',\n",
              " 'Jim Lovell',\n",
              " 'Mimsy Farmer',\n",
              " 'Mathieu Carrire',\n",
              " 'Hideki Takahashi',\n",
              " 'Annabella',\n",
              " 'Christopher Reid',\n",
              " 'Martin Sheen',\n",
              " 'Brian Avenet-Bradley',\n",
              " 'Robin Williams',\n",
              " 'Mimi Rogers',\n",
              " 'Ginger Rogers',\n",
              " 'Jason Alexander',\n",
              " 'Holly Hunter',\n",
              " 'Jean Reno',\n",
              " 'Leonard Graves',\n",
              " 'David Ogden Stiers',\n",
              " 'Dustin Hoffman',\n",
              " 'Bob Denver',\n",
              " 'John Wayne',\n",
              " 'Christine Lahti',\n",
              " 'Hulk Hogan',\n",
              " 'Denny Doherty',\n",
              " 'Goldie Hawn',\n",
              " 'Kathy Bates',\n",
              " 'Denzel Washington',\n",
              " 'Albert Finney',\n",
              " 'Bill Pullman',\n",
              " 'Randy Poffo',\n",
              " 'Mathew Fox',\n",
              " 'Phyllida Law',\n",
              " 'Jim Carrey',\n",
              " 'Leslie Nielsen',\n",
              " 'Bill Goldberg',\n",
              " 'Kevin Nash',\n",
              " 'Cary Grant',\n",
              " 'Carole Lombard',\n",
              " 'Chuck Russell',\n",
              " 'Kenneth Branagh',\n",
              " 'Danny Glover',\n",
              " 'Westbrook Van Voorhis',\n",
              " 'Johnny Depp',\n",
              " 'Robert Englund',\n",
              " 'Martin Lawrence',\n",
              " 'Frank Welker',\n",
              " 'Adam Arkin',\n",
              " 'Christopher Lambert',\n",
              " 'John Mortensen',\n",
              " 'Lewis Allen',\n",
              " 'James Stewart',\n",
              " 'Adrian Paul',\n",
              " 'Neil Diamond',\n",
              " 'Catalina Bonakie',\n",
              " 'Noah Hathaway',\n",
              " 'Peter Gallagher',\n",
              " 'Rutger Hauer',\n",
              " 'Steve Guttenberg',\n",
              " 'Patrick Muldoon',\n",
              " 'Ron Eldard',\n",
              " 'Ed Harris',\n",
              " 'Bob Hope',\n",
              " 'George C. Scott',\n",
              " 'Sasha Mitchell',\n",
              " 'Justin Arnold',\n",
              " 'Colin Friels',\n",
              " 'Denholm Elliott',\n",
              " 'Alfre Woodard',\n",
              " 'Eddie Cantor',\n",
              " 'Wesley Snipes',\n",
              " 'David Chase',\n",
              " 'Tony Randall',\n",
              " 'Linda Hamilton',\n",
              " 'Rosanna Arquette',\n",
              " 'Sherilyn Fenn',\n",
              " 'Buck Jones',\n",
              " 'Ross Bagdasarian Jr.',\n",
              " 'Deanna Durbin',\n",
              " 'Thomas Jane',\n",
              " 'Franchot Tone',\n",
              " 'George Raft',\n",
              " 'Magda Szubanski',\n",
              " 'Michael Hurst',\n",
              " 'Marlene Dietrich',\n",
              " 'Woody Harrelson',\n",
              " 'George Sanders',\n",
              " 'Gregory Peck',\n",
              " 'Edward Fox',\n",
              " 'Steve Martin',\n",
              " 'Sidney Poitier',\n",
              " 'Sylvester Stallone',\n",
              " 'Jeff Chandler',\n",
              " 'Jean-Claude Van Damme',\n",
              " 'Winona Ryder',\n",
              " 'Jason Scott Lee',\n",
              " 'Djimon Hounsou',\n",
              " 'Emilio Estevez',\n",
              " 'W.C. Fields',\n",
              " 'George Segal',\n",
              " 'Clint Eastwood',\n",
              " 'Alec Baldwin',\n",
              " 'Tim Allen',\n",
              " 'Meryl Streep',\n",
              " 'Dave Chappelle',\n",
              " 'Val Kilmer',\n",
              " 'Roy Scheider',\n",
              " 'Thomas Dekker',\n",
              " 'John Belushi',\n",
              " 'Christopher Reeve',\n",
              " 'Karen Black',\n",
              " 'Thierry Lhermitte',\n",
              " 'Kevin Spacey',\n",
              " 'Christopher Masterson',\n",
              " 'Annette Bening',\n",
              " 'Bud Abbott',\n",
              " 'Sandra Bullock',\n",
              " 'Jason London',\n",
              " 'Christian Bale',\n",
              " 'Richard Carlson',\n",
              " 'Patrick Swayze',\n",
              " 'Boris Karloff',\n",
              " 'Hugh Grant',\n",
              " 'Bokeem Woodbine',\n",
              " 'Chris Sarandon',\n",
              " 'Brendan Gleeson',\n",
              " 'William R. Moses',\n",
              " 'Katharine Hepburn',\n",
              " 'Ben Stiller',\n",
              " 'Kevin Bacon',\n",
              " 'Robert Downey Jr.',\n",
              " 'Eric Roberts',\n",
              " 'Candlebox',\n",
              " 'Doris Day',\n",
              " 'John Fiedler',\n",
              " 'Jeff Bennett',\n",
              " 'Hilary Minster',\n",
              " 'Dorothy McGuire',\n",
              " 'Ilene Woods',\n",
              " 'Richard Gere',\n",
              " 'Bob Hoskins',\n",
              " 'Oprah Winfrey',\n",
              " 'William J. Caparella',\n",
              " 'Hal Smith',\n",
              " 'Christopher Lloyd',\n",
              " 'Kevin Lima',\n",
              " 'Julie Andrews',\n",
              " 'Mary-Kate Olsen',\n",
              " 'Liesel Matthews',\n",
              " 'Mel Gibson',\n",
              " 'Morgan Freeman',\n",
              " 'Harrison Ford',\n",
              " 'Vivien Leigh',\n",
              " 'Brad Pitt',\n",
              " 'Kevin Costner',\n",
              " 'Sophie Marceau',\n",
              " 'Glenn Plummer',\n",
              " 'Hugh Marlowe',\n",
              " 'Steven Seagal',\n",
              " 'Jack Lemmon',\n",
              " 'Liam Neeson',\n",
              " 'Jack Nicholson',\n",
              " 'Chevy Chase',\n",
              " 'Al Pacino',\n",
              " 'Will Friedle',\n",
              " 'Paul Newman',\n",
              " 'Christopher Lee',\n",
              " 'Peter Cushing',\n",
              " 'Joe Pesci',\n",
              " 'Keanu Reeves',\n",
              " 'Jodie Foster',\n",
              " 'Daryl Hannah',\n",
              " 'Matthew Broderick',\n",
              " 'Albert Brooks',\n",
              " 'John Travolta',\n",
              " 'Jon Voight',\n",
              " 'Stephen Furst',\n",
              " 'Helen Hayes',\n",
              " 'Michael Douglas',\n",
              " 'George Burns',\n",
              " 'Drew Barrymore',\n",
              " 'Kurt Russell',\n",
              " 'Halle Berry',\n",
              " 'Warren Beatty',\n",
              " 'Robert Mitchum',\n",
              " 'James Cagney',\n",
              " 'Robert Montgomery',\n",
              " 'Gabrielle Anwar',\n",
              " 'Gene Kelly',\n",
              " 'Bruce Willis',\n",
              " 'Veronica Taylor',\n",
              " 'Short',\n",
              " 'Elmo Shropshire',\n",
              " 'Cleavon Little',\n",
              " 'Russ Tamblyn',\n",
              " 'Humphrey Bogart',\n",
              " 'Elizabeth Taylor',\n",
              " 'David Arquette',\n",
              " 'Sondra Locke',\n",
              " 'Delmer Daves',\n",
              " 'Elizabeth Daily',\n",
              " 'Charles Adler',\n",
              " 'Avery Brooks',\n",
              " 'LeVar Burton',\n",
              " 'Leonardo DiCaprio',\n",
              " 'Tom Everett Scott',\n",
              " 'Sean Patrick Flanery',\n",
              " 'Robert Duvall',\n",
              " 'Elvis Presley',\n",
              " 'Steve Burns',\n",
              " 'Kyle MacLachlan',\n",
              " 'Madonna',\n",
              " 'JoBeth Williams',\n",
              " 'Peter Sellers',\n",
              " 'Dave Barry',\n",
              " 'Pal',\n",
              " 'Sage Allen',\n",
              " 'Lance Henriksen',\n",
              " 'Burt Lancaster',\n",
              " 'Samuel L. Jackson',\n",
              " 'James Caan',\n",
              " 'Phoebe Cates',\n",
              " 'Peter Fonda',\n",
              " 'Peter Weller',\n",
              " 'Dom DeLuise',\n",
              " 'Topol',\n",
              " 'Dick Van Dyke',\n",
              " 'James Woods',\n",
              " 'James Brolin',\n",
              " 'Alan Ladd',\n",
              " 'Glenn Ford',\n",
              " 'James Marsden',\n",
              " 'Pam Grier',\n",
              " 'Norm MacDonald',\n",
              " 'Jim Belushi',\n",
              " 'Yaphet Kotto, Alan Weeks, Annazette Chase, Nichelle Nichols Isaac Hayes',\n",
              " 'Kirk Douglas',\n",
              " 'Marco Hofschneider',\n",
              " 'Patrick Wayne',\n",
              " 'John Agar',\n",
              " 'Masatoshi Nagase',\n",
              " 'Annette Funicello',\n",
              " 'Roberto Benigni',\n",
              " 'Danny Kaye',\n",
              " 'Chuck Norris',\n",
              " \"Peter O'Toole\",\n",
              " 'V.S. Brodie',\n",
              " 'Michael Keaton',\n",
              " 'Gala Videnovic',\n",
              " 'Linden Ashby',\n",
              " 'Patsy Kensit',\n",
              " 'Rae Dawn Chong',\n",
              " 'Roland Young',\n",
              " 'Fredric March',\n",
              " 'Claude Rains',\n",
              " 'Ian McKellen',\n",
              " 'Vincent Price',\n",
              " 'Eddie Albert',\n",
              " 'Richard Dean Anderson',\n",
              " 'Robert De Niro',\n",
              " 'Akira Kamiya',\n",
              " 'Wesley Eure',\n",
              " 'Dennis Quaid',\n",
              " 'Anthony Michael Hall',\n",
              " 'Molly Parker',\n",
              " 'Isabelle Adjani',\n",
              " 'James Mason',\n",
              " 'Glenn Close',\n",
              " 'Chicago Bulls',\n",
              " 'Penelope Keith',\n",
              " 'George Lucas',\n",
              " 'Robert Bernal',\n",
              " 'Mollie Sugden',\n",
              " 'Dennis Farina',\n",
              " 'Luis Avalos',\n",
              " 'Jami Gertz',\n",
              " 'Jean Arthur',\n",
              " 'Stockard Channing',\n",
              " 'Edward G. Robinson',\n",
              " 'Paul Zaloom',\n",
              " 'Anthony Hopkins',\n",
              " 'Russell Crowe',\n",
              " 'James Earl Jones',\n",
              " 'Rene Zellweger',\n",
              " 'Shannon Tweed',\n",
              " 'Tom Cruise',\n",
              " 'Emilie Francois',\n",
              " 'Jim Backus',\n",
              " 'David Niven',\n",
              " 'Peter Reznick',\n",
              " 'Ione Skye',\n",
              " 'Catherine Deneuve',\n",
              " 'Marc-Antoine Serou',\n",
              " 'Gene Shepherd',\n",
              " 'Eric Voegelin',\n",
              " 'Uncle Dan',\n",
              " 'Jonathan Larson',\n",
              " 'American Chemical Society',\n",
              " 'Karyn Henley',\n",
              " 'Janette Oke',\n",
              " 'Syd Lieberman',\n",
              " 'S. Kent Brown',\n",
              " 'Nino Manfredi',\n",
              " 'Asher Gold',\n",
              " 'Jodi Benson',\n",
              " 'Willie Aames',\n",
              " 'Max Lucado',\n",
              " 'Professor Robert Pippin',\n",
              " 'Friedrich A. Hayek',\n",
              " 'Jerry Apps',\n",
              " 'USS Wisconsin: The Last Battleship',\n",
              " 'Wisconsin Public Television',\n",
              " 'Vel Phillips',\n",
              " 'Anna Paskevska',\n",
              " 'Erick Hawkins',\n",
              " 'Antony Tudor',\n",
              " 'Billie Kirpich',\n",
              " 'Christina Beskou',\n",
              " 'Patricia Dickinson',\n",
              " 'Alvin Ailey American Dance Theatre',\n",
              " 'Charles Weidman',\n",
              " 'Isa Partsch-Bergsohn',\n",
              " 'Various Halau',\n",
              " 'various',\n",
              " 'Ken Verdoia',\n",
              " \"Cassie Bernall's friends\",\n",
              " 'John Thie',\n",
              " 'Vicki Battaglia',\n",
              " 'John Van Auken',\n",
              " 'Helen Reddy',\n",
              " 'Andrew Collins',\n",
              " 'Dan Millman',\n",
              " 'David Hatcher Childress',\n",
              " 'Sonia Choquette',\n",
              " 'Zecharia Sitchin',\n",
              " 'Brother Anandamoy',\n",
              " 'Brother Bhaktananda',\n",
              " 'Sri Daya Mata',\n",
              " '\\n                ',\n",
              " 'n/a',\n",
              " 'Dr Carl Werner',\n",
              " 'Manly P. Hall',\n",
              " 'na',\n",
              " 'Terance Knapp',\n",
              " 'Hagin Kenneth E',\n",
              " 'W. Cleon Skousen',\n",
              " 'Dr. Marshall Foster',\n",
              " 'Various',\n",
              " 'Bill Smith',\n",
              " 'Tony Couch',\n",
              " 'International Video Network',\n",
              " 'Tom Bechdel',\n",
              " 'Martin Lings',\n",
              " 'Animation',\n",
              " 'Harry Sperl',\n",
              " 'Lilly Walters',\n",
              " 'Pavel Tsatsouline',\n",
              " 'John Du Cane',\n",
              " 'Marty Nemko',\n",
              " 'Baxter Black',\n",
              " 'Dr. Jwing-Ming Yang',\n",
              " 'Kathy Jansen',\n",
              " 'wartime residents of Los Alamos',\n",
              " 'Linde Waidhofer',\n",
              " 'Katherine Morris',\n",
              " 'Rick Rodney',\n",
              " 'Wiser Family Puppets',\n",
              " 'Will Holladay',\n",
              " 'Dr. John Hartnett',\n",
              " 'Calvin Smith',\n",
              " 'Dr. Jonathan Sarfati',\n",
              " 'Dr. Carl Wieland & Dr. Mark Farmer',\n",
              " 'Dr. Emil Silvestru',\n",
              " 'David Aikman',\n",
              " 'John David',\n",
              " 'Shifu Yan Lei',\n",
              " 'Rhiannon Faulkner',\n",
              " 'Bob Anderson',\n",
              " 'Larry Payne',\n",
              " 'Ashley Schwartau',\n",
              " 'Sligh; Hinkle; Morgan;Nortuis',\n",
              " 'Gregory Biolchini',\n",
              " 'Derek Humphry',\n",
              " 'Peggy Osterkamp',\n",
              " \"Courtney O'Donnell\",\n",
              " 'Jeff Jones',\n",
              " 'Rev. Troy Perry',\n",
              " 'Kim Thompson',\n",
              " 'Evelyn Rota',\n",
              " 'Allan Silliphant',\n",
              " 'Bob Eisenhardt',\n",
              " 'Frank Shorter',\n",
              " 'Joni Eakeckson-Tada',\n",
              " 'Juliet Stevenson',\n",
              " 'Stan Feingold',\n",
              " 'Carol Dickman Demonstrating',\n",
              " 'Dr. Nancy Minshew',\n",
              " 'Suzanne Clothier',\n",
              " 'None',\n",
              " 'Keith Code',\n",
              " 'St',\n",
              " 'Roberta Beaty',\n",
              " 'Grayson Mattingly',\n",
              " 'students',\n",
              " 'Amy Marschak',\n",
              " 'Lydia Kelley',\n",
              " 'Csongor Daniel',\n",
              " 'Inc. PSI TECH',\n",
              " 'Tim Russ',\n",
              " 'John C. Davis',\n",
              " 'Kent Ford',\n",
              " 'Sean Runnette',\n",
              " 'Joshua Lawrence Chamberlain',\n",
              " 'Kathleen Norris',\n",
              " 'Jonathan Martin',\n",
              " 'JoHanna Burton',\n",
              " 'Neal Barnard MD',\n",
              " 'Jonathan Rudinger',\n",
              " 'Masaru Emoto',\n",
              " 'Joynan',\n",
              " 'Mary Gretchen Iorio',\n",
              " 'Corbin Allred',\n",
              " 'Janet Z. Giler and Lewis H. Gould',\n",
              " 'bruce heavin',\n",
              " 'David Balderscheir',\n",
              " 'Inc. Westco Marketing',\n",
              " 'Ernest Greene/Original creator.',\n",
              " 'Eric Bogosian',\n",
              " 'Marty Schupak & Players',\n",
              " 'Richard Daffner',\n",
              " 'none',\n",
              " 'Dewey Yung',\n",
              " 'Randy Travis',\n",
              " 'Pamela Glintenkamp',\n",
              " 'Lenore Yalisove Baum',\n",
              " 'Lance Armstrong',\n",
              " 'Steve Greisen',\n",
              " 'PT Sherri R. Betz',\n",
              " 'John Rhys-Davies',\n",
              " 'PT Sherri Betz',\n",
              " 'Troy Winbush',\n",
              " 'Raphael Picaud',\n",
              " 'Philomene Long',\n",
              " 'Tom Mauchahty-Ware',\n",
              " 'Ted Swartz',\n",
              " 'Carole Garlin',\n",
              " 'Tim Enos',\n",
              " 'Jeremy Robinson',\n",
              " 'Stephen Jay Gould',\n",
              " 'Gregory M. Doublas',\n",
              " 'Erwin B. Peters',\n",
              " 'Kathleen Farrell',\n",
              " 'Candy K. Sweet',\n",
              " 'Reiko Sudo',\n",
              " 'Dana Eldridge',\n",
              " 'Norman Schwarzkopf',\n",
              " 'Elise Foss',\n",
              " 'Joe Manuella',\n",
              " 'Laurie McDonald',\n",
              " 'Lillian Gish',\n",
              " 'Lilth Stabs',\n",
              " 'Andy Pickard',\n",
              " 'NaaderShagagi',\n",
              " 'Alex Zeigler',\n",
              " 'R.T. Dendy',\n",
              " 'Paul Grieve',\n",
              " 'Jini Patel Thompson',\n",
              " 'Lise Meloche',\n",
              " 'Miguel A. kavlin',\n",
              " 'Yvonne Moray Billy Curtis',\n",
              " 'Trevor Crane, James Pettitt',\n",
              " 'Andrew Huisman',\n",
              " 'Loretta M. Ulrich',\n",
              " 'Gwyn Prijatel',\n",
              " 'Blake Steury',\n",
              " 'Susan Meldaugh',\n",
              " 'Natalie Yco',\n",
              " 'Glen Pitre',\n",
              " 'Suzanne Kelly',\n",
              " 'Masakatsu Funaki',\n",
              " 'Joyce Daniels',\n",
              " 'Sean Riehl',\n",
              " 'Mestre R',\n",
              " 'Brian Ladd',\n",
              " 'Wendi Mahoney',\n",
              " 'Merv Knutson',\n",
              " 'Thad Kresho',\n",
              " 'John Hall',\n",
              " 'Scott Kurnit',\n",
              " 'Matthew Roddy',\n",
              " 'Walt Noon',\n",
              " 'James D. Leone',\n",
              " 'Fabian Salas',\n",
              " 'Nick Palumbo',\n",
              " 'Richard Bugby',\n",
              " 'Olga Halaburda',\n",
              " 'Dr. Jobe Martin',\n",
              " 'Karmin Murcelo',\n",
              " 'David Wright',\n",
              " 'Leo Dickinson',\n",
              " 'Jeremy Hunt',\n",
              " 'Mark Stock',\n",
              " 'Lorrie Hull',\n",
              " 'Ivan Van Sertima',\n",
              " 'Joel A. Freeman',\n",
              " 'Warren Buffett',\n",
              " 'Baron Baptiste',\n",
              " 'Steve Zee',\n",
              " 'RJ Reynolds grandson of tobacco company founder',\n",
              " 'Glen Grefe',\n",
              " 'Johanna Larson-Muhr',\n",
              " 'Dan Coplan',\n",
              " 'gregory spence',\n",
              " 'Diana of Cultural Explosion',\n",
              " 'Jodi Stolove',\n",
              " 'John Grooters',\n",
              " 'Angelina Jolie',\n",
              " 'Robert Jones',\n",
              " 'season by season, describe what they do Ranch families of Northern Arizona',\n",
              " 'Hale Dwoskin',\n",
              " 'Master Tae jung',\n",
              " 'Steve Meyer',\n",
              " 'Meinrad Craighead',\n",
              " 'Don Levine',\n",
              " 'Michael Beitler',\n",
              " 'Abby',\n",
              " 'Behavioral Intervention Association',\n",
              " 'Chris Johnson',\n",
              " 'Darlene Clark',\n",
              " 'Takanohana',\n",
              " 'John Green',\n",
              " 'Members of the Bunraku Theatrical Ensemble of Japan',\n",
              " 'Sylvia Berliner',\n",
              " 'Cam Mather',\n",
              " 'Matty Simmons',\n",
              " 'forty others',\n",
              " 'Joseph W. Tkach',\n",
              " 'Dr. Paul Lam',\n",
              " 'Bill Matney',\n",
              " 'Jim Lion',\n",
              " 'Roger Oakland',\n",
              " 'Jim Proser',\n",
              " 'CRAIG WISNIEWSKI',\n",
              " 'Bob Kenan',\n",
              " 'Haydon Grooms',\n",
              " 'Brad Padula',\n",
              " 'Michael Keyser',\n",
              " 'Sergei Shapoval',\n",
              " 'Jennie von Eggers',\n",
              " 'Ana Forrest',\n",
              " 'Michael Moodoo (a.k.a. Michael Dowell)',\n",
              " 'Julie Goodnight',\n",
              " 'Dharma Mittra',\n",
              " 'David R. Hawkins',\n",
              " 'Jill Nussinow',\n",
              " 'George Ford',\n",
              " 'Dr Joseph Dispenza',\n",
              " 'Heather Van Vorous',\n",
              " 'Mary Scott',\n",
              " 'Thirza Defoe',\n",
              " 'Jeff Primack',\n",
              " 'David Talbott',\n",
              " 'Tenzin Gyatso the 14th Dalai Lama',\n",
              " 'Captain Dan Keating',\n",
              " 'Hal Holbrook (Narrator)',\n",
              " 'Robert R. Prechter',\n",
              " 'Jr. Robert R. Prechter',\n",
              " 'Sydney Solis',\n",
              " 'Microorganisms',\n",
              " 'Real children & moms',\n",
              " 'Kari Shaver',\n",
              " 'Carrie Dearing',\n",
              " 'Mark Kokavec',\n",
              " 'Gary Sinise',\n",
              " 'interviewees',\n",
              " 'Smokie Brannaman',\n",
              " 'Yukon the Mustang',\n",
              " 'John Friend',\n",
              " 'Mike Piazza',\n",
              " 'Prophet Brian Mosley',\n",
              " 'Dr. Brad Harrub',\n",
              " 'Dr. David Berlinski',\n",
              " 'Al Staggs',\n",
              " 'Joanne Morgan',\n",
              " 'Jill Heinerth',\n",
              " 'Lynea Gillen',\n",
              " 'Geoffrey Botkin;Victoria Botkin;David Botkin',\n",
              " 'Neil Moore',\n",
              " 'Ross Brooks',\n",
              " 'O. carl simonton M.D.',\n",
              " 'Sifu Gad Levy-Golan',\n",
              " 'Mike Dooley',\n",
              " 'David Sereda',\n",
              " 'Ethel Begay',\n",
              " 'Tedd Tripp',\n",
              " 'Dr. David Cook',\n",
              " 'Todd M. Elsner',\n",
              " 'Mitch Paioff',\n",
              " 'Philip Leclerc',\n",
              " 'Rich Strauss',\n",
              " 'Cathy Rice',\n",
              " 'Karl W. Palachuk',\n",
              " 'Laura Sams',\n",
              " 'Mark Anderson Phillips',\n",
              " 'Victoria Lansford',\n",
              " 'iLia Anossov (fresco)',\n",
              " 'Tracy Boyd',\n",
              " 'Sy Rogers',\n",
              " 'children',\n",
              " 'DOUG LARUE',\n",
              " 'Ben Nelson',\n",
              " 'On The Fields Of Battle LLC',\n",
              " 'Micah True',\n",
              " 'Revital Carroll',\n",
              " 'Cain Carroll',\n",
              " 'Lynda Madden Dahl',\n",
              " 'Tommy Wiseau',\n",
              " 'John Richie',\n",
              " 'Tory Jenkins',\n",
              " 'David Roby',\n",
              " 'Carolann Stoney',\n",
              " 'Dick Burnham',\n",
              " 'Bobby Tomlinson',\n",
              " 'None (Documentary)',\n",
              " 'Doug Tallamy',\n",
              " 'Alan \"SPO\" Schwartz',\n",
              " 'Dr. Xavier Amador',\n",
              " 'Adam D. Bearup',\n",
              " 'Charlotte Thomson Iserbyt',\n",
              " 'Paul Miller',\n",
              " 'Brett Ferdinand',\n",
              " 'Vera Tarman',\n",
              " 'Charlotte Gerson',\n",
              " 'Jeff Brown',\n",
              " 'featuring Wu Ying Yua and Gerald A. Sharp',\n",
              " 'Tony Northrup',\n",
              " 'Samantha Kurtzman-Counter',\n",
              " 'Paul Washer',\n",
              " 'Bill Salus',\n",
              " 'Michael Perlis PhD',\n",
              " 'Jason and Crystalina Evert',\n",
              " 'Shawn Lantz',\n",
              " 'The Augustine Institute',\n",
              " 'Tom Hegna',\n",
              " 'Sophia Yin',\n",
              " 'Esther Hicks',\n",
              " 'Wayne Dyer',\n",
              " 'Nicole Nichols',\n",
              " 'Lewis Black',\n",
              " 'Keith Wyatt',\n",
              " 'The Beatles',\n",
              " 'George Kollias',\n",
              " 'Derek Roddy',\n",
              " 'Rachel Lyon',\n",
              " \"PJ O'Clair\",\n",
              " 'Moira Merrithew',\n",
              " 'Heinz Fussle',\n",
              " 'Emily Lloyd',\n",
              " 'Joan Agajanian Quinn',\n",
              " \"Paula D'Arcy\",\n",
              " 'Donald Harington',\n",
              " 'Deborah Chen',\n",
              " 'Michael Caine',\n",
              " 'Roy Rogers',\n",
              " 'Cheech Marin',\n",
              " 'Satyajit Ray',\n",
              " 'John Cusack',\n",
              " 'Leonard Nimoy',\n",
              " 'Candace Hilligoss',\n",
              " 'Yun-Fat Chow',\n",
              " 'Christopher Guest',\n",
              " 'Geraldine Wurzburg',\n",
              " 'Daniel Geller',\n",
              " 'Hava Kohav Beller',\n",
              " 'Frank',\n",
              " 'Ian Darling',\n",
              " 'Kath Soucie',\n",
              " 'Cathy Cavadini',\n",
              " 'Don Messick',\n",
              " 'Over 60 Assinibione Tribal Members',\n",
              " 'Sean Connery',\n",
              " 'Ken Anderson',\n",
              " 'Colette Alliot-Lugaz',\n",
              " 'Andre Previn',\n",
              " 'Talley Beatty',\n",
              " 'Barry McCauley',\n",
              " 'Yuri Marusin',\n",
              " 'Ernie Kovacs',\n",
              " 'Marian Anderson',\n",
              " 'Helena Bonham Carter',\n",
              " 'Keiko Toda',\n",
              " 'Justin Cook',\n",
              " 'Toshihiko Seki',\n",
              " 'Ted Lewis',\n",
              " 'Tru Furuya',\n",
              " 'Kei Mizutani',\n",
              " 'Animated Film',\n",
              " 'Animated Character',\n",
              " 'Gateway Films',\n",
              " 'Billy Budd Films Inc.',\n",
              " 'Video Japonica',\n",
              " 'Jason Evert',\n",
              " 'Tom Amandes',\n",
              " 'Penny Singleton',\n",
              " 'Ed Dubrowsky',\n",
              " 'documentary',\n",
              " 'David Auker',\n",
              " 'Therese Schroeder-Sheker',\n",
              " 'Fred Holmes',\n",
              " 'David McCallum',\n",
              " 'Jim Kingshott',\n",
              " 'John Jordan',\n",
              " 'John Burke',\n",
              " 'Meiko Kaji',\n",
              " 'Raiz Ichikawa',\n",
              " 'Pierre Baillot',\n",
              " 'Douglas Fairbanks',\n",
              " 'Eva Mattes',\n",
              " 'Patricia Reyes Spndola',\n",
              " 'Bob Brier',\n",
              " 'Neil deGrasse Tyson',\n",
              " 'Edward J. Larson',\n",
              " 'Jeremy McInerney',\n",
              " 'Robert Greenberg',\n",
              " 'Marshall C. Eakin',\n",
              " 'Alan Kors',\n",
              " 'Barbara J. King',\n",
              " 'Elizabeth Vandiver',\n",
              " 'Malcolm David Eckel',\n",
              " 'Linwood Thompson',\n",
              " 'Michael Starbird',\n",
              " 'Patrick N. Allitt',\n",
              " 'Morena Corwin',\n",
              " 'Paola Martinez',\n",
              " 'Deanna Brooks',\n",
              " 'Pamela Anderson',\n",
              " 'Karen McDougal',\n",
              " 'Maria Ford',\n",
              " 'Hommy Stewart',\n",
              " 'Peter Graves',\n",
              " 'Bo Svenson',\n",
              " 'Timothy Lorang',\n",
              " 'Leah Davies',\n",
              " 'Lauren Celinski',\n",
              " 'Philippe Lotard',\n",
              " 'Anouk Grinberg',\n",
              " 'Fernando Ramos da Silva',\n",
              " 'Shabana Azmi',\n",
              " 'Ovidiu Balan',\n",
              " 'Dominique Reymond',\n",
              " 'La Paquera de Jerez',\n",
              " 'Fabrice Luchini',\n",
              " 'Eva Kotamanidou',\n",
              " 'Grgoire Colin',\n",
              " 'Madeleine Assas',\n",
              " 'Charlotte Gainsbourg',\n",
              " 'Franois Simon',\n",
              " 'Jean-Claude Biette',\n",
              " 'Joey Wang',\n",
              " 'Susan Heitler',\n",
              " 'Jason Andrews',\n",
              " 'Taber Bruner',\n",
              " 'Pierre Giacometti',\n",
              " 'Katerina Taxia',\n",
              " 'Tamilee Webb',\n",
              " 'Lily Tomlin',\n",
              " 'Rudolf Nureyev',\n",
              " 'Ashley Olsen',\n",
              " 'Joey Bond',\n",
              " 'Graham Loveridge',\n",
              " 'Lauren Bacall',\n",
              " 'Henry Czerny',\n",
              " 'Joan Wester Anderson (host)',\n",
              " 'Lawrence J Solow',\n",
              " 'Kay Moon Dreamer',\n",
              " 'Kappei Yamaguchi',\n",
              " 'Jan Aldenhoven',\n",
              " 'Tom Conti',\n",
              " 'Ian Carmichael',\n",
              " 'Rue McClanahan',\n",
              " 'Stuart Margolin',\n",
              " 'Alan Bates',\n",
              " 'Maureen Forrester',\n",
              " 'John Alderton',\n",
              " 'John Junkerman',\n",
              " 'Alexander Morton (Narrator)',\n",
              " 'Jack Sheldon',\n",
              " 'Douglas J. Lisle',\n",
              " 'Buck Brannaman',\n",
              " 'Jim Masterson',\n",
              " 'Adi Da Samraj',\n",
              " 'Mary Stori',\n",
              " 'Carol Doak',\n",
              " 'Judith Baker Montano',\n",
              " 'Peggy Martin',\n",
              " 'Bob West',\n",
              " 'Larry Brantley',\n",
              " 'Soccer the Dog',\n",
              " 'Dan Redican',\n",
              " 'Chris Jones',\n",
              " 'Eric Linde',\n",
              " 'George H. Harrison',\n",
              " 'Schlessinger',\n",
              " 'American Cultures',\n",
              " 'Jacob Tierney',\n",
              " 'Jon Amiel',\n",
              " 'Billy Crudup',\n",
              " 'Sami Bouajila',\n",
              " 'Anna Karina',\n",
              " 'Steve Buscemi',\n",
              " 'Sam Kinison',\n",
              " 'Klaus Maria Brandauer',\n",
              " 'lodie Bouchez',\n",
              " 'Narrate By Christopher Lee',\n",
              " 'Michael York',\n",
              " 'Jean-Louis Trintignant',\n",
              " 'Chao-jung Chen',\n",
              " 'Marion Bailey',\n",
              " 'Dragan Bjelogrlic',\n",
              " 'Oleg Yankovskiy',\n",
              " 'Joan Chen',\n",
              " 'Trisha Todd',\n",
              " 'Victoire Thivisol',\n",
              " 'Sylvia Kristel',\n",
              " 'Charles Chan',\n",
              " \"John O'Hagan\",\n",
              " 'Maggie Cheung',\n",
              " 'Helmut Berger',\n",
              " 'William L. Cassidy',\n",
              " 'Miou-Miou',\n",
              " 'Ivan Brutsche',\n",
              " 'Mercedes Ruehl',\n",
              " 'Danile Barraud',\n",
              " \"Jacques d'Amboise\",\n",
              " 'Animated',\n",
              " 'Maria Bonnevie',\n",
              " 'Pascale Ogier',\n",
              " 'Sophia Loren',\n",
              " 'Robert Mugge',\n",
              " 'Delphine Zentout',\n",
              " 'Roscoe Lee Browne',\n",
              " ...]"
            ]
          },
          "metadata": {},
          "execution_count": 20
        }
      ]
    },
    {
      "cell_type": "markdown",
      "source": [
        "# Exploratory Data Analysis"
      ],
      "metadata": {
        "id": "SGMDKZCLLW6g"
      }
    },
    {
      "cell_type": "markdown",
      "source": [
        "## Movie Review Data\n",
        "\n",
        "For movie review data, each record represents a user's rating for a movie, so the granularity of this data is by user by movie. We calculated the average rating and the total number of reviews for each movie. "
      ],
      "metadata": {
        "id": "Ws3teuw4-y0Y"
      }
    },
    {
      "cell_type": "code",
      "source": [
        "print('Number of Unique Reviewers: ', df_movie_rating['reviewerId'].nunique())\n",
        "print('Number of Unique movies:', df_movie_rating['movieId'].nunique())"
      ],
      "metadata": {
        "colab": {
          "base_uri": "https://localhost:8080/"
        },
        "id": "1OGGTG88K9tz",
        "outputId": "624db47b-b4b7-416e-bc84-17a57b284f70"
      },
      "execution_count": null,
      "outputs": [
        {
          "output_type": "stream",
          "name": "stdout",
          "text": [
            "Number of Unique Reviewers:  2088620\n",
            "Number of Unique movies: 200941\n"
          ]
        }
      ]
    },
    {
      "cell_type": "code",
      "source": [
        "agg_review_df = df_movie_rating.groupby('movieId').agg({'rating': 'mean', 'reviewerId': 'count'}).reset_index()\n",
        "agg_review_df = agg_review_df.rename(columns = {'rating': 'avg_rating', 'reviewerId': 'cnt_review'})"
      ],
      "metadata": {
        "id": "JTPkhg6MnAmY"
      },
      "execution_count": null,
      "outputs": []
    },
    {
      "cell_type": "markdown",
      "source": [
        "We can see form the distribution plot below that most movies have an average rating of greater than 3 and are mostly concentrated between 4 and 5. Thus, most of the users give ratings conservatively and will not give too low scores. Also, we found that more than 95% of the movies have less than 300 reviews and 90% of the movies have less than 40 reviews. Thus, we can conclude that most of the movie products on Amazon are long-tail products."
      ],
      "metadata": {
        "id": "atv0wARKKNel"
      }
    },
    {
      "cell_type": "code",
      "source": [
        "plt.figure(figsize=(16, 5))\n",
        "plt.subplot(1,2,1)\n",
        "sns.histplot(data = agg_review_df['avg_rating'], bins = 20)\n",
        "plt.xlabel('Average Rating')\n",
        "plt.title('Distribution of Movie Average Rating')\n",
        "plt.subplot(1,2,2)\n",
        "sns.histplot(data = agg_review_df.loc[agg_review_df['cnt_review'] < 40, 'cnt_review'])\n",
        "plt.xlabel('Number of Reviews')\n",
        "plt.title('Distribution of Movie Review Counts (<90 Percentile)')"
      ],
      "metadata": {
        "colab": {
          "base_uri": "https://localhost:8080/",
          "height": 368
        },
        "id": "j13aUcTWBRod",
        "outputId": "4413fcdb-8e6e-4402-933a-c2a0eac72ab4"
      },
      "execution_count": null,
      "outputs": [
        {
          "output_type": "execute_result",
          "data": {
            "text/plain": [
              "Text(0.5, 1.0, 'Distribution of Movie Review Counts (<90 Percentile)')"
            ]
          },
          "metadata": {},
          "execution_count": 23
        },
        {
          "output_type": "display_data",
          "data": {
            "text/plain": [
              "<Figure size 1152x360 with 2 Axes>"
            ],
            "image/png": "[encoded data removed]"
          },
          "metadata": {
            "needs_background": "light"
          }
        }
      ]
    },
    {
      "cell_type": "code",
      "source": [
        "agg_review_df['cnt_review'].describe()"
      ],
      "metadata": {
        "colab": {
          "base_uri": "https://localhost:8080/"
        },
        "id": "YMkBb7qluaQP",
        "outputId": "be883489-1a07-47a3-af3e-4bae5e83cc1e"
      },
      "execution_count": null,
      "outputs": [
        {
          "output_type": "execute_result",
          "data": {
            "text/plain": [
              "count    200941.000000\n",
              "mean         22.927362\n",
              "std         122.403277\n",
              "min           1.000000\n",
              "25%           1.000000\n",
              "50%           3.000000\n",
              "75%          11.000000\n",
              "max       11906.000000\n",
              "Name: cnt_review, dtype: float64"
            ]
          },
          "metadata": {},
          "execution_count": 24
        }
      ]
    },
    {
      "cell_type": "code",
      "source": [
        "# 90% of the movies have less than 38 reviews.\n",
        "agg_review_df[['cnt_review']].quantile(0.90)"
      ],
      "metadata": {
        "colab": {
          "base_uri": "https://localhost:8080/"
        },
        "id": "1I9_oa1hAPY3",
        "outputId": "85c3468e-d86a-48e5-ea90-d8b889ca8c62"
      },
      "execution_count": null,
      "outputs": [
        {
          "output_type": "execute_result",
          "data": {
            "text/plain": [
              "cnt_review    38.0\n",
              "Name: 0.9, dtype: float64"
            ]
          },
          "metadata": {},
          "execution_count": 25
        }
      ]
    },
    {
      "cell_type": "markdown",
      "source": [
        "We also calculated the average rating and the total number of reviews given by each customer. There is a customer that has written more than 2,500 reviews. But 90% of the customers only gave less than 3 reviews. Thus, we think it is more worthwhile to dig into information on movie level rather than user activity, considering that we do not have other user related data on hand.\n"
      ],
      "metadata": {
        "id": "cx0OszXXNTiy"
      }
    },
    {
      "cell_type": "code",
      "source": [
        "agg_user_df = df_movie_rating.groupby('reviewerId').agg({'rating': 'mean', 'movieId': 'count'}).reset_index()\n",
        "agg_user_df = agg_user_df.rename(columns = {'rating': 'avg_rating', 'movieId': 'cnt_review'})\n",
        "agg_user_df.head()"
      ],
      "metadata": {
        "colab": {
          "base_uri": "https://localhost:8080/",
          "height": 206
        },
        "id": "3pXPOEiWKfVW",
        "outputId": "5c66fd09-1b38-44e8-b7d1-7af1942d1588"
      },
      "execution_count": null,
      "outputs": [
        {
          "output_type": "execute_result",
          "data": {
            "text/plain": [
              "              reviewerId  avg_rating  cnt_review\n",
              "0  A00001362Q1PGIX2FYSSH         2.0           1\n",
              "1  A00005181SC9PSCD58LCG         4.5           2\n",
              "2   A0001392IVCRENBEIEYS         1.0           1\n",
              "3   A0002090WKEMAO8KOWKM         5.0           2\n",
              "4  A000222418JVUV9W33GLH         4.5           2"
            ],
            "text/html": [
              "\n",
              "  <div id=\"df-5f49e4b6-e91b-4dc2-82c6-42e8fb6bceba\">\n",
              "    <div class=\"colab-df-container\">\n",
              "      <div>\n",
              "<style scoped>\n",
              "    .dataframe tbody tr th:only-of-type {\n",
              "        vertical-align: middle;\n",
              "    }\n",
              "\n",
              "    .dataframe tbody tr th {\n",
              "        vertical-align: top;\n",
              "    }\n",
              "\n",
              "    .dataframe thead th {\n",
              "        text-align: right;\n",
              "    }\n",
              "</style>\n",
              "<table border=\"1\" class=\"dataframe\">\n",
              "  <thead>\n",
              "    <tr style=\"text-align: right;\">\n",
              "      <th></th>\n",
              "      <th>reviewerId</th>\n",
              "      <th>avg_rating</th>\n",
              "      <th>cnt_review</th>\n",
              "    </tr>\n",
              "  </thead>\n",
              "  <tbody>\n",
              "    <tr>\n",
              "      <th>0</th>\n",
              "      <td>A00001362Q1PGIX2FYSSH</td>\n",
              "      <td>2.0</td>\n",
              "      <td>1</td>\n",
              "    </tr>\n",
              "    <tr>\n",
              "      <th>1</th>\n",
              "      <td>A00005181SC9PSCD58LCG</td>\n",
              "      <td>4.5</td>\n",
              "      <td>2</td>\n",
              "    </tr>\n",
              "    <tr>\n",
              "      <th>2</th>\n",
              "      <td>A0001392IVCRENBEIEYS</td>\n",
              "      <td>1.0</td>\n",
              "      <td>1</td>\n",
              "    </tr>\n",
              "    <tr>\n",
              "      <th>3</th>\n",
              "      <td>A0002090WKEMAO8KOWKM</td>\n",
              "      <td>5.0</td>\n",
              "      <td>2</td>\n",
              "    </tr>\n",
              "    <tr>\n",
              "      <th>4</th>\n",
              "      <td>A000222418JVUV9W33GLH</td>\n",
              "      <td>4.5</td>\n",
              "      <td>2</td>\n",
              "    </tr>\n",
              "  </tbody>\n",
              "</table>\n",
              "</div>\n",
              "      <button class=\"colab-df-convert\" onclick=\"convertToInteractive('df-5f49e4b6-e91b-4dc2-82c6-42e8fb6bceba')\"\n",
              "              title=\"Convert this dataframe to an interactive table.\"\n",
              "              style=\"display:none;\">\n",
              "        \n",
              "  <svg xmlns=\"http://www.w3.org/2000/svg\" height=\"24px\"viewBox=\"0 0 24 24\"\n",
              "       width=\"24px\">\n",
              "    <path d=\"M0 0h24v24H0V0z\" fill=\"none\"/>\n",
              "    <path d=\"M18.56 5.44l.94 2.06.94-2.06 2.06-.94-2.06-.94-.94-2.06-.94 2.06-2.06.94zm-11 1L8.5 8.5l.94-2.06 2.06-.94-2.06-.94L8.5 2.5l-.94 2.06-2.06.94zm10 10l.94 2.06.94-2.06 2.06-.94-2.06-.94-.94-2.06-.94 2.06-2.06.94z\"/><path d=\"M17.41 7.96l-1.37-1.37c-.4-.4-.92-.59-1.43-.59-.52 0-1.04.2-1.43.59L10.3 9.45l-7.72 7.72c-.78.78-.78 2.05 0 2.83L4 21.41c.39.39.9.59 1.41.59.51 0 1.02-.2 1.41-.59l7.78-7.78 2.81-2.81c.8-.78.8-2.07 0-2.86zM5.41 20L4 18.59l7.72-7.72 1.47 1.35L5.41 20z\"/>\n",
              "  </svg>\n",
              "      </button>\n",
              "      \n",
              "  <style>\n",
              "    .colab-df-container {\n",
              "      display:flex;\n",
              "      flex-wrap:wrap;\n",
              "      gap: 12px;\n",
              "    }\n",
              "\n",
              "    .colab-df-convert {\n",
              "      background-color: #E8F0FE;\n",
              "      border: none;\n",
              "      border-radius: 50%;\n",
              "      cursor: pointer;\n",
              "      display: none;\n",
              "      fill: #1967D2;\n",
              "      height: 32px;\n",
              "      padding: 0 0 0 0;\n",
              "      width: 32px;\n",
              "    }\n",
              "\n",
              "    .colab-df-convert:hover {\n",
              "      background-color: #E2EBFA;\n",
              "      box-shadow: 0px 1px 2px rgba(60, 64, 67, 0.3), 0px 1px 3px 1px rgba(60, 64, 67, 0.15);\n",
              "      fill: #174EA6;\n",
              "    }\n",
              "\n",
              "    [theme=dark] .colab-df-convert {\n",
              "      background-color: #3B4455;\n",
              "      fill: #D2E3FC;\n",
              "    }\n",
              "\n",
              "    [theme=dark] .colab-df-convert:hover {\n",
              "      background-color: #434B5C;\n",
              "      box-shadow: 0px 1px 3px 1px rgba(0, 0, 0, 0.15);\n",
              "      filter: drop-shadow(0px 1px 2px rgba(0, 0, 0, 0.3));\n",
              "      fill: #FFFFFF;\n",
              "    }\n",
              "  </style>\n",
              "\n",
              "      <script>\n",
              "        const buttonEl =\n",
              "          document.querySelector('#df-5f49e4b6-e91b-4dc2-82c6-42e8fb6bceba button.colab-df-convert');\n",
              "        buttonEl.style.display =\n",
              "          google.colab.kernel.accessAllowed ? 'block' : 'none';\n",
              "\n",
              "        async function convertToInteractive(key) {\n",
              "          const element = document.querySelector('#df-5f49e4b6-e91b-4dc2-82c6-42e8fb6bceba');\n",
              "          const dataTable =\n",
              "            await google.colab.kernel.invokeFunction('convertToInteractive',\n",
              "                                                     [key], {});\n",
              "          if (!dataTable) return;\n",
              "\n",
              "          const docLinkHtml = 'Like what you see? Visit the ' +\n",
              "            '<a target=\"_blank\" href=https://colab.research.google.com/notebooks/data_table.ipynb>data table notebook</a>'\n",
              "            + ' to learn more about interactive tables.';\n",
              "          element.innerHTML = '';\n",
              "          dataTable['output_type'] = 'display_data';\n",
              "          await google.colab.output.renderOutput(dataTable, element);\n",
              "          const docLink = document.createElement('div');\n",
              "          docLink.innerHTML = docLinkHtml;\n",
              "          element.appendChild(docLink);\n",
              "        }\n",
              "      </script>\n",
              "    </div>\n",
              "  </div>\n",
              "  "
            ]
          },
          "metadata": {},
          "execution_count": 26
        }
      ]
    },
    {
      "cell_type": "code",
      "source": [
        "agg_user_df['cnt_review'].describe()"
      ],
      "metadata": {
        "colab": {
          "base_uri": "https://localhost:8080/"
        },
        "id": "9rW2hZmSMI5D",
        "outputId": "91ae0bb6-6730-4342-bf49-99a19398cf10"
      },
      "execution_count": null,
      "outputs": [
        {
          "output_type": "execute_result",
          "data": {
            "text/plain": [
              "count    2.088620e+06\n",
              "mean     2.205785e+00\n",
              "std      1.136787e+01\n",
              "min      1.000000e+00\n",
              "25%      1.000000e+00\n",
              "50%      1.000000e+00\n",
              "75%      2.000000e+00\n",
              "max      2.654000e+03\n",
              "Name: cnt_review, dtype: float64"
            ]
          },
          "metadata": {},
          "execution_count": 27
        }
      ]
    },
    {
      "cell_type": "code",
      "source": [
        "# 90% of the customers only gave less than 3 reviews.\n",
        "agg_user_df['cnt_review'].quantile(0.9)"
      ],
      "metadata": {
        "colab": {
          "base_uri": "https://localhost:8080/"
        },
        "id": "Er5vb-unMqzU",
        "outputId": "d57354aa-b544-48e0-f601-ec43291ca257"
      },
      "execution_count": null,
      "outputs": [
        {
          "output_type": "execute_result",
          "data": {
            "text/plain": [
              "3.0"
            ]
          },
          "metadata": {},
          "execution_count": 28
        }
      ]
    },
    {
      "cell_type": "markdown",
      "source": [
        "## Movie Info Data"
      ],
      "metadata": {
        "id": "K7xttdtk-7GS"
      }
    },
    {
      "cell_type": "code",
      "source": [
        "df_movie_info = df_movie_info[df_movie_info['movie_type'] != 'other']\n",
        "print(\"Numebr of entries after excluding 'other': \", df_movie_info.shape[0])"
      ],
      "metadata": {
        "id": "QcDWXmx0vj4M",
        "colab": {
          "base_uri": "https://localhost:8080/"
        },
        "outputId": "495cbfc6-cb11-4196-ef2c-03fde6b7c7f4"
      },
      "execution_count": null,
      "outputs": [
        {
          "output_type": "stream",
          "name": "stdout",
          "text": [
            "Numebr of entries after excluding 'other':  99926\n"
          ]
        }
      ]
    },
    {
      "cell_type": "markdown",
      "source": [
        "We explored the  two numerical features, ranking and price, in the movie data. There is no explicit explanation of the meaning of ranking, but we speculated that it represents the ordering of items within amazon. We found that there are duplicate rankings, that is, it is possible that two movies are on the same ranking. \n"
      ],
      "metadata": {
        "id": "ku4oYy9bUG2r"
      }
    },
    {
      "cell_type": "code",
      "source": [
        "print('Number of movies: ', df_movie_info['ranking'].shape[0])\n",
        "print('Number of unique rankings: ', df_movie_info['ranking'].nunique())\n",
        "print('Max ranking: ', df_movie_info['ranking'].max())\n",
        "print('Min ranking: ', df_movie_info['ranking'].min())"
      ],
      "metadata": {
        "colab": {
          "base_uri": "https://localhost:8080/"
        },
        "id": "-isaQHaHPbvc",
        "outputId": "749fc319-26a7-4602-cb79-3d2db4c61ab2"
      },
      "execution_count": null,
      "outputs": [
        {
          "output_type": "stream",
          "name": "stdout",
          "text": [
            "Number of movies:  99926\n",
            "Number of unique rankings:  81450\n",
            "Max ranking:  19759966.0\n",
            "Min ranking:  29.0\n"
          ]
        }
      ]
    },
    {
      "cell_type": "markdown",
      "source": [
        "For price, we found that the prices of more than 99% of the movies are lower than \\$100. The right plot below shows the distribution of movie prices that is lower than \\$100. We can see that most of the movies have the price lower than \\$40 and around \\$20."
      ],
      "metadata": {
        "id": "wEgBjNh3Ufo2"
      }
    },
    {
      "cell_type": "code",
      "source": [
        "plt.figure(figsize=(12,4))\n",
        "plt.subplot(1,2,1)\n",
        "sns.histplot(df_movie_info['price_cleaned'], bins=20, color='g')\n",
        "plt.xlabel('Price')\n",
        "plt.title('Distribution of Movie Price')\n",
        "plt.subplot(1,2,2)\n",
        "sns.histplot(df_movie_info.loc[df_movie_info['price_cleaned'] <= 100, 'price_cleaned'], bins=20, color='g')\n",
        "plt.xlabel('Price')\n",
        "plt.title('Distribution of Movie Price lower than $100')"
      ],
      "metadata": {
        "colab": {
          "base_uri": "https://localhost:8080/",
          "height": 313
        },
        "id": "__ujLIAMyFKQ",
        "outputId": "a882a392-0db6-47f2-a2b1-92a5903203d3"
      },
      "execution_count": null,
      "outputs": [
        {
          "output_type": "execute_result",
          "data": {
            "text/plain": [
              "Text(0.5, 1.0, 'Distribution of Movie Price lower than $100')"
            ]
          },
          "metadata": {},
          "execution_count": 31
        },
        {
          "output_type": "display_data",
          "data": {
            "text/plain": [
              "<Figure size 864x288 with 2 Axes>"
            ],
            "image/png": "[encoded data removed]"
          },
          "metadata": {
            "needs_background": "light"
          }
        }
      ]
    },
    {
      "cell_type": "code",
      "source": [
        "df_movie_info['price_cleaned'].describe()"
      ],
      "metadata": {
        "colab": {
          "base_uri": "https://localhost:8080/"
        },
        "id": "olBVQSmcx0ur",
        "outputId": "6726d52f-11e7-4cca-e76e-4b248e6de1e9"
      },
      "execution_count": null,
      "outputs": [
        {
          "output_type": "execute_result",
          "data": {
            "text/plain": [
              "count    99926.000000\n",
              "mean        19.326312\n",
              "std         16.571571\n",
              "min          0.010000\n",
              "25%         12.490000\n",
              "50%         20.366423\n",
              "75%         20.366423\n",
              "max        999.990000\n",
              "Name: price_cleaned, dtype: float64"
            ]
          },
          "metadata": {},
          "execution_count": 32
        }
      ]
    },
    {
      "cell_type": "code",
      "source": [
        "df_movie_info['price_cleaned'].quantile(0.99)"
      ],
      "metadata": {
        "colab": {
          "base_uri": "https://localhost:8080/"
        },
        "id": "skaJee4PTBuM",
        "outputId": "44021e1d-ccfd-4f0a-b1b0-b1af24e440de"
      },
      "execution_count": null,
      "outputs": [
        {
          "output_type": "execute_result",
          "data": {
            "text/plain": [
              "78.9625"
            ]
          },
          "metadata": {},
          "execution_count": 33
        }
      ]
    },
    {
      "cell_type": "markdown",
      "source": [
        "We also found the top 10 movie directors/actors/actresses that have acted in or directed the most movies for interests."
      ],
      "metadata": {
        "id": "UzWeiqGmWThK"
      }
    },
    {
      "cell_type": "code",
      "source": [
        "type_brand_df = df_movie_info[df_movie_info['brand_cleaned']!='None'].groupby(['movie_type', 'brand_cleaned'])['asin'].count().reset_index()\n",
        "type_brand_df = type_brand_df.dropna()\n",
        "\n",
        "type_brand_df = type_brand_df.sort_values(by='asin', ascending=False)\n",
        "top_10_df = type_brand_df.groupby(['movie_type']).head(10)\n",
        "top_10_df.head(10)"
      ],
      "metadata": {
        "id": "odNQX0LgLXJJ",
        "colab": {
          "base_uri": "https://localhost:8080/",
          "height": 363
        },
        "outputId": "6a5a200a-2418-4667-eef5-dde8f2823e2f"
      },
      "execution_count": null,
      "outputs": [
        {
          "output_type": "execute_result",
          "data": {
            "text/plain": [
              "               movie_type             brand_cleaned  asin\n",
              "35610     Science Fiction                Doc Harris   107\n",
              "2898               Action              LeVar Burton    96\n",
              "30544       Kids & Family         Standard Deviants    77\n",
              "1981               Action               Jackie Chan    68\n",
              "24668  Exercise & Fitness            Leslie Sansone    60\n",
              "27400              Horror           Sinister Cinema    60\n",
              "30545       Kids & Family  Standard Deviants School    58\n",
              "5188               Action           William Shatner    54\n",
              "36398     Science Fiction          Kappei Yamaguchi    53\n",
              "10175              Comedy               Stan Laurel    52"
            ],
            "text/html": [
              "\n",
              "  <div id=\"df-fefae3d7-adf8-4c60-975c-d80c40d1d4a5\">\n",
              "    <div class=\"colab-df-container\">\n",
              "      <div>\n",
              "<style scoped>\n",
              "    .dataframe tbody tr th:only-of-type {\n",
              "        vertical-align: middle;\n",
              "    }\n",
              "\n",
              "    .dataframe tbody tr th {\n",
              "        vertical-align: top;\n",
              "    }\n",
              "\n",
              "    .dataframe thead th {\n",
              "        text-align: right;\n",
              "    }\n",
              "</style>\n",
              "<table border=\"1\" class=\"dataframe\">\n",
              "  <thead>\n",
              "    <tr style=\"text-align: right;\">\n",
              "      <th></th>\n",
              "      <th>movie_type</th>\n",
              "      <th>brand_cleaned</th>\n",
              "      <th>asin</th>\n",
              "    </tr>\n",
              "  </thead>\n",
              "  <tbody>\n",
              "    <tr>\n",
              "      <th>35610</th>\n",
              "      <td>Science Fiction</td>\n",
              "      <td>Doc Harris</td>\n",
              "      <td>107</td>\n",
              "    </tr>\n",
              "    <tr>\n",
              "      <th>2898</th>\n",
              "      <td>Action</td>\n",
              "      <td>LeVar Burton</td>\n",
              "      <td>96</td>\n",
              "    </tr>\n",
              "    <tr>\n",
              "      <th>30544</th>\n",
              "      <td>Kids &amp; Family</td>\n",
              "      <td>Standard Deviants</td>\n",
              "      <td>77</td>\n",
              "    </tr>\n",
              "    <tr>\n",
              "      <th>1981</th>\n",
              "      <td>Action</td>\n",
              "      <td>Jackie Chan</td>\n",
              "      <td>68</td>\n",
              "    </tr>\n",
              "    <tr>\n",
              "      <th>24668</th>\n",
              "      <td>Exercise &amp; Fitness</td>\n",
              "      <td>Leslie Sansone</td>\n",
              "      <td>60</td>\n",
              "    </tr>\n",
              "    <tr>\n",
              "      <th>27400</th>\n",
              "      <td>Horror</td>\n",
              "      <td>Sinister Cinema</td>\n",
              "      <td>60</td>\n",
              "    </tr>\n",
              "    <tr>\n",
              "      <th>30545</th>\n",
              "      <td>Kids &amp; Family</td>\n",
              "      <td>Standard Deviants School</td>\n",
              "      <td>58</td>\n",
              "    </tr>\n",
              "    <tr>\n",
              "      <th>5188</th>\n",
              "      <td>Action</td>\n",
              "      <td>William Shatner</td>\n",
              "      <td>54</td>\n",
              "    </tr>\n",
              "    <tr>\n",
              "      <th>36398</th>\n",
              "      <td>Science Fiction</td>\n",
              "      <td>Kappei Yamaguchi</td>\n",
              "      <td>53</td>\n",
              "    </tr>\n",
              "    <tr>\n",
              "      <th>10175</th>\n",
              "      <td>Comedy</td>\n",
              "      <td>Stan Laurel</td>\n",
              "      <td>52</td>\n",
              "    </tr>\n",
              "  </tbody>\n",
              "</table>\n",
              "</div>\n",
              "      <button class=\"colab-df-convert\" onclick=\"convertToInteractive('df-fefae3d7-adf8-4c60-975c-d80c40d1d4a5')\"\n",
              "              title=\"Convert this dataframe to an interactive table.\"\n",
              "              style=\"display:none;\">\n",
              "        \n",
              "  <svg xmlns=\"http://www.w3.org/2000/svg\" height=\"24px\"viewBox=\"0 0 24 24\"\n",
              "       width=\"24px\">\n",
              "    <path d=\"M0 0h24v24H0V0z\" fill=\"none\"/>\n",
              "    <path d=\"M18.56 5.44l.94 2.06.94-2.06 2.06-.94-2.06-.94-.94-2.06-.94 2.06-2.06.94zm-11 1L8.5 8.5l.94-2.06 2.06-.94-2.06-.94L8.5 2.5l-.94 2.06-2.06.94zm10 10l.94 2.06.94-2.06 2.06-.94-2.06-.94-.94-2.06-.94 2.06-2.06.94z\"/><path d=\"M17.41 7.96l-1.37-1.37c-.4-.4-.92-.59-1.43-.59-.52 0-1.04.2-1.43.59L10.3 9.45l-7.72 7.72c-.78.78-.78 2.05 0 2.83L4 21.41c.39.39.9.59 1.41.59.51 0 1.02-.2 1.41-.59l7.78-7.78 2.81-2.81c.8-.78.8-2.07 0-2.86zM5.41 20L4 18.59l7.72-7.72 1.47 1.35L5.41 20z\"/>\n",
              "  </svg>\n",
              "      </button>\n",
              "      \n",
              "  <style>\n",
              "    .colab-df-container {\n",
              "      display:flex;\n",
              "      flex-wrap:wrap;\n",
              "      gap: 12px;\n",
              "    }\n",
              "\n",
              "    .colab-df-convert {\n",
              "      background-color: #E8F0FE;\n",
              "      border: none;\n",
              "      border-radius: 50%;\n",
              "      cursor: pointer;\n",
              "      display: none;\n",
              "      fill: #1967D2;\n",
              "      height: 32px;\n",
              "      padding: 0 0 0 0;\n",
              "      width: 32px;\n",
              "    }\n",
              "\n",
              "    .colab-df-convert:hover {\n",
              "      background-color: #E2EBFA;\n",
              "      box-shadow: 0px 1px 2px rgba(60, 64, 67, 0.3), 0px 1px 3px 1px rgba(60, 64, 67, 0.15);\n",
              "      fill: #174EA6;\n",
              "    }\n",
              "\n",
              "    [theme=dark] .colab-df-convert {\n",
              "      background-color: #3B4455;\n",
              "      fill: #D2E3FC;\n",
              "    }\n",
              "\n",
              "    [theme=dark] .colab-df-convert:hover {\n",
              "      background-color: #434B5C;\n",
              "      box-shadow: 0px 1px 3px 1px rgba(0, 0, 0, 0.15);\n",
              "      filter: drop-shadow(0px 1px 2px rgba(0, 0, 0, 0.3));\n",
              "      fill: #FFFFFF;\n",
              "    }\n",
              "  </style>\n",
              "\n",
              "      <script>\n",
              "        const buttonEl =\n",
              "          document.querySelector('#df-fefae3d7-adf8-4c60-975c-d80c40d1d4a5 button.colab-df-convert');\n",
              "        buttonEl.style.display =\n",
              "          google.colab.kernel.accessAllowed ? 'block' : 'none';\n",
              "\n",
              "        async function convertToInteractive(key) {\n",
              "          const element = document.querySelector('#df-fefae3d7-adf8-4c60-975c-d80c40d1d4a5');\n",
              "          const dataTable =\n",
              "            await google.colab.kernel.invokeFunction('convertToInteractive',\n",
              "                                                     [key], {});\n",
              "          if (!dataTable) return;\n",
              "\n",
              "          const docLinkHtml = 'Like what you see? Visit the ' +\n",
              "            '<a target=\"_blank\" href=https://colab.research.google.com/notebooks/data_table.ipynb>data table notebook</a>'\n",
              "            + ' to learn more about interactive tables.';\n",
              "          element.innerHTML = '';\n",
              "          dataTable['output_type'] = 'display_data';\n",
              "          await google.colab.output.renderOutput(dataTable, element);\n",
              "          const docLink = document.createElement('div');\n",
              "          docLink.innerHTML = docLinkHtml;\n",
              "          element.appendChild(docLink);\n",
              "        }\n",
              "      </script>\n",
              "    </div>\n",
              "  </div>\n",
              "  "
            ]
          },
          "metadata": {},
          "execution_count": 34
        }
      ]
    },
    {
      "cell_type": "markdown",
      "source": [
        "## Combine Two Data Sources\n",
        "\n",
        "In order to investigate the relationship among average rating, review counts and movie attributes, we combined the two data tables above. "
      ],
      "metadata": {
        "id": "TNDTPms--9Jk"
      }
    },
    {
      "cell_type": "code",
      "source": [
        "df_agg_info = df_movie_info.merge(right = agg_review_df, how = 'left', right_on = 'movieId', left_on = 'asin')"
      ],
      "metadata": {
        "id": "2v83YWEAmipL"
      },
      "execution_count": null,
      "outputs": []
    },
    {
      "cell_type": "markdown",
      "source": [
        "First of all, we explored the average rating distribution and review counts distribution within each movie type.\n",
        "\n",
        "From the violin plot below, we can see that the ratings of Documentary, Kids & Family, Musicals and Faith & Spirituality movies concentrate mainly on score 5 and the ratings of Science Fiction, Romance, Drama and Action movies are distributed in all score segments. It is worth noting that the rating of horror movies are relatively lower compared to other movie types. And the ratings of LGBT movies are almost evenly distributed.\n"
      ],
      "metadata": {
        "id": "zszz7Peqcduf"
      }
    },
    {
      "cell_type": "code",
      "source": [
        "plt.figure(figsize=(20,6))\n",
        "sns.violinplot(x = 'movie_type', y = 'avg_rating', data = df_agg_info)\n",
        "plt.xticks(rotation=60)\n",
        "plt.ylabel('Average Rating')\n",
        "plt.xlabel('Movie types')\n",
        "plt.title('Distribution of average rating within each movie type')"
      ],
      "metadata": {
        "colab": {
          "base_uri": "https://localhost:8080/",
          "height": 477
        },
        "id": "ql9BNDiPomgD",
        "outputId": "8caa078b-0f97-4fb6-f964-340347880ae9"
      },
      "execution_count": null,
      "outputs": [
        {
          "output_type": "execute_result",
          "data": {
            "text/plain": [
              "Text(0.5, 1.0, 'Distribution of average rating within each movie type')"
            ]
          },
          "metadata": {},
          "execution_count": 36
        },
        {
          "output_type": "display_data",
          "data": {
            "text/plain": [
              "<Figure size 1440x432 with 1 Axes>"
            ],
            "image/png": "[encoded data removed]"
          },
          "metadata": {
            "needs_background": "light"
          }
        }
      ]
    },
    {
      "cell_type": "code",
      "source": [
        "plt.figure(figsize=(20,6))\n",
        "sns.violinplot(x = 'movie_type', y = 'cnt_review', data = df_agg_info)\n",
        "plt.xticks(rotation=60)\n",
        "plt.ylabel('Review Counts')\n",
        "plt.xlabel('Movie types')\n",
        "plt.title('Distribution of review counts within each movie type')"
      ],
      "metadata": {
        "colab": {
          "base_uri": "https://localhost:8080/",
          "height": 470
        },
        "id": "TrQEEWLFqcbX",
        "outputId": "7ae77ef0-2662-4a07-cc5c-307aa4279ccd"
      },
      "execution_count": null,
      "outputs": [
        {
          "output_type": "execute_result",
          "data": {
            "text/plain": [
              "Text(0.5, 1.0, 'Distribution of review counts within each movie type')"
            ]
          },
          "metadata": {},
          "execution_count": 37
        },
        {
          "output_type": "display_data",
          "data": {
            "text/plain": [
              "<Figure size 1440x432 with 1 Axes>"
            ],
            "image/png": "[encoded data removed]"
          },
          "metadata": {
            "needs_background": "light"
          }
        }
      ]
    },
    {
      "cell_type": "markdown",
      "source": [
        "We further investigate the relationships among average rating, review counts and movie attributes. We can see from the heatmap below that the average rating of a movie is negatively related to its review counts. Since most of the movies are reviewed less than 40 times, their average ratings are probably incomplete and biased to reflect the movie quality. Moreover, there is a negative correlation between review counts and rankings, that is, the more a movie is reviewed, the higher its ranking is (lower number). Thus, we can conclude that the ranking of a movie probably represents its popularity. "
      ],
      "metadata": {
        "id": "on7DJ9_hBya_"
      }
    },
    {
      "cell_type": "code",
      "source": [
        "df_agg_info['rk_box'] = pd.qcut(df_agg_info['ranking'], 20, labels=[i+1 for i in range(20)])\n",
        "df_agg_info['rk_box'] = df_agg_info['rk_box'].astype(float)\n",
        "\n",
        "plt.figure(figsize=(8,6))\n",
        "sns.heatmap(df_agg_info.corr(method='spearman'), annot = True)\n",
        "plt.show()"
      ],
      "metadata": {
        "id": "WabBhpKF7L13",
        "colab": {
          "base_uri": "https://localhost:8080/",
          "height": 379
        },
        "outputId": "0a35c926-c478-4ab2-d55d-f6f42b3925d9"
      },
      "execution_count": null,
      "outputs": [
        {
          "output_type": "display_data",
          "data": {
            "text/plain": [
              "<Figure size 576x432 with 2 Axes>"
            ],
            "image/png": "[encoded data removed]"
          },
          "metadata": {
            "needs_background": "light"
          }
        }
      ]
    },
    {
      "cell_type": "code",
      "source": [
        "df_agg_info.corr()"
      ],
      "metadata": {
        "colab": {
          "base_uri": "https://localhost:8080/",
          "height": 206
        },
        "id": "Lfr4n8dtw6g2",
        "outputId": "8a97c69f-8c22-4bd5-80ac-9fd849c0336a"
      },
      "execution_count": null,
      "outputs": [
        {
          "output_type": "execute_result",
          "data": {
            "text/plain": [
              "                ranking  price_cleaned  avg_rating  cnt_review    rk_box\n",
              "ranking        1.000000       0.003939   -0.123191   -0.135964  0.893050\n",
              "price_cleaned  0.003939       1.000000    0.074181   -0.013432  0.004874\n",
              "avg_rating    -0.123191       0.074181    1.000000    0.048511 -0.149315\n",
              "cnt_review    -0.135964      -0.013432    0.048511    1.000000 -0.180379\n",
              "rk_box         0.893050       0.004874   -0.149315   -0.180379  1.000000"
            ],
            "text/html": [
              "\n",
              "  <div id=\"df-73bd79b2-c28b-4a4a-9988-643ca73600de\">\n",
              "    <div class=\"colab-df-container\">\n",
              "      <div>\n",
              "<style scoped>\n",
              "    .dataframe tbody tr th:only-of-type {\n",
              "        vertical-align: middle;\n",
              "    }\n",
              "\n",
              "    .dataframe tbody tr th {\n",
              "        vertical-align: top;\n",
              "    }\n",
              "\n",
              "    .dataframe thead th {\n",
              "        text-align: right;\n",
              "    }\n",
              "</style>\n",
              "<table border=\"1\" class=\"dataframe\">\n",
              "  <thead>\n",
              "    <tr style=\"text-align: right;\">\n",
              "      <th></th>\n",
              "      <th>ranking</th>\n",
              "      <th>price_cleaned</th>\n",
              "      <th>avg_rating</th>\n",
              "      <th>cnt_review</th>\n",
              "      <th>rk_box</th>\n",
              "    </tr>\n",
              "  </thead>\n",
              "  <tbody>\n",
              "    <tr>\n",
              "      <th>ranking</th>\n",
              "      <td>1.000000</td>\n",
              "      <td>0.003939</td>\n",
              "      <td>-0.123191</td>\n",
              "      <td>-0.135964</td>\n",
              "      <td>0.893050</td>\n",
              "    </tr>\n",
              "    <tr>\n",
              "      <th>price_cleaned</th>\n",
              "      <td>0.003939</td>\n",
              "      <td>1.000000</td>\n",
              "      <td>0.074181</td>\n",
              "      <td>-0.013432</td>\n",
              "      <td>0.004874</td>\n",
              "    </tr>\n",
              "    <tr>\n",
              "      <th>avg_rating</th>\n",
              "      <td>-0.123191</td>\n",
              "      <td>0.074181</td>\n",
              "      <td>1.000000</td>\n",
              "      <td>0.048511</td>\n",
              "      <td>-0.149315</td>\n",
              "    </tr>\n",
              "    <tr>\n",
              "      <th>cnt_review</th>\n",
              "      <td>-0.135964</td>\n",
              "      <td>-0.013432</td>\n",
              "      <td>0.048511</td>\n",
              "      <td>1.000000</td>\n",
              "      <td>-0.180379</td>\n",
              "    </tr>\n",
              "    <tr>\n",
              "      <th>rk_box</th>\n",
              "      <td>0.893050</td>\n",
              "      <td>0.004874</td>\n",
              "      <td>-0.149315</td>\n",
              "      <td>-0.180379</td>\n",
              "      <td>1.000000</td>\n",
              "    </tr>\n",
              "  </tbody>\n",
              "</table>\n",
              "</div>\n",
              "      <button class=\"colab-df-convert\" onclick=\"convertToInteractive('df-73bd79b2-c28b-4a4a-9988-643ca73600de')\"\n",
              "              title=\"Convert this dataframe to an interactive table.\"\n",
              "              style=\"display:none;\">\n",
              "        \n",
              "  <svg xmlns=\"http://www.w3.org/2000/svg\" height=\"24px\"viewBox=\"0 0 24 24\"\n",
              "       width=\"24px\">\n",
              "    <path d=\"M0 0h24v24H0V0z\" fill=\"none\"/>\n",
              "    <path d=\"M18.56 5.44l.94 2.06.94-2.06 2.06-.94-2.06-.94-.94-2.06-.94 2.06-2.06.94zm-11 1L8.5 8.5l.94-2.06 2.06-.94-2.06-.94L8.5 2.5l-.94 2.06-2.06.94zm10 10l.94 2.06.94-2.06 2.06-.94-2.06-.94-.94-2.06-.94 2.06-2.06.94z\"/><path d=\"M17.41 7.96l-1.37-1.37c-.4-.4-.92-.59-1.43-.59-.52 0-1.04.2-1.43.59L10.3 9.45l-7.72 7.72c-.78.78-.78 2.05 0 2.83L4 21.41c.39.39.9.59 1.41.59.51 0 1.02-.2 1.41-.59l7.78-7.78 2.81-2.81c.8-.78.8-2.07 0-2.86zM5.41 20L4 18.59l7.72-7.72 1.47 1.35L5.41 20z\"/>\n",
              "  </svg>\n",
              "      </button>\n",
              "      \n",
              "  <style>\n",
              "    .colab-df-container {\n",
              "      display:flex;\n",
              "      flex-wrap:wrap;\n",
              "      gap: 12px;\n",
              "    }\n",
              "\n",
              "    .colab-df-convert {\n",
              "      background-color: #E8F0FE;\n",
              "      border: none;\n",
              "      border-radius: 50%;\n",
              "      cursor: pointer;\n",
              "      display: none;\n",
              "      fill: #1967D2;\n",
              "      height: 32px;\n",
              "      padding: 0 0 0 0;\n",
              "      width: 32px;\n",
              "    }\n",
              "\n",
              "    .colab-df-convert:hover {\n",
              "      background-color: #E2EBFA;\n",
              "      box-shadow: 0px 1px 2px rgba(60, 64, 67, 0.3), 0px 1px 3px 1px rgba(60, 64, 67, 0.15);\n",
              "      fill: #174EA6;\n",
              "    }\n",
              "\n",
              "    [theme=dark] .colab-df-convert {\n",
              "      background-color: #3B4455;\n",
              "      fill: #D2E3FC;\n",
              "    }\n",
              "\n",
              "    [theme=dark] .colab-df-convert:hover {\n",
              "      background-color: #434B5C;\n",
              "      box-shadow: 0px 1px 3px 1px rgba(0, 0, 0, 0.15);\n",
              "      filter: drop-shadow(0px 1px 2px rgba(0, 0, 0, 0.3));\n",
              "      fill: #FFFFFF;\n",
              "    }\n",
              "  </style>\n",
              "\n",
              "      <script>\n",
              "        const buttonEl =\n",
              "          document.querySelector('#df-73bd79b2-c28b-4a4a-9988-643ca73600de button.colab-df-convert');\n",
              "        buttonEl.style.display =\n",
              "          google.colab.kernel.accessAllowed ? 'block' : 'none';\n",
              "\n",
              "        async function convertToInteractive(key) {\n",
              "          const element = document.querySelector('#df-73bd79b2-c28b-4a4a-9988-643ca73600de');\n",
              "          const dataTable =\n",
              "            await google.colab.kernel.invokeFunction('convertToInteractive',\n",
              "                                                     [key], {});\n",
              "          if (!dataTable) return;\n",
              "\n",
              "          const docLinkHtml = 'Like what you see? Visit the ' +\n",
              "            '<a target=\"_blank\" href=https://colab.research.google.com/notebooks/data_table.ipynb>data table notebook</a>'\n",
              "            + ' to learn more about interactive tables.';\n",
              "          element.innerHTML = '';\n",
              "          dataTable['output_type'] = 'display_data';\n",
              "          await google.colab.output.renderOutput(dataTable, element);\n",
              "          const docLink = document.createElement('div');\n",
              "          docLink.innerHTML = docLinkHtml;\n",
              "          element.appendChild(docLink);\n",
              "        }\n",
              "      </script>\n",
              "    </div>\n",
              "  </div>\n",
              "  "
            ]
          },
          "metadata": {},
          "execution_count": 39
        }
      ]
    },
    {
      "cell_type": "markdown",
      "source": [
        "Then we selected and rename the columns to get the final dataset that is ready to be input into the model."
      ],
      "metadata": {
        "id": "Bexe0cxoD8LP"
      }
    },
    {
      "cell_type": "code",
      "source": [
        "output_df = df_agg_info.drop(columns = ['category', 'tech1', 'description', 'fit', 'title',  'tech2', #'also_buy',\n",
        "                'brand', 'feature', 'rank', 'main_cat', 'similar_item', 'date', 'price',\n",
        "                'imageURL', 'imageURLHighRes', 'details', 'extracted_categories', 'movieId'])\n",
        "\n",
        "output_df.rename(columns={'brand_cleaned': 'brand', 'price_cleaned': 'price', 'asin': 'movieId'}, inplace=True)\n",
        "output_df.to_csv('../data/movie_info.csv', index=False)"
      ],
      "metadata": {
        "id": "Uo22FDqeo-jg"
      },
      "execution_count": null,
      "outputs": []
    },
    {
      "cell_type": "code",
      "source": [
        "output_df.info()"
      ],
      "metadata": {
        "colab": {
          "base_uri": "https://localhost:8080/"
        },
        "id": "6kFt7_GBrgXl",
        "outputId": "c5ff1461-3e2c-4108-d0cf-c313f1ad1265"
      },
      "execution_count": null,
      "outputs": [
        {
          "output_type": "stream",
          "name": "stdout",
          "text": [
            "<class 'pandas.core.frame.DataFrame'>\n",
            "Int64Index: 99926 entries, 0 to 99925\n",
            "Data columns (total 10 columns):\n",
            " #   Column      Non-Null Count  Dtype  \n",
            "---  ------      --------------  -----  \n",
            " 0   also_buy    99926 non-null  object \n",
            " 1   also_view   99926 non-null  object \n",
            " 2   movieId     99926 non-null  object \n",
            " 3   movie_type  99926 non-null  object \n",
            " 4   ranking     99926 non-null  float64\n",
            " 5   price       99926 non-null  float64\n",
            " 6   brand       69233 non-null  object \n",
            " 7   avg_rating  67737 non-null  float64\n",
            " 8   cnt_review  67737 non-null  float64\n",
            " 9   rk_box      99926 non-null  float64\n",
            "dtypes: float64(5), object(5)\n",
            "memory usage: 10.4+ MB\n"
          ]
        }
      ]
    },
    {
      "cell_type": "markdown",
      "source": [
        "# Data Modeling and Inferences"
      ],
      "metadata": {
        "id": "QK9eQsOJLbAi"
      }
    },
    {
      "cell_type": "markdown",
      "source": [
        "System overview: Our recommendation system was built in two ways. The first model was accomplished by an unsupervised clustering model, while the second revised model was implemented by collaborative filtering method. We used the KMeans model to cluster customers' movie rating matrix, and then voted the clustering labels based on customers' historical browsing data and recommended the whole corresponding cluster of movies. We also used item-based collaborative filtering to make small-scale movie recommendations to customers.\n"
      ],
      "metadata": {
        "id": "2s6maxt0Uais"
      }
    },
    {
      "cell_type": "code",
      "source": [
        "movie_df = pd.read_csv('../data/movie_info.csv')\n",
        "# rating_df = pd.read_csv('selected_df_newest.csv')\n",
        "rating_df = pd.read_csv('../data/ratings_Movies_and_TV.csv', header = None)\n",
        "# rating_df = pd.read_hdf('../data/ratings_Movies_and_TV.h5','df')\n",
        "rating_df.rename({0: 'reviewerId', 1: 'movieId', 2: 'rating', 3: 'reviewTime'}, axis = 1, inplace = True)\n",
        "movie_df.head()"
      ],
      "metadata": {
        "id": "YOQRSc_1qxfv",
        "colab": {
          "base_uri": "https://localhost:8080/",
          "height": 206
        },
        "outputId": "062193e5-d757-4144-8255-701eb65b34ed"
      },
      "execution_count": null,
      "outputs": [
        {
          "output_type": "execute_result",
          "data": {
            "text/plain": [
              "         also_buy also_view     movieId            movie_type   ranking  \\\n",
              "0              []        []  000073991X    Exercise & Fitness  444474.0   \n",
              "1              []        []  0001499572  Faith & Spirituality  806803.0   \n",
              "2              []        []  0001421409  Faith & Spirituality  722400.0   \n",
              "3  ['B000EK77AM']        []  0001517791    Exercise & Fitness  439066.0   \n",
              "4              []        []  0001485423           Documentary  346429.0   \n",
              "\n",
              "       price           brand  avg_rating  cnt_review  rk_box  \n",
              "0  20.366423   Joseph Prince         NaN         NaN    16.0  \n",
              "1  20.366423             NaN         NaN         NaN    19.0  \n",
              "2  20.366423  Michael Boldea         NaN         NaN    19.0  \n",
              "3  20.366423             NaN         5.0         2.0    16.0  \n",
              "4  20.366423             NaN         5.0         1.0    14.0  "
            ],
            "text/html": [
              "\n",
              "  <div id=\"df-c66d4ace-e230-456f-9a9d-11e9075b7e44\">\n",
              "    <div class=\"colab-df-container\">\n",
              "      <div>\n",
              "<style scoped>\n",
              "    .dataframe tbody tr th:only-of-type {\n",
              "        vertical-align: middle;\n",
              "    }\n",
              "\n",
              "    .dataframe tbody tr th {\n",
              "        vertical-align: top;\n",
              "    }\n",
              "\n",
              "    .dataframe thead th {\n",
              "        text-align: right;\n",
              "    }\n",
              "</style>\n",
              "<table border=\"1\" class=\"dataframe\">\n",
              "  <thead>\n",
              "    <tr style=\"text-align: right;\">\n",
              "      <th></th>\n",
              "      <th>also_buy</th>\n",
              "      <th>also_view</th>\n",
              "      <th>movieId</th>\n",
              "      <th>movie_type</th>\n",
              "      <th>ranking</th>\n",
              "      <th>price</th>\n",
              "      <th>brand</th>\n",
              "      <th>avg_rating</th>\n",
              "      <th>cnt_review</th>\n",
              "      <th>rk_box</th>\n",
              "    </tr>\n",
              "  </thead>\n",
              "  <tbody>\n",
              "    <tr>\n",
              "      <th>0</th>\n",
              "      <td>[]</td>\n",
              "      <td>[]</td>\n",
              "      <td>000073991X</td>\n",
              "      <td>Exercise &amp; Fitness</td>\n",
              "      <td>444474.0</td>\n",
              "      <td>20.366423</td>\n",
              "      <td>Joseph Prince</td>\n",
              "      <td>NaN</td>\n",
              "      <td>NaN</td>\n",
              "      <td>16.0</td>\n",
              "    </tr>\n",
              "    <tr>\n",
              "      <th>1</th>\n",
              "      <td>[]</td>\n",
              "      <td>[]</td>\n",
              "      <td>0001499572</td>\n",
              "      <td>Faith &amp; Spirituality</td>\n",
              "      <td>806803.0</td>\n",
              "      <td>20.366423</td>\n",
              "      <td>NaN</td>\n",
              "      <td>NaN</td>\n",
              "      <td>NaN</td>\n",
              "      <td>19.0</td>\n",
              "    </tr>\n",
              "    <tr>\n",
              "      <th>2</th>\n",
              "      <td>[]</td>\n",
              "      <td>[]</td>\n",
              "      <td>0001421409</td>\n",
              "      <td>Faith &amp; Spirituality</td>\n",
              "      <td>722400.0</td>\n",
              "      <td>20.366423</td>\n",
              "      <td>Michael Boldea</td>\n",
              "      <td>NaN</td>\n",
              "      <td>NaN</td>\n",
              "      <td>19.0</td>\n",
              "    </tr>\n",
              "    <tr>\n",
              "      <th>3</th>\n",
              "      <td>['B000EK77AM']</td>\n",
              "      <td>[]</td>\n",
              "      <td>0001517791</td>\n",
              "      <td>Exercise &amp; Fitness</td>\n",
              "      <td>439066.0</td>\n",
              "      <td>20.366423</td>\n",
              "      <td>NaN</td>\n",
              "      <td>5.0</td>\n",
              "      <td>2.0</td>\n",
              "      <td>16.0</td>\n",
              "    </tr>\n",
              "    <tr>\n",
              "      <th>4</th>\n",
              "      <td>[]</td>\n",
              "      <td>[]</td>\n",
              "      <td>0001485423</td>\n",
              "      <td>Documentary</td>\n",
              "      <td>346429.0</td>\n",
              "      <td>20.366423</td>\n",
              "      <td>NaN</td>\n",
              "      <td>5.0</td>\n",
              "      <td>1.0</td>\n",
              "      <td>14.0</td>\n",
              "    </tr>\n",
              "  </tbody>\n",
              "</table>\n",
              "</div>\n",
              "      <button class=\"colab-df-convert\" onclick=\"convertToInteractive('df-c66d4ace-e230-456f-9a9d-11e9075b7e44')\"\n",
              "              title=\"Convert this dataframe to an interactive table.\"\n",
              "              style=\"display:none;\">\n",
              "        \n",
              "  <svg xmlns=\"http://www.w3.org/2000/svg\" height=\"24px\"viewBox=\"0 0 24 24\"\n",
              "       width=\"24px\">\n",
              "    <path d=\"M0 0h24v24H0V0z\" fill=\"none\"/>\n",
              "    <path d=\"M18.56 5.44l.94 2.06.94-2.06 2.06-.94-2.06-.94-.94-2.06-.94 2.06-2.06.94zm-11 1L8.5 8.5l.94-2.06 2.06-.94-2.06-.94L8.5 2.5l-.94 2.06-2.06.94zm10 10l.94 2.06.94-2.06 2.06-.94-2.06-.94-.94-2.06-.94 2.06-2.06.94z\"/><path d=\"M17.41 7.96l-1.37-1.37c-.4-.4-.92-.59-1.43-.59-.52 0-1.04.2-1.43.59L10.3 9.45l-7.72 7.72c-.78.78-.78 2.05 0 2.83L4 21.41c.39.39.9.59 1.41.59.51 0 1.02-.2 1.41-.59l7.78-7.78 2.81-2.81c.8-.78.8-2.07 0-2.86zM5.41 20L4 18.59l7.72-7.72 1.47 1.35L5.41 20z\"/>\n",
              "  </svg>\n",
              "      </button>\n",
              "      \n",
              "  <style>\n",
              "    .colab-df-container {\n",
              "      display:flex;\n",
              "      flex-wrap:wrap;\n",
              "      gap: 12px;\n",
              "    }\n",
              "\n",
              "    .colab-df-convert {\n",
              "      background-color: #E8F0FE;\n",
              "      border: none;\n",
              "      border-radius: 50%;\n",
              "      cursor: pointer;\n",
              "      display: none;\n",
              "      fill: #1967D2;\n",
              "      height: 32px;\n",
              "      padding: 0 0 0 0;\n",
              "      width: 32px;\n",
              "    }\n",
              "\n",
              "    .colab-df-convert:hover {\n",
              "      background-color: #E2EBFA;\n",
              "      box-shadow: 0px 1px 2px rgba(60, 64, 67, 0.3), 0px 1px 3px 1px rgba(60, 64, 67, 0.15);\n",
              "      fill: #174EA6;\n",
              "    }\n",
              "\n",
              "    [theme=dark] .colab-df-convert {\n",
              "      background-color: #3B4455;\n",
              "      fill: #D2E3FC;\n",
              "    }\n",
              "\n",
              "    [theme=dark] .colab-df-convert:hover {\n",
              "      background-color: #434B5C;\n",
              "      box-shadow: 0px 1px 3px 1px rgba(0, 0, 0, 0.15);\n",
              "      filter: drop-shadow(0px 1px 2px rgba(0, 0, 0, 0.3));\n",
              "      fill: #FFFFFF;\n",
              "    }\n",
              "  </style>\n",
              "\n",
              "      <script>\n",
              "        const buttonEl =\n",
              "          document.querySelector('#df-c66d4ace-e230-456f-9a9d-11e9075b7e44 button.colab-df-convert');\n",
              "        buttonEl.style.display =\n",
              "          google.colab.kernel.accessAllowed ? 'block' : 'none';\n",
              "\n",
              "        async function convertToInteractive(key) {\n",
              "          const element = document.querySelector('#df-c66d4ace-e230-456f-9a9d-11e9075b7e44');\n",
              "          const dataTable =\n",
              "            await google.colab.kernel.invokeFunction('convertToInteractive',\n",
              "                                                     [key], {});\n",
              "          if (!dataTable) return;\n",
              "\n",
              "          const docLinkHtml = 'Like what you see? Visit the ' +\n",
              "            '<a target=\"_blank\" href=https://colab.research.google.com/notebooks/data_table.ipynb>data table notebook</a>'\n",
              "            + ' to learn more about interactive tables.';\n",
              "          element.innerHTML = '';\n",
              "          dataTable['output_type'] = 'display_data';\n",
              "          await google.colab.output.renderOutput(dataTable, element);\n",
              "          const docLink = document.createElement('div');\n",
              "          docLink.innerHTML = docLinkHtml;\n",
              "          element.appendChild(docLink);\n",
              "        }\n",
              "      </script>\n",
              "    </div>\n",
              "  </div>\n",
              "  "
            ]
          },
          "metadata": {},
          "execution_count": 104
        }
      ]
    },
    {
      "cell_type": "markdown",
      "source": [
        "## Remove Outlier"
      ],
      "metadata": {
        "id": "I9F28zfteWCd"
      }
    },
    {
      "cell_type": "markdown",
      "source": [
        "Even after the data cleaning, we still faced a large sparse dataset. However, due the amount of data is too large to be processed by Google Colab, we decided to select part of the data for modeling and analysis. In the original dataset, there are  4,607,047  reviews, 2,088,620  reviewers and  200,941 movies. Our subsequent modeling and analysis would only focus on those movies that have been watched more than 500 times and those customers who have seen at least 10 or more movies. As a result, there are 167,833 reviews, 7,614 customers and 1,278 movies in the remaining selected dataset.\n"
      ],
      "metadata": {
        "id": "D3DE4vaUT-4f"
      }
    },
    {
      "cell_type": "code",
      "source": [
        "def remove_outlier(df, m, n, save = False):\n",
        "    \n",
        "    review_ct = df.shape[0]\n",
        "    reviewer_ct = df['reviewerId'].nunique()\n",
        "    moviect = df.groupby('movieId')[['reviewerId']].count().reset_index()\n",
        "    movie_ct = moviect.shape[0]\n",
        "    sel_moviect = moviect[moviect['reviewerId'] >= m]\n",
        "    sel_movie_ct = sel_moviect.shape[0]\n",
        "    sel_df = df[df['movieId'].isin(sel_moviect['movieId'])]\n",
        "    sel_review_ct = sel_df.shape[0]\n",
        "    \n",
        "    userct = sel_df.groupby('reviewerId')[['movieId']].count().reset_index()\n",
        "    user_ct = userct.shape[0]\n",
        "    sel_userct = userct[userct['movieId'] >= n]\n",
        "    sel_user_ct = sel_userct.shape[0]\n",
        "    selected_df = sel_df[sel_df['reviewerId'].isin(sel_userct['reviewerId'])]\n",
        "    selected_review_ct = selected_df.shape[0]\n",
        "\n",
        "    print('There are ', review_ct, ' reviews,', reviewer_ct, ' reviewers, and ', movie_ct, 'movies in the raw data.')\n",
        "    print('+---------------------------------------------+')\n",
        "    print('If we only focus on movies with ', m, ' or more reviews, ')\n",
        "    print('The number of movies will decrease from ', movie_ct, ' to ', sel_movie_ct)\n",
        "    print('+---------------------------------------------+')\n",
        "    print('If we only focus on reviewers who reviewed ', n, ' or more movies, ')\n",
        "    print('The number of reviewers will decrease from ', user_ct, ' to ', sel_user_ct)\n",
        "    print('+---------------------------------------------+')\n",
        "    print('The number of reviews will decrease to ', selected_review_ct)\n",
        "    if save:\n",
        "        selected_df.to_csv('../data/selected_df_{}.csv'.format(m))\n",
        "    return selected_df"
      ],
      "metadata": {
        "id": "p4F8Lc1CeY59"
      },
      "execution_count": null,
      "outputs": []
    },
    {
      "cell_type": "code",
      "source": [
        "selected_rating_df = remove_outlier(rating_df, m = 500, n = 10, save=True)"
      ],
      "metadata": {
        "colab": {
          "base_uri": "https://localhost:8080/"
        },
        "id": "EFcb5JTSeb8L",
        "outputId": "024a26a3-2b8e-4eca-abe3-99e7a155012f"
      },
      "execution_count": null,
      "outputs": [
        {
          "output_type": "stream",
          "name": "stdout",
          "text": [
            "There are  4607047  reviews, 2088620  reviewers, and  200941 movies in the raw data.\n",
            "+---------------------------------------------+\n",
            "If we only focus on movies with  500  or more reviews, \n",
            "The number of movies will decrease from  200941  to  1278\n",
            "+---------------------------------------------+\n",
            "If we only focus on reviewers who reviewed  10  or more movies, \n",
            "The number of reviewers will decrease from  858414  to  7614\n",
            "+---------------------------------------------+\n",
            "The number of reviews will decrease to  167833\n"
          ]
        }
      ]
    },
    {
      "cell_type": "markdown",
      "source": [
        "## Define Metrics"
      ],
      "metadata": {
        "id": "0Uusn8x5JrRk"
      }
    },
    {
      "cell_type": "markdown",
      "source": [
        "To measure the performance of models, we used multiple metrics including precision, recall and detection rate. We used recall and precision to measure the performance from items. perspective, and used detection from users' perspective."
      ],
      "metadata": {
        "id": "_kLQoWLYIczb"
      }
    },
    {
      "cell_type": "code",
      "source": [
        "\n",
        "def Recall(Rec_dict, Val_dict):\n",
        "    '''indicates how many of the actual bought movies are correctly recommended\n",
        "    Args:\n",
        "        Rec_dict (dict): list of recommendation for each customer, in shape of {uid: {item1, item2,...}, uid: {item1, item2,...}, ...} \n",
        "        Val_dict (dict): list of movies actually bought by each customer, in shape of {uid: {item1, item2,...}, uid: {item1, item2,...}, ...}\n",
        "    '''\n",
        "    hit_items = 0\n",
        "    all_items = 0\n",
        "    for uid, items in Val_dict.items():\n",
        "        rel_set = items\n",
        "        rec_set = Rec_dict[uid]\n",
        "        for item in rec_set:\n",
        "            if item in rel_set:\n",
        "                hit_items += 1\n",
        "        all_items += len(rel_set)\n",
        "\n",
        "    return round(hit_items / all_items * 100, 2)\n",
        "\n",
        "def Precision(Rec_dict, Val_dict):\n",
        "    '''indicates that how many of our recommended movies are actually bought by the customer\n",
        "    Args:\n",
        "        Rec_dict (dict): list of recommendation for each customer, in shape of {uid: {item1, item2,...}, uid: {item1, item2,...}, ...} \n",
        "        Val_dict (dict): list of movies actually bought by each customer, in shape of {uid: {item1, item2,...}, uid: {item1, item2,...}, ...}\n",
        "    '''\n",
        "    hit_items = 0\n",
        "    all_items = 0\n",
        "    for uid, items in Val_dict.items():\n",
        "        rel_set = items\n",
        "        rec_set = Rec_dict[uid]\n",
        "\n",
        "        for item in rec_set:\n",
        "            if item in rel_set:\n",
        "                hit_items += 1\n",
        "        all_items += len(rec_set)\n",
        "\n",
        "    return round(hit_items / all_items * 100, 2)\n",
        "  \n",
        "def Detection(Rec_dict, Val_dict):\n",
        "    '''indicates that how many of the customers received one or more correct recommendation\n",
        "    Args:\n",
        "        Rec_dict (dict): list of recommendation for each customer, in shape of {uid: {item1, item2,...}, uid: {item1, item2,...}, ...} \n",
        "        Val_dict (dict): list of movies actually bought by each customer, in shape of {uid: {item1, item2,...}, uid: {item1, item2,...}, ...}\n",
        "    '''\n",
        "    hit_users = 0\n",
        "    all_users = len(Val_dict)\n",
        "    non_rec = 0\n",
        "    for uid, items in Val_dict.items():\n",
        "        rel_set = items\n",
        "        rec_set = Rec_dict[uid]\n",
        "        if len(rec_set) < 1:\n",
        "            non_rec += 1\n",
        "        for item in rec_set:\n",
        "            if item in rel_set:\n",
        "                hit_users += 1\n",
        "                break\n",
        "    all_users = all_users - non_rec\n",
        "    return round(hit_users / all_users * 100, 2)"
      ],
      "metadata": {
        "id": "pdSi54CsJvk1"
      },
      "execution_count": null,
      "outputs": []
    },
    {
      "cell_type": "markdown",
      "source": [
        "## Movie Clustering"
      ],
      "metadata": {
        "id": "LQcv5KuKmVyr"
      }
    },
    {
      "cell_type": "markdown",
      "source": [
        "Clustering is to group data objects into multiple clusters. Its goal is to have high similarity among objects in the same cluster, while objects in different clusters differ greatly. In this case, we assumed that customers would like similar movies, so we used the KMeans model to cluster the movies and then recommended similar movies to customers."
      ],
      "metadata": {
        "id": "HLLcLZ9VT4rD"
      }
    },
    {
      "cell_type": "markdown",
      "source": [
        "### By Moive Attributes"
      ],
      "metadata": {
        "id": "bYOdWDKpgibC"
      }
    },
    {
      "cell_type": "markdown",
      "source": [
        "We first clustered the movie with 4 clusters on `price`, `avg_rating`, `cnt_review` and `rk_box` attributes from the cleaned `movie_info` table. "
      ],
      "metadata": {
        "id": "Ps7I4kGnVd60"
      }
    },
    {
      "cell_type": "code",
      "source": [
        "print(\"Number of entries before selection: \", movie_df.shape[0])\n",
        "movie_df_selected = movie_df[movie_df['movieId'].isin(selected_rating_df['movieId'].unique())].reset_index(drop=True)\n",
        "print(\"Number of entries after selection: \", movie_df_selected.shape[0])\n",
        "\n",
        "# print(\"Number of entries before selection: \", df_movie_info.shape[0])\n",
        "# movie_df_selected = df_movie_info[df_movie_info['asin'].isin(rating_df['movieId'].unique())].reset_index(drop=True)\n",
        "# print(\"Number of entries after selection: \", movie_df_selected.shape[0])"
      ],
      "metadata": {
        "colab": {
          "base_uri": "https://localhost:8080/"
        },
        "id": "y2_Tt5YybDlH",
        "outputId": "627577d2-f8e2-4a52-81bd-d6d96d86229f"
      },
      "execution_count": null,
      "outputs": [
        {
          "output_type": "stream",
          "name": "stdout",
          "text": [
            "Number of entries before selection:  99926\n",
            "Number of entries after selection:  288\n"
          ]
        }
      ]
    },
    {
      "cell_type": "code",
      "source": [
        "# movie_df_selected['price'] = movie_df_selected['price'].fillna(method='ffill')\n",
        "# movie_df_selected['avg_rating'] = movie_df_selected['avg_rating'].fillna(method='ffill')\n",
        "# movie_df_selected['rk_box'] = movie_df_selected['rk_box'].fillna(method='ffill')\n",
        "movie_df_selected['price'] = movie_df_selected['price'].fillna(movie_df_selected['price'].mean())\n",
        "movie_df_selected['avg_rating'] = movie_df_selected['avg_rating'].fillna(movie_df_selected['avg_rating'].mean())\n",
        "movie_df_selected['rk_box'] = movie_df_selected['rk_box'].fillna(movie_df_selected['rk_box'].mean())"
      ],
      "metadata": {
        "id": "cw7PzW0SffMz"
      },
      "execution_count": null,
      "outputs": []
    },
    {
      "cell_type": "markdown",
      "source": [
        "We used KMeans model to cluster movies into 4 cluster and showed the number of movies in each cluster."
      ],
      "metadata": {
        "id": "1UER-0shVjm7"
      }
    },
    {
      "cell_type": "code",
      "source": [
        "from sklearn.preprocessing import StandardScaler, OneHotEncoder\n",
        "from sklearn.cluster import KMeans\n",
        "\n",
        "cluster_input = movie_df_selected[['price', 'avg_rating', 'cnt_review', 'rk_box']]\n",
        "scaler = StandardScaler()\n",
        "cluster_input = pd.DataFrame(scaler.fit_transform(cluster_input), columns=cluster_input.columns)\n",
        "\n",
        "kmeans = KMeans(n_clusters=4, random_state=0).fit(cluster_input)\n",
        "cluster_input['class'] = kmeans.labels_\n",
        "print('The number of movies in each cluster:')\n",
        "print(cluster_input['class'].value_counts())"
      ],
      "metadata": {
        "colab": {
          "base_uri": "https://localhost:8080/"
        },
        "id": "FZVRJ2eufYmL",
        "outputId": "9cd3009b-0064-4466-8886-bf35bf669bd0"
      },
      "execution_count": null,
      "outputs": [
        {
          "output_type": "stream",
          "name": "stdout",
          "text": [
            "The number of movies in each cluster:\n",
            "0    136\n",
            "1     98\n",
            "2     43\n",
            "3     11\n",
            "Name: class, dtype: int64\n"
          ]
        }
      ]
    },
    {
      "cell_type": "markdown",
      "source": [
        "We used PCA dimensionality reduction to extract the three most representative dimensions and then we visualized the clustering results in the 3D plot."
      ],
      "metadata": {
        "id": "jxgE5XYRV7Nx"
      }
    },
    {
      "cell_type": "code",
      "source": [
        "from sklearn.decomposition import PCA\n",
        "\n",
        "pca = PCA(n_components = 3)\n",
        "decomposition_data_1 = pca.fit_transform(cluster_input.drop(columns=['class']))\n",
        "\n",
        "decomposition_data_1 = pd.DataFrame(decomposition_data_1, columns=['x', 'y', 'z'])\n",
        "decomposition_data_1['class'] = cluster_input['class'].reset_index(drop=True).astype(str)"
      ],
      "metadata": {
        "id": "U136RQbWfme3"
      },
      "execution_count": null,
      "outputs": []
    },
    {
      "cell_type": "code",
      "source": [
        "import plotly.express as px\n",
        "fig = px.scatter_3d(decomposition_data_1, x='x', y='y', z='z', color = 'class')\n",
        "fig.update_traces(marker_size = 4)\n",
        "fig.show()"
      ],
      "metadata": {
        "colab": {
          "base_uri": "https://localhost:8080/",
          "height": 542
        },
        "id": "SsqaCDoDwdQO",
        "outputId": "ef37d61b-fc5e-4852-e949-541fc722e774"
      },
      "execution_count": null,
      "outputs": [
        {
          "output_type": "display_data",
          "data": {
            "text/html": [
              "<html>\n",
              "<head><meta charset=\"utf-8\" /></head>\n",
              "<body>\n",
              "    <div>            <script src=\"https://cdnjs.cloudflare.com/ajax/libs/mathjax/2.7.5/MathJax.js?config=TeX-AMS-MML_SVG\"></script><script type=\"text/javascript\">if (window.MathJax) {MathJax.Hub.Config({SVG: {font: \"STIX-Web\"}});}</script>                <script type=\"text/javascript\">window.PlotlyConfig = {MathJaxConfig: 'local'};</script>\n",
              "        <script src=\"https://cdn.plot.ly/plotly-2.8.3.min.js\"></script>                <div id=\"cb6d7d4d-5699-4c8e-80e7-cb4c01e47c9c\" class=\"plotly-graph-div\" style=\"height:525px; width:100%;\"></div>            <script type=\"text/javascript\">                                    window.PLOTLYENV=window.PLOTLYENV || {};                                    if (document.getElementById(\"cb6d7d4d-5699-4c8e-80e7-cb4c01e47c9c\")) {                    Plotly.newPlot(                        \"cb6d7d4d-5699-4c8e-80e7-cb4c01e47c9c\",                        [{\"hovertemplate\":\"class=2<br>x=%{x}<br>y=%{y}<br>z=%{z}<extra></extra>\",\"legendgroup\":\"2\",\"marker\":{\"color\":\"#636efa\",\"symbol\":\"circle\",\"size\":4},\"mode\":\"markers\",\"name\":\"2\",\"scene\":\"scene\",\"showlegend\":true,\"x\":[1.1118821175395317,1.0199722514744083,0.4858093894606312,-0.1462921952705551,-0.08107248404412601,0.4404271968712018,0.24174541560849844,0.17960990243990507,0.5041210496393277,0.07410886440430915,0.0024929750470470127,-0.6281851177663158,-0.08569440075100035,-0.5779839768639283,0.6309236475616992,-0.14745806012722412,0.7904906757230232,0.21057361386442752,0.8789601722632054,-0.41041896996274363,-0.5637761447942633,0.28136734753030673,-0.5657547862060526,1.029578833522925,-1.7130900563680815,0.8343151866814965,0.2608185275399187,0.780489589313824,0.4205754242587537,-0.1437490717144904,1.1016466826912494,0.28136734753030673,-0.5657547862060526,1.029578833522925,-1.7130900563680815,0.8343151866814965,0.2608185275399187,0.780489589313824,0.4205754242587537,-0.1437490717144904,1.1016466826912494,1.5963012995302115,-0.07183944290951348],\"y\":[-2.4821114102465778,-2.5393802192569113,-1.0192083130485612,-1.0285775945715419,-1.8509278224982637,-2.548932805960367,-1.1898598004844854,-1.3568158568299593,-2.5914769708359398,-1.3418365605239069,-1.7664014206499454,-0.8707832613542327,-1.7417573114636138,-1.6909634877718733,-1.4749561559463464,-2.6111774902265963,-1.0202422162455862,-1.570685303421134,-2.2680359076392818,-1.8235862009151331,-2.2001687791517917,-1.398427850335725,-1.4331912424195985,-2.7498403344360773,-1.5457010456960512,-2.3021024608153495,-1.279326330979308,-2.877602448054454,-2.8021760360370753,-1.7342719994637688,-1.6408002299090931,-1.398427850335725,-1.4331912424195985,-2.7498403344360773,-1.5457010456960512,-2.3021024608153495,-1.279326330979308,-2.877602448054454,-2.8021760360370753,-1.7342719994637688,-1.6408002299090931,-1.888018572640374,-1.6958476714085784],\"z\":[0.5825674592448878,2.2993278033524036,0.15506576468823496,0.11393423474554225,0.5143559614029097,0.5608556009164827,0.3484039526871882,-0.0015852285234113775,1.5716509588987693,0.3903464008716112,0.22180232695118643,0.44856640962973243,0.2916682188376128,0.4097738347836963,-0.16746909638983337,1.592289507279489,0.7749738829014079,0.9231294925916493,0.5878425512974674,1.5569708543113108,1.9667297374817458,0.2948668208363266,0.7737521328959595,2.034763122728989,1.9004649453197153,1.5979043224723752,-0.24479470413522728,1.5882421524302393,2.116093749229508,0.9726089550151179,-0.07317370800933191,0.2948668208363266,0.7737521328959595,2.034763122728989,1.9004649453197153,1.5979043224723752,-0.24479470413522728,1.5882421524302393,2.116093749229508,0.9726089550151179,-0.07317370800933191,1.9305332786953315,2.571404568781541],\"type\":\"scatter3d\"},{\"hovertemplate\":\"class=0<br>x=%{x}<br>y=%{y}<br>z=%{z}<extra></extra>\",\"legendgroup\":\"0\",\"marker\":{\"color\":\"#EF553B\",\"symbol\":\"circle\",\"size\":4},\"mode\":\"markers\",\"name\":\"0\",\"scene\":\"scene\",\"showlegend\":true,\"x\":[0.7527814213468722,0.45604184325961944,0.02327780153668597,0.16473616085397905,0.0017519637485134093,0.7985351884180496,0.483126760269469,0.9376720427372953,-0.5640925632368293,0.03164560862797496,-0.20438004007581906,0.5305185354939117,0.00894864141291446,0.4486973001590115,0.6498655575523282,0.835051216372422,0.2502357338501891,-0.21520776158628016,0.21014972138286722,0.6088753539735374,0.003159448022798051,0.9333391442652706,-0.5347406113934331,-0.13359467096914013,1.176330794882359,0.02228450945207755,2.24172888229148,0.21952874487204907,0.8515416753948797,-0.4310307511480624,1.4297903238598555,1.358887360531588,2.4029308385608994,-0.06911887364557366,0.4682762107066011,0.38540169120169293,1.2646036155451175,0.6802523567400902,0.07250485595472882,0.6848076913102213,0.04331709912596494,2.119634369088387,0.44398102244394105,0.606657860302233,-0.11017232217725552,2.1696613603919745,1.4578967712176079,-0.6044963311708057,-0.13359467096914013,1.176330794882359,0.02228450945207755,2.24172888229148,0.21952874487204907,0.8515416753948797,-0.4310307511480624,1.4297903238598555,1.358887360531588,2.4029308385608994,-0.06911887364557366,0.4682762107066011,0.38540169120169293,1.2646036155451175,0.6802523567400902,0.07250485595472882,0.6848076913102213,0.04331709912596494,2.119634369088387,0.44398102244394105,0.606657860302233,-0.11017232217725552,2.1696613603919745,1.4578967712176079,-0.6044963311708057,3.9569105872780725,1.0040087805874272,0.5417382769787863,0.6037730651219044,1.9087108163250235,1.0803667530641328,0.1576224135224137,2.1947868640700485,-0.04037007911899289,-0.07923310764716539,0.43898673007462213,0.23182438541080083,0.9872810782838294,-0.059079926824598256,-0.36372532685376385,-0.35913628012757504,-0.5884133335414137,0.10173410911838038,1.1018063513992782,0.6327473353289325,0.01603495663802648,0.42893081635565167,0.6071998321275173,1.2745979472816111,-0.40657646873608444,0.02875932769740081,-0.040973065869902014,0.7219803282755527,1.1306565002990958,1.074402956511196,1.036185004786809,0.366171356145522,1.3198136708115162,-0.3853188782207647,0.8613073757030876,-0.1873042752430598,-0.41980915193946466,-0.24429203137836178,0.3483428592032861,-0.43384465775146064,-0.5359426218042179,1.6278087218802026,0.4937530141640001,0.5733387812447936,0.31553489407254254,-0.6550538952474991,2.9483431748843683,-0.5072861300801378,0.8718822152042294,0.5321158035721464,2.440224529695866,3.2863096273171424,0.26603972978552104,0.0555645658530414,0.816868025224601,0.6439944175626398,1.2136736917257178,1.0887267962049698,-0.30157078594483927,-0.23663088475883948,-0.31102132384186143,0.19494140657776407,1.1053150345218352],\"y\":[0.4080887250480909,0.3461535863394297,1.1595845440626447,0.055461666385787235,-0.30965715622128115,-0.4698779112433987,0.1970802351300457,-0.8115022793196848,-0.14225957245978454,-0.8742367225987898,-0.9066305051472447,-0.08592695711912354,0.19174921389169441,-0.6830045231539568,0.3283676760070252,-0.015698392925658076,-0.4492953496273529,-0.45206313674838866,0.10849289757402147,-0.6642234760914212,0.025195181475590054,-0.10735977050922964,-0.13321616987239226,-0.04296961375386469,-0.6966864214258665,0.3673109112561607,0.25189646289389117,-0.13119478851315303,0.3656708859308994,0.35760108558160275,0.9198124357373638,0.3725235398723864,-0.05144118800839918,0.7325426976893438,0.3311889424922601,1.0520528936078062,1.154045078524988,0.6994409210789799,0.21898251526224244,0.6009508068844538,-0.533015205052697,0.21740498280985673,0.35847099211719313,-0.03878185239357752,0.18935466726212402,0.9520886914356831,-0.14459211043711714,-0.36540916171826765,-0.04296961375386469,-0.6966864214258665,0.3673109112561607,0.25189646289389117,-0.13119478851315303,0.3656708859308994,0.35760108558160275,0.9198124357373638,0.3725235398723864,-0.05144118800839918,0.7325426976893438,0.3311889424922601,1.0520528936078062,1.154045078524988,0.6994409210789799,0.21898251526224244,0.6009508068844538,-0.533015205052697,0.21740498280985673,0.35847099211719313,-0.03878185239357752,0.18935466726212402,0.9520886914356831,-0.14459211043711714,-0.36540916171826765,-0.33573479272310347,-0.2257386395895671,0.37937572419507587,0.02966317569943518,-0.18294841660878927,-0.10974755624220531,0.5199381886224115,0.4363282549940382,0.2665454481968522,-0.09569506166841464,0.37273703344911285,-0.031082412399741455,-0.2480667574854205,-0.11035920411585662,-0.10470308723841937,0.115437955924835,0.11989221729291528,0.1352691653932124,0.2309438397838804,0.08519279311199278,-0.12617898446143017,-0.08942808988850788,0.12502660068491192,-0.55563305119001,0.026641935725739575,-0.13535456015431935,0.7464127026826103,0.1689134246909244,-0.028088482603789065,-0.6424508707858325,0.009444355423462222,0.31848949714625396,-0.12358141216256065,0.20967701743350903,0.5882486112252656,0.05183690866239746,0.19003991062779738,0.13089143714994259,0.021607175095569264,0.445374833764834,0.11406968301329047,-0.383530904654903,-0.13106072977499905,0.7261717550176665,0.04427859631917707,-0.016130088143415808,0.15048097362571117,0.2625923863880332,1.6088387254263419,-0.3027696347715766,0.388416807837336,-0.18042893385410264,-0.11725817203473259,0.11670282400920573,0.8091584207040387,0.13836928445207775,0.2991583662430899,0.6329890157669271,0.15583054863154522,0.23332111910276307,0.16927025078498395,0.05190311946196307,0.5629912175133486],\"z\":[-0.2688044168791424,-0.27694290929097587,1.0971344549786106,-0.9889481664758897,-1.0695269990868985,-0.97195040935997,-0.5476911000649757,-0.38935832399370607,-0.7506815131814251,-0.06936773682223858,-0.4126501153925886,-0.5033344737151946,-0.37857550127329254,0.2356812690871331,-0.288743188815047,-0.12204250602625055,-0.4671078279821494,-0.574868161112855,-0.9340433615165975,-0.4739723591751488,-0.6903492587807922,0.478319904669843,-0.7265463855538247,0.6027993241224074,-0.30371597935924544,1.133211495641012,-0.9207361685372945,-0.8316663431845475,-0.29078965628393966,-0.47893349971388116,0.26057741844721183,-0.7526670607326694,-0.9413062405737934,0.2582875902543559,-0.5887876763896804,0.1665417832528193,0.24494619106615556,-0.2731721493381308,-0.6333720784065016,-0.30993042268296106,-0.2864403795032155,-0.9582509862698548,-0.25333606665994124,-0.1332151655718801,-0.780490970073214,-0.10462739563252593,-1.3451354220602318,-0.4024848798575304,0.6027993241224074,-0.30371597935924544,1.133211495641012,-0.9207361685372945,-0.8316663431845475,-0.29078965628393966,-0.47893349971388116,0.26057741844721183,-0.7526670607326694,-0.9413062405737934,0.2582875902543559,-0.5887876763896804,0.1665417832528193,0.24494619106615556,-0.2731721493381308,-0.6333720784065016,-0.30993042268296106,-0.2864403795032155,-0.9582509862698548,-0.25333606665994124,-0.1332151655718801,-0.780490970073214,-0.10462739563252593,-1.3451354220602318,-0.4024848798575304,-0.7241285518285665,-0.7171735537040608,-0.6574806424246191,-1.0267221139121514,-1.1145457155921978,-1.2839853144700422,-0.3986150378331945,-0.6914540876451646,-0.36605104863065224,-1.1255719886718716,-0.659586835260913,-0.710498454998495,-1.0882275475007728,-1.1662570173331888,-1.0987309183417682,-0.8126893809236162,-0.7809894506930577,-0.7447202567702699,-0.8708388452079903,-0.9348989779488833,-1.1929593730131132,-1.1666788876439171,-0.983449531169338,-1.156825424643585,-0.9248759041793205,-1.187401111209259,-0.09801371184404668,-0.9190150200002379,-0.791647341577901,-0.9061188621614558,-1.1460042726416237,-0.7096626277047273,-1.327080026786819,-0.664046772001486,-0.057842827672050685,-0.9337887863836327,-0.7238121564467449,-0.8229364812965245,-0.9456957492794342,-0.38968319490380443,-0.7596424324595005,-0.603130978582754,-1.2503478601838462,-0.2709344685275047,-1.038796674223065,-0.9303397253754295,0.23117109399683275,-0.6434946096878499,0.7520052803954108,-1.098761038853955,-0.8128321513593237,-1.5358103656513573,-0.7516739154558097,-0.9057967399577272,0.12860347142435544,-0.9758018155304193,-0.8127560336942592,-0.3620168748574675,-0.7678631721820105,-0.6795803871447558,-0.7544470346179327,-1.0097435121354719,-0.4847008904799282],\"type\":\"scatter3d\"},{\"hovertemplate\":\"class=1<br>x=%{x}<br>y=%{y}<br>z=%{z}<extra></extra>\",\"legendgroup\":\"1\",\"marker\":{\"color\":\"#00cc96\",\"symbol\":\"circle\",\"size\":4},\"mode\":\"markers\",\"name\":\"1\",\"scene\":\"scene\",\"showlegend\":true,\"x\":[-0.6224037938940681,0.44613738629719324,-0.4630231945979174,-0.4674928773839987,-0.525329833994767,-1.3638973077840977,-0.9201001057482676,-0.31061243506537667,-1.5247720476174085,-1.0789417417846985,-0.8417148509500295,-1.4848330625585375,-1.3369429296821922,-1.269752489832383,-1.8315174495188562,-1.6682376360865268,-0.9407823528143711,-1.1167343859520102,-0.6611374300935211,-0.7868365216780061,-1.3564976551444472,-1.6186294889494364,-0.913835579264153,-1.6216723678684917,-1.3999905562819712,-1.960653670499531,-0.2982556859653427,-1.4393037184184096,-0.8366574553181834,-0.31061243506537667,-1.5247720476174085,-1.0789417417846985,-0.8417148509500295,-1.4848330625585375,-1.3369429296821922,-1.269752489832383,-1.8315174495188562,-1.6682376360865268,-0.9407823528143711,-1.1167343859520102,-0.6611374300935211,-0.7868365216780061,-1.3564976551444472,-1.6186294889494364,-0.913835579264153,-1.6216723678684917,-1.3999905562819712,-1.960653670499531,-0.2982556859653427,-1.4393037184184096,-0.8366574553181834,-1.4211318886710678,-0.4459312547276872,-1.2248926487096625,-0.7046819394283442,-0.21863496976075206,-1.287452945468849,-1.178851631789888,-1.7545414728096085,-0.8020446579543272,-1.1513794576616627,-2.5969023242999794,-0.734608435958089,-0.8606528351094691,-1.778593979032218,-0.9421818047086629,-0.5669777183422918,-0.39384731049744837,-0.11869073829932877,-1.246683460209511,-1.642919010347436,-1.2452868854326664,-1.7753011707577475,-2.8089717965176524,-0.12126670136214089,-2.4459865415645723,-1.5261383452190882,-1.6819175287229282,-1.5871074606001394,-1.2410223801314393,-0.44343105534741567,-0.5757672459143167,-0.60684911469127,-0.6736681669978036,-1.2744822432879424,-1.270162481600622,-0.5075705688542961,-1.058060062058874,-1.1806376146191109,-0.9338954097666365,-2.0252357392623734,-1.1457673356356581,-0.7966966318910711,-1.9495380979159767,-1.0469922707174228,-1.444125780257097,-1.7528865699052283,-1.7330020185558817],\"y\":[-0.9042108118897967,-0.48637590880262116,-0.12555104195862427,-0.27803772694036505,-0.8135542131613936,-0.8043180043464625,0.07852879638534352,0.3895389087059902,0.3693693260909632,0.16093893453239216,0.0031236529095662094,0.04324305165018799,0.30565365295988717,0.883817536900115,0.4714923086698817,1.0377382130053312,0.29990594176385427,-0.00341631065138571,0.41886231888815634,1.1111568011274362,0.749614077254758,0.219043447394719,0.6542789619941644,0.5111945573986726,0.34102626208472936,0.6769378050389258,0.3414252321980296,0.4343709583109438,-0.07919252441345759,0.3895389087059902,0.3693693260909632,0.16093893453239216,0.0031236529095662094,0.04324305165018799,0.30565365295988717,0.883817536900115,0.4714923086698817,1.0377382130053312,0.29990594176385427,-0.00341631065138571,0.41886231888815634,1.1111568011274362,0.749614077254758,0.219043447394719,0.6542789619941644,0.5111945573986726,0.34102626208472936,0.6769378050389258,0.3414252321980296,0.4343709583109438,-0.07919252441345759,-0.04476800871799739,0.5764400027802974,0.2093686205029079,-0.0188683382080959,0.1326027036145718,-0.14104976962497598,0.6989718567812575,0.5538447464197397,0.3910732967054627,0.10450812130009843,0.9997555105877418,0.39258546145688555,0.08637487141987549,0.6726987961926275,-0.7020311203366021,0.055092510228893624,0.2727167335038929,1.3612892930925604,0.36382104075403565,0.3055497518714126,0.32171861468818636,0.5261793340073295,0.2441912317841349,0.3277311999474103,0.6917996077571283,0.2879914228362989,0.5012542808925223,0.3344667447861191,0.0759749373558849,0.3381116281837435,0.9680801265100266,0.9327025467209533,0.7319083168185231,0.25224668151470026,0.672600578929751,-0.00012783499750360948,0.18871526188310309,0.37858106284540655,0.5556683590049337,0.7771101083917286,0.08656436087587391,0.37204792404320175,0.6538831419186016,0.3447314110376391,0.26916060889877036,0.5005921670011974,0.777622971458727],\"z\":[0.060631681981866054,0.6011839619149333,0.4551972585253185,0.48414554690307066,1.0018989684578186,1.0361251124183892,-0.7486072374082762,-0.3286524801634975,-0.218268777013983,-0.6081923038628437,-0.8737623352579282,0.41610006271380956,0.3409384146883263,0.3265398538475679,-0.0396215337326195,0.6515950855644864,-0.4428622220126289,-0.4426934697078087,1.0437928905700888,0.5308635013619846,0.21755073937959984,-0.03325634732374357,0.3154521750098662,0.29428079250075084,0.04122257927026704,0.2723686696267499,0.5084867494718056,-0.1772680752273932,-0.6051360433708767,-0.3286524801634975,-0.218268777013983,-0.6081923038628437,-0.8737623352579282,0.41610006271380956,0.3409384146883263,0.3265398538475679,-0.0396215337326195,0.6515950855644864,-0.4428622220126289,-0.4426934697078087,1.0437928905700888,0.5308635013619846,0.21755073937959984,-0.03325634732374357,0.3154521750098662,0.29428079250075084,0.04122257927026704,0.2723686696267499,0.5084867494718056,-0.1772680752273932,-0.6051360433708767,1.0664519772764072,0.11981515808587527,-0.14678395429387842,-0.5625959129123468,-0.3236955197413499,0.8521541557369933,0.09924267198751204,0.024669758165684494,-0.3377323763263855,-0.28841348971306374,1.17436518481726,-0.36453116748234715,-0.7531352186749675,0.17357854399763434,1.099722248294029,-0.8133342666292241,-0.45419486986408014,0.6943549779959027,-0.326975665331849,-0.3041155721560827,-0.379650737232801,0.06444556791464602,1.2759623858935407,-0.45123335384002494,0.7275281795737479,-0.34176487361929714,-0.013871466210069648,-0.2815123435434023,-0.3051378079085278,-0.36077525784819775,0.45606887735895624,0.25534195959508155,0.03304532166392963,-0.06211458344538714,0.12534753972676652,-0.4991107974393719,-0.21403539732167504,-0.27465298879318406,-0.15072703073641705,0.4372711291794038,-0.28758569636682174,-0.30244077676779035,0.2559125526454019,-0.33927670032482543,-0.3725089292743278,-0.012441448078982684,0.34168137664263915],\"type\":\"scatter3d\"},{\"hovertemplate\":\"class=3<br>x=%{x}<br>y=%{y}<br>z=%{z}<extra></extra>\",\"legendgroup\":\"3\",\"marker\":{\"color\":\"#ab63fa\",\"symbol\":\"circle\",\"size\":4},\"mode\":\"markers\",\"name\":\"3\",\"scene\":\"scene\",\"showlegend\":true,\"x\":[1.7329025547801553,1.1159190191836534,2.169141896362195,1.6717360864695467,2.169141896362195,1.6717360864695467,3.2644534184934404,4.582640297527438,0.07984941793194075,1.2171717933953858,2.1455835312759084],\"y\":[1.6668784581774105,1.764309664004188,2.3410704500826593,1.9322459447373297,2.3410704500826593,1.9322459447373297,1.8159433621490322,2.7433151468924146,1.9571319535843876,4.767740253718773,4.206249669017042],\"z\":[1.1756450983317372,4.128034200568627,1.8536863271518262,1.4085609164938704,1.8536863271518262,1.4085609164938704,1.4371402234539568,2.1377943335528684,1.3393571220461424,4.6176606203125745,6.150290550558389],\"type\":\"scatter3d\"}],                        {\"template\":{\"data\":{\"bar\":[{\"error_x\":{\"color\":\"#2a3f5f\"},\"error_y\":{\"color\":\"#2a3f5f\"},\"marker\":{\"line\":{\"color\":\"#E5ECF6\",\"width\":0.5},\"pattern\":{\"fillmode\":\"overlay\",\"size\":10,\"solidity\":0.2}},\"type\":\"bar\"}],\"barpolar\":[{\"marker\":{\"line\":{\"color\":\"#E5ECF6\",\"width\":0.5},\"pattern\":{\"fillmode\":\"overlay\",\"size\":10,\"solidity\":0.2}},\"type\":\"barpolar\"}],\"carpet\":[{\"aaxis\":{\"endlinecolor\":\"#2a3f5f\",\"gridcolor\":\"white\",\"linecolor\":\"white\",\"minorgridcolor\":\"white\",\"startlinecolor\":\"#2a3f5f\"},\"baxis\":{\"endlinecolor\":\"#2a3f5f\",\"gridcolor\":\"white\",\"linecolor\":\"white\",\"minorgridcolor\":\"white\",\"startlinecolor\":\"#2a3f5f\"},\"type\":\"carpet\"}],\"choropleth\":[{\"colorbar\":{\"outlinewidth\":0,\"ticks\":\"\"},\"type\":\"choropleth\"}],\"contour\":[{\"colorbar\":{\"outlinewidth\":0,\"ticks\":\"\"},\"colorscale\":[[0.0,\"#0d0887\"],[0.1111111111111111,\"#46039f\"],[0.2222222222222222,\"#7201a8\"],[0.3333333333333333,\"#9c179e\"],[0.4444444444444444,\"#bd3786\"],[0.5555555555555556,\"#d8576b\"],[0.6666666666666666,\"#ed7953\"],[0.7777777777777778,\"#fb9f3a\"],[0.8888888888888888,\"#fdca26\"],[1.0,\"#f0f921\"]],\"type\":\"contour\"}],\"contourcarpet\":[{\"colorbar\":{\"outlinewidth\":0,\"ticks\":\"\"},\"type\":\"contourcarpet\"}],\"heatmap\":[{\"colorbar\":{\"outlinewidth\":0,\"ticks\":\"\"},\"colorscale\":[[0.0,\"#0d0887\"],[0.1111111111111111,\"#46039f\"],[0.2222222222222222,\"#7201a8\"],[0.3333333333333333,\"#9c179e\"],[0.4444444444444444,\"#bd3786\"],[0.5555555555555556,\"#d8576b\"],[0.6666666666666666,\"#ed7953\"],[0.7777777777777778,\"#fb9f3a\"],[0.8888888888888888,\"#fdca26\"],[1.0,\"#f0f921\"]],\"type\":\"heatmap\"}],\"heatmapgl\":[{\"colorbar\":{\"outlinewidth\":0,\"ticks\":\"\"},\"colorscale\":[[0.0,\"#0d0887\"],[0.1111111111111111,\"#46039f\"],[0.2222222222222222,\"#7201a8\"],[0.3333333333333333,\"#9c179e\"],[0.4444444444444444,\"#bd3786\"],[0.5555555555555556,\"#d8576b\"],[0.6666666666666666,\"#ed7953\"],[0.7777777777777778,\"#fb9f3a\"],[0.8888888888888888,\"#fdca26\"],[1.0,\"#f0f921\"]],\"type\":\"heatmapgl\"}],\"histogram\":[{\"marker\":{\"pattern\":{\"fillmode\":\"overlay\",\"size\":10,\"solidity\":0.2}},\"type\":\"histogram\"}],\"histogram2d\":[{\"colorbar\":{\"outlinewidth\":0,\"ticks\":\"\"},\"colorscale\":[[0.0,\"#0d0887\"],[0.1111111111111111,\"#46039f\"],[0.2222222222222222,\"#7201a8\"],[0.3333333333333333,\"#9c179e\"],[0.4444444444444444,\"#bd3786\"],[0.5555555555555556,\"#d8576b\"],[0.6666666666666666,\"#ed7953\"],[0.7777777777777778,\"#fb9f3a\"],[0.8888888888888888,\"#fdca26\"],[1.0,\"#f0f921\"]],\"type\":\"histogram2d\"}],\"histogram2dcontour\":[{\"colorbar\":{\"outlinewidth\":0,\"ticks\":\"\"},\"colorscale\":[[0.0,\"#0d0887\"],[0.1111111111111111,\"#46039f\"],[0.2222222222222222,\"#7201a8\"],[0.3333333333333333,\"#9c179e\"],[0.4444444444444444,\"#bd3786\"],[0.5555555555555556,\"#d8576b\"],[0.6666666666666666,\"#ed7953\"],[0.7777777777777778,\"#fb9f3a\"],[0.8888888888888888,\"#fdca26\"],[1.0,\"#f0f921\"]],\"type\":\"histogram2dcontour\"}],\"mesh3d\":[{\"colorbar\":{\"outlinewidth\":0,\"ticks\":\"\"},\"type\":\"mesh3d\"}],\"parcoords\":[{\"line\":{\"colorbar\":{\"outlinewidth\":0,\"ticks\":\"\"}},\"type\":\"parcoords\"}],\"pie\":[{\"automargin\":true,\"type\":\"pie\"}],\"scatter\":[{\"marker\":{\"colorbar\":{\"outlinewidth\":0,\"ticks\":\"\"}},\"type\":\"scatter\"}],\"scatter3d\":[{\"line\":{\"colorbar\":{\"outlinewidth\":0,\"ticks\":\"\"}},\"marker\":{\"colorbar\":{\"outlinewidth\":0,\"ticks\":\"\"}},\"type\":\"scatter3d\"}],\"scattercarpet\":[{\"marker\":{\"colorbar\":{\"outlinewidth\":0,\"ticks\":\"\"}},\"type\":\"scattercarpet\"}],\"scattergeo\":[{\"marker\":{\"colorbar\":{\"outlinewidth\":0,\"ticks\":\"\"}},\"type\":\"scattergeo\"}],\"scattergl\":[{\"marker\":{\"colorbar\":{\"outlinewidth\":0,\"ticks\":\"\"}},\"type\":\"scattergl\"}],\"scattermapbox\":[{\"marker\":{\"colorbar\":{\"outlinewidth\":0,\"ticks\":\"\"}},\"type\":\"scattermapbox\"}],\"scatterpolar\":[{\"marker\":{\"colorbar\":{\"outlinewidth\":0,\"ticks\":\"\"}},\"type\":\"scatterpolar\"}],\"scatterpolargl\":[{\"marker\":{\"colorbar\":{\"outlinewidth\":0,\"ticks\":\"\"}},\"type\":\"scatterpolargl\"}],\"scatterternary\":[{\"marker\":{\"colorbar\":{\"outlinewidth\":0,\"ticks\":\"\"}},\"type\":\"scatterternary\"}],\"surface\":[{\"colorbar\":{\"outlinewidth\":0,\"ticks\":\"\"},\"colorscale\":[[0.0,\"#0d0887\"],[0.1111111111111111,\"#46039f\"],[0.2222222222222222,\"#7201a8\"],[0.3333333333333333,\"#9c179e\"],[0.4444444444444444,\"#bd3786\"],[0.5555555555555556,\"#d8576b\"],[0.6666666666666666,\"#ed7953\"],[0.7777777777777778,\"#fb9f3a\"],[0.8888888888888888,\"#fdca26\"],[1.0,\"#f0f921\"]],\"type\":\"surface\"}],\"table\":[{\"cells\":{\"fill\":{\"color\":\"#EBF0F8\"},\"line\":{\"color\":\"white\"}},\"header\":{\"fill\":{\"color\":\"#C8D4E3\"},\"line\":{\"color\":\"white\"}},\"type\":\"table\"}]},\"layout\":{\"annotationdefaults\":{\"arrowcolor\":\"#2a3f5f\",\"arrowhead\":0,\"arrowwidth\":1},\"autotypenumbers\":\"strict\",\"coloraxis\":{\"colorbar\":{\"outlinewidth\":0,\"ticks\":\"\"}},\"colorscale\":{\"diverging\":[[0,\"#8e0152\"],[0.1,\"#c51b7d\"],[0.2,\"#de77ae\"],[0.3,\"#f1b6da\"],[0.4,\"#fde0ef\"],[0.5,\"#f7f7f7\"],[0.6,\"#e6f5d0\"],[0.7,\"#b8e186\"],[0.8,\"#7fbc41\"],[0.9,\"#4d9221\"],[1,\"#276419\"]],\"sequential\":[[0.0,\"#0d0887\"],[0.1111111111111111,\"#46039f\"],[0.2222222222222222,\"#7201a8\"],[0.3333333333333333,\"#9c179e\"],[0.4444444444444444,\"#bd3786\"],[0.5555555555555556,\"#d8576b\"],[0.6666666666666666,\"#ed7953\"],[0.7777777777777778,\"#fb9f3a\"],[0.8888888888888888,\"#fdca26\"],[1.0,\"#f0f921\"]],\"sequentialminus\":[[0.0,\"#0d0887\"],[0.1111111111111111,\"#46039f\"],[0.2222222222222222,\"#7201a8\"],[0.3333333333333333,\"#9c179e\"],[0.4444444444444444,\"#bd3786\"],[0.5555555555555556,\"#d8576b\"],[0.6666666666666666,\"#ed7953\"],[0.7777777777777778,\"#fb9f3a\"],[0.8888888888888888,\"#fdca26\"],[1.0,\"#f0f921\"]]},\"colorway\":[\"#636efa\",\"#EF553B\",\"#00cc96\",\"#ab63fa\",\"#FFA15A\",\"#19d3f3\",\"#FF6692\",\"#B6E880\",\"#FF97FF\",\"#FECB52\"],\"font\":{\"color\":\"#2a3f5f\"},\"geo\":{\"bgcolor\":\"white\",\"lakecolor\":\"white\",\"landcolor\":\"#E5ECF6\",\"showlakes\":true,\"showland\":true,\"subunitcolor\":\"white\"},\"hoverlabel\":{\"align\":\"left\"},\"hovermode\":\"closest\",\"mapbox\":{\"style\":\"light\"},\"paper_bgcolor\":\"white\",\"plot_bgcolor\":\"#E5ECF6\",\"polar\":{\"angularaxis\":{\"gridcolor\":\"white\",\"linecolor\":\"white\",\"ticks\":\"\"},\"bgcolor\":\"#E5ECF6\",\"radialaxis\":{\"gridcolor\":\"white\",\"linecolor\":\"white\",\"ticks\":\"\"}},\"scene\":{\"xaxis\":{\"backgroundcolor\":\"#E5ECF6\",\"gridcolor\":\"white\",\"gridwidth\":2,\"linecolor\":\"white\",\"showbackground\":true,\"ticks\":\"\",\"zerolinecolor\":\"white\"},\"yaxis\":{\"backgroundcolor\":\"#E5ECF6\",\"gridcolor\":\"white\",\"gridwidth\":2,\"linecolor\":\"white\",\"showbackground\":true,\"ticks\":\"\",\"zerolinecolor\":\"white\"},\"zaxis\":{\"backgroundcolor\":\"#E5ECF6\",\"gridcolor\":\"white\",\"gridwidth\":2,\"linecolor\":\"white\",\"showbackground\":true,\"ticks\":\"\",\"zerolinecolor\":\"white\"}},\"shapedefaults\":{\"line\":{\"color\":\"#2a3f5f\"}},\"ternary\":{\"aaxis\":{\"gridcolor\":\"white\",\"linecolor\":\"white\",\"ticks\":\"\"},\"baxis\":{\"gridcolor\":\"white\",\"linecolor\":\"white\",\"ticks\":\"\"},\"bgcolor\":\"#E5ECF6\",\"caxis\":{\"gridcolor\":\"white\",\"linecolor\":\"white\",\"ticks\":\"\"}},\"title\":{\"x\":0.05},\"xaxis\":{\"automargin\":true,\"gridcolor\":\"white\",\"linecolor\":\"white\",\"ticks\":\"\",\"title\":{\"standoff\":15},\"zerolinecolor\":\"white\",\"zerolinewidth\":2},\"yaxis\":{\"automargin\":true,\"gridcolor\":\"white\",\"linecolor\":\"white\",\"ticks\":\"\",\"title\":{\"standoff\":15},\"zerolinecolor\":\"white\",\"zerolinewidth\":2}}},\"scene\":{\"domain\":{\"x\":[0.0,1.0],\"y\":[0.0,1.0]},\"xaxis\":{\"title\":{\"text\":\"x\"}},\"yaxis\":{\"title\":{\"text\":\"y\"}},\"zaxis\":{\"title\":{\"text\":\"z\"}}},\"legend\":{\"title\":{\"text\":\"class\"},\"tracegroupgap\":0},\"margin\":{\"t\":60}},                        {\"responsive\": true}                    ).then(function(){\n",
              "                            \n",
              "var gd = document.getElementById('cb6d7d4d-5699-4c8e-80e7-cb4c01e47c9c');\n",
              "var x = new MutationObserver(function (mutations, observer) {{\n",
              "        var display = window.getComputedStyle(gd).display;\n",
              "        if (!display || display === 'none') {{\n",
              "            console.log([gd, 'removed!']);\n",
              "            Plotly.purge(gd);\n",
              "            observer.disconnect();\n",
              "        }}\n",
              "}});\n",
              "\n",
              "// Listen for the removal of the full notebook cells\n",
              "var notebookContainer = gd.closest('#notebook-container');\n",
              "if (notebookContainer) {{\n",
              "    x.observe(notebookContainer, {childList: true});\n",
              "}}\n",
              "\n",
              "// Listen for the clearing of the current output cell\n",
              "var outputEl = gd.closest('.output');\n",
              "if (outputEl) {{\n",
              "    x.observe(outputEl, {childList: true});\n",
              "}}\n",
              "\n",
              "                        })                };                            </script>        </div>\n",
              "</body>\n",
              "</html>"
            ]
          },
          "metadata": {}
        }
      ]
    },
    {
      "cell_type": "markdown",
      "source": [
        "### By Review Activity"
      ],
      "metadata": {
        "id": "eUL5j68ggsD_"
      }
    },
    {
      "cell_type": "markdown",
      "source": [
        "At the same time, we reconstructed the rows and columns of the customers' movie rating table, and obtained a table with rows of `movieId`, columns of `customerId` and corresponding values of the customer's rating of the movie."
      ],
      "metadata": {
        "id": "ahvYMv44WZRu"
      }
    },
    {
      "cell_type": "code",
      "source": [
        "two_level_index_series = selected_rating_df.set_index(['reviewerId', 'movieId'])['rating']\n",
        "cluster_input_2 = two_level_index_series.unstack()\n",
        "cluster_input_2 = cluster_input_2.fillna(0).T\n",
        "cluster_input_2.head()"
      ],
      "metadata": {
        "colab": {
          "base_uri": "https://localhost:8080/",
          "height": 331
        },
        "id": "1WdudA0pgxs9",
        "outputId": "c0f7d827-e622-4c1f-a782-69c50a6825ec"
      },
      "execution_count": null,
      "outputs": [
        {
          "output_type": "execute_result",
          "data": {
            "text/plain": [
              "reviewerId  A0882267H0AW4UOUDXH9  A100JCBNALJFAW  A100RW34WSLTUW  \\\n",
              "movieId                                                            \n",
              "0310263662                   0.0             0.0             0.0   \n",
              "0310274281                   0.0             0.0             0.0   \n",
              "0767002652                   0.0             0.0             0.0   \n",
              "0767726227                   0.0             0.0             0.0   \n",
              "076780192X                   0.0             0.0             0.0   \n",
              "\n",
              "reviewerId  A100WFKYVRPVX7  A10175AMUHOQC4  A102B8D74H64TO  A102RDJLOHWS0W  \\\n",
              "movieId                                                                      \n",
              "0310263662             0.0             0.0             0.0             0.0   \n",
              "0310274281             0.0             0.0             0.0             0.0   \n",
              "0767002652             0.0             0.0             0.0             0.0   \n",
              "0767726227             0.0             0.0             0.0             0.0   \n",
              "076780192X             0.0             0.0             0.0             0.0   \n",
              "\n",
              "reviewerId  A103EXN5Q7HX6Z  A103KNDW8GN92L  A1041053SID37WN8GTT8  ...  \\\n",
              "movieId                                                           ...   \n",
              "0310263662             0.0             4.0                   0.0  ...   \n",
              "0310274281             0.0             0.0                   0.0  ...   \n",
              "0767002652             0.0             0.0                   0.0  ...   \n",
              "0767726227             0.0             0.0                   0.0  ...   \n",
              "076780192X             0.0             0.0                   0.0  ...   \n",
              "\n",
              "reviewerId  AZVEPWRYOFBX5  AZVRFM578CX6M  AZWIQDC9S1KEM  AZXGPM8EKSHE9  \\\n",
              "movieId                                                                  \n",
              "0310263662            0.0            0.0            0.0            0.0   \n",
              "0310274281            0.0            0.0            0.0            0.0   \n",
              "0767002652            0.0            0.0            0.0            0.0   \n",
              "0767726227            0.0            0.0            0.0            0.0   \n",
              "076780192X            0.0            0.0            0.0            0.0   \n",
              "\n",
              "reviewerId  AZXP46IB63PU8  AZY093IX3TILG  AZYGRG27CDIA3  AZYJ9TS07B02W  \\\n",
              "movieId                                                                  \n",
              "0310263662            0.0            0.0            0.0            3.0   \n",
              "0310274281            0.0            0.0            0.0            0.0   \n",
              "0767002652            0.0            0.0            0.0            0.0   \n",
              "0767726227            0.0            0.0            0.0            0.0   \n",
              "076780192X            0.0            0.0            0.0            0.0   \n",
              "\n",
              "reviewerId  AZZ4GD20C58ND  AZZFRAVW4CR5I  \n",
              "movieId                                   \n",
              "0310263662            0.0            0.0  \n",
              "0310274281            0.0            0.0  \n",
              "0767002652            0.0            0.0  \n",
              "0767726227            0.0            0.0  \n",
              "076780192X            0.0            0.0  \n",
              "\n",
              "[5 rows x 7614 columns]"
            ],
            "text/html": [
              "\n",
              "  <div id=\"df-c5edb23b-dd8f-418e-9345-d4d25ea94d65\">\n",
              "    <div class=\"colab-df-container\">\n",
              "      <div>\n",
              "<style scoped>\n",
              "    .dataframe tbody tr th:only-of-type {\n",
              "        vertical-align: middle;\n",
              "    }\n",
              "\n",
              "    .dataframe tbody tr th {\n",
              "        vertical-align: top;\n",
              "    }\n",
              "\n",
              "    .dataframe thead th {\n",
              "        text-align: right;\n",
              "    }\n",
              "</style>\n",
              "<table border=\"1\" class=\"dataframe\">\n",
              "  <thead>\n",
              "    <tr style=\"text-align: right;\">\n",
              "      <th>reviewerId</th>\n",
              "      <th>A0882267H0AW4UOUDXH9</th>\n",
              "      <th>A100JCBNALJFAW</th>\n",
              "      <th>A100RW34WSLTUW</th>\n",
              "      <th>A100WFKYVRPVX7</th>\n",
              "      <th>A10175AMUHOQC4</th>\n",
              "      <th>A102B8D74H64TO</th>\n",
              "      <th>A102RDJLOHWS0W</th>\n",
              "      <th>A103EXN5Q7HX6Z</th>\n",
              "      <th>A103KNDW8GN92L</th>\n",
              "      <th>A1041053SID37WN8GTT8</th>\n",
              "      <th>...</th>\n",
              "      <th>AZVEPWRYOFBX5</th>\n",
              "      <th>AZVRFM578CX6M</th>\n",
              "      <th>AZWIQDC9S1KEM</th>\n",
              "      <th>AZXGPM8EKSHE9</th>\n",
              "      <th>AZXP46IB63PU8</th>\n",
              "      <th>AZY093IX3TILG</th>\n",
              "      <th>AZYGRG27CDIA3</th>\n",
              "      <th>AZYJ9TS07B02W</th>\n",
              "      <th>AZZ4GD20C58ND</th>\n",
              "      <th>AZZFRAVW4CR5I</th>\n",
              "    </tr>\n",
              "    <tr>\n",
              "      <th>movieId</th>\n",
              "      <th></th>\n",
              "      <th></th>\n",
              "      <th></th>\n",
              "      <th></th>\n",
              "      <th></th>\n",
              "      <th></th>\n",
              "      <th></th>\n",
              "      <th></th>\n",
              "      <th></th>\n",
              "      <th></th>\n",
              "      <th></th>\n",
              "      <th></th>\n",
              "      <th></th>\n",
              "      <th></th>\n",
              "      <th></th>\n",
              "      <th></th>\n",
              "      <th></th>\n",
              "      <th></th>\n",
              "      <th></th>\n",
              "      <th></th>\n",
              "      <th></th>\n",
              "    </tr>\n",
              "  </thead>\n",
              "  <tbody>\n",
              "    <tr>\n",
              "      <th>0310263662</th>\n",
              "      <td>0.0</td>\n",
              "      <td>0.0</td>\n",
              "      <td>0.0</td>\n",
              "      <td>0.0</td>\n",
              "      <td>0.0</td>\n",
              "      <td>0.0</td>\n",
              "      <td>0.0</td>\n",
              "      <td>0.0</td>\n",
              "      <td>4.0</td>\n",
              "      <td>0.0</td>\n",
              "      <td>...</td>\n",
              "      <td>0.0</td>\n",
              "      <td>0.0</td>\n",
              "      <td>0.0</td>\n",
              "      <td>0.0</td>\n",
              "      <td>0.0</td>\n",
              "      <td>0.0</td>\n",
              "      <td>0.0</td>\n",
              "      <td>3.0</td>\n",
              "      <td>0.0</td>\n",
              "      <td>0.0</td>\n",
              "    </tr>\n",
              "    <tr>\n",
              "      <th>0310274281</th>\n",
              "      <td>0.0</td>\n",
              "      <td>0.0</td>\n",
              "      <td>0.0</td>\n",
              "      <td>0.0</td>\n",
              "      <td>0.0</td>\n",
              "      <td>0.0</td>\n",
              "      <td>0.0</td>\n",
              "      <td>0.0</td>\n",
              "      <td>0.0</td>\n",
              "      <td>0.0</td>\n",
              "      <td>...</td>\n",
              "      <td>0.0</td>\n",
              "      <td>0.0</td>\n",
              "      <td>0.0</td>\n",
              "      <td>0.0</td>\n",
              "      <td>0.0</td>\n",
              "      <td>0.0</td>\n",
              "      <td>0.0</td>\n",
              "      <td>0.0</td>\n",
              "      <td>0.0</td>\n",
              "      <td>0.0</td>\n",
              "    </tr>\n",
              "    <tr>\n",
              "      <th>0767002652</th>\n",
              "      <td>0.0</td>\n",
              "      <td>0.0</td>\n",
              "      <td>0.0</td>\n",
              "      <td>0.0</td>\n",
              "      <td>0.0</td>\n",
              "      <td>0.0</td>\n",
              "      <td>0.0</td>\n",
              "      <td>0.0</td>\n",
              "      <td>0.0</td>\n",
              "      <td>0.0</td>\n",
              "      <td>...</td>\n",
              "      <td>0.0</td>\n",
              "      <td>0.0</td>\n",
              "      <td>0.0</td>\n",
              "      <td>0.0</td>\n",
              "      <td>0.0</td>\n",
              "      <td>0.0</td>\n",
              "      <td>0.0</td>\n",
              "      <td>0.0</td>\n",
              "      <td>0.0</td>\n",
              "      <td>0.0</td>\n",
              "    </tr>\n",
              "    <tr>\n",
              "      <th>0767726227</th>\n",
              "      <td>0.0</td>\n",
              "      <td>0.0</td>\n",
              "      <td>0.0</td>\n",
              "      <td>0.0</td>\n",
              "      <td>0.0</td>\n",
              "      <td>0.0</td>\n",
              "      <td>0.0</td>\n",
              "      <td>0.0</td>\n",
              "      <td>0.0</td>\n",
              "      <td>0.0</td>\n",
              "      <td>...</td>\n",
              "      <td>0.0</td>\n",
              "      <td>0.0</td>\n",
              "      <td>0.0</td>\n",
              "      <td>0.0</td>\n",
              "      <td>0.0</td>\n",
              "      <td>0.0</td>\n",
              "      <td>0.0</td>\n",
              "      <td>0.0</td>\n",
              "      <td>0.0</td>\n",
              "      <td>0.0</td>\n",
              "    </tr>\n",
              "    <tr>\n",
              "      <th>076780192X</th>\n",
              "      <td>0.0</td>\n",
              "      <td>0.0</td>\n",
              "      <td>0.0</td>\n",
              "      <td>0.0</td>\n",
              "      <td>0.0</td>\n",
              "      <td>0.0</td>\n",
              "      <td>0.0</td>\n",
              "      <td>0.0</td>\n",
              "      <td>0.0</td>\n",
              "      <td>0.0</td>\n",
              "      <td>...</td>\n",
              "      <td>0.0</td>\n",
              "      <td>0.0</td>\n",
              "      <td>0.0</td>\n",
              "      <td>0.0</td>\n",
              "      <td>0.0</td>\n",
              "      <td>0.0</td>\n",
              "      <td>0.0</td>\n",
              "      <td>0.0</td>\n",
              "      <td>0.0</td>\n",
              "      <td>0.0</td>\n",
              "    </tr>\n",
              "  </tbody>\n",
              "</table>\n",
              "<p>5 rows × 7614 columns</p>\n",
              "</div>\n",
              "      <button class=\"colab-df-convert\" onclick=\"convertToInteractive('df-c5edb23b-dd8f-418e-9345-d4d25ea94d65')\"\n",
              "              title=\"Convert this dataframe to an interactive table.\"\n",
              "              style=\"display:none;\">\n",
              "        \n",
              "  <svg xmlns=\"http://www.w3.org/2000/svg\" height=\"24px\"viewBox=\"0 0 24 24\"\n",
              "       width=\"24px\">\n",
              "    <path d=\"M0 0h24v24H0V0z\" fill=\"none\"/>\n",
              "    <path d=\"M18.56 5.44l.94 2.06.94-2.06 2.06-.94-2.06-.94-.94-2.06-.94 2.06-2.06.94zm-11 1L8.5 8.5l.94-2.06 2.06-.94-2.06-.94L8.5 2.5l-.94 2.06-2.06.94zm10 10l.94 2.06.94-2.06 2.06-.94-2.06-.94-.94-2.06-.94 2.06-2.06.94z\"/><path d=\"M17.41 7.96l-1.37-1.37c-.4-.4-.92-.59-1.43-.59-.52 0-1.04.2-1.43.59L10.3 9.45l-7.72 7.72c-.78.78-.78 2.05 0 2.83L4 21.41c.39.39.9.59 1.41.59.51 0 1.02-.2 1.41-.59l7.78-7.78 2.81-2.81c.8-.78.8-2.07 0-2.86zM5.41 20L4 18.59l7.72-7.72 1.47 1.35L5.41 20z\"/>\n",
              "  </svg>\n",
              "      </button>\n",
              "      \n",
              "  <style>\n",
              "    .colab-df-container {\n",
              "      display:flex;\n",
              "      flex-wrap:wrap;\n",
              "      gap: 12px;\n",
              "    }\n",
              "\n",
              "    .colab-df-convert {\n",
              "      background-color: #E8F0FE;\n",
              "      border: none;\n",
              "      border-radius: 50%;\n",
              "      cursor: pointer;\n",
              "      display: none;\n",
              "      fill: #1967D2;\n",
              "      height: 32px;\n",
              "      padding: 0 0 0 0;\n",
              "      width: 32px;\n",
              "    }\n",
              "\n",
              "    .colab-df-convert:hover {\n",
              "      background-color: #E2EBFA;\n",
              "      box-shadow: 0px 1px 2px rgba(60, 64, 67, 0.3), 0px 1px 3px 1px rgba(60, 64, 67, 0.15);\n",
              "      fill: #174EA6;\n",
              "    }\n",
              "\n",
              "    [theme=dark] .colab-df-convert {\n",
              "      background-color: #3B4455;\n",
              "      fill: #D2E3FC;\n",
              "    }\n",
              "\n",
              "    [theme=dark] .colab-df-convert:hover {\n",
              "      background-color: #434B5C;\n",
              "      box-shadow: 0px 1px 3px 1px rgba(0, 0, 0, 0.15);\n",
              "      filter: drop-shadow(0px 1px 2px rgba(0, 0, 0, 0.3));\n",
              "      fill: #FFFFFF;\n",
              "    }\n",
              "  </style>\n",
              "\n",
              "      <script>\n",
              "        const buttonEl =\n",
              "          document.querySelector('#df-c5edb23b-dd8f-418e-9345-d4d25ea94d65 button.colab-df-convert');\n",
              "        buttonEl.style.display =\n",
              "          google.colab.kernel.accessAllowed ? 'block' : 'none';\n",
              "\n",
              "        async function convertToInteractive(key) {\n",
              "          const element = document.querySelector('#df-c5edb23b-dd8f-418e-9345-d4d25ea94d65');\n",
              "          const dataTable =\n",
              "            await google.colab.kernel.invokeFunction('convertToInteractive',\n",
              "                                                     [key], {});\n",
              "          if (!dataTable) return;\n",
              "\n",
              "          const docLinkHtml = 'Like what you see? Visit the ' +\n",
              "            '<a target=\"_blank\" href=https://colab.research.google.com/notebooks/data_table.ipynb>data table notebook</a>'\n",
              "            + ' to learn more about interactive tables.';\n",
              "          element.innerHTML = '';\n",
              "          dataTable['output_type'] = 'display_data';\n",
              "          await google.colab.output.renderOutput(dataTable, element);\n",
              "          const docLink = document.createElement('div');\n",
              "          docLink.innerHTML = docLinkHtml;\n",
              "          element.appendChild(docLink);\n",
              "        }\n",
              "      </script>\n",
              "    </div>\n",
              "  </div>\n",
              "  "
            ]
          },
          "metadata": {},
          "execution_count": 114
        }
      ]
    },
    {
      "cell_type": "markdown",
      "source": [
        "Our second clustering method will cluster the movies according to customers' ratings of the movies. In this case, the granularity of the data is the movie, and each customers' rating to the movie is taken as a feature."
      ],
      "metadata": {
        "id": "_08OOaM8Wvp5"
      }
    },
    {
      "cell_type": "code",
      "source": [
        "from sklearn.cluster import KMeans\n",
        "\n",
        "kmeans2 = KMeans(n_clusters=5, random_state=56)\n",
        "kmeans2.fit(cluster_input_2)\n",
        "cluster_input_2['class'] = kmeans2.labels_\n",
        "print('The number of movies in each cluster:')\n",
        "cluster_input_2['class'].value_counts()"
      ],
      "metadata": {
        "colab": {
          "base_uri": "https://localhost:8080/"
        },
        "id": "QSdqvhUwhfCt",
        "outputId": "20b2d879-2d0b-413f-e737-3457331efa04"
      },
      "execution_count": null,
      "outputs": [
        {
          "output_type": "stream",
          "name": "stdout",
          "text": [
            "The number of movies in each cluster:\n"
          ]
        },
        {
          "output_type": "execute_result",
          "data": {
            "text/plain": [
              "4    744\n",
              "0    215\n",
              "1    189\n",
              "2    128\n",
              "3      1\n",
              "Name: class, dtype: int64"
            ]
          },
          "metadata": {},
          "execution_count": 115
        }
      ]
    },
    {
      "cell_type": "markdown",
      "source": [
        "We used PCA dimensionality reduction to extract the three most representative dimensions of the two matrices respectively, and then we visualized and compared the results of the two clustering approaches in the 3D plots=. We found that the second clustering method performed better. As a result, we would vote the clustering labels based on customers' historical browsing data and recommend the whole corresponding cluster of movies based on the second clustering result. "
      ],
      "metadata": {
        "id": "POvvMUIMXD46"
      }
    },
    {
      "cell_type": "code",
      "source": [
        "from sklearn.decomposition import PCA\n",
        "\n",
        "pca = PCA(n_components = 3)\n",
        "decomposition_data = pca.fit_transform(cluster_input_2.drop(columns=['class']))\n",
        "\n",
        "decomposition_data = pd.DataFrame(decomposition_data, columns=['x', 'y', 'z'])\n",
        "decomposition_data['class'] = cluster_input_2['class'].reset_index(drop=True).astype(str)"
      ],
      "metadata": {
        "id": "H12WASURihiE"
      },
      "execution_count": null,
      "outputs": []
    },
    {
      "cell_type": "code",
      "source": [
        "import plotly.express as px\n",
        "fig = px.scatter_3d(decomposition_data, x='x', y='y', z='z', color = 'class')\n",
        "fig.update_traces(marker_size = 4)\n",
        "fig.show()"
      ],
      "metadata": {
        "colab": {
          "base_uri": "https://localhost:8080/",
          "height": 542
        },
        "id": "1wXu333QisQP",
        "outputId": "5c940f20-09ce-49f7-aa12-dc89e69b068e"
      },
      "execution_count": null,
      "outputs": [
        {
          "output_type": "display_data",
          "data": {
            "text/html": [
              "<html>\n",
              "<head><meta charset=\"utf-8\" /></head>\n",
              "<body>\n",
              "    <div>            <script src=\"https://cdnjs.cloudflare.com/ajax/libs/mathjax/2.7.5/MathJax.js?config=TeX-AMS-MML_SVG\"></script><script type=\"text/javascript\">if (window.MathJax) {MathJax.Hub.Config({SVG: {font: \"STIX-Web\"}});}</script>                <script type=\"text/javascript\">window.PlotlyConfig = {MathJaxConfig: 'local'};</script>\n",
              "        <script src=\"https://cdn.plot.ly/plotly-2.8.3.min.js\"></script>                <div id=\"fa1bf7ef-6a7d-4753-9239-a91578ca01f6\" class=\"plotly-graph-div\" style=\"height:525px; width:100%;\"></div>            <script type=\"text/javascript\">                                    window.PLOTLYENV=window.PLOTLYENV || {};                                    if (document.getElementById(\"fa1bf7ef-6a7d-4753-9239-a91578ca01f6\")) {                    Plotly.newPlot(                        \"fa1bf7ef-6a7d-4753-9239-a91578ca01f6\",                        [{\"hovertemplate\":\"class=2<br>x=%{x}<br>y=%{y}<br>z=%{z}<extra></extra>\",\"legendgroup\":\"2\",\"marker\":{\"color\":\"#636efa\",\"symbol\":\"circle\",\"size\":4},\"mode\":\"markers\",\"name\":\"2\",\"scene\":\"scene\",\"showlegend\":true,\"x\":[30.15695946134582,23.5489280887526,21.981455325753664,19.25307994059896,5.790857571727841,14.70442412300752,7.205466596782515,18.106826399323197,26.98148520579869,12.103804259753554,33.122774013891714,7.2449263649895785,30.766949576735012,19.703749402167166,33.77456443468698,13.308328730272642,19.461385567581573,29.36744338544754,8.515170549885624,19.891284584589272,20.026396068125987,32.4113205538389,21.18593214984621,16.99087337330594,10.318345639009005,13.116352055818027,9.71682002868991,20.438943684754797,17.38490526722548,13.084440548190923,14.427126429121124,47.52064961280864,20.331875163156106,11.141615274923495,24.524282265667956,14.801306113075736,8.62580906041909,21.344849441371714,32.18154021243594,13.113833415680315,7.694013691948069,17.309799818762038,9.73079824369762,18.320701977697098,12.416663230352622,12.242454686879777,9.054761961226454,6.973747022737981,19.016994716827863,15.843051815081258,14.478933875600532,23.53742682321129,15.921737238047438,12.328570237828448,13.026481353649709,28.178647185086874,20.24293058469962,7.517133301130734,18.652971725424827,11.294465592057092,11.018212861309175,13.771765166245823,16.521364362883816,9.604219514354309,14.724906687016256,11.547131149552252,15.385084344704836,12.045917273590407,10.373511741582648,18.345934352423882,7.965345620402833,13.307673581702545,8.519798568081491,14.17002578438357,11.659391452920337,13.386522956735682,13.141499956310602,10.375712422404595,8.523734558569986,8.804321052507914,20.905462035926114,9.721367484699552,5.765609994667883,13.354325284084803,15.84849416556038,10.04188839396089,13.104772129612341,12.601296532116653,8.673304514676502,16.70325991982804,14.584823271981682,12.00646066673185,12.599858661119146,12.552195024498184,9.858088852762389,18.819328975014162,10.831272924996998,15.014066045487992,17.238424029617658,20.922550212566343,7.695912824046655,9.741664065200622,25.490838312120506,6.77065994790009,6.242238203684521,14.135751629195472,9.255927054110787,8.469097436890628,3.5062214325683074,10.567647328707698,12.224678697297438,6.469239480923516,5.975505369228446,10.530210915004563,4.298690838244739,10.189860708186002,7.114245720479592,7.868362773014713,5.232952134874355,10.239815691801619,9.680958281450053,8.610741057150927,7.625286828175763,4.207162247876438,4.996656724388828,7.600491532980848,8.45202081406388,14.199026308727518],\"y\":[4.23173080391194,6.171290748336135,7.267399301667395,10.636350743109638,-0.28419956463395135,2.1242075864886676,1.8801125039542608,7.396046320197217,7.305140211210365,12.407812819030422,5.467348328623395,0.7477737904351167,7.1676812715292435,2.8988980526861137,4.226300663221408,0.02466528500011285,3.342005727556265,0.6481951996785729,-0.37654444440205104,-2.306587989446109,1.2444835769914981,7.877308324789777,-0.1272745507029179,-0.2150236791797745,2.7801902968859715,2.307049083278141,0.6266687978702694,1.7347075218019172,1.4247240275006925,-1.6973479686519184,-2.323199330261108,21.018168578437926,3.388295207614752,4.953606588158,7.236955864171089,3.8110963927164687,1.1636835646634547,3.7416366917599326,13.09426028297084,4.736428028541644,-0.06920780405524171,7.140484273599355,3.648661114968976,7.534210932549489,3.204156622948112,6.747151208785917,5.881492867563991,4.460879117626087,9.917947836004508,10.681887818164155,9.1522638753968,23.07285756557686,9.337795896937733,8.771123240089121,9.675391224152449,26.165402951759457,1.4527327501697567,-3.498837849659127,0.6297258727744097,0.10870529523250808,-0.8127536529073861,0.5571072793268369,0.5058599062914829,-0.06662203582198467,-1.8630476739647814,1.6350920965146103,3.2099725005669497,2.5870509230968977,1.3967525315495353,1.7081473117505737,-2.3416376216205723,0.6823352245545553,-1.4670376144108923,0.7660088236566194,0.003202958980111989,0.41179704724047606,-0.7598284070551146,-0.5154387334761164,2.1042980876068658,1.2974771293543716,3.701598755217812,3.2589122388092533,1.6377696676640245,2.243756662130242,2.664824925948022,-1.762747303128471,2.7439542054329493,6.823794537229874,1.2618534600369602,5.480019198899548,6.195027156254697,1.5129270835557966,4.332503541889503,5.168589470817964,2.7968852789586967,8.279185701134777,3.735954339536968,7.24964432899875,8.6857203651822,9.313038494889188,1.335454930753872,1.4782385764839394,13.537793021155567,3.955525188418674,4.728223847632378,6.701328054217534,7.43674689999912,5.232029925053636,4.0965694075176495,4.823584528768884,5.249451398321385,5.6075467664190635,3.366437965045183,4.266803911767729,4.787178232286094,10.9655030504742,7.601915294241848,13.623918265789866,4.046327941936988,9.068032035948693,14.227451227083723,4.44218654573136,8.644409838907663,2.674397693436115,7.941278343077583,12.051786747831082,10.324885832340492,28.95222694606124],\"z\":[0.21816987809644295,-8.059813644704606,-11.261936605129256,-18.4895305402263,-9.801529339741247,-14.655515441963637,-4.064050588827768,-11.132814480756416,-2.7575243105739995,-15.29220691130135,11.161506259550087,-0.33013570502066164,2.6999848157826154,7.855600665074228,6.963630752711034,0.8094815976197248,-0.8350044100509937,6.580006264040436,-6.66824559559519,-4.23527076176647,-7.191387341065337,3.024705467884837,0.6701649057927003,-0.27196072810533667,-0.8299810977644108,1.4052832228455296,-3.3581689241743558,-5.200796499401305,-4.912507036886192,-3.2083308162267583,-1.6249184200550355,-8.362775495599005,-11.901063813963404,-7.4772597185045475,-5.970876813664627,-4.275650592576323,-8.512952905381205,-15.257983699417885,-9.78755099717321,-10.295894059674259,-10.703365800592644,-11.297854477423144,-11.59481135649949,-18.078732165244737,-17.8854234005385,-7.821943750622108,-7.767594924475905,-8.140223397685691,-15.644797158225067,-10.267738285525851,-9.227939751331148,-17.43353256419765,-13.55618021938051,-14.533927945520006,-10.116433775595953,-16.048370814865567,1.2243684397172845,-3.8569261179272094,8.233771184182515,0.9252036721697837,4.961091708931479,-1.8160218308542713,-1.669235718804033,-2.6889809953299246,-3.246710743044224,0.2774009192941078,0.49662983410297534,-1.8812213214231852,-3.8945774242029345,-2.9899488277231137,-6.758035061193339,-3.82299185140047,-4.906096201844105,-3.9198130757743246,-2.2158467442183145,-2.3879094413917943,-8.191438180934465,-7.585695295112871,-6.789537890298845,-2.8191658249063467,-15.30181046926419,-6.8729027461097845,-6.087540547922112,-10.578115071183394,-8.296800108018392,-8.745077502743678,-8.429397781002711,-5.9077545315319275,-6.49215167076879,-14.1359616079386,-8.106274697541414,-15.609307650170761,-13.302957159990696,-5.640742688614461,-13.753673764384814,-8.941172136289527,-18.880233533697155,-16.63942458396597,-15.273270266101093,-18.417392100106415,-12.73821518042161,-10.48088090606088,-14.322723281513742,-8.879244292446215,-9.674093822828066,-14.11317651001767,-11.654287924360762,-13.28667940147489,-9.998869361134421,-17.764755367979337,-15.070317896204442,-5.8829941126654886,-9.89282004539177,-12.884498062936505,-8.728776595696436,-6.442026043878937,-7.096893924518409,-9.390219181545877,-7.523813886340503,-14.117327068758351,-15.731865078756632,-14.96711638934624,-8.357860183949049,-11.937860797445037,-12.854287018834889,-11.929582101013418,-10.576171757064332,-8.467099312321523],\"type\":\"scatter3d\"},{\"hovertemplate\":\"class=4<br>x=%{x}<br>y=%{y}<br>z=%{z}<extra></extra>\",\"legendgroup\":\"4\",\"marker\":{\"color\":\"#EF553B\",\"symbol\":\"circle\",\"size\":4},\"mode\":\"markers\",\"name\":\"4\",\"scene\":\"scene\",\"showlegend\":true,\"x\":[-5.232179394350031,-6.378802341969453,-5.352096750998271,2.509390058712974,-3.8108690299762045,-3.6856580731440975,3.8251022058457873,2.416545315776392,-1.00356727495876,-2.7200302033304276,-4.432632649896952,-4.818379158984153,0.5646979844044648,0.6916215914967748,-1.7434562934771438,-1.6353031860768412,-1.9954911020966308,-0.21611689797795836,0.25815725681649576,1.1451103524905202,2.063222296073741,2.969719058789432,-0.007640846963175887,0.6713941597495594,2.164171806226767,1.1120023878123548,-0.20953759173749067,1.6737614541598356,-3.5835386265629463,-4.889813697809802,1.7473331358798727,-3.3177915405151626,-2.092955534416949,-1.3463433976427501,2.7698670486178876,2.715169465864187,0.08768925720369179,-1.6360923277734567,0.8429582332234291,-1.20728210236857,1.2253467377341365,-2.5349621438194267,-2.3353356696983694,-3.888540353804492,-2.7983781117281983,1.2421201598530685,-1.05580265299753,3.1205330827766695,-4.3729451789532385,-2.643400250710868,2.294761657879748,-0.3658121401381819,-4.235243591243626,-0.1434717074511875,2.1720691566860744,-3.1024370188479478,-2.5463857882871954,-0.9359925785360299,-3.8490935786210225,-0.31361010893354113,1.7057991018277643,1.3855558070435328,3.3803027792529323,0.8361560314099853,-3.427436452720412,2.0504252771623586,-5.481819212343781,-5.731903784734598,-6.023857052853804,-4.615017512642945,-5.026606154275822,1.3781000441732854,-3.576615070018967,-1.4555258218465037,-5.39439275832642,-5.256098082840078,-3.2213164923558226,-3.4507257102189026,-0.09148623282162881,0.28819278051732516,-4.315415840737347,-1.9748967984006844,-2.934785744479164,-5.962395712726144,-7.543307684159216,-4.189233061661671,-6.0925264762031555,2.340162513059696,-0.19907193888758926,0.8539865374812838,1.1065842411821951,2.4708287922809764,-3.0562696211709284,0.1573039403641525,-0.41607515980967597,-0.54284496003038,2.828942557429792,-2.5584933156752347,0.3222727389123059,-3.5540129589713443,-0.5398585328358645,-1.2446613105105426,-1.1978283879268747,2.664533762659789,-0.4004697863189926,2.686846228694999,-2.892297546386333,-4.606395252669902,1.0068552086878635,-0.10519810938212547,-0.22731675799565526,-0.4338564094688923,-1.8694743751255627,-2.2164036087533483,-3.6437394269540087,0.8693726831738676,1.5148706449126306,2.267035601842457,-1.8847033207281223,1.605273872735262,-0.4068821945020763,-2.5896475706971365,-0.880120605464777,-1.7528377297649897,-0.9948095725657976,-4.501414853079788,1.147005614669519,-0.3616452752150428,1.2819041511222438,2.6824051976116614,-1.1321122960293197,-4.851284767534922,1.7613049706837351,-3.67691786959584,3.4670319090255743,-2.6072962310287915,3.231583187033474,3.8774039676899608,-2.2300088719863083,-2.4240573309021225,-1.5637493414224903,-3.110407147429668,-3.6216284612555225,0.18082708028826813,0.9384385829345987,-1.3025935475965715,3.1691098550967647,0.16383330605342394,-1.0093167208370721,3.363686218062463,1.99249201080722,2.8089701847108244,-3.565164732575248,-5.115361995384896,-5.423669790299143,-5.658474951306728,-2.256316812189116,-2.779320805241452,-4.361215584019406,3.7057160674809917,-4.717418067301137,0.8233533266245506,-2.6764289841701556,-0.8098911935838182,4.624362564971852,0.4529820309547246,-0.7101266888503863,-0.6480575788009784,1.4940170234249726,1.5940670382346542,-2.3867514126444718,-1.8714612968477358,-0.8297329024297233,0.5454737056063403,-0.2119130449104263,-0.4271814279250192,1.4093565893404683,0.44098199422449663,-1.0151900057590482,-0.24915839581228408,-0.5409977437456132,-1.9681285289222397,-2.13135758827666,-4.04707591287123,-3.3657840990347876,-3.3719644308685797,1.4489338009459993,4.380507188338943,-2.0481614952625984,-5.264824297451679,-4.514408750809466,-0.15430466682390026,-2.9003540232188083,2.3950946170572416,-4.806364340232546,-2.216713687189153,-2.0163651451678626,-3.380951307719137,1.8762461703836426,3.023688576506741,-1.906531353237084,2.053273149102119,2.3506291847874303,0.7405413801099976,1.9802762554286701,1.9870828062575785,1.847451056801934,2.5091343968950874,-1.8149947145109548,2.288475175682248,-0.9926992917889254,-5.921179931805095,-6.101787726117797,-4.058530365202576,1.5268817834122805,-0.2524926534235768,1.3927677205058913,2.0467691619134554,1.894637633443748,1.399575015338114,0.21979282350229415,2.3917159196060642,6.780836136062057,-0.06837341078096275,6.038030352452255,-3.6986364077082907,5.526248475324791,3.4562627691303955,6.523715433709098,6.176637529500067,4.819766437253243,4.267296168846547,1.8790010524003902,4.011390480160206,3.9552255501806157,-5.363526126506571,-2.2389662618926782,1.503211829188782,2.4286924331773094,-0.27011267393675664,1.418061517802536,3.94997353069725,-2.957307948893971,1.4955786029555247,3.6650069023749876,-3.766170434649666,-5.103742682577708,-1.169356609153398,1.9236737086147397,-2.9278466986634855,-1.8831675777824444,2.425864113082887,-4.955671590171423,-5.225693954077429,4.977353306775707,1.7626024134151943,1.91135683985633,1.4524271610481516,1.0930376292697859,4.303200149134974,-1.7024766818864627,-5.141232224512576,-5.7790800463166025,-5.464361941200363,3.2348454771402126,3.42019905647847,-4.4983825646348325,2.4957672269687055,-5.30122764354182,-4.04505009090579,-3.161521727004624,-4.338455352231271,5.197724450010827,4.1569510283002185,1.040347931913551,-4.1988415027963875,-5.521431907169506,-5.930810134764652,-5.914443450074621,-5.907197273727625,-3.992367702350614,-4.629296312849609,-2.8983671105629765,0.4477032925710071,-3.142660947796221,4.938593548491215,-2.7073104488442286,-3.624920409235728,-4.861733798752625,-4.811816276443902,-1.2130384269204404,0.14825818419982872,-0.27237762716744135,-3.688102228638743,0.6106648703644332,-4.567393012501297,-0.8778623184644202,-5.878323813649415,-4.3640626519363215,-1.9600881730883575,-3.704200402761,-3.064331437290932,-5.095172806196942,-5.787455184002088,-5.891596024078415,-3.8487925945855213,-6.240786705774631,6.7720443482485875,-4.457279838541627,-5.28028503596598,-2.594393417285318,4.227010483947808,-4.981717418180525,-0.5266624495799266,-3.3342792323197865,-6.227211183243872,-3.255779883008256,-6.567554485788363,-4.782403295054356,-1.4246171647544748,-0.8424033063986476,-5.295040722823988,-5.207377852684324,-0.08008957636335166,1.5793789078162597,-4.868643762361586,0.489751111631281,-0.10845469045526086,-4.313740124305315,0.26965491390090546,-2.843143688231958,0.5385751310498219,-6.047053631419816,0.47116284873944786,-3.5722041320625566,-2.534793350245311,-5.569805502410704,-5.95097846822145,2.071494844429541,-5.829004464281123,2.5373381169051124,-3.5121155199613794,0.7559264521142516,2.1824524765901474,-5.557773649076627,-5.230826157453645,-5.475093081233683,0.0667637816443977,-0.6513454972801943,-6.409829512143815,-0.6480610733033403,1.9156684715453955,-1.3210963929812247,-0.9338436857942847,-5.372422246601167,1.1305108288814738,1.5949971472730822,-0.6713236876409202,-5.722744284321396,-4.6546106073949325,-4.885646743221436,-0.5660966249172215,-5.024490853139837,-5.922038902628282,-0.994923518967119,-1.8594407561024908,-4.4799604317990855,2.952205309257865,-1.2883541410007049,-5.316668286447354,-3.6988580154831427,2.2419893806729276,-3.2164765581940897,-4.360033983891449,-4.8612942452688594,-6.063077873704913,-0.2947726330321805,-4.114509864280045,-2.380486277724379,-4.909430942464052,-5.990158148760915,-5.498501539787238,-5.917454626124018,-1.8269239804194248,2.2535852800552654,2.4727386113724075,-4.916539282976855,-5.193755332342459,-4.97173370886952,-5.408253869811328,2.8354795798843986,-5.829663572160357,-4.873744009258896,-5.725599610249455,-1.11682358517837,0.8156099249177841,-5.273706132196329,-4.121424246824213,-2.7785555134470252,3.8210462635851035,1.1259584297121095,3.182879490941531,2.9437607483578754,-4.641832839245344,-4.731625248016355,-5.339074713288404,-5.7576131330259415,-3.8439939232880413,0.24176264839489572,-4.710960372328553,1.645218398936433,-5.353173947770262,-5.721891732231459,-5.221749692103061,-3.826257802823133,-6.12290018245735,-4.77667113615602,-3.2835293991967904,-4.118917352515239,-0.5143640665658894,-1.0206129888378705,-1.870501684972132,-5.143383986036793,2.3437955718103844,-5.937724306977574,-5.846895020717985,-5.265195768225,-5.238464055946588,-1.664566946444044,4.5840952730967155,-3.921770370611877,-1.8034392444712106,-5.858933775950888,-6.3886614619682325,2.988784183033654,-3.8021799729873647,-5.12811812217396,-4.092185190553594,0.9259206665374781,2.9339558298090997,-3.9856086153391486,-5.940518558827337,2.1910066125973064,-0.7162001649922269,-4.661483646012078,-5.845807432724128,-5.932537071188558,-5.9861292251211795,-2.5933407481124195,-5.816303839410443,1.0542930803277928,-1.0201566952298176,-1.4261359882572,-4.397499313521502,0.9089386824981529,-4.789016810409838,-5.292625074514184,2.966666019097184,3.1022505360869155,-4.116990727210308,-3.800376269668563,-6.196689733523643,-4.914735265753539,-5.500094531283806,-6.252622102821493,-6.2432383103090405,-3.8051471218489294,0.8607216039811099,-5.993812210306689,-5.987828132019562,-5.069773564647043,-4.9013949368869945,-5.322825037925665,-5.680394813809112,-0.35493573023631536,-5.709179249337202,-5.572729235103857,-0.712811973250589,-6.037595488503313,-1.5954484440115533,-1.1591305285821776,-1.3116393734958376,3.177545437901112,-4.462172368405486,-4.125856561319874,-6.4797026390589485,0.4208194004934144,-5.105802010519376,-4.877887307771595,-6.527744323055353,-3.631247665808297,-5.653213678422143,-4.705289277917724,-4.073492438485376,-5.97956072474898,-4.05341786615509,-5.220519730475022,-5.508834525687487,-5.105372680619051,-4.93416037457322,-1.7373131112216462,-4.390883575498363,-6.2984933511304755,-6.009907260074122,-5.47244490209453,-6.2812732852871065,-3.981672659258873,-6.244349678638727,-5.017836737194182,-6.216495385054171,-1.566797712472131,-6.885334242933449,-5.733607014356531,-3.0404542035096385,-6.5303506464721615,-5.92218359647924,-5.933156484350056,-5.967718928454993,-5.692725766200293,-5.021661380597597,-6.0789381989236695,-2.171774124035854,-5.969393944361793,-4.2271841529655445,-5.640802920710591,-6.059758620003701,-6.111585649915254,-3.1345412509733763,-5.8547225180875575,-5.042912221662337,-5.430573885381722,-5.8520779057558086,-5.708935033121705,-3.059532087494926,-1.6540339961287303,-5.981493926430722,-3.9003196330775576,-5.535802318572726,-6.7265628752543485,-5.628472562599819,-5.560394329624866,-4.75092479198046,-5.321242260796154,-6.3038897011876385,-6.202547977289141,-6.099347571867321,-5.749975040645857,-4.21770794317687,-5.834860740334424,-5.45128937943713,-6.47866405404253,-6.3806187544928115,-2.4065216678799266,-4.05500354067381,-7.121562760722936,-5.515932430197721,-5.940327720362958,-6.338952526448297,-4.942306800500454,-5.428122119894792,-6.378705611012471,-6.151387821705782,-6.532762950095252,-6.324946587807972,-6.498684684260683,-6.010641838902193,-6.075903999041549,-5.317116291055528,-5.954462459063329,-6.129602959317289,-6.665045850878297,-6.883642559554119,-5.391801178141099,-4.884730120439309,-6.32339522729176,-5.861166419225142,-6.096580472255704,-6.286318495276264,-5.806447594188771,-5.77458456870877,-6.90444820031307,-6.15029193830907,-6.300768264749321,-6.782300522769306,-6.217531179919005,-6.903959982318762,-6.900573640878802,-7.421909803720372,-7.207749601523486,-7.491212344432046,-5.7344000531283115,-5.7320390628966145,-5.992812193498296,-5.955674855627489,-5.712755251695495,-6.2867934658079925,-5.3095568930256904,-6.161332800634027,-4.067172286245191,-7.387671865026219,-6.7790047924934225,-6.0489013703114285,-6.836386318874608,-6.4464587562290845,-7.747738983094375,-7.140030514303335,-6.598793631374754,-7.949907859387552,-6.973943048352529,-6.0600277724781195,-5.654495053009412,-6.965726454797246,-6.610260554390466,-5.793097000431937,-6.189245263515825,-6.270464946157692,-5.753739907590493,-5.8170761786225,-6.52039590560185,-6.714325625474844,-6.40053830550767,-6.243034635324354,-6.4758677325269165,-6.215766382121069,-6.711864523426937,-5.676469220001763,-6.835074692301994,-4.866590405823823,-6.351687074800174,-5.826766802965526,-7.174579171283937,-6.418322676132348,-6.092058189454211,-5.8698701905380455,-7.601663730655708,-8.701018437551882,-7.348867058129198,-8.14029546807803,-6.860226046321246,-7.156705080823618,-7.047423520608663,-5.475337650120234,-6.17351406185268,-7.019327479308177,-6.822381257591295,-6.5186933735792785,-7.792253464868209,-7.587366911175417,-7.085231998876958,-6.993768667151629,-6.567732063196632,-6.2177982497449875,-6.784111186321021,-5.818776283314882,-6.567583563711332,-6.097933642458458,-6.020121281464825,-7.351182393872983,-6.375905263471815,-7.716485608227724,-6.162465646438297,-7.931039220602346,-6.1378719535240736,-6.785917244357611,-6.207538578438664,-7.445471709728853,-5.962546008023119,-6.311951874310241,-5.632097718014842,-6.412859498238118,-7.813403939962415,-7.076199305572558,-6.75850541920081,-7.287025823523466,-6.150258240244273,-7.606709146600222,-6.886027198006293,-6.11231909879991,-7.544738076847751,-6.427094632680449,-6.3359993990419,-6.027389187029842,-6.233672771136744,-7.051910431963164,-7.633917345684863,-7.967911641467856,-6.1344879327238,-6.887476641009152,-7.190585693422963,-6.756075869856288,-7.3170086956640406,-6.4968715496943386,-6.761792006958679,-6.092015730575996,-6.96797533882369,-6.251158458718346,-5.920852442512202,-7.045516130956039,-6.979160634154496,-6.20951979180066,-7.4647187821194345,-7.044548549762056,-5.8077285015018765,-6.484652620396632,-6.232203654289107,-5.489457062762222,-6.122122937987904,-7.079880461172179,-6.6417521924694976,-6.120050956931701,-5.880280623872635,-7.121695656534579,-7.939248530020519,-5.678892639231153,-6.648913166207741,-8.051842885331736,-6.0715581239491465,-8.452407238722767,-6.9165815847865755,-5.5839763807726595,-6.213115271882362,-6.3437283126320985,-6.104191847175129,-6.4530660040283845,-6.574988625914627,-7.924767457252805,-7.645384993992377,-7.433260407867272,-6.478635964365908,-5.844622051974035,-7.271946512297907,-7.755132662791946,-6.532151511550584,-6.483855371266134,-7.515520930760804,-8.072980718269925,-7.987849298369882,-8.726558033199215,-7.6347570059652465,-7.1572733052755035,-5.549190231590094,-6.3550187809404495,-7.683541809637477,-8.326722475143777],\"y\":[-5.581885223346185,-5.155317028987297,-4.757565773671885,-3.1420425062722743,-5.306004344196487,-5.366694294398315,-3.8700917213361854,-4.387131137234769,-5.3126854070925615,-5.888141568930226,-5.841587980666655,-5.614370775099779,-3.2973559459393518,-4.806929600296875,-5.134402431467639,-5.039488447127751,-5.938749182577083,-4.5540510030165215,-5.167257476641524,-4.724547420031332,-1.6651101561438377,-2.7867166591121206,-2.862697838871558,-3.0912916627616953,-0.4685349182523761,-3.5035701687828045,-6.1113779236022845,-4.8639138756345135,-5.70265687494666,-6.052588306448615,-3.9016640182496753,-4.9362279276677015,-5.877465457207133,-5.229869906340431,-0.4230023901860963,-3.661141792888251,-3.306117947985144,-5.404614230582603,-3.4345861770451944,-5.177369711179185,-4.504669761179565,-4.560726927867129,-5.683309428054547,-5.426922770744486,-4.317411754701442,-3.3649320235068436,-4.966345262397076,-2.638369565156929,-4.887212729753394,-4.953319267137867,-3.800408436218443,-3.567083544508577,-5.878805337266804,-5.057563780542685,-4.774560636459009,-4.488374469306295,-2.7408935171589506,-4.479140106926068,-4.689234018276476,-4.325925795260264,-3.553981879842798,-3.1785087103133214,-3.71666625369499,-6.300336245023023,-4.260916810483217,-5.504798943552327,-5.996888375249561,-2.830642393097404,-5.2299494187968465,-5.419661988613235,-4.44046857239844,-1.9353293992038925,-5.326455098227178,-3.1804464474566614,-5.414289311050058,-5.654443887264504,-5.16441525578992,-4.883957241310855,-2.7592634559206415,-3.2740093711719496,-5.303416491148535,-4.032280811795666,-5.234419279694735,-5.930141088067381,-3.1795388016949544,3.0616535094067294,-5.545306368319107,-2.8765199869098503,-4.336867638702565,-3.369575430874624,-3.544434547302349,-4.418156025598493,-3.817191490925753,-4.29117453627344,-5.011766095456974,-4.384701637028354,-3.423814513142362,-4.675944127696462,-5.112034860323531,-5.392079147891261,-5.312656088125586,-5.245409975615725,-4.730289540779583,-3.490382946178093,-3.6886887017147125,-1.4046343504786265,-4.755348083671285,-4.218523540810943,-3.713690596587618,-3.6478712409248204,-4.437889574141573,-5.433867606693979,-4.9139231782498065,-4.262504555076889,-4.857602763323788,-2.441722778935165,-2.922509928974236,-2.9443320294981845,-3.7214148778186904,-2.7206313303036262,-4.074076054314752,-4.973086144277459,-4.021286980660757,-4.939508086153623,-4.890981019964902,-5.319393161234852,-5.387970351303538,-3.993282238054756,-4.1549703181440325,-3.9244286696689996,-4.193271225833512,-5.344470783785105,-5.926805200503252,-5.104303537647913,-3.929524643134964,-3.5613561845256156,-4.102443987220982,-4.4325842321930455,-4.023642904903655,-4.777925307360255,-2.820347924811216,-2.479260686388618,-5.248148980043271,-6.168689098912572,-1.8790669658647647,-4.701798218494387,-2.6359142249393583,-4.125424026426341,-3.895836734721136,-4.302336616363357,-3.109190263609363,-3.4236545952525255,-5.05251117642675,-5.209674861889765,-5.1973798224434695,-6.11916148445811,-4.402902355143367,-4.786025512164197,-4.876148526532738,-0.6953079812189862,-4.503463643531597,-5.901050803028789,-4.826335297435249,-5.618361488294054,-3.5227850410988863,-3.7854973469566,-4.128439587895764,-3.066469044761737,-4.368868952545081,-3.120382960913629,-4.635209367395032,-4.796049964295886,-5.234754990376365,-4.791653017201936,-3.1143899833445494,-3.9548435786244376,-4.793156881835162,-6.231920738075893,-5.4842671081337,-1.5756870636922224,-4.303327094389306,-4.044769318151543,-4.3190205752924635,-4.952716885369181,-6.219767932492344,-5.303710983483936,-2.7988474595372717,-0.8187033914988447,-5.51591393898031,-2.4842106903829917,-4.994701315896651,-4.605539996877785,-4.527485722466029,-4.121628369776208,-5.9047515720909365,-5.070006689184666,-4.346818092772642,-5.351905250095683,-2.2178590287175948,-3.9962436922697244,-5.269835255760962,-4.623019523625636,-3.2302869755595673,-4.823146538577033,-5.378293009596652,-3.6514560127225058,-6.057647889156018,-5.092937441254324,-4.654042110425483,-3.2957169514289,-5.5392640588936795,-6.064443722743894,-6.098117002019926,-5.795660010635688,-6.231598788644442,-4.808726607790203,-3.9452066919916464,-5.458121705881262,-4.532797593761608,-3.31499351702133,-5.021107890888751,-2.105231621432264,-3.72237329872544,-5.186817023078473,-3.854698769922079,-6.133226172367212,-2.87270570859919,-0.5825848645116347,-0.40794233276242164,-2.648007316632456,-0.7656443277629563,-0.7239769404652056,-0.20653481622888148,2.0393788891822173,3.2627468590347286,-5.546418584178627,-3.20091290284317,-1.9841260088820585,-6.477643081175952,-1.1151863568253342,-3.7421434885263327,-5.078718262939836,-4.904746819404667,-6.144666302944317,-2.680185653213872,-4.141077166714691,-5.381959777420011,-3.8356320115470495,-2.159678182627838,-5.654939075540625,-4.4390459021834054,-4.598285113201943,-6.010812023104907,-5.542518577903835,-3.22697137919385,-3.288550709442675,-5.012347034775749,-4.290019500085556,-5.265410234084506,3.706498622889104,-5.126259559766564,-5.7705823012480275,-6.087645956515671,-5.989387177139945,0.8352095713239349,-3.209398266082452,-5.618135494549492,-1.3685419791730635,-3.5943791764734287,-5.281188817542465,-4.8278189941248835,-6.147770723034418,-2.4251800825349408,2.1504088817547715,-2.309928469736343,-4.835966875219999,-6.095562547994731,-5.875582927559968,-6.129061957507251,-5.990609191598501,-4.497592859715472,-5.643438703524032,-4.155667491489825,-3.5093445387964515,-4.958801776553595,-2.7302423738577395,-4.873045948998745,-3.8468872907489864,-5.455996544918735,-5.901503527631853,-5.068855200717596,-4.905453593228187,-2.4571659230733505,-4.909425671142356,-2.9676120806219037,-5.88522481260628,-4.741198652279435,-6.044360315845538,-4.806202323569701,-3.1158143670347256,-4.256945781754464,-5.206140439600629,-6.019160552052059,-5.204842250461519,-6.0663964864697055,-3.995447038318949,-3.7768375897199298,-1.930126412404495,-5.5553942228560445,-5.235680082387729,-3.682911706225227,-2.6829325203861214,-5.973442950954691,-4.801588929915575,-4.61713173088576,-5.719742349884657,-5.137939265592678,-5.7093448718181525,-5.51103088904322,-3.5508024537924334,-5.101042985774892,-5.826919178091905,-5.527398097827606,-3.2021134006842527,-2.4448800816584866,-4.8072521934540395,-3.9201529059632536,-0.37181576203115635,-3.7281220095657335,-3.307777858400884,-5.044630941681015,-2.3190106235702106,-5.678221536741531,-2.887998877345,-4.679475188948139,-3.5583136885555793,-5.407253076795021,-6.011311306318928,-1.24304449564261,-4.832066369877411,0.17810246341432825,-5.557683695462878,-2.7029895919563525,-1.5209223291693663,-5.893146957556641,-5.841438066176112,-5.564761765534386,-1.4023970375360748,-0.8105062057951788,-5.944214677169079,-4.322037623496395,-2.54901516874268,-3.148832980742577,-2.183844162766721,-5.747079572972115,-2.2163350539406985,-2.315568528509787,-1.9496969735230925,-5.416625389217618,-0.6745307551635991,-5.005983195164623,-2.318904631899865,-5.143805770489183,-4.257125383110664,-2.3911930639181014,-3.507236342401339,-4.366615905547052,2.3668846885761807,-1.692700027331812,-4.672309878517789,-4.807575810761233,-1.3251120939209655,-5.0698243577126085,-5.524169987145405,-5.115702349118141,-5.578277582368033,-0.5907659688202502,-3.524828075794361,-3.4443668301852868,-5.133814816533981,-5.310089154622036,-4.541123819407014,-5.679327378115929,-1.3157965150746547,1.1188197307511871,-0.7348479761164713,-4.227519505338933,-1.7991789091050727,-5.325571917249898,-3.548520931036295,0.4502572277340841,-6.078865936785135,-4.31218138547031,-5.5361459835834514,-1.6078955819088143,-0.3756660053405747,-5.090134316318558,-4.766754890290387,-3.059468213606703,1.0531929410561667,-1.7169276225344117,6.34684056638469,-0.10216115938828428,-4.930587664425153,-5.116730825507709,-5.522937393647378,-5.7280198563134235,-3.9173123232678293,0.8962413747652597,-4.380292963142246,4.29747710798415,-5.907949574375818,-5.234031206682663,-5.367500678211361,-4.574683082132723,-5.691209355776057,-4.616604172595481,-5.282138183331999,-1.5638146525922125,-2.9413529667909306,-1.1370670823120386,-1.1840939549876608,-4.5417961405256015,0.7766183132450932,-6.049447215674332,-6.1157121502044625,-4.484104590853649,-5.476926291624737,-1.9433582190508425,6.484207197175003,-0.7663644491239842,-0.6233707624558621,-6.1058657990173435,-5.988695260896692,3.3440482662765785,-4.5747560833617475,2.122583881044919,-1.8096458993119564,2.546886754195631,2.6511594541284524,-3.2622532871422885,-5.828209313209872,2.507441931470603,-1.9838121867419476,-3.5863604232848614,-6.195848697860023,-6.07829881590353,-5.567578696690942,0.6690474448513853,-5.527985649345215,0.20403398806517245,0.1718088302032069,0.43228844098751135,-3.4504387783579507,1.150101939299047,-2.931265757666346,-4.683413920332546,3.644908033805346,5.0621215782984,1.4073208157163895,-2.411771289030542,-5.996513821075611,-1.7851847174933053,-3.8977694191339056,-5.814062313287569,-6.095258247128493,-3.6718507311212463,2.2517370674323214,-4.056456551321912,2.759772464020963,-4.4561937830227185,-4.484389105584223,-5.300426539290397,-4.202563390663497,2.8444220320242355,-4.894153066075588,-5.553706771006812,-1.3079422716096225,-4.223709693595725,5.054426972706645,-0.6832034587497053,-0.0032251845126082222,3.3135648980836883,-2.020609672976929,-0.32069459165876923,-6.023467053644978,2.70121912957173,-4.639574006471734,-1.1120594014100016,-2.410923344624418,-2.2459639883609746,-0.789163469198861,3.093428366419904,-1.6454282869339614,-5.9340334867025994,-1.945477455534924,-3.845785000158571,-3.8788077337396363,-2.701532345420511,-0.9798164539345642,-0.07864606597291944,-4.489402700039428,-1.0528275500927944,-4.983858009281594,-1.986102554584125,-6.048426944927053,-3.2150735808304374,-6.233251133657442,-3.9517058961950777,-4.9889140957682265,2.7008355168026683,-4.521253997416129,-4.892682327458823,3.403538987196698,-5.980030420340367,-3.7680358535117118,-5.943144967180854,-4.464934465613639,-5.54508244070885,-3.130983935379309,-4.728845585323738,2.382078668653557,-4.728172225875892,-1.6387493331611436,-3.4933792063949722,-2.600584739046517,-3.8340462864375953,-1.7340660170786955,-5.055918269784101,1.3450397876925084,-4.995702768725192,-5.4436074441237805,-2.757588359994728,2.326824565834734,2.804598128736046,0.9082160590962927,-0.5346029178371732,1.619718711392293,-0.4762350430076761,1.1025124066405614,-1.382253339593033,1.9474014703461544,-3.771804052645308,-1.9938955856703384,-4.850020543768397,-2.8004444358667286,-4.5469252663265065,-3.2483104582814355,-4.094916607629404,-1.3059734681752226,-6.045901625572236,-1.7746652638346831,3.22207747162945,2.0470067228230615,-3.5128593603172655,-0.9400609170613176,-5.608080797953031,-5.702070650680201,-1.7979434193785984,-4.567963931516741,-5.445312754454874,-6.1356249525916065,-4.65854772199399,-3.8038680092481996,-5.71895649548316,-4.486096013652918,-3.869911985505622,-3.10437281126802,-5.8894430263553605,-4.491563873935565,-4.673588219184474,-1.0854504329369528,-3.373566799284277,0.9163945062398188,-6.1732513887998515,-5.016742243244215,-5.85001069752785,-5.626452151583496,-1.9211230017045962,1.495433938629922,0.4015216656045165,1.944510291608669,-4.2148431719605775,-2.608700301136393,1.0833193199090294,1.6587062718660777,1.3652264700963228,1.7555683194882108,-1.5051778957487505,0.4556388317791044,-0.9628029106795367,-2.923738639327578,-1.5424836664124797,-3.921363308438095,-3.4431636889800035,-2.3238927579026925,-5.330654120083342,-5.292853567845029,-0.09755441323567199,0.277010672938067,-2.062140997834865,-4.7982275059331885,-2.939514422252512,-4.788690817747327,2.5227657093606344,-1.2559542824873304,0.7364287015398865,-1.0673323125981844,-0.6528252891299361,-5.802896379458038,-3.065385589742517,-3.5259994175389346,-2.0855158685117243,-5.340377612196404,-3.167032314969349,-6.17364829448363,-5.837556053997693,-5.823283684295242,-2.710842928096255,1.3490693611077034,-2.590785029681946,-5.0422769841943165,-4.856717344437356,-5.885245846908111,-2.0372274572105344,3.0722661672243907,-0.6935017202478316,3.3150884091115724,-4.436941411787594,-5.295265864293768,-0.04545438766330846,1.4584982937825133,-4.325911767108648,-0.8717710820964873,1.3657168739773988,2.4844845722853424,0.7906318016696077,3.461272430370606,-2.533356914696567,2.4188218355207,-4.51649915712183,-0.8314752071058047,-5.357252142272754,-1.7514579575372544,0.6669927085674998,-0.2185743801337735,-0.2951246667537447,0.8778089716553062,2.350757450974216,-1.7227874284378493,-5.3653441462938565,-4.7241508381109245,-5.572626179007757,-2.374558599558527,-3.757061583339641,-5.2911243444157545,-5.393266271486237,2.015919194317001,-5.512229529603494,0.26472540700301955,-4.694746079794579,0.06490288036516749,-1.5233785783587386,-2.8737810002696826,-5.525797174542259,-1.2282520272700017,-3.2686454781922025,-5.057271434941439,-4.00323097479039,1.292394667110842,-0.5382675762321366,1.9835491637866012,-3.0870275659497275,-2.5815086476891005,-3.351961702212487,-3.045352665794742,-4.28169623333584,0.24896631751542267,1.056385081010052,-4.430946052666844,-3.2575315775806204,-5.55298655119302,-5.048709079003992,-1.2004333919874972,2.293482385272378,-1.1049328165176422,2.68753263557063,0.2943117853518618,-1.7686820401037575,-1.1248768872176893,1.155523965348144,-5.180897047322631,-2.1416638121662435,-5.378068325079866,-3.9857845794652977,-5.675117498898295,-4.285144186202082,-3.2979298988287633,-2.1727253069210093,-5.451303906992884,-0.3473163120595283,-0.9755384238401686,-1.6351509814977983,0.17384451091905978,-5.5183570887290205,-4.932450815323287,-5.688035772104843,-0.3330027396717878,-3.7692589793882956,-5.972513648636129,-3.2540870166625435,0.9891723743784675,1.5396738612623637,-2.1553121906321837,-2.467466684715421,0.8593560412357549,-3.6816830088868415,0.7325380206804836,1.8825889667913804,-1.6388483588239657,-5.68447678749683,-2.759509805369699,-3.064588598111489,-5.72190953294928,-4.969351746540503,-0.013849072138205586,1.1148118303889978,-0.6290953054803297,-3.3723529429154815,-3.0494789903075272,-1.9632087939287646,2.525315187270053,-4.336056668450484,0.16204959647863354,-2.5637862310212776,1.6352805644392088,2.31314407375993,2.934470671069334,0.04082202679087729,-2.523307372946899,-2.7810142996688976,-5.26012001511965,-1.4982195771014784,0.8196544181666092],\"z\":[-1.3340235204137028,-1.1940964043369695,0.07621499003553361,4.488425223722241,-1.254683389804806,-0.06239546659913493,2.1133699758003117,4.356507166018105,-0.5264485912598873,-0.24115618108011358,-0.24609718699025002,-0.6793726919410819,2.9299851767767184,2.95546846325915,-0.09924317707715827,0.43776253173908314,-0.5532556626839095,-0.26397787591393607,0.8628069719267629,1.115411863558903,1.4915516783397111,1.1230392541147214,-1.391542079992351,2.5822687885213824,3.7178234967517145,0.1733758885097533,1.2453717616917632,1.9888198109518587,-2.346858513705224,-1.5299796128792,3.4727712741233847,-1.2884124623545354,-0.07250216235373907,-0.5219951515229591,2.2281075762732834,2.8215041997000165,2.488496506238753,-2.39743601252108,2.013654133537014,-1.5897027480985009,4.515848174874382,0.23819079017635236,0.6330245401822109,-0.1500002439203197,-0.0403452084564547,1.9612855179155648,-0.057705282075886766,3.9361230318537213,0.30949098303565903,-0.04160887048923607,3.165907595138036,3.3950615083969202,-0.538974585491399,-0.06681566030936452,-0.3998177371647025,0.07482933942311286,0.9724181378114358,0.6611039423220977,0.7174742134421289,2.7323111323779137,0.6471519409889862,4.4836601299588335,2.9867525118104337,0.42337375024904367,-0.23265871445145767,-1.0476196014887806,-1.0660407794562223,-0.222551503920275,-0.6651767461363688,-0.7814056892324039,-2.6659899417290744,-1.812656841971735,-0.7451515665395483,-5.940764393675582,-0.9659824882880713,-1.466748261922648,-2.445826716950691,0.5293949792800805,2.622746411544585,-3.338782006367424,-0.4925038780928984,-0.3406229951302454,-2.094554888263841,-0.9120129202973755,-1.0822451520923553,-0.7415515583940652,-0.8867059097565604,2.70197838626261,1.2279259498688007,3.3790405918110267,-0.09406513150994456,3.5004211874651343,0.7658045324157464,1.2780615973641967,-1.026253969862248,0.48061962232546573,6.754725852574891,1.098029308560817,0.7898287007247236,-0.40128336408635806,-0.4585580619547231,-0.6783980788607598,1.212736277457305,2.0076978540790678,1.003951233058745,1.8040844441569635,-1.5287959095577637,-0.7593497230258524,1.9650054239652746,1.6225404622586155,-0.5518911348918221,2.698895581447187,0.12122953765261653,-0.1417288883972829,-0.3296269121305529,1.6407769785960062,3.459334926213566,3.0182721358712366,1.8626792622938568,2.239078769799209,0.9323438453639649,0.17112600249491955,1.8025491953026411,-1.635427833706492,-0.6038829610282587,-1.183485243921952,1.382457768515841,0.2424167197098048,3.585793989166297,-0.3133535417001254,0.6480460740362606,-2.0484360347831947,0.6414438202279877,0.32234628536843335,2.178477272885272,1.2221934889942567,1.2249142553516537,2.390773151871068,-0.20035939547407694,-0.6135848708883936,-0.5449289771158192,1.070864243351139,0.38836406471629725,3.2749494764072073,-1.09399699587439,0.6062339834817329,6.6407616355391275,2.0545980301491453,0.24446567123648813,2.2821148427087827,1.5275277995818175,4.191751395435812,-1.2604950432218593,-1.129370754613851,-1.1623916844523206,-1.2665858659044593,1.011958259479182,-1.7408734630205716,-2.609944908683869,1.5755741548998565,0.10658795876644281,1.0428004477225414,-2.1351305757227927,0.20475197787142252,1.4710581666886253,2.947266991887819,0.8935734353151675,1.0788505815487641,3.2945070606838556,2.758656715161527,2.751955237226532,-0.6139314736581873,-0.5392733025825888,-0.006361919323886334,-0.2491224917430139,0.6431823899711823,0.9257711536479042,0.9512743929429703,-0.8427716073669476,2.857877609150767,2.3381967250286655,0.47011056650119976,0.7309287856781231,-0.3847055968911162,0.4470574618299435,-2.5100074205376695,0.7311876997372729,1.4053315615481021,-0.8764640973754153,-1.173845644203772,-0.9669402217946771,1.731230018803407,1.2030427359251854,1.8800868578741488,-1.2457137496863209,-0.7673516071082637,0.06651820784009978,-0.7166853547560988,-0.4295906167573557,3.043830251892652,-0.7218918177831501,1.0179767349572344,3.892065774301863,0.4524130658238917,1.8949091844116381,2.3694650105524486,2.464879176993645,1.3992710222184652,0.5618813963388145,4.179906860368787,2.170295391801329,-1.0229674720246724,-1.2181925598048555,-0.33625458655732554,2.9727765137141247,1.942198484428738,2.119361033668022,1.7060669486004396,-0.16211039705176303,-2.1306899743486336,0.7894983184756572,3.08726101094599,-0.2167198738013815,0.33795551039640315,1.1358255351108628,-1.0596005568514073,4.755437904256052,2.3123445171832464,-0.39111724547902177,-3.6229601351271943,-3.523291741093812,-2.5658802789832458,-4.422405183438947,-7.945759832497235,-8.427570533739983,-1.3394822162724778,-5.5438749578922755,2.931878916367419,4.589063718450024,3.5313945681399597,4.645874015241678,3.855195952712361,0.7814905346203661,2.479609211381528,1.7169030639849927,0.055394010385498585,-2.289053551946973,1.501503943253554,1.4965763136279604,-2.2282412243782423,-1.049387309249339,0.21568743935976242,-0.5950809918387949,-1.7310099458502703,1.2590133950026299,-4.819560242211946,1.491945783115365,0.639153028639436,0.2307183079431149,-0.306585799838838,-0.4351881087420155,-0.4575838778770869,-1.1955629982471037,-1.5899536711347326,6.4862199849456355,-4.711536135365303,-0.0863115689915211,-1.4618514291574602,-0.890088684690499,-0.9072198611976857,-3.256455259890783,-0.9353880029858932,-1.4848007686437874,3.7496444740413435,-5.499757320574661,-2.6230886497026855,-0.9907271960522145,-0.983441359380751,-1.3406044331541482,-1.044512063407134,-2.2176348635425525,-0.8082858988840271,-1.7982034002879976,2.1835520410050178,-2.4961849814870747,-2.185810788869342,1.0530921939841762,0.2894427219466999,-0.5416027112270051,-0.34996593597512193,-0.9066090211202116,0.5136382254907514,1.0535762066148993,-1.9081435627350236,-4.7339976625328095,-1.4010939566992249,-0.45964837607680936,-0.988117998694962,0.44939888432780584,-2.1349716781567376,0.13803268493627235,-1.5180918822474674,-0.812371808027386,-2.0626647906352518,-0.9961451921603329,0.7130208838085929,-0.981261656535228,-2.968042923138659,-1.7574732729462814,-0.8987898568363776,-0.6240132593375658,-2.4713607151179158,-0.4811105245438205,-2.423818151218718,-1.6352707862110507,-1.562531075745937,-1.7188316603327196,-1.3955591720280742,-1.0172959058785398,-1.155523911975108,-0.5501035914345299,-1.3321079454289673,-0.6871764343096443,-1.4170221703273216,-3.101497012136488,-2.980260756014216,-6.165374670836365,-6.17284153469204,-0.695335694028202,-6.170352518693179,-1.3368745527944828,-7.544331893875335,-0.7938522024387369,-2.8272655618008278,-2.401540420704796,-1.02227943296503,-0.7423659747748784,-0.9595295882354418,-9.553905189378064,-0.7958140268653878,-2.7513157444466536,-0.4194438025774999,-4.666995633524373,-8.264419728775978,-0.8222688132451372,-2.08021876911129,-1.2180541024788973,-3.8415534304432053,-2.747422032460819,-1.2322996381979407,-3.97212670275963,-5.71823432437853,-3.3812910948498995,-7.864800270356601,-0.8939606818599218,-4.52693842472898,-9.322783235428956,-6.682152123337526,-1.2062719542819762,3.220836693737303,-1.0190652036017103,-3.0103533437208387,-0.3057954993743776,-0.8958659573960579,-0.4764965309722428,-2.052987374249748,0.012057751876161102,-9.295143871166943,-2.15387728407287,-1.0709758714712097,-3.676957815722421,-3.29875383442475,-1.3293918603972006,-1.7058606972882993,-0.05620345134180544,-0.7748348542132539,-4.693167502608112,-0.48149193902586435,-0.8463259834308959,-0.04234798051242834,-1.141972821143667,-0.13482807553193818,-1.0569104088761223,-4.373141934486322,-5.465654294261098,-2.988943283311643,-0.9847885522295206,0.18962285967614764,-1.6755904279365927,0.423623520990716,-10.835615059471284,-1.1418501930058262,1.0527751066773585,-1.2285482364605758,-4.416913878901491,-8.39056284765027,-1.6297186210025287,-1.6031302410739634,-6.241017644451344,-7.6582004000524515,-7.017912879057808,-7.407374343501934,-8.709513699033366,-0.8041248861788425,-0.5805366879575304,-1.917996779564476,-1.0479356982200196,-1.2877202803870622,-3.5746307369063857,-0.15017579911006185,-3.3957535532220318,-1.0033932367788467,-0.646169341062776,-0.897004590689604,-0.7921558692628785,-0.7665252071903391,-3.552365820718241,-2.0180009223071145,-1.157575876496011,-5.135440573125272,-7.624064727925679,-3.9462549071676314,-0.857967807332993,-6.784219689007679,-0.9794426032182122,-0.9863528509743353,-1.788906559080697,-1.6905862959374682,-4.536203151206932,-3.7848373025631616,-2.1187507883511043,-7.6086063859935535,-0.9718387466567983,-1.292011466686275,-7.68262361715216,-2.4232052576869196,-0.9037091606802369,-0.6070305873806019,-4.447026915618745,-7.870753973831416,-2.172718564879043,-0.952908116250553,-6.825766174980145,-6.749537042606171,-2.105518051807314,-1.256934488462087,-1.3415033053693688,-1.2252277590033223,-3.3848448975835645,-2.1417363823077014,-9.229641394215752,-3.8564726730297187,-4.3376464875729885,-1.738835398519894,-5.1453407452477355,1.4458334302272198,-2.438360102340548,-7.894508026186919,-10.424610080200809,-3.626588853679023,-2.963913111545189,-0.9947302482223639,-1.5790842095782436,-0.7735286749437923,-1.422625200220755,-1.4458973528924088,-3.0328767243890864,-7.30524223852776,-0.2652737360256335,-1.1795995041801728,-1.0633466326587566,-1.8038684859255074,-0.9162655573398331,-0.553102660416094,-8.271680970919277,-2.259336678806911,-1.1421101225189643,-1.0452128593107428,-0.2940307746718598,-2.6945890129287124,-5.226564927463548,-6.5967594226185104,-6.300949325843172,-3.8838162853165112,-1.3478577332149955,-1.322441043562991,-5.127269294934872,-0.7875289453247195,-2.8856210496869523,-0.3658572441878692,-3.6192353374851067,-2.134052345564269,-0.34941589342695134,-2.923392670363052,-0.9179770835830603,-1.6538886708315719,-1.6790874110778715,-1.8654653249138762,-3.863662263530677,-3.001495954091081,-3.9104338710999422,-0.6048518757005054,0.1521219228664936,-0.9851913149282704,-3.755937558672099,-1.3198430138265829,-2.5794991737350834,-1.370370284150494,-1.115714159311701,-1.1224459428461093,-6.751153573299959,-1.2491828600159773,-2.167223727083302,-4.142770332886732,-1.0229080883028359,-0.6549733343048071,-1.2226398317817302,-0.6990469105674882,-0.8005079856318857,-1.7528960957447992,-0.695971974081722,-4.568739695002435,-0.8628296995867781,-1.827023054153282,-0.9285992044170783,-3.976575185328844,-1.3628294303316997,2.5321271342848353,-1.5873521766232506,-2.8239375541930665,-0.5647797912597772,-0.5334265619680176,-0.9970140374788761,-1.7064998494728134,-3.9601307003163058,-0.05640745666190842,-2.9958170900098273,-3.1454672562018366,0.20173079014639736,0.4944351672775445,-1.3884264896633678,-2.079365309574719,-1.6358018383673962,0.11280143059951726,-0.7588043773341845,-1.3595868891265657,-1.3493488798787157,-1.3122722370092956,-0.43218373855310693,-1.88532334713939,-1.2959753701359442,0.5122586430589096,-2.6925456574694375,-0.8138786758049809,-2.8319347385342026,-1.3246934193463942,-1.204334225007993,-1.0141582802662936,-3.4150639711642032,-0.6514859815373722,-0.7232558296771748,-1.3123057461147558,-0.7254711873070592,-0.23718651632759857,-1.2625558927493852,-0.17442479708944522,-0.429128120273035,0.7528887271782078,-1.774469172940895,-1.0716955730955995,-0.2801181291287974,1.3913853482704126,-0.08730366480313453,-2.4473150031576507,-1.1751923347554754,-1.0982957025112359,-0.8846152772717939,-0.7691602049490037,-0.8457638770920802,-2.5812034381761833,1.3601412622795053,-0.11433392649107268,-0.4652181371532242,-0.18777829498771278,-0.18952680148535528,0.21251536131542872,1.2272249499162573,-0.38822450120315743,0.07348198410244965,1.17336288720322,-0.314355230816398,-0.922876709694156,0.38840744794562315,-0.31614049328802935,-1.4099844017271062,-1.1717575221996717,-0.7613772351014424,-0.687376691819484,-3.6724406459892283,0.22399569643601971,-1.9565008846211478,-0.3942287567511843,-0.06640459033717791,-0.4254025810951697,1.7379436098293168,-1.6673791695169458,-2.1177811534307,0.2788224435881778,-0.5472018610416706,-1.071900516101754,1.3623544419173534,-0.28601642446852366,0.925025358947396,-1.5755060184679819,0.23629100259408034,-1.008603297795518,-0.6611715401196397,-1.1031591027283014,-1.5968151011544272,-0.5198564630496684,-0.08200433982146951,-0.8955634676984089,-1.0460760350623297,-1.7086192110245029,0.4297913319409307,-2.0742582753654015,-1.1369389761894249,-3.7464261794644726,-0.5361925178007307,-0.38582816496404626,1.3446702881275987,-0.6430715269182139,-0.6756006976840433,-1.606277059336932,1.1597506820401031,3.404500878098999,0.9652053202471623,3.1543840949613515,-0.40589232055661956,1.2550804235898836,-1.767029464132865,1.7917155912396834,-0.7281772677815722,0.3719992779266043,0.4161605153087856,0.619726704250726,1.7177361119066743,0.4182075165619425,0.7484402192446868,0.828663685594889,-0.7746679786494428,-0.2150311733361772,-0.9073518487806441,-1.2769425841563393,-0.6766684139107114,-1.7467857007949283,-0.7270186274524726,-0.11722341660556788,-1.6169094072073467,1.19121072385769,-0.411974202380915,1.5199183736835513,-0.4068119029527701,0.4488199557664122,-0.7949225685979672,-0.8020794820125541,0.9779964688376379,-0.1992706254524486,-0.4219938154781461,1.2571163490827009,0.5700646142054488,-2.124733368890957,-0.049942673131635765,0.6151833022017142,0.42610117230542266,-0.14978153590380192,-0.41432194874848854,-2.573848581545512,-0.2024744178651431,-0.09513756716024598,-1.0453543388166,-0.6723798260622753,-1.0492969819248879,0.2332960391790239,1.9481812594245551,0.8165758799025047,2.4006278844353544,2.03590531484499,-0.5356676751540767,-0.09419145161475174,1.3319402389998687,-0.7010146429328774,0.02156803539750736,-0.180081375567643,0.018433182913456206,-0.8478474011652439,-1.3232602626697973,-0.5446836959540329,0.07101876085509562,-1.7547119034650254,0.9054412541416812,-0.05322767529775457,0.6059329986982542,0.9209971482743993,-0.7093642548633071,-1.073591528298155,-0.8897364462295799,0.11306384237143043,-0.07739126583317613,-0.9389825455056492,-0.15400652686583732,0.052059752635199165,0.06146389128541256,-1.3626838530676542,-0.4245813188591867,1.7333262967921341,-1.6127996645061404,1.4982070359958668,2.6096520441250544,-0.20517571566840034,-0.7466452244183598,-0.5486082647078063,1.05717826294339,-1.0665063262292538,-0.41680510393259795,0.5878922002977708,-0.29464207388572244,1.0374496277133507,-0.3498072521545784,0.3931653103376665,0.827257961583177,0.6565590088748315,0.07392459891879506,0.3446754320377701,0.6562142550104075,0.29448363391987054,0.5838334946061344,3.1069322460519517,1.1772915238731847,0.8840120089065139,-1.397446014595077,-0.7733888255259951,0.4656161188243167,0.8487091198462159],\"type\":\"scatter3d\"},{\"hovertemplate\":\"class=1<br>x=%{x}<br>y=%{y}<br>z=%{z}<extra></extra>\",\"legendgroup\":\"1\",\"marker\":{\"color\":\"#00cc96\",\"symbol\":\"circle\",\"size\":4},\"mode\":\"markers\",\"name\":\"1\",\"scene\":\"scene\",\"showlegend\":true,\"x\":[9.810465273664061,5.043194224714423,4.399569915965951,8.042968603983423,3.732314632775308,8.014822564440905,15.758259322571007,8.145466803443217,11.029695040530255,3.3562096928936107,10.894969544768434,10.368099562284398,19.89190382503503,8.258993013213862,10.663583147108149,4.019997723168381,6.6330457589831555,13.687371003672805,10.19204858304666,4.703262493432989,5.4040075570622035,11.578710210996585,6.582894218938014,15.372602132289071,7.724972240339771,5.6620800447127575,20.096448670164865,8.292304290227536,18.63391302184481,4.728430043977101,7.755818928395363,12.18871840238403,7.353784713504646,16.920291062041162,15.660996616396275,15.916290128697385,4.7945589509864694,8.927086562498873,16.10189182553474,4.26747506687762,13.922146231528808,4.918547017721966,13.369947911128696,9.308457099550637,4.443326409668729,4.217839825159755,7.900018556982863,2.593056949651323,14.018199077180704,9.799119186592705,3.463002996969523,24.943029775844234,7.412609182069462,2.9987888067796282,4.80649915943585,7.757595063078374,14.765478071824067,15.806433015841156,12.686059687462869,13.234913982354552,3.640176577182589,12.35967326516365,2.8594528458306776,7.9724843035833475,13.86787252664803,4.585353809907553,19.394348553344855,4.590560762431041,9.398090408855174,8.297452068973818,7.916357586794522,2.7036439066601634,7.406016082662387,15.846580851130636,3.754796999513034,8.97660940857819,8.61788863986357,5.566862972926012,7.52285406071265,3.738165580663246,10.030246635626689,6.155099471260762,17.493283226696583,16.419104018402184,11.142366821410958,6.608241004028233,3.955786493467101,6.598148336530501,5.173843371103049,4.551651457490221,6.21596002996125,13.68821369248901,6.803297608659924,7.663832467506195,7.803389516260949,15.142824199315726,7.360953891245525,7.32337631895484,4.273414293029908,13.108239056301366,4.567018908971057,2.3618772005726814,8.159120252702406,6.838233776610519,6.424428741414068,3.502930216220507,8.834644446233398,9.754216576811372,6.531783857916242,7.158407107674554,14.323345799081592,4.316814452004007,6.090862488089938,8.302125166438955,4.758589805257006,9.234984899884617,8.549116879466267,6.099991526306846,5.787091496201697,4.7340178377304,4.062413663160579,2.9610483308126923,5.896749350786834,7.275083324180204,3.5835345597839643,17.15813839780651,19.985554466746905,9.20586102872869,7.277580385204308,14.577477989327546,18.36518918635959,3.8600735960096397,17.06806872987766,41.02273638267718,9.375375818862208,24.598504999809474,7.137867797294779,15.987875614492488,7.192823078419029,11.680979326164964,12.685075278158957,8.76765716135815,6.127019163842344,13.19556059601746,8.703405553236873,5.560650118849951,6.383330453850996,9.08037476302924,16.881180803952503,12.58484896309674,13.34655038105545,6.898765836006179,6.542806220403208,16.38931875581017,16.86377698091443,7.764485144803575,28.981569232360446,12.640564877398493,10.840850456077927,9.888328556704545,5.2877306956295484,13.872493236870072,5.202991500075761,15.542370171816488,7.392299503401123,16.498958207772663,18.35168308974493,14.19472394724329,14.875237341167054,10.530341836426398,10.136531962307481,9.917736321885972,19.190140925756033,5.076078645490631,4.849812675899734,11.637005511832227,13.561929344381422,8.744090134056194,19.511980540307917,3.9734077938899164,10.262916523426153,6.467868663530457,8.817346930214525,10.389376288192956,10.253434590677596,13.462598185046074,7.722651381193542,7.90592852952684,9.312665747050586],\"y\":[-3.10344558593809,-5.369292653696099,-4.278896937682754,-3.124066731642513,-5.8493545963160285,-2.2887072780346074,0.02711993176652015,-4.857909116030263,-2.2279981650140708,-6.006400969316865,-0.23244619742991154,-0.8757678997102528,-0.34989099183960237,-3.1937900155743124,4.063287508567038,-5.069693053900693,-3.7403954896503526,-2.9897487123302167,-4.194922807998222,-5.854949228964011,-1.6601548574066232,0.30772970242491615,-2.860624681791315,-6.691320021044666,-1.061121283863555,-4.214707716862204,0.7095580649830248,-2.882252187836875,-0.8388935777875052,-5.333450749466327,-2.513709744871246,-2.8103036262651035,-4.387370340705793,-1.9492298055625774,-2.328135726764827,4.342617013808246,-2.754203207194208,-1.9333277062803698,1.2898306360520182,-4.593615449337368,-3.9082713281353976,-5.416165488453904,-2.1128321716657212,-4.5759063018863975,-3.857711101948823,-4.958775427118832,-4.470561503515847,-2.841851336660348,-3.772118451724475,-3.1505937461676035,-4.085898042203057,-2.3020100695864376,-5.239129603692301,-4.701928064792209,-3.683262644989397,-4.691201490643623,-2.959703805173307,2.0340630240185424,-3.8031888708774932,-2.1054121557699506,-4.997080178789019,0.1717127402922994,-4.685866570159002,-2.601792556720338,-3.099261821385561,-1.236919247708116,-0.69705874467305,-5.3212961063891555,-3.160189314447579,-5.184592866805111,-3.745317069193936,-4.488260722225508,-2.0155606807332003,-1.4628394846139683,-5.093457721196465,-4.920963840888193,-2.242331411301625,-4.023151451608296,-0.5710132796603553,-5.244269267895809,-3.2556397851371552,-4.422817526943058,1.6057070787343923,0.32885265466844443,0.07164350469282861,-0.6918613273910018,0.5461906800899348,-1.07830297081642,-2.361182471768362,-2.7579179183372506,-2.3677628569748244,-2.7086022113754886,-3.7297635050105042,-1.7141898958542485,-2.3344624029429357,-1.2732756933335316,-4.738268177654614,0.5471813792051655,-2.006014140750629,0.8960382590736519,-6.058747343763087,-5.961908058788974,-3.8631236118853214,-3.938734868244453,-3.9408554799808577,-2.953705798301312,-1.746312112783085,-1.3462364429039115,-4.47138649353364,-1.0656532424833391,-1.389634061585758,-4.244860629703234,-2.6943879908616526,-3.3103979718422027,-2.9847706041842117,-4.264345594496984,-3.7409413844308053,-2.0434696490791446,-3.962766401243509,-4.322372869155385,-4.346645477913079,-4.981635213474476,-3.6708582898320596,-5.4275083664152275,-5.290454773618908,-4.899757335906096,-1.2035503284184594,-4.325665867448169,-2.3768519886376818,-3.0662541870801716,-3.748605893771203,-5.2546856090857235,-2.4027626800755826,2.9052531307420772,-1.4617143639992236,-3.1956874061227754,-2.2310051497268346,1.572600920546723,-5.533668623230738,-3.6403678872599454,-1.4120683866686656,-4.681949191760062,-3.6883902469243695,-2.7155490898436345,-4.172872476064391,-4.494111486394626,-3.5645844638145294,-3.675616841219202,-2.982033244526816,-0.2804006231701445,-2.018448574461463,-2.4238064271439788,-3.3420583734426677,-2.6704469414519414,-2.546951229324216,-3.852555722430709,2.41466378000739,3.1424306671309203,-4.744830175824024,-4.607753905727951,-4.957109875112102,-2.3387851177341434,-3.865958099883607,-4.597954235434686,-3.014323061324314,-1.0765811386192734,-0.3884641736698873,-2.9624318923637305,-3.4421966356604266,-2.9874764854877762,-2.2781863979123926,-0.45815285659250055,0.8432918012953632,-3.5014861714349945,-5.371775180211959,-4.816473829460152,-2.252217492850909,-3.122708997517614,-1.1011118425420943,-5.007024992188758,-2.6799742133842392,-4.928673658146591,-2.3141192901359844,-4.466488153675003,-5.969829364240194,0.08233609656033397,-1.898663074076765,-1.1383823412759078,-1.1353819135584087],\"z\":[10.387357399667183,2.686904334495602,3.017129930983265,5.807924543076413,4.669315222775302,3.212777498229392,11.19551521449599,4.016602162869513,8.550596741772017,2.390277103304898,4.6306375686121175,10.0638353132027,17.1324833695721,5.4384848055399955,13.70674448949399,3.3299813338788207,4.375081741697277,11.254198522446671,7.051646013007589,4.133195524429299,6.185042112801072,9.251926748592313,4.690652298368765,10.210120668101673,4.151405918187151,1.5618483578646218,15.728129937703036,5.67147145635756,16.081664279250266,1.9638527840804232,4.495951579605142,6.487687770008457,6.500464523338335,10.632055234104973,10.22566261177128,9.77029296421527,4.332501913210795,5.351235033580491,10.340791577557386,2.8608526348577468,9.204215542607276,3.411494754986353,7.067462110670404,5.905224674516887,5.03015019005662,2.29979107061927,2.918242825179395,1.3126774027091492,8.282770427536931,5.8851847785655504,3.4826223216384333,19.03485061390291,2.675449446493891,2.578059108555573,4.147166715307632,8.199677851967534,11.561583885785764,15.019476548171928,8.946074329974987,7.827491291872202,1.1142201827099183,10.349569833600004,2.399555186694588,2.14002787890583,12.369615393898215,5.731564936889635,15.46177604828312,3.397899890733419,6.303662769005831,4.503402211607278,3.0435015074731195,0.12912639541845905,12.724561119213918,9.420453375766563,1.6117928782856008,5.196996304971301,8.059556110533121,4.498651767918044,2.97254161255999,5.575814883280881,6.89701042382548,0.6710083833389089,12.634330073912233,12.096763255975928,13.034514892459551,4.46387150799466,4.796717118132007,6.713030400284139,4.904898247990381,-0.02909161662182391,6.375126085524928,7.26108862489806,2.3802997050188024,4.165149792383056,8.021374403318365,10.970888581333462,8.084258610558622,3.3781702899040447,3.5698981036621658,7.549148029353235,3.757805522709516,2.8742430562070327,5.093039956586599,4.532582707760341,5.204629159477848,5.416765221914258,6.087153717350227,11.9351914270005,7.107781787636088,9.3827785361321,11.505015473451015,5.517724112854217,7.445369911312661,1.9624501372108598,6.057741610129298,7.311375360641044,3.7427684624086135,8.54867783360348,2.9353196889943214,4.1349067090530855,4.162753892603103,1.2782406081902904,2.2852338417401055,7.758273062038469,4.9175161081845955,13.455060704978221,19.857322472011333,5.875407127538546,3.520867012213249,9.780615014887225,17.163063706908183,1.8260510731400568,7.057272908178111,30.236012058141714,8.765648281694544,18.157990610859265,5.95874059774364,10.36306459858674,4.97405787114384,3.019468175883315,5.329597199412205,8.700057748694746,2.9787503434943914,8.033607230594535,7.448031069399486,0.732088437775987,7.2587592195170645,8.717387776251286,11.463520327299697,3.0375459383799748,7.865979588195955,9.06591843686981,4.864689959952219,6.637997119953798,7.645292820536603,7.518575930014736,19.23947300317626,6.704008875410033,3.6313615769233256,2.3057453488103627,2.01044719610514,1.5131967503939712,-0.8665477166470125,8.88149134002414,4.072747416969948,9.348750142848967,9.443250481200394,4.433731830655983,1.248073517643392,3.535361077255802,8.057837387779726,4.544452929741475,11.568497745712365,-0.1180501463792292,3.3049159362636296,5.259138464000058,0.6159767078903117,6.017224538984062,16.370063629409138,2.0068274107373885,-0.35076285196579643,4.9920918209845,8.111349344038386,2.503952489024543,1.8826496297687245,6.393240214435188,-1.0175138161091486,-0.17971977771346084,4.599405935679476],\"type\":\"scatter3d\"},{\"hovertemplate\":\"class=0<br>x=%{x}<br>y=%{y}<br>z=%{z}<extra></extra>\",\"legendgroup\":\"0\",\"marker\":{\"color\":\"#ab63fa\",\"symbol\":\"circle\",\"size\":4},\"mode\":\"markers\",\"name\":\"0\",\"scene\":\"scene\",\"showlegend\":true,\"x\":[-9.836669541947156,-6.719483744191864,4.060489849865685,0.7479285390686268,-4.667609310889613,2.797532466585974,5.124816987894884,-0.609010125652818,-2.6778401426385288,-1.9137159830306427,3.9482039269125355,3.65323811475781,-5.8886672516870435,3.4834880296600117,2.727478456588275,0.6939218331330407,-2.7537880558550745,-1.6720597957784293,6.889680118657578,0.6926493252826202,-3.1896824374193713,-8.869372281310602,-0.4939670122715987,1.321299748007285,-1.4615711866897703,-0.2506368202414162,-0.83619246957769,-1.0251496710772452,-4.275830798104229,-8.071556026254292,-8.475365264330586,-3.4876673428191785,1.0895476558311183,-0.5189335745551945,-5.652922796235628,-2.105574056803349,-6.351974086080514,-4.865958080829139,-3.037848799141946,3.87267023361222,2.9881874942180082,-3.8852901845198162,-4.7064491809453255,-6.9819168737132085,-6.477907144226105,-3.6648241796356995,-4.796505040920761,2.142419291032493,-3.2582668804607002,-3.1579867657209255,-4.426875463935181,-6.3991474569114555,-4.193286211712967,-3.137819078549157,-5.01425733392044,-0.4740258918041313,-5.54928263472138,-3.8513921061453917,-4.45761806247843,-4.072978899985685,-3.4209321909270036,-4.601064213661705,-1.5982482991637004,-5.7725878234770684,-0.2370242229702837,-3.403625128499145,-6.1306062761794715,-5.1952889424072035,-7.4999084644161735,-5.52453528956978,-3.977963846179451,-6.060492854771949,-3.936191526938157,-3.8383599530578754,-2.9782613518422663,-7.780703752019209,-7.974556222315746,-9.239824513964606,-5.38564058733786,-3.8843200571874394,-5.677018214270811,-1.9412898492595603,-4.398401925098838,-6.738783483661287,-7.659824689691759,-11.000284772685214,-5.91529848933697,-6.047559604307431,-6.210603522654501,-6.363824013720928,-7.896969019778528,-8.75265091395549,-6.8037560544900995,-9.13137397917074,-9.291754411438836,-7.33001064356296,-3.5464544292897275,-7.244327354029396,-8.42983324690753,-8.207656424476584,-8.268829454517684,-8.402874609296028,-11.011001633402653,-8.504660898066485,-6.74733459609043,-6.609928143295923,-7.658823966098585,-7.327065456485242,-6.6138691602516,-8.153289799835669,-9.771415048402872,-7.003321937577651,-8.188521846458412,-11.482488193227603,-6.99916569693945,-8.364686147010868,-5.862488411811863,-7.8823050309193725,-3.1828134645611215,-7.712976681909979,-4.940747091495789,-8.00563261048196,-3.430051239611154,-3.0020318314553696,-8.135074507585637,-6.262698487280213,-5.874086504292173,-5.00315284965246,-8.030754572354532,-6.236561905569328,-4.869975870490077,-6.738618954132345,-6.851242811140119,-8.048189581958235,-7.086892073928488,-8.683869260648594,-5.105579073493564,-9.819885089097806,-10.72746378547342,-11.253360196509181,-9.420284573262995,-5.248509322538253,-9.041426153359753,-8.447920358296022,-9.474605562591126,-6.352872979639058,-7.822088356448072,-9.609568661069254,-9.62891533185554,-10.76019180347387,-11.989435989119345,-11.76368715435536,-8.234290803943061,-7.746684082368908,-9.07647659204157,-9.197470270642619,-9.952062920546341,-9.958148468509675,-6.966719466801081,-8.836750442326725,-9.314287714770106,-7.452694507614641,-7.443212126381663,-5.476634720791173,-9.167306333897553,-7.369464392413033,-8.35634457482851,-5.979692364814377,-10.110872236900928,-7.48796469027768,-6.624679540185821,-8.066716549211062,-6.007461558209432,-9.87463019632101,-7.267185201049679,-8.016831787958356,-9.07523264366639,-6.899296698649544,-7.9078685211376385,-11.552482951371061,-8.820102632168298,-7.015290176100951,-8.577924510845206,-10.276861593276141,-7.659548757822128,-8.661551699624658,-6.652010775970552,-6.8986451547470535,-7.852468902448591,-8.906026384140388,-7.924839781768197,-8.742872480297688,-10.249096443766831,-8.819417197740819,-8.532416984723834,-8.772469118921784,-6.845536917582447,-7.672486750694277,-10.62060608021278,-7.451317044388313,-8.605991042141271,-8.498738835249217,-8.397328069192671,-8.549198044583248,-7.7505829906789305,-10.861258759634895,-8.561731380303632,-6.984622463786755,-8.613465572438562,-7.7887863151117145,-9.411423002254548,-9.047178349519967,-8.03459466582636,-7.516859466570055,-6.04110125376155],\"y\":[10.925038787014962,13.158059395061798,8.179652193395833,7.789135655472172,49.443950594514796,7.75491522918837,12.564149058388738,9.799539368647984,13.981715156001872,7.257981207541717,15.49704205752871,13.055445942103116,4.9459732821590965,7.460180190433875,7.3988668563817015,6.930665877320941,14.107369426843979,11.853940544089964,21.89399673965223,10.580249425108926,3.7076793731187325,6.024588163872869,6.419993577727185,7.2265936438665515,9.92355697454195,7.45144843853789,6.828524043669426,7.942982042379566,4.964411282401563,7.062918646328146,9.891691752023998,4.863377052746644,10.532034566482453,25.390505849711868,3.963854782863943,5.5096776256842475,34.68354783530229,18.137108488752364,4.5817511597416605,14.294303393383077,9.31304501037437,6.218092006559767,3.0767784026609157,5.5277005961193195,6.095192991656639,14.262917405834248,11.013964133752735,9.243712689331025,6.6706044530963275,10.950538681930745,10.726718118586723,8.420312361180022,7.9859221994166045,12.285458659504075,8.124062798228788,15.859687665195501,6.854700476799159,3.424081633321809,18.150225028317603,3.2382399739796237,9.911859267281805,4.540031777363323,10.195456019311262,2.9280881112817987,21.322769499074322,16.275950324708237,3.2530057634704486,4.37256311849702,4.586372282001937,26.226510715753093,11.660919727735394,14.799745813627153,8.872210679791767,4.500601526218655,6.361863794945324,4.682319471570844,35.621795988560734,18.164178315290517,3.8568755444447422,5.815002456697378,3.245965682234048,22.055070975282955,6.178574747341897,7.242931558973809,4.111302951794305,16.58435275232653,17.707940821645163,3.3376259139738034,8.287372506262054,13.379966322516358,15.058995714276824,20.395003965765074,4.0398841931507325,17.254755704934084,11.095687737297833,3.4532522507585863,34.17501166137663,11.96872774527036,18.13151888531248,14.34453540001404,2.6518707903538625,15.526013269143311,14.134898910496625,15.670326369617674,3.215506282990174,5.345163919260963,4.940518432120402,12.056891278468912,3.4983582742476025,6.018241145712887,27.078926138786148,23.539657817918705,6.131583524511086,30.745611397500376,6.082641154483073,3.844113629891183,3.50876956092754,3.127861443789081,7.253351960891391,7.132155623685526,27.297909935817444,5.081105148594112,10.632848741146699,8.746670687009901,14.605360184746315,8.262387465728697,12.262919116600436,6.553211362726831,15.16042695182217,11.60351249481038,7.3463767438923036,3.135529989628637,3.80952873566323,8.086918891610267,3.1229845688892524,8.090570698847223,13.8307203449978,17.387628696725457,16.27329922879248,22.777532587701224,5.805113114116472,3.3746484358850304,32.018728441135224,8.642741282022271,8.749618729124974,35.472068092194085,8.604950511052776,8.21737604826879,15.2550643976343,29.112405103256858,14.450544422040823,22.60513610400258,7.436013255574447,3.6452444264219754,17.86251235357282,5.474187444016111,13.499755409661343,18.721120726560407,5.229471949502122,12.90129287098327,44.23676860862369,4.626166595611533,3.0939695348694736,22.53937017583894,3.6733311583232457,5.456169851450375,9.784985522216118,3.249036066994575,18.71976473339575,3.936144269103289,4.849491372662935,3.733986966722504,4.757680398331033,7.9436929863628105,15.607140347616177,5.295094949135909,7.851418261098958,3.2776704371575685,3.568381108457865,20.281353989083456,7.355004089454004,3.9651850619403506,3.672035177744888,9.11088662225672,5.070819422491306,10.358678833037835,5.522896570969864,5.425419745962036,4.637861024234438,13.032288678013327,16.876091904438255,7.338300459123465,12.958297048753863,9.303886184554116,6.180879384133264,13.53225362241932,5.464544738876605,4.802126104816569,10.895297788157409,4.548121015817617,17.09146777394998,3.5463916030090914,12.04914311452523,10.88141413713697,3.420131991077549,9.39638171370737,5.5216022351415335,28.03643101685287,11.253173640187786,3.9647706698528675,3.586596264299263,7.515832305011105,4.2566567044402,3.3700632012681515,3.7229227902016055],\"z\":[6.741111092352037,0.19716804864430998,-4.335306107521618,-7.41320492980071,14.705187309221866,-6.49257484787957,-8.190920359176223,-3.901068943102804,-2.459052131775555,-2.667238677686457,-5.745565335287623,-6.604521412884883,-0.3867287793299737,-6.821527632839441,-10.198732272701458,-4.150187410293737,-1.6855021930290592,-4.418395583820984,-9.63768481816135,-4.560700055794012,-3.236065639092441,4.244593362199755,-3.9470737217783123,-5.828040134629995,-3.1170603410146223,-7.953724612727492,-1.9143985679005413,-5.719749126255883,-0.78015963119017,3.8380172552399547,2.186665634479212,0.5554753165417726,-11.946258006081468,2.307483864022419,-0.4551369451632819,-7.943468881392866,6.459236603825177,-0.9808342075699644,-2.982670564795623,-13.24912998116413,-8.768077228817594,-1.610282460314906,-2.934422949379629,1.1688961475841357,0.8156805381239146,-3.477522939198323,-3.8451464735694634,-10.428148935615676,-4.169051320127391,-1.3324700840792207,-4.3242703169027,-0.273973608073859,-0.5329922120259729,0.9229464304628878,-3.731929150586094,-2.8798478415236812,-0.698486439691565,-1.3893740708552738,0.5294300727838944,-0.6445740548409075,1.62889378181387,-1.5635362933678434,-1.5813460562133999,0.464220490584025,-1.8801032434610891,0.5437031171180574,-1.2616215136965356,-0.12673126061074338,-0.5328636849477684,6.312200574179617,1.4384870253207784,4.844926530997048,-3.9181882636871936,-0.5417899582487532,-3.0631771036776048,1.2757503845124658,16.2458338066614,8.922187507137293,-2.703180200800325,-3.1947937529602233,-4.200649294052318,3.4189587243918758,-1.6405615899912418,-0.057412798946000064,1.045440202888114,8.472346607501253,5.164519490946714,1.3377275867086729,2.4687074923963763,4.104286635633521,5.693464347334198,7.600530043410531,0.6899059892806849,5.997448291325073,5.529767789275516,2.15087357447613,11.60312315435155,5.08633985490318,7.156313706026169,3.2626795094076577,1.4229232158980771,5.878710445862114,8.557704636786442,4.86704755824169,1.393024560224095,1.7678881716140944,3.4178542013621964,3.0408129736266356,2.238580988387049,3.9792928539622645,4.62939133344514,2.5864303863538236,2.1106994597690925,13.847443368554277,1.249732971090439,1.915210707671934,-0.11911244548854968,3.2518444858597926,-7.100112959430829,-1.827813736620474,0.5706041246447634,1.4265512735531005,-5.976669136604913,-3.395254027145208,5.054563656900528,-0.6293462638107676,4.413856657115292,-1.9347387316028055,6.052422083884341,2.137488015928865,-2.1778257382554194,-0.802257863026774,0.4497190328926846,1.770641625372635,1.084057843659875,0.8535491438818325,1.1755705686562536,6.566902038168164,9.399408226712078,6.452971995820536,5.3713166319692895,0.9206803681539503,11.352694193539312,4.694142082326953,5.504527079445985,13.651795407882025,4.4777876118244295,5.961599303596931,9.329354980278742,12.382523233760471,8.063666570769268,13.036867220936854,3.8958386971442334,1.8874569399341257,-0.2540488484280252,2.5993526194408036,6.481022514865379,9.890281930430227,0.1568241159091248,5.270143082148515,20.999167903339682,1.3803264606962808,-0.3719790722883752,2.1670353642577767,3.111134635582876,2.0243656570953266,2.821650934029279,3.033559933459746,4.964003431359084,-0.3683530383950636,0.9506097335117801,0.929651892776363,0.3945101747833106,4.173805897069026,1.4737793058688242,0.6724011601186214,3.8013478002535805,0.6707410898237847,2.76488638697682,9.263303034270406,1.7540179110110643,-1.024254492126326,2.278612241926831,4.48696204021192,1.2412642650921235,5.065738658642948,1.4581469425944262,-0.6579326202813124,2.126510218605044,5.264562579544815,5.8229130473299,4.228120269536017,4.12728263272575,0.6048555267036323,4.00873481773989,6.430767446165292,-2.7530461707933855,0.7958924373489226,4.370083850457385,1.623927300798413,7.6223959124667795,1.1370306082339643,1.5754931120460594,0.7064664692164461,-0.6347913429774056,2.1772338745247426,4.5379772573419475,5.9574659357896484,2.41499378184658,-0.5530687269798872,2.6673896181333685,1.8745589291962674,2.1500061495821545,1.904079919242579,-0.08969319320769709],\"type\":\"scatter3d\"},{\"hovertemplate\":\"class=3<br>x=%{x}<br>y=%{y}<br>z=%{z}<extra></extra>\",\"legendgroup\":\"3\",\"marker\":{\"color\":\"#FFA15A\",\"symbol\":\"circle\",\"size\":4},\"mode\":\"markers\",\"name\":\"3\",\"scene\":\"scene\",\"showlegend\":true,\"x\":[-11.058147222937933],\"y\":[31.568878732693555],\"z\":[14.361415924224943],\"type\":\"scatter3d\"}],                        {\"template\":{\"data\":{\"bar\":[{\"error_x\":{\"color\":\"#2a3f5f\"},\"error_y\":{\"color\":\"#2a3f5f\"},\"marker\":{\"line\":{\"color\":\"#E5ECF6\",\"width\":0.5},\"pattern\":{\"fillmode\":\"overlay\",\"size\":10,\"solidity\":0.2}},\"type\":\"bar\"}],\"barpolar\":[{\"marker\":{\"line\":{\"color\":\"#E5ECF6\",\"width\":0.5},\"pattern\":{\"fillmode\":\"overlay\",\"size\":10,\"solidity\":0.2}},\"type\":\"barpolar\"}],\"carpet\":[{\"aaxis\":{\"endlinecolor\":\"#2a3f5f\",\"gridcolor\":\"white\",\"linecolor\":\"white\",\"minorgridcolor\":\"white\",\"startlinecolor\":\"#2a3f5f\"},\"baxis\":{\"endlinecolor\":\"#2a3f5f\",\"gridcolor\":\"white\",\"linecolor\":\"white\",\"minorgridcolor\":\"white\",\"startlinecolor\":\"#2a3f5f\"},\"type\":\"carpet\"}],\"choropleth\":[{\"colorbar\":{\"outlinewidth\":0,\"ticks\":\"\"},\"type\":\"choropleth\"}],\"contour\":[{\"colorbar\":{\"outlinewidth\":0,\"ticks\":\"\"},\"colorscale\":[[0.0,\"#0d0887\"],[0.1111111111111111,\"#46039f\"],[0.2222222222222222,\"#7201a8\"],[0.3333333333333333,\"#9c179e\"],[0.4444444444444444,\"#bd3786\"],[0.5555555555555556,\"#d8576b\"],[0.6666666666666666,\"#ed7953\"],[0.7777777777777778,\"#fb9f3a\"],[0.8888888888888888,\"#fdca26\"],[1.0,\"#f0f921\"]],\"type\":\"contour\"}],\"contourcarpet\":[{\"colorbar\":{\"outlinewidth\":0,\"ticks\":\"\"},\"type\":\"contourcarpet\"}],\"heatmap\":[{\"colorbar\":{\"outlinewidth\":0,\"ticks\":\"\"},\"colorscale\":[[0.0,\"#0d0887\"],[0.1111111111111111,\"#46039f\"],[0.2222222222222222,\"#7201a8\"],[0.3333333333333333,\"#9c179e\"],[0.4444444444444444,\"#bd3786\"],[0.5555555555555556,\"#d8576b\"],[0.6666666666666666,\"#ed7953\"],[0.7777777777777778,\"#fb9f3a\"],[0.8888888888888888,\"#fdca26\"],[1.0,\"#f0f921\"]],\"type\":\"heatmap\"}],\"heatmapgl\":[{\"colorbar\":{\"outlinewidth\":0,\"ticks\":\"\"},\"colorscale\":[[0.0,\"#0d0887\"],[0.1111111111111111,\"#46039f\"],[0.2222222222222222,\"#7201a8\"],[0.3333333333333333,\"#9c179e\"],[0.4444444444444444,\"#bd3786\"],[0.5555555555555556,\"#d8576b\"],[0.6666666666666666,\"#ed7953\"],[0.7777777777777778,\"#fb9f3a\"],[0.8888888888888888,\"#fdca26\"],[1.0,\"#f0f921\"]],\"type\":\"heatmapgl\"}],\"histogram\":[{\"marker\":{\"pattern\":{\"fillmode\":\"overlay\",\"size\":10,\"solidity\":0.2}},\"type\":\"histogram\"}],\"histogram2d\":[{\"colorbar\":{\"outlinewidth\":0,\"ticks\":\"\"},\"colorscale\":[[0.0,\"#0d0887\"],[0.1111111111111111,\"#46039f\"],[0.2222222222222222,\"#7201a8\"],[0.3333333333333333,\"#9c179e\"],[0.4444444444444444,\"#bd3786\"],[0.5555555555555556,\"#d8576b\"],[0.6666666666666666,\"#ed7953\"],[0.7777777777777778,\"#fb9f3a\"],[0.8888888888888888,\"#fdca26\"],[1.0,\"#f0f921\"]],\"type\":\"histogram2d\"}],\"histogram2dcontour\":[{\"colorbar\":{\"outlinewidth\":0,\"ticks\":\"\"},\"colorscale\":[[0.0,\"#0d0887\"],[0.1111111111111111,\"#46039f\"],[0.2222222222222222,\"#7201a8\"],[0.3333333333333333,\"#9c179e\"],[0.4444444444444444,\"#bd3786\"],[0.5555555555555556,\"#d8576b\"],[0.6666666666666666,\"#ed7953\"],[0.7777777777777778,\"#fb9f3a\"],[0.8888888888888888,\"#fdca26\"],[1.0,\"#f0f921\"]],\"type\":\"histogram2dcontour\"}],\"mesh3d\":[{\"colorbar\":{\"outlinewidth\":0,\"ticks\":\"\"},\"type\":\"mesh3d\"}],\"parcoords\":[{\"line\":{\"colorbar\":{\"outlinewidth\":0,\"ticks\":\"\"}},\"type\":\"parcoords\"}],\"pie\":[{\"automargin\":true,\"type\":\"pie\"}],\"scatter\":[{\"marker\":{\"colorbar\":{\"outlinewidth\":0,\"ticks\":\"\"}},\"type\":\"scatter\"}],\"scatter3d\":[{\"line\":{\"colorbar\":{\"outlinewidth\":0,\"ticks\":\"\"}},\"marker\":{\"colorbar\":{\"outlinewidth\":0,\"ticks\":\"\"}},\"type\":\"scatter3d\"}],\"scattercarpet\":[{\"marker\":{\"colorbar\":{\"outlinewidth\":0,\"ticks\":\"\"}},\"type\":\"scattercarpet\"}],\"scattergeo\":[{\"marker\":{\"colorbar\":{\"outlinewidth\":0,\"ticks\":\"\"}},\"type\":\"scattergeo\"}],\"scattergl\":[{\"marker\":{\"colorbar\":{\"outlinewidth\":0,\"ticks\":\"\"}},\"type\":\"scattergl\"}],\"scattermapbox\":[{\"marker\":{\"colorbar\":{\"outlinewidth\":0,\"ticks\":\"\"}},\"type\":\"scattermapbox\"}],\"scatterpolar\":[{\"marker\":{\"colorbar\":{\"outlinewidth\":0,\"ticks\":\"\"}},\"type\":\"scatterpolar\"}],\"scatterpolargl\":[{\"marker\":{\"colorbar\":{\"outlinewidth\":0,\"ticks\":\"\"}},\"type\":\"scatterpolargl\"}],\"scatterternary\":[{\"marker\":{\"colorbar\":{\"outlinewidth\":0,\"ticks\":\"\"}},\"type\":\"scatterternary\"}],\"surface\":[{\"colorbar\":{\"outlinewidth\":0,\"ticks\":\"\"},\"colorscale\":[[0.0,\"#0d0887\"],[0.1111111111111111,\"#46039f\"],[0.2222222222222222,\"#7201a8\"],[0.3333333333333333,\"#9c179e\"],[0.4444444444444444,\"#bd3786\"],[0.5555555555555556,\"#d8576b\"],[0.6666666666666666,\"#ed7953\"],[0.7777777777777778,\"#fb9f3a\"],[0.8888888888888888,\"#fdca26\"],[1.0,\"#f0f921\"]],\"type\":\"surface\"}],\"table\":[{\"cells\":{\"fill\":{\"color\":\"#EBF0F8\"},\"line\":{\"color\":\"white\"}},\"header\":{\"fill\":{\"color\":\"#C8D4E3\"},\"line\":{\"color\":\"white\"}},\"type\":\"table\"}]},\"layout\":{\"annotationdefaults\":{\"arrowcolor\":\"#2a3f5f\",\"arrowhead\":0,\"arrowwidth\":1},\"autotypenumbers\":\"strict\",\"coloraxis\":{\"colorbar\":{\"outlinewidth\":0,\"ticks\":\"\"}},\"colorscale\":{\"diverging\":[[0,\"#8e0152\"],[0.1,\"#c51b7d\"],[0.2,\"#de77ae\"],[0.3,\"#f1b6da\"],[0.4,\"#fde0ef\"],[0.5,\"#f7f7f7\"],[0.6,\"#e6f5d0\"],[0.7,\"#b8e186\"],[0.8,\"#7fbc41\"],[0.9,\"#4d9221\"],[1,\"#276419\"]],\"sequential\":[[0.0,\"#0d0887\"],[0.1111111111111111,\"#46039f\"],[0.2222222222222222,\"#7201a8\"],[0.3333333333333333,\"#9c179e\"],[0.4444444444444444,\"#bd3786\"],[0.5555555555555556,\"#d8576b\"],[0.6666666666666666,\"#ed7953\"],[0.7777777777777778,\"#fb9f3a\"],[0.8888888888888888,\"#fdca26\"],[1.0,\"#f0f921\"]],\"sequentialminus\":[[0.0,\"#0d0887\"],[0.1111111111111111,\"#46039f\"],[0.2222222222222222,\"#7201a8\"],[0.3333333333333333,\"#9c179e\"],[0.4444444444444444,\"#bd3786\"],[0.5555555555555556,\"#d8576b\"],[0.6666666666666666,\"#ed7953\"],[0.7777777777777778,\"#fb9f3a\"],[0.8888888888888888,\"#fdca26\"],[1.0,\"#f0f921\"]]},\"colorway\":[\"#636efa\",\"#EF553B\",\"#00cc96\",\"#ab63fa\",\"#FFA15A\",\"#19d3f3\",\"#FF6692\",\"#B6E880\",\"#FF97FF\",\"#FECB52\"],\"font\":{\"color\":\"#2a3f5f\"},\"geo\":{\"bgcolor\":\"white\",\"lakecolor\":\"white\",\"landcolor\":\"#E5ECF6\",\"showlakes\":true,\"showland\":true,\"subunitcolor\":\"white\"},\"hoverlabel\":{\"align\":\"left\"},\"hovermode\":\"closest\",\"mapbox\":{\"style\":\"light\"},\"paper_bgcolor\":\"white\",\"plot_bgcolor\":\"#E5ECF6\",\"polar\":{\"angularaxis\":{\"gridcolor\":\"white\",\"linecolor\":\"white\",\"ticks\":\"\"},\"bgcolor\":\"#E5ECF6\",\"radialaxis\":{\"gridcolor\":\"white\",\"linecolor\":\"white\",\"ticks\":\"\"}},\"scene\":{\"xaxis\":{\"backgroundcolor\":\"#E5ECF6\",\"gridcolor\":\"white\",\"gridwidth\":2,\"linecolor\":\"white\",\"showbackground\":true,\"ticks\":\"\",\"zerolinecolor\":\"white\"},\"yaxis\":{\"backgroundcolor\":\"#E5ECF6\",\"gridcolor\":\"white\",\"gridwidth\":2,\"linecolor\":\"white\",\"showbackground\":true,\"ticks\":\"\",\"zerolinecolor\":\"white\"},\"zaxis\":{\"backgroundcolor\":\"#E5ECF6\",\"gridcolor\":\"white\",\"gridwidth\":2,\"linecolor\":\"white\",\"showbackground\":true,\"ticks\":\"\",\"zerolinecolor\":\"white\"}},\"shapedefaults\":{\"line\":{\"color\":\"#2a3f5f\"}},\"ternary\":{\"aaxis\":{\"gridcolor\":\"white\",\"linecolor\":\"white\",\"ticks\":\"\"},\"baxis\":{\"gridcolor\":\"white\",\"linecolor\":\"white\",\"ticks\":\"\"},\"bgcolor\":\"#E5ECF6\",\"caxis\":{\"gridcolor\":\"white\",\"linecolor\":\"white\",\"ticks\":\"\"}},\"title\":{\"x\":0.05},\"xaxis\":{\"automargin\":true,\"gridcolor\":\"white\",\"linecolor\":\"white\",\"ticks\":\"\",\"title\":{\"standoff\":15},\"zerolinecolor\":\"white\",\"zerolinewidth\":2},\"yaxis\":{\"automargin\":true,\"gridcolor\":\"white\",\"linecolor\":\"white\",\"ticks\":\"\",\"title\":{\"standoff\":15},\"zerolinecolor\":\"white\",\"zerolinewidth\":2}}},\"scene\":{\"domain\":{\"x\":[0.0,1.0],\"y\":[0.0,1.0]},\"xaxis\":{\"title\":{\"text\":\"x\"}},\"yaxis\":{\"title\":{\"text\":\"y\"}},\"zaxis\":{\"title\":{\"text\":\"z\"}}},\"legend\":{\"title\":{\"text\":\"class\"},\"tracegroupgap\":0},\"margin\":{\"t\":60}},                        {\"responsive\": true}                    ).then(function(){\n",
              "                            \n",
              "var gd = document.getElementById('fa1bf7ef-6a7d-4753-9239-a91578ca01f6');\n",
              "var x = new MutationObserver(function (mutations, observer) {{\n",
              "        var display = window.getComputedStyle(gd).display;\n",
              "        if (!display || display === 'none') {{\n",
              "            console.log([gd, 'removed!']);\n",
              "            Plotly.purge(gd);\n",
              "            observer.disconnect();\n",
              "        }}\n",
              "}});\n",
              "\n",
              "// Listen for the removal of the full notebook cells\n",
              "var notebookContainer = gd.closest('#notebook-container');\n",
              "if (notebookContainer) {{\n",
              "    x.observe(notebookContainer, {childList: true});\n",
              "}}\n",
              "\n",
              "// Listen for the clearing of the current output cell\n",
              "var outputEl = gd.closest('.output');\n",
              "if (outputEl) {{\n",
              "    x.observe(outputEl, {childList: true});\n",
              "}}\n",
              "\n",
              "                        })                };                            </script>        </div>\n",
              "</body>\n",
              "</html>"
            ]
          },
          "metadata": {}
        }
      ]
    },
    {
      "cell_type": "markdown",
      "source": [
        "## Split Dataset"
      ],
      "metadata": {
        "id": "WfvEqZ3SJ6Eb"
      }
    },
    {
      "cell_type": "markdown",
      "source": [
        "Before modeling, the dataset was divided into a training set and a test set. In order to simulate the use of historical data to predict the future in the real forecasting scenarios, we should keep those events that occur after the events used to fit the model as the test set. Therefore, we sorted the customer ratings' table by the timestamp of the reviews, and then splitted the training set and test set in that chronological order."
      ],
      "metadata": {
        "id": "h9Cr48-1Xl32"
      }
    },
    {
      "cell_type": "code",
      "source": [
        "def data_processing(df):\n",
        "\n",
        "    df = df.sort_values(by = 'reviewTime')\n",
        "    X_train, X_test, _, _ = train_test_split(df, df, shuffle = False, test_size=0.2)\n",
        "\n",
        "    # df[reviewer] reviewer_1 -> df['movieId'] [movie_a, movie_d, movie_f, movie_q, movie_h]\n",
        "    X_train = X_train.groupby('reviewerId')['movieId'].apply(list).reset_index()\n",
        "    X_train = X_train[X_train['movieId'].str.len() >= 2]\n",
        "\n",
        "    X_test = X_test.groupby('reviewerId')['movieId'].apply(list).reset_index()\n",
        "    X_test = X_test[X_test['movieId'].str.len() >= 2]\n",
        "\n",
        "    train_reviewer_items = {}\n",
        "    test_reviewer_items = {}\n",
        "\n",
        "    # train_reviewer_items records the movieIds that the user has actually reviewed in training set\n",
        "    for reviewer, movies in zip(*(list(X_train['reviewerId']), list(X_train['movieId']))):\n",
        "        train_reviewer_items[reviewer] = set(movies)\n",
        "    # test_reviewer_items records the movieIds that the user has actually reviewed in testing set\n",
        "    for reviewer, movies in zip(*(list(X_test['reviewerId']), list(X_test['movieId']))):\n",
        "        test_reviewer_items[reviewer] = set(movies)\n",
        "    \n",
        "    return X_train, X_test, train_reviewer_items, test_reviewer_items"
      ],
      "metadata": {
        "id": "9m8P5hlr8gml"
      },
      "execution_count": null,
      "outputs": []
    },
    {
      "cell_type": "code",
      "source": [
        "X_train, X_test, train_reviewer_items, test_reviewer_items = data_processing(selected_rating_df)"
      ],
      "metadata": {
        "id": "apk3l-xq9D4W"
      },
      "execution_count": null,
      "outputs": []
    },
    {
      "cell_type": "markdown",
      "source": [
        "## Reccomendation Model"
      ],
      "metadata": {
        "id": "ap1EVyC5KWvo"
      }
    },
    {
      "cell_type": "markdown",
      "source": [
        "### Baseline"
      ],
      "metadata": {
        "id": "BluvfBMi72mp"
      }
    },
    {
      "cell_type": "markdown",
      "source": [
        "In the `movie_info` table, column `also_buy` represents other movies purchased by users who purchased that movie. Our baseline model assumes that customers who have purchased this movie will also like other movies purchased by other people who have purchased this movie. Then, the baseline model would find the `also_buy` movies and recommend them based on the historical customers' reviewing data. This baseline model is naive but we would compare the recommended results of the other two models with the baseline to prove whether our model is effective or not."
      ],
      "metadata": {
        "id": "bmLWeYueYRd5"
      }
    },
    {
      "cell_type": "code",
      "source": [
        "movie_df['also_buy_cleaned'] = movie_df['also_buy'].str.findall(r'\\'(.*?)\\'')"
      ],
      "metadata": {
        "id": "pqt24yyUGhmB"
      },
      "execution_count": null,
      "outputs": []
    },
    {
      "cell_type": "code",
      "source": [
        "movie_df['also_buy_cleaned'].str.len().value_counts()"
      ],
      "metadata": {
        "colab": {
          "base_uri": "https://localhost:8080/"
        },
        "id": "Jv9Quj93LwrL",
        "outputId": "125e8d5e-1e47-4389-929c-b32cdc3f1794"
      },
      "execution_count": null,
      "outputs": [
        {
          "output_type": "execute_result",
          "data": {
            "text/plain": [
              "0     49117\n",
              "1      6899\n",
              "2      4180\n",
              "3      2954\n",
              "4      2374\n",
              "      ...  \n",
              "70       96\n",
              "81       94\n",
              "71       90\n",
              "82       89\n",
              "76       82\n",
              "Name: also_buy_cleaned, Length: 101, dtype: int64"
            ]
          },
          "metadata": {},
          "execution_count": 121
        }
      ]
    },
    {
      "cell_type": "code",
      "source": [
        "also_buy = defaultdict(set)\n",
        "for movie, alsobuy in zip(*(list(movie_df['movieId']), list(movie_df['also_buy_cleaned']))):\n",
        "        also_buy[movie] = set(alsobuy)\n",
        "\n",
        "# for movie, alsobuy in zip(*(list(df_movie_info['asin']), list(df_movie_info['also_view']))):\n",
        "#         also_buy[movie].update(set(alsobuy))"
      ],
      "metadata": {
        "id": "bSLZKCe8-jQM"
      },
      "execution_count": null,
      "outputs": []
    },
    {
      "cell_type": "code",
      "source": [
        "items_baseline = {}\n",
        "print('Recommending．．．')\n",
        "for uid, _ in tqdm(test_reviewer_items.items()):\n",
        "    # Store recommended candidates for customer\n",
        "    items_baseline[uid] = set()\n",
        "    if uid not in train_reviewer_items.keys():\n",
        "        continue\n",
        "    # Run through the customer's historical favorite items to find similar items below\n",
        "    for hist_item in train_reviewer_items[uid]:\n",
        "        if len(items_baseline[uid]) > 5: continue\n",
        "        items_baseline[uid].update(also_buy[hist_item])\n",
        "        if len(items_baseline[uid]) > 5: \n",
        "          items_baseline[uid] = set(list(items_baseline[uid])[:5])"
      ],
      "metadata": {
        "colab": {
          "base_uri": "https://localhost:8080/"
        },
        "id": "VOSXvPtv9iBx",
        "outputId": "06f6aa3a-5e23-44ca-d805-d04272b9d82a"
      },
      "execution_count": null,
      "outputs": [
        {
          "output_type": "stream",
          "name": "stdout",
          "text": [
            "Recommending．．．\n"
          ]
        },
        {
          "output_type": "stream",
          "name": "stderr",
          "text": [
            "100%|██████████| 3732/3732 [00:00<00:00, 20420.49it/s]\n"
          ]
        }
      ]
    },
    {
      "cell_type": "code",
      "source": [
        "print('Recall:', Recall(items_baseline, test_reviewer_items), '%')\n",
        "print('Precision', Precision(items_baseline, test_reviewer_items), '%')\n",
        "print('Detection', Detection(items_baseline, test_reviewer_items), '%')"
      ],
      "metadata": {
        "colab": {
          "base_uri": "https://localhost:8080/"
        },
        "id": "IcoLZihdJjk_",
        "outputId": "55b7204a-77c2-494e-971b-18b74cfc1d0a"
      },
      "execution_count": null,
      "outputs": [
        {
          "output_type": "stream",
          "name": "stdout",
          "text": [
            "Recall: 0.06 %\n",
            "Precision 0.19 %\n",
            "Detection 0.92 %\n"
          ]
        }
      ]
    },
    {
      "cell_type": "markdown",
      "source": [
        "### Recommend by Movie Cluster"
      ],
      "metadata": {
        "id": "4mckwgulmOgm"
      }
    },
    {
      "cell_type": "markdown",
      "source": [
        "Based on the clustering result, we would vote the clustering labels based on customers' historical browsing data and recommend the whole corresponding cluster of movies. "
      ],
      "metadata": {
        "id": "r7RA120yY3X2"
      }
    },
    {
      "cell_type": "code",
      "source": [
        "movie_class_df = cluster_input_2['class'].reset_index()\n",
        "movie_class = dict(zip(movie_class_df['movieId'], movie_class_df['class']))\n",
        "\n",
        "class_movie = defaultdict(set)\n",
        "class_movie[999] = set()\n",
        "for movie, CLASS in zip(movie_class_df['movieId'], movie_class_df['class']):\n",
        "        class_movie[CLASS].add(movie)"
      ],
      "metadata": {
        "id": "ZyOnYc7foXuK"
      },
      "execution_count": null,
      "outputs": []
    },
    {
      "cell_type": "code",
      "source": [
        "items_class = defaultdict(int)\n",
        "print('Recommending．．．')\n",
        "for uid, _ in tqdm(test_reviewer_items.items()):\n",
        "    # Store recommended candidates for customer\n",
        "    items_class[uid] = defaultdict(int) \n",
        "    if uid not in train_reviewer_items.keys():\n",
        "        continue\n",
        "    # Run through the customer's historical favorite items to find similar items below\n",
        "    for hist_item in train_reviewer_items[uid]: \n",
        "        items_class[uid][movie_class[hist_item]] += 1\n",
        "  \n",
        "items_class = {k: max(v,key=v.get) if v else 999 for k, v in items_class.items()}\n",
        "items_class = {k: class_movie[v] for k, v in items_class.items()}\n"
      ],
      "metadata": {
        "colab": {
          "base_uri": "https://localhost:8080/"
        },
        "id": "RQntVdhum4FE",
        "outputId": "e4a09190-2c55-4172-911c-e7847bc7bddd"
      },
      "execution_count": null,
      "outputs": [
        {
          "output_type": "stream",
          "name": "stdout",
          "text": [
            "Recommending．．．\n"
          ]
        },
        {
          "output_type": "stream",
          "name": "stderr",
          "text": [
            "100%|██████████| 3732/3732 [00:00<00:00, 98586.95it/s]\n"
          ]
        }
      ]
    },
    {
      "cell_type": "code",
      "source": [
        "print('Recall:', Recall(items_class, test_reviewer_items), '%')\n",
        "print('Precision', Precision(items_class, test_reviewer_items), '%')\n",
        "print('Detection', Detection(items_class, test_reviewer_items), '%')"
      ],
      "metadata": {
        "colab": {
          "base_uri": "https://localhost:8080/"
        },
        "id": "uU5xMzFZtMng",
        "outputId": "50e3037f-ba65-4332-a340-e37c2ee1d98f"
      },
      "execution_count": null,
      "outputs": [
        {
          "output_type": "stream",
          "name": "stdout",
          "text": [
            "Recall: 35.47 %\n",
            "Precision 0.92 %\n",
            "Detection 85.07 %\n"
          ]
        }
      ]
    },
    {
      "cell_type": "markdown",
      "source": [
        "### ItemCF"
      ],
      "metadata": {
        "id": "R7mZ02Aem40t"
      }
    },
    {
      "cell_type": "markdown",
      "source": [
        "Collaborative Filtering (CF) is rapidly becoming a popular technology in information filtering systems. We chose to use item based CF which assumes that similar items are likely to be liked by the same user. In other words, items liked by the same user are similar items. For example, movie 1 and movie 2, both of which are liked by customer A, are similar. Movies 5 and 6, however, are not liked by the same customers at the same time, so they are not similar. "
      ],
      "metadata": {
        "id": "caJ5-3qgZWs2"
      }
    },
    {
      "cell_type": "markdown",
      "source": [
        "#### Co-occurrence Matrix"
      ],
      "metadata": {
        "id": "uck8gP3wZvOF"
      }
    },
    {
      "cell_type": "markdown",
      "source": [
        "In order to build this model, we first counted the number of times that each movie was liked by customers and the number of times that each movie was liked by multiple customers at the same time by using the hash dictionary. For example, suppose there are five customers A, B, C, D, and E. Customer A likes movies a, b, and c, and customer B likes movies a, b, and so on. Movie a and movie b are favored by customer A, B and C at the same time, so the co-occurrence times of movie a  and movie b are 3. This statistical method could be used to quickly construct the co-occurrence matrix. "
      ],
      "metadata": {
        "id": "wA9PqHYCbA71"
      }
    },
    {
      "cell_type": "markdown",
      "source": [
        "![table_1.png](data:image/png;base64,iVBORw0KGgoAAAANSUhEUgAABUgAAAOOCAYAAADS4/gxAAAMbmlDQ1BJQ0MgUHJvZmlsZQAASImVVwdYU8kWnluSkJAQIICAlNCbIFIDSAmhBZBeBBshCSSUGBOCir0sKrh2EQEbuiqi2FZA7NiVRbH3xYKKsi7qYkPlTUhA133le+f75t4/Z878p9yZ3HsAoH/gSaV5qDYA+ZICWUJ4MHN0WjqT9BSggA70gQMAPL5cyo6LiwZQBu5/l3c3AKK8X3VWcv1z/r+KrkAo5wOAjIU4UyDn50N8HAC8ii+VFQBAVOqtJhdIlXg2xHoyGCDEq5Q4W4W3K3GmCh/ut0lK4EB8GQANKo8nywZA6x7UMwv52ZBH6zPErhKBWAIAfRjEAXwRTwCxMvZh+fkTlbgcYntoL4UYxgNYmd9xZv+NP3OQn8fLHsSqvPpFI0Qsl+bxpv6fpfnfkp+nGPBhCwdVJItIUOYPa3grd2KUElMh7pJkxsQqaw3xB7FAVXcAUIpIEZGsskdN+HIOrB8wgNhVwAuJgtgE4jBJXky0Wp+ZJQ7jQgx3CzpFXMBNgtgQ4oVCeWii2majbGKC2hdanyXjsNX6czxZv1+lrweK3GS2mv+NSMhV82NaRaKkVIgpEFsXilNiINaC2EWemxilthlZJOLEDNjIFAnK+K0hThBKwoNV/FhhliwsQW1fki8fyBfbKBJzY9R4X4EoKUJVH+wUn9cfP8wFuyyUsJMHeITy0dEDuQiEIaGq3LHnQklyoprng7QgOEG1FqdI8+LU9rilMC9cqbeE2ENemKhei6cUwM2p4sezpAVxSao48aIcXmScKh58GYgGHBACmEABRyaYCHKAuLWroQv+Us2EAR6QgWwgBM5qzcCK1P4ZCbwmgiLwB0RCIB9cF9w/KwSFUP9lUKu6OoOs/tnC/hW54CnE+SAK5MHfiv5VkkFvKeAJ1Ij/4Z0HBx/GmweHcv7f6we03zRsqIlWaxQDHpn0AUtiKDGEGEEMIzrgxngA7odHw2sQHG44C/cZyOObPeEpoY3wiHCd0E64PUE8V/ZDlKNAO+QPU9ci8/ta4LaQ0xMPxv0hO2TGDXBj4Ix7QD9sPBB69oRajjpuZVWYP3D/LYPvnobajuxKRslDyEFk+x9XajlqeQ6yKGv9fX1UsWYO1pszOPOjf8531RfAe9SPlthCbD92FjuBnccOYw2AiR3DGrEW7IgSD+6uJ/27a8BbQn88uZBH/A9/PLVPZSXlrrWuna6fVXMFwikFyoPHmSidKhNniwqYbPh2EDK5Er7LMKabq5sbAMp3jerv6218/zsEMWj5ppv3OwD+x/r6+g5900UeA2CvNzz+B7/p7FkA6GgCcO4gXyErVOlw5YUA/yXo8KQZATNgBexhPm7AC/iBIBAKIkEsSAJpYDyssgjucxmYDKaDOaAYlIJlYDWoABvAZrAd7AL7QAM4DE6AM+AiuAyug7tw93SAl6AbvAO9CIKQEBrCQIwQc8QGcULcEBYSgIQi0UgCkoZkINmIBFEg05F5SCmyAqlANiE1yF7kIHICOY+0IbeRh0gn8gb5hGIoFdVDTVFbdDjKQtloFJqEjkOz0UloETofXYKWo9XoTrQePYFeRK+j7ehLtAcDmCZmgFlgzhgL42CxWDqWhcmwmVgJVoZVY3VYE3zOV7F2rAv7iBNxBs7EneEOjsCTcT4+CZ+JL8Yr8O14PX4Kv4o/xLvxrwQawYTgRPAlcAmjCdmEyYRiQhlhK+EA4TQ8Sx2Ed0Qi0YBoR/SGZzGNmEOcRlxMXEfcTTxObCM+JvaQSCQjkhPJnxRL4pEKSMWktaSdpGOkK6QO0gcNTQ1zDTeNMI10DYnGXI0yjR0aRzWuaDzT6CVrk23IvuRYsoA8lbyUvIXcRL5E7iD3UnQodhR/ShIlhzKHUk6po5ym3KO81dTUtNT00YzXFGvO1izX3KN5TvOh5keqLtWRyqGOpSqoS6jbqMept6lvaTSaLS2Ilk4roC2h1dBO0h7QPmgxtFy0uFoCrVlalVr1Wle0XtHJdBs6mz6eXkQvo++nX6J3aZO1bbU52jztmdqV2ge1b2r36DB0RujE6uTrLNbZoXNe57kuSddWN1RXoDtfd7PuSd3HDIxhxeAw+Ix5jC2M04wOPaKenR5XL0evVG+XXqtet76uvod+iv4U/Ur9I/rtBpiBrQHXIM9gqcE+gxsGn4aYDmEPEQ5ZNKRuyJUh7w2HGgYZCg1LDHcbXjf8ZMQ0CjXKNVpu1GB03xg3djSON55svN74tHHXUL2hfkP5Q0uG7ht6xwQ1cTRJMJlmstmkxaTH1Mw03FRqutb0pGmXmYFZkFmO2Sqzo2ad5gzzAHOx+SrzY+YvmPpMNjOPWc48xey2MLGIsFBYbLJotei1tLNMtpxrudvyvhXFimWVZbXKqtmq29rcepT1dOta6zs2ZBuWjchmjc1Zm/e2draptgtsG2yf2xnace2K7Grt7tnT7APtJ9lX219zIDqwHHId1jlcdkQdPR1FjpWOl5xQJy8nsdM6p7ZhhGE+wyTDqofddKY6s50LnWudH7oYuES7zHVpcHk13Hp4+vDlw88O/+rq6ZrnusX17gjdEZEj5o5oGvHGzdGN71bpds2d5h7mPsu90f21h5OH0GO9xy1PhucozwWezZ5fvLy9ZF51Xp3e1t4Z3lXeN1l6rDjWYtY5H4JPsM8sn8M+H329fAt89/n+6efsl+u3w+/5SLuRwpFbRj72t/Tn+W/ybw9gBmQEbAxoD7QI5AVWBz4KsgoSBG0NesZ2YOewd7JfBbsGy4IPBL/n+HJmcI6HYCHhISUhraG6ocmhFaEPwizDssNqw7rDPcOnhR+PIERERSyPuMk15fK5NdzuSO/IGZGnoqhRiVEVUY+iHaNl0U2j0FGRo1aOuhdjEyOJaYgFsdzYlbH34+ziJsUdiifGx8VXxj9NGJEwPeFsIiNxQuKOxHdJwUlLk+4m2ycrkptT6CljU2pS3qeGpK5IbR89fPSM0RfTjNPEaY3ppPSU9K3pPWNCx6we0zHWc2zx2Bvj7MZNGXd+vPH4vPFHJtAn8CbszyBkpGbsyPjMi+VV83oyuZlVmd18Dn8N/6UgSLBK0Cn0F64QPsvyz1qR9TzbP3tldqcoUFQm6hJzxBXi1zkRORty3ufG5m7L7ctLzdudr5GfkX9QoivJlZyaaDZxysQ2qZO0WNo+yXfS6kndsijZVjkiHydvLNCDH/UtCnvFT4qHhQGFlYUfJqdM3j9FZ4pkSstUx6mLpj4rCiv6ZRo+jT+tebrF9DnTH85gz9g0E5mZObN5ltWs+bM6ZofP3j6HMid3zm9zXeeumPvXvNR5TfNN58+e//in8J9qi7WKZcU3F/gt2LAQXyhe2LrIfdHaRV9LBCUXSl1Ly0o/L+YvvvDziJ/Lf+5bkrWkdanX0vXLiMsky24sD1y+fYXOiqIVj1eOWlm/irmqZNVfqyesPl/mUbZhDWWNYk17eXR541rrtcvWfq4QVVyvDK7cXWVStajq/TrBuivrg9bXbTDdULrh00bxxlubwjfVV9tWl20mbi7c/HRLypazv7B+qdlqvLV065dtkm3t2xO2n6rxrqnZYbJjaS1aq6jt3Dl25+VdIbsa65zrNu022F26B+xR7HmxN2PvjX1R+5r3s/bX/Wrza9UBxoGSeqR+an13g6ihvTGtse1g5MHmJr+mA4dcDm07bHG48oj+kaVHKUfnH+07VnSs57j0eNeJ7BOPmyc03z05+uS1U/GnWk9HnT53JuzMybPss8fO+Z87fN73/MELrAsNF70u1rd4thz4zfO3A61erfWXvC81Xva53NQ2su3olcArJ66GXD1zjXvt4vWY6203km/cujn2Zvstwa3nt/Nuv75TeKf37ux7hHsl97Xvlz0weVD9u8Pvu9u92o88DHnY8ijx0d3H/Mcvn8iffO6Y/5T2tOyZ+bOa527PD3eGdV5+MeZFx0vpy96u4j90/qh6Zf/q1z+D/mzpHt3d8Vr2uu/N4rdGb7f95fFXc09cz4N3+e9635d8MPqw/SPr49lPqZ+e9U7+TPpc/sXhS9PXqK/3+vL7+qQ8Ga//UwCDA83KAuDNNgBoaQAwYN9GGaPqBfsFUfWv/Qj8J6zqF/vFC4A6+P0e3wW/bm4CsGcLbL8gPx32qnE0AJJ8AOruPjjUIs9yd1NxUWGfQnjQ1/cW9myklQB8WdbX11vd1/dlMwwW9o7HJaoeVClE2DNs5H7JzM8E/0ZU/el3Of54B8oIPMCP938BufWQuArDOcoAAABsZVhJZk1NACoAAAAIAAQBGgAFAAAAAQAAAD4BGwAFAAAAAQAAAEYBKAADAAAAAQACAACHaQAEAAAAAQAAAE4AAAAAAAAAkAAAAAEAAACQAAAAAQACoAIABAAAAAEAAAVIoAMABAAAAAEAAAOOAAAAAP4godsAAAAJcEhZcwAAFiUAABYlAUlSJPAAAEAASURBVHgB7N0HuFTlgf/xl46A9K4ICoglYEGMYscSNYoJlhhjjIlx1zVxl7TdmMe0Ndlskk2ymmSjWZMYRRB7L1gg9oIFC6hYQUQFAQVBQeTP9/3vOzncO/dyucy9d2bO932ecebOnPK+nzPn4PzOe97Tat36EiwKKKCAAgoooIACCiiggAIKKKCAAgoooEAOBVrnsM02WQEFFFBAAQUUUEABBRRQQAEFFFBAAQUUiAIGpH4RFFBAAQUUUEABBRRQQAEFFFBAAQUUUCC3Agakud30NlwBBRRQQAEFFFBAAQUUUEABBRRQQAEFDEj9DiiggAIKKKCAAgoooIACCiiggAIKKKBAbgUMSHO76W24AgoooIACCiiggAIKKKCAAgoooIACChiQ+h1QQAEFFFBAAQUUUEABBRRQQAEFFFBAgdwKGJDmdtPbcAUUUEABBRRQQAEFFFBAAQUUUEABBRQwIPU7oIACCiiggAIKKKCAAgoooIACCiiggAK5FTAgze2mt+EKKKCAAgoooIACCiiggAIKKKCAAgooYEDqd0ABBRRQQAEFFFBAAQUUUEABBRRQQAEFcitgQJrbTW/DFVBAAQUUUEABBRRQQAEFFFBAAQUUUMCA1O+AAgoooIACCiiggAIKKKCAAgoooIACCuRWwIA0t5vehiuggAIKKKCAAgoooIACCiiggAIKKKCAAanfAQUUUEABBRRQQAEFFFBAAQUUUEABBRTIrYABaW43vQ1XQAEFFFBAAQUUUEABBRRQQAEFFFBAAQNSvwMKKKCAAgoooIACCiiggAIKKKCAAgookFsBA9LcbnobroACCiiggAIKKKCAAgoooIACCiiggAIGpH4HFFBAAQUUUEABBRRQQAEFFFBAAQUUUCC3Agakud30NlwBBRRQQAEFFFBAAQUUUEABBRRQQAEFDEj9DiiggAIKKKCAAgoooIACCiiggAIKKKBAbgUMSHO76W24AgoooIACCiiggAIKKKCAAgoooIACChiQ+h1QQAEFFFBAAQUUUEABBRRQQAEFFFBAgdwKGJDmdtPbcAUUUEABBRRQQAEFFFBAAQUUUEABBRQwIPU7oIACCiiggAIKKKCAAgoooIACCiiggAK5FTAgze2mt+EKKKCAAgoooIACCiiggAIKKKCAAgooYEDqd0ABBRRQQAEFFFBAAQUUUEABBRRQQAEFcitgQJrbTW/DFVBAAQUUUEABBRRQQAEFFFBAAQUUUMCA1O+AAgoooIACCiiggAIKKKCAAgoooIACCuRWoG1uW27DFVBAAQUUUEABBRRQIDcCb775Zpg9e3bo2LFj2HvvvUOrVq1i2+fOnRumT58e3n///bD77rvHx5Zbblmny4IFC8Lzzz8f2rZtG/bcc8+4vGITL168ODz99NNxPSy3a9euG0xWV32eeuqpWJ9169aFYcOGhcMOOyy0b99+g3lZ9k033RSoy9ChQ8OYMWPi8wYT+YcCCiiggAIKNFig1fp/eNc1eGonVEABBRRQQAEFFFBAAQUqUOCkk04KU6ZMiTV/9NFHQ+vWrcOJJ54YCEizpV27duH3v/99OP3007NvF14feuih4c4774x/X3jhheEf/uEfCp9lXzD/RRddFN86++yzw3/8x39kPw4167N69epYn/nz528w3cCBA8OkSZPCQQcdFNauXRt+8pOfhJ/97Gfhww8/3GC6ww8/PFxxxRWhvnB3gxn8QwEFFFBAAQUKAl5iX6DwhQIKKKCAAgoooIACClSrwMcff1xoGkHpvvvuWyscZYI1a9bE0PO///u/C9NnX2SXQ2BZV9nYdNnPL7300jBu3LhQMxxl2W+88UY48sgjAz1LjzrqqPCjH/2oVjjKdLfddls45JBDeGlRQAEFFFBAgU0UMCDdRDAnV0ABBRRQQAEFFFBAgcoW+PWvfx1WrVoV6C06fvz48Ic//CF84xvfiJfNp5bRS/ODDz5Ifzbp8/nnnx9DTy7/p2cp9SEUTYV67LLLLjEE5b3+/fuH73znO4EQd8SIEWmy8Mgjj4Rp06YV/vaFAgoooIACCjRMwDFIG+bkVAoooIACCiiggAIKKFBFAj169Ah33HFHGD16dKFVjOVJQEl5++23wy233BImTJhQ+LwpX/Tp0yfMmDEj7LTTTnE1XLp/zDHHxLFGs+vdf//9w6233ho6deoU3/7CF74QRo4cGRjTlEJvVMYttSiggAIKKKBAwwXsQdpwK6dUQAEFFFBAAQUUUECBKhDo2bNnHEc0G47SLMYkHT58eKGFr732WuF1U77o1atXuOuuuwrhKOtijNRvf/vbG6x27Nix4eabby6Eo3zYu3fv8KUvfakw3SuvvFJ47QsFFFBAAQUUaJiAAWnDnJxKAQUUUEABBRRQQAEFqkSAy+m5s3zNwp3ts+8z/mdzlIkTJ8ZeoDXXla0Ln/32t78NXbp0qTlZ2HXXXQvvNVedCyv0hQIKKKCAAlUgYEBaBRvRJiiggAIKKKCAAgoooEDDBeidWVdhfM9U3n333fSySZ/rqg93pE+X0lOBuqbj8vxUmmvc1LQ+nxVQQAEFFKgGgbr/z6AaWmcbFFBAAQUUUEABBRRQQIFNENhiiy02Yeqmn7RNmzYbXUlDptnoQpxAAQUUUECBHAsYkOZ449t0BRRQQAEFFFBAAQUUUEABBRRQQAEF8i5gQJr3b4DtV0ABBRRQQAEFFFBAgQYLME5pKitWrEgvaz1np6v1oW8ooIACCiigQFkJGJCW1eawMgoooIACCiiggAIKKFDOAtxxPpU333wzvaz1vHz58lrv+YYCCiiggAIKlKeAAWl5bhdrpYACCiiggAIKKKCAAmUoMGDAgEKt7rnnnsLr7IvzzjsvXHHFFdm3fK2AAgoooIACZSxgQFrGG8eqKaCAAgoooIACCiigQHkJbL/99oUKzZw5M0yaNKnw98cffxx++ctfhokTJxbe84UCCiiggAIKlL9A2/KvojVUQAEFFFBAAQUUUEABBcpD4OSTTw5nn312eO+992KFTjnllHDNNdeEvn37hhtuuCEsXLiwPCpqLRRQQAEFFFCgwQL2IG0wlRMqoIACCiiggAIKKKBA3gW6du0afvzjHxcY1q1bF6699tpw4YUXFsLRkSNHhp/+9KeFaXyhgAIKKKCAAuUtYEBa3tvH2imggAIKKKCAAgoooEAJBDp37lxYSpcuXQqva77ITpd9nZ2OS+inTp0aBg4cmH07cAOn0047LTzwwANh5513LnzWqVOnwuv0IrvshtSndevWodhyWB7LatWqVVx0drlpXT4roIACCiigQP0Crdaf8VxX/yR+qoACCiiggAIKKKCAAgpUtgDjgy5evDi0adMmBpn1tWbRokXx4969exeCx7qm5072s2bNCv379w+jRo3aYPolS5aEtWvXhmLLaWh9Pvjgg7Bs2bJAiFpfkMol/ytXrgw9e/YM7du3r6u6vq+AAgoooIACRQQMSIug+JYCCiiggAIKKKCAAgoooIACCiiggAIK5EPAS+zzsZ1tpQIKKKCAAgoooIACCiiggAIKKKCAAgoUETAgLYLiWwoooIACCiiggAIKKKCAAgoooIACCiiQDwED0nxsZ1upgAIKKKCAAgoooIACCiiggAIKKKCAAkUEDEiLoPiWAgoooIACCiiggAIKKKCAAgoooIACCuRDwIA0H9vZViqggAIKKKCAAgoooIACCiiggAIKKKBAEQED0iIovqWAAgoooIACCiiggAIKKKCAAgoooIAC+RAwIM3HdraVCiiggAIKKKCAAgoooIACCiiggAIKKFBEwIC0CIpvKaCAAgoooIACCiiggAIKKKCAAgoooEA+BAxI87GdbaUCCiiggAIKKKCAAgoooIACCiiggAIKFBEwIC2C4lsKKKCAAgoooIACCiiggAIKKKCAAgookA8BA9J8bGdbqYACCiiggAIKKKCAAgoooIACCiiggAJFBAxIi6D4lgIKKKCAAgoooIACCiiggAIKKKCAAgrkQ8CANB/b2VYqoIACCiiggAIKKKCAAgoooIACCiigQBEBA9IiKL6lgAIKKKCAAgoooIACCiiggAIKKKCAAvkQMCDNx3a2lQoooIACCiiggAIKKKCAAgoooIACCihQRMCAtAiKbymggAIKKKCAAgoooIACCiiggAIKKKBAPgQMSPOxnW2lAgoooIACCiiggAIKKKCAAgoooIACChQRMCAtguJbCiiggAIKKKCAAgoooIACCiiggAIKKJAPAQPSfGxnW6mAAgoooIACCiiggAIKKKCAAgoooIACRQQMSIug+JYCCiiggAIKKKCAAgoooIACCiiggAIK5EPAgDQf29lWKqCAAgoooIACCiiggAIKKKCAAgoooEARAQPSIii+pYACCiiggAIKKKCAAgoooIACCiiggAL5EDAgzcd2tpUKKKCAAgoooIACCiiggAIKKKCAAgooUETAgLQIim8poIACCiiggAIKKKBAywusW7eu5SthDRRQQAEFyl7Afy/KfhOVfQXbln0NraACCiiggAIKKKCAAgrkUqBVq1aBH71z5swJy5YtC23b+vMll18EG62AAgrUIfDRRx+FQYMGxUcdk/i2Ag0SaLX+fzg8LdsgKidSQAEFFFBAAQUUUECB5hZYs2ZNOPjgg8O9994b2rdv39yrd30KKKCAAmUqQJzFvxHf+973wk9/+tMyraXVqhQBT8FWypayngoooIACCiiggAIK5FRgxYoVseWrV6/OqYDNVkABBRSoS2DVqlV1feT7CjRYwIC0wVROqIACCiiggAIKKKCAAi0h0LFjx7hang866KDQrVu32GuoJeqSt3UyzEGbNm3C448/HubOnRubv9dee4Vtt902GFg337eB3tOvvPJKeOihh+JKhw0bFkaPHh3Wrl0bh6Fovprke01pf5g5c2Z46aWXIsbYsWPD4MGD3R+a8avB/oD/I488Etfarl27Zly7q6pWAQPSat2ytksBBRRQQAEFFFBAgSoT6N69e/jTn/4UBgwYUGUtK//mfOc73wn/9V//FSt69tlnh/Hjx5d/paushjfeeGPB/ZhjjilsjyprZkU0Z+LEieG8886LdT3nnHPCEUccURH1rqZKXnXVVeH444+vpibZlhYW8C72LbwBXL0CCiiggAIKKKCAAgo0XMBbKDTcqqmmdBs0lWz9y9W9fp+W+tTt0lLyrleB0goYkJbW06UpoIACCiiggAIKKKBAEwkQRHBDDkvzC3ApdyrcNdrS/AJZ9+z2aP6auMasf3a7KNN8Aro3n3Ve1mRAmpctbTsVUEABBRRQQAEFFFBAAQUUUEABBRRQoJaAAWktEt9QQAEFFFBAAQUUUEABBRRQQAEFFFBAgbwIGJDmZUvbTgUUUEABBRRQQAEFFFBAAQUUUEABBRSoJWBAWovENxRQQAEFFFBAAQUUUEABBRRQQAEFFFAgLwIGpHnZ0rZTAQUUUEABBRRQQAEFFFBAAQUUUEABBWoJGJDWIvENBRRQQAEFFFBAAQUUUEABBRRQQAEFFMiLgAFpXra07VRAAQUUUEABBRRQQAEFFFBAAQUUUECBWgIGpLVIfEMBBRRQQAEFFFBAAQUUUEABBRRQQAEF8iJgQJqXLW07FVBAAQUUUEABBRRQQAEFFFBAAQUUUKCWgAFpLRLfUEABBRRQQAEFFFBAAQUUUEABBRRQQIG8CBiQ5mVL204FFFBAAQUUUEABBRRQQAEFFFBAAQUUqCVgQFqLxDcUUEABBRRQQAEFFFBAAQUUUEABBRRQIC8CBqR52dK2UwEFFFBAAQUUUEABBRRQQAEFFFBAAQVqCRiQ1iLxDQUUUEABBRRQQAEFFFBAAQUUUEABBRTIi4ABaV62tO1UQAEFFFBAAQUUUEABBRRQQAEFFFBAgVoCBqS1SHxDAQUUUEABBRRQQAEFFFBAAQUUUEABBfIiYECaly1tOxVQQAEFFFBAAQUUUEABBRRQQAEFFFCgloABaS0S31BAAQUUUEABBRRQQAEFFFBAAQUUUECBvAgYkOZlS9tOBRRQQAEFFFBAAQUUUEABBRRQQAEFFKglYEBai8Q3FFBAAQUUUEABBRRQQAEFFFBAAQUUUCAvAgakednStlMBBRRQQAEFFFBAAQUUUEABBRRQQAEFagkYkNYi8Q0FFFBAAQUUUEABBRRQQAEFFFBAAQUUyIuAAWletrTtVEABBRRQQAEFFFBAAQUUUEABBRRQQIFaAm1rveMbCiiggAIKKKCAAgoooIACClSwwJo1a8LSpUvDunXrQqdOncKWW25Zwa2x6go0jwD7y7Jly8KKFSviftOrV6/mWbFrUaAMBAxIy2AjWAUFFFBAAQUUUEABBRRQQIHSCBCOzpkzJ0yfPj20atUqjB49Ouyzzz6lWbhLUaCKBRYsWBDuueee8OSTT4bdd989nHjiiVXcWpumwIYCBqQbeviXAgoooIACCiiggAIKKKBAhQksX748vPDCCzHcmTlzZnj++efDu+++G4YOHRp69OhhQFph29PqNo8AJxMIRe+9997w4IMPxhMLixYtCjzatm1rQNo8m8G1lImAAWmZbAiroYACCiiggAIKKKCAAgoo0DiBJUuWxFD02WefDbfccku8TJglEfIQnloUUKC2wMqVK8Prr78e2G9uv/328PLLLxcmYogKiwJ5EvAmTXna2rZVAQUUUEABBRRQQAEFFKhCgVWrVsVW7bHHHmH77bcvtLBDhw6hTZs2hb99oYACfxf48MMPw8cffxy22267MGLEiNCtW7fCh5xcsCiQJwG/8Xna2rZVAQUUUEABBRRQQAEFFKhCgSFDhoSBAwfGMUdfe+218NJLL4V33nkn3qSpCptrkxQoiUDPnj0DJxV22WWX2NuaEw0zZswoybJdiAKVJmBAWmlbzPoqoIACCiiggAIKKKCAAgpsINCxY8fAg7LVVluF7t27G5BuIOQfCtQWoJdo6inKSYa+ffvWnsh3FMiJgJfY52RD20wFFFBAAQUUUEABBRRQIA8C3Lm+Xbt2eWiqbVSgZALr1q1zOIqSabqgShQwIK3ErWadFVBAAQUUUEABBRRQQAEFigoQkPKwKKBAwwVat27tftNwLqesQgEvsa/CjWqTFFBAAQUUUEABBRRQoGUE6IWVDecYB/Ptt9+Od1LfYostQp8+fUL//v1bpnI5WWvNgDS7PbghzYIFCwJ36Gb8RbZFusQ4Jzwt3kzunP7GG2/EfYKevr1793afaOatws2Z5s2bF957773AcWnrrbcOBKS8tiiQVwED0rxuedutgAIKKKCAAgoooIACJRcgjPvggw9iAPTcc8+FF198MQakq1evjjcMIiDlLuuDBg0K2267bQzpSl4JF1gIqVOvuLVr14bZs2fHxyuvvBIWL14cw+rhw4fHu3dzF2/Doab74uA/f/78uD9wEy1OHCxcuDCGcuwL3EGdB+PHdujQoekqkvMlsw1efvnl8Oqrr8bjEicK2EdwX7ZsWXjrrbdyLmTz8yxgQJrnrW/bFVBAAQUUUEABBRRQoOQCzzzzTPjLX/4S/vrXv4b3338/9o6jh9bcuXPDu+++G9q3bx9D0m984xvhK1/5SsnX7wL/LkD4Q4/FRx99NPzTP/1TePLJJ2N4SpBNb1Ju5rTPPvuE733ve2Hs2LF/n9FXJRUglPvNb34Trr322th7l5MEhHEEdISnhNMnnXRS+Md//MfCHdVLWgEXFpYsWRJ+/etfh6lTp0b73XffPYajBNX0qiaYZn+xKJBXAQPSvG55262AAgoooIACCiiggAIlFSBwe/PNN8N1110XJk2aFMPR0047LZx88snx5if03iKcuOGGGwIhKs8DBgwI48aNs9dcSbdEKPQgff3112NYzfZ46qmn4s2bCOO4tJhCr7l77703/Od//mf48pe/HD772c+WuCYu7vrrrw//8z//Ex577LFwwAEHhCOOOCIMGzYs7hPsK+eff37cVyZPnhwWLVoUQzx6V1tKJ8CJgRRQDxw4MJxxxhnxhECPHj0CPaqvvvrqcNddd0X/0q3VJSlQWQIGpJW1vaytAgoooIACCiiggAIKlKnAmjVrwt133x3uuOOOGMBxOf348ePDgQceWKgxl9pPnz49jr84a9as8MADD4T99tvPgLQgVJoXadxRAjeGPBg6dGgMqrfZZpu4gqeffjrMnDkz9pwjLL355ptjT1+2Fb1K0/ylqU0+l8IJA3qOXnPNNWHatGmB4QwmTJgQvvCFLxRAGIOU3r3sB/S2Zv9hKAT2nS5duhSm80XjBRjS4KabbgpXXnll+Oijj+IJGXpTY0wZPXp0PFFDD1O2k0WBvArYfzqvW952K6CAAgoooIACCiigQEkFCB8efPDBGAoR/BA80EMrWxjrctSoUfHGQARz9DglSLI0nQDeP/zhD8NFF10Uzj333Pi44IILwmc+85nQtWvXuGK2AT1M77vvvhjUNV1t8rNkhjaYMmVKmDFjRujWrVscTmLffffdAIAe1GyHfv36xffZHukGThtM6B+NFrj99ttjD9FVq1aFww8/PBx99NGFcDQtlGEm9t57b8dETiA+51LAgDSXm91GK6CAAgoooIACCiigQKkFuBv6rrvuGkNRepOOHDky9O3bd4PVEJjSc4tp6U3K3aS5872ltAIpdCaQJhDism5C61S4e/2XvvSlcMopp6S3Ylh9//33xzFLC2/6otECjDHKmKPcLb1nz57hkEMOiXdLzy6QgPTQQw+NPUvpSU0P3k9+8pOhV69e2cl83QgBjitsA3rlprF3sR4zZkzRpe24447x+FX0Q99UIAcCXmKfg41sExVQQAEFFFBAAQUUUKDpBQg9999//9gjlF5wBHOMtUhhnD/uas/l94w/SjDKzZq4QY2l6QTouUjvxHRndEKjdPk8QRFjlDI+KWORcgOtF198MW6bpqtRPpZM+I8t+wGlY8eOYciQIXHc0awA+wD7COP0Et5xWT3DIfC+ZfME6DHKUBIceyjcgAnr3r17F10woXTNEzpFJ/RNBapUwIC0SjeszVJAAQUUUEABBRRQQIHmFWjTpk0YMWJEfLBmepEyBiahWxpn8fHHHw+MCUhQR2Bh79Gm3UYMe0AYnUoKR9Pf9DAdPHhwHDN2xYoVsccd81g2T4DhIwhI013RcU8hdc0lc9Mseo1aSitAQMqwEemGZCy9c+fOda6EEzw8LArkVcBvf163vO1WQAEFFFBAAQUUUECBJhNg/EXu3n3xxReHRx55JF52zx3SuYyVG9Iw1iVBXM3Arskq5IKLCnDZ/aBBg8JLL70UUkBKsG3ZPAEsFyxYEE8SpCXZWzpJNM8zvXjZBtz8KpUUWKe/s8+crPGETVbE13kTMCDN2xa3vQoooIACCiiggAIKKNCkAlzWOnXq1Hhn9OXLlwduTMONaMaOHRt7jz7//PPxUuM0TmaTVsaF1ytAjznGx0zjk9LLsb4Qqd6F+WFBgDA0O74uf7MvdO/evTDNxl4Q1nkCYWNKdX9O0E9AysmaVDzmJAmfFagtYEBa28R3FFBAAQUUUEABBRRQQIFNFiB8oCfiZZddFnuOMq7lhAkTwhlnnBHHJmWB9OriUnxL+QgQ3vEgHOVy+xSWlk8NK68mGDKeaAqbCUvnzp0bx7/kkvpihUCU3o6MW8pYmJsSphZbXt7fw5PvdbZXaDYszbuP7VegpoB3sa8p4t8KKKCAAgoooIACCiigQCMEGPPvZz/7WfjDH/4Qb/jDTZrOOuusQjjKIunVlQ0sGrEaZymhAMHdwoULYzBHKLfrrruGugK8Eq626hdFOLrVVlsVxrTkknvups64pHUVwtEnnngi/PKXv4x3Xa9rOt9vmAA3utp6660L445y3HnzzTc3uOS+YUtyKgXyIWBAmo/tbCsVUEABBRRQQAEFFFCgiQW4IRM3YeKmKJ06dQp77LFHDCiyqyW0oHcdlw4TWBiWZnWa5nV9l2kTyr3wwguxp12PHj3CzjvvHO+43jQ1yc9St9xyyzBgwICQLummN/WUKVPC7Nmz60TgRmaXX3556NevXxz2oM4J/aBBAhxnsMwG/jNmzKgzfKZne7Z3O73dLQrkScCANE9b27YqoIACCiiggAIKKKBAkwlw+eo777wTl08oR685LnHNFsYEfPXVV+Ol9oRH9Cjl0m56n86fPz87qa9LJJANfbKLpPfoc889F3vV8f5OO+0UQ23CbcvmCRDO0YN06NChcUHckOzll18O11xzTSCky95Z/YMPPgjPPvtsmDx5crx52ZgxY+KNszavBs7N93j33XcP3bp1ixicjJk+fXrsycvxpmZhO3DMSqXmsSu977MC1SpgQFqtW9Z2KaCAAgoooIACCiigQLMKcMOfzp07x3XSM/Fvf/tboccc4elTTz0Vw6Enn3wyBqMEEEuWLImXeHNXe+5ub4/S0m4yQp9sGJddOuZ33HFHDLEJkg499NAwfPjwwmXh2Wl9vekC/fv3D0cccUTYcccdCzPTi/Tcc88N99xzT5g3b14Mpx9++OE4NMX1118f7dkW9Oa1bJ4AAek+++wTtttuu7ggji2Y33777eGuu+4KS5cujccbwmtOFjB+cvYkDWEp0xCmMo1FgWoX8CZN1b6FbZ8CCiiggAIKKKCAAgo0iwBjWI4aNSreOZpwgUuGf/CDH4RLL700XlZPEMQYgFxmT69GQgemOeGEE8K2224bxo0bFwOL+i4Jb5aGVPhKUuBDM7gx0NSpU2Mv3WOPPTZecsz7uJ9//vnhhhtuCFwOzo20+NxSOoGOHTuGk08+OQ5hMGfOnLhgekw/9NBD4etf/3q89JvvOicPXnvttbDffvuFr33ta6FPnz6lq0TOl8QJG44vBJ3Tpk2LGnz3v/WtbwXGSGbMXQqBNWPEEpKmQm/TE088MQ53cMopp8SwO33mswLVKGBAWo1b1TYpoIACCiiggAIKKKBAswsQRnz605+OvbAIgei9+Nhjj8XHoEGDYk+6Aw88MAajkyZNij0Xly9fHsMLetrtvffecWzSZq94la1wr732ij1zCYTolUswTUD0yCOPxHEx6RHHWJgMdcC0xxxzTDj88MMLlyJXGUeLNYc72A8ZMiSGpITW9NZdvHhxIRDNVmz06NFxusMOO8wxYLMwJXi9//77x2MNYTTbgLFFGXf3kksuiaFpGlKid+/e8dhEWE1henrFb7/99oUTCyWojotQoGwFDEjLdtNYMQUUUEABBRRQQAEFFKgkAXqFHnLIITF4e+utt+Jl9ARD3NF7hx12iL22dtttt/DMM8/Eno1ccr/NNtvEgO6LX/xivLy7ktpbrnVlDEuCOXrlcqn2008/HQPSq666Kt40iO1EL17CuJNOOin2pCvXtlRDvXAePHhwNJ85c2ZhnF7axvi7XAJOz1F6UHtpfem3OMHnUUcdFbp27RqD0lmzZsUe7VxWTxjKUAhsoxEjRsRxYrlRVvfu3eMJmyOPPDIccMABgWVYFKh2AQPSat/Ctk8BBRRQQAEFFFBAAQWaRYAec9y5+xvf+EbsDff666/HUIhwgcuG6WFKjywCPC6759JiAqL0WbNUMicr6dWrV7y0ePz48TGQ4+ZYjK9IOMqdvQnsevbsGVLvuZywtFgzhw0bFn7729+GRYsWxXEw2RYEdtzIiZMEvGZfsDSNAHeyP+igg+JNyNgXCEbffffduC8QUDM8CH/zPuOWjhw5Mm4bjlfccMuiQB4EDEjzsJVtowIKKKCAAgoooIACCjSLACEpYQ+PrbfeOgZyhAzZQu9FAjpL0wmwHRgDkwe94RjiYOedd46XDRNUG8Y1nX2xJRNMM9YrD0JRtgXbgN7VbCtL0wtw3OHEAQ96V9ODlH2B8JTCa+54z7Zhn7EokDeBDf+lzlvrba8CCiiggAIKKKCAAgoo0EQChnBNBNuIxaZwqBGzOkuJBdgvvBFTiVE3cXEprM7ORlDN+xYF8irgqZq8bnnbrYACCiiggAIKKKCAAgoooIACCiiggALBgNQvgQIKKKCAAgoooIACCiiggAIKKKCAAgrkVsCANLeb3oYroIACCiiggAIKKKCAAgoooIACCiiggAGp3wEFFFBAAQUUUEABBRRQQAEFFFBAAQUUyK2AAWluN70NV0ABBRRQQAEFFFBAAQUUUEABBRRQQAEDUr8DCiiggAIKKKCAAgoooIACCiiggAIKKJBbAQPS3G56G66AAgoooIACCiiggAIKKKCAAgoooIACBqR+BxRQQAEFFFBAAQUUUEABBRRQQAEFFFAgtwIGpLnd9DZcAQUUUEABBRRQQAEFFFBAAQUUUEABBQxI/Q4ooIACCiiggAIKKKCAAgoooIACCiigQG4FDEhzu+ltuAIKKKCAAgoooIACCiiggAIKKKCAAgoYkPodUEABBRRQQAEFFFBAAQUUUEABBRRQQIHcChiQ5nbT23AFFFBAAQUUUEABBRRQQAEFFFBAAQUUMCD1O6CAAgoooIACCiiggAIKKKCAAgoooIACuRUwIM3tprfhCiiggAIKKKCAAgoooIACCiiggAIKKGBA6ndAAQUUUEABBRRQQAEFFFBAAQUUUEABBXIrYECa201vwxVQQAEFFFBAAQUUUEABBRRQQAEFFFDAgNTvgAIKKKCAAgoooIACCiiggAIKKKCAAgrkVsCANLeb3oYroIACCiiggAIKKKCAAgoooIACCiiggAGp3wEFFFBAAQUUUEABBRSoCIFWrVqFDh06VERdq62Sbdu2LTSpffv2hde+aD6BrHt2ezRfDVxTEsj6Z7dL+tznphdo165d06/ENeRKwIA0V5vbxiqggAIKKKCAAgooULkC69atCx9++GHlNqCCa/7RRx8Var969erCa180n0DWPbs9mq8GrikJZP2z2yV97nPTC6xZs6bpV+IaciXw99OAuWq2jVVAAQUUUEABBRRQQIFKE1i6dGn4whe+ELp06RKyAUWltaPS6tumTZvw3HPPFar94x//OFx00UXBgKJA0uQv6C23YMGCwnquvvrqMHv27LB27drCe75oegF6sbdu3Trap7V9//vfD3/4wx/cHxJIMzyzP7z++uvNsCZXkScBA9I8bW3bqoACCiiggAIKKKBABQvQU+v++++v4BZUdtUJSj/++OPw9NNPx0dlt6Yya58Cuvnz5wcelpYTSPvDU089FXhYFFCgsgUMSCt7+1l7BRRQQAEFFFBAAQVyI0A41LVr10AwweX2luYTWLlyZWF4g86dO8exYN0GzefPd5/hJd5///3Ya5SxeDt16tR8FXBNGwi4P2zA0ex/ZPeHZl+5K6xaAQPSqt20NkwBBRRQQAEFFFBAgeoS6NWrV7jiiivCiBEjwvLly6urcWXaGi4nJog755xzwsUXXxxr+bOf/SyccMIJYdmyZWVa6+qrVvfu3cOVV14ZzjrrrNi4E088Mfz0pz8NBHX06rU0jwAnZzp27BjOPvvsMGnSpLjSX/7yl2HChAnuD82zCeJa2B8mT54cvvnNbzbjWl1VtQsYkFb7FrZ9CiiggAIKKKCAAgpUiQDjzu26666hR48eVdKiymlG//79C5UdPnx46NevX3wU3vRFkwvgngrbY6uttkp/+tzMAnz/U9l+++3dHxJGMz4PGzasGdfmqvIg4F3s87CVbaMCCiiggAIKKKCAAlUgQE+59957rwpaUnlN4PLuVLjM29L8Aln37PZo/pq4xqx/drso03wCujefdV7WZECaly1tOxVQQAEFFFBAAQUUUEABBRRQQAEFFFCgloABaS0S31BAAQUUUEABBRRQQAEFFFBAAQUUUECBvAgYkOZlS9tOBRRQQAEFFFBAAQUUUEABBRRQQAEFFKglYEBai8Q3FFBAAQUUUEABBRRQQAEFFFBAAQUUUCAvAgakednStlMBBRRQQAEFFFBAAQUUUEABBRRQQAEFagkYkNYi8Q0FFFBAAQUUUEABBRRQQAEFFFBAAQUUyIuAAWletrTtVEABBRRQQAEFFFBAAQUUUEABBRRQQIFaAgaktUh8QwEFFFBAAQUUUEABBRRQQAEFFFBAAQXyImBAmpctbTsVUEABBRRQQAEFFFBAAQUUUEABBRRQoJaAAWktEt9QQAEFFFBAAQUUUEABBRRQQAEFFFBAgbwIGJDmZUvbTgUUUEABBRRQQAEFFFBAAQUUUEABBRSoJWBAWovENxRQQAEFFFBAAQUUUEABBRRQQAEFFFAgLwIGpHnZ0rZTAQUUUEABBRRQQAEFFFBAAQUUUEABBWoJGJDWIvENBRRQQAEFFFBAAQUUUEABBRRQQAEFFMiLgAFpXra07VRAAQUUUEABBRRQQAEFFFBAAQUUUECBWgIGpLVIfEMBBRRQQAEFFFBAAQUUUEABBRRQQAEF8iJgQJqXLW07FVBAAQUUUEABBRRQQAEFFFBAAQUUUKCWgAFpLRLfUEABBRRQQAEFFFBAAQUUUEABBRRQQIG8CBiQ5mVL204FFFBAAQUUUEABBRRQQAEFFFBAAQUUqCVgQFqLxDcUUEABBRRQQAEFFFBAAQUUUEABBRRQIC8CBqR52dK2UwEFFFBAAQUUUEABBRRQQAEFFFBAAQVqCRiQ1iLxDQUUUEABBRRQQAEFFFBAAQUUUEABBRTIi4ABaV62tO1UQAEFFFBAAQUUUEABBRRQQAEFFFBAgVoCBqS1SHxDAQUUUEABBRRQQAEFFFBAAQUUUEABBfIi0DYvDbWdCiiggAIKKKCAAgoooEC5CKxevTpWpW3btqF1a/uttMR2+fjjj8OaNWtCmzZt4qNVq1YtUQ3XqUCLC7Av8P13H2jxTWEFWlDAgLQF8V21AgoooIACCiiggAIK5EvgjTfeCNOnTw+vvfZaGD58eBg7dmwYMGCAIWkzfg0++uijMHv27PDQQw+F5cuXh1133TWMHj06dO/evRlrkZ9VrVq1Krz66qvh2WefDYsWLQoffPBB/L536dIlDBo0KGy//fZhyJAh+QEpg5auW7cuvPzyy+Gxxx4LS5cujd9/tkPXrl3LoHZWQYGWETAgbRl316qAAgoooIACCiiggAI5FLj//vvD9773vTBv3rxw2GGHhYEDB4a+ffsakDbjd4GQ7pJLLgl/+tOfAuHd6aefHgM6A9LSbwR6Js6aNStceeWVYdKkSeHtt9/eYCW77757OOmkk8KJJ54Yttpqqw0+84/SCrAtODmwYsWK8Morr4Sbbrop7gNsk5/85CfxOGRAWlpzl1ZZAgaklbW9rK0CCiiggAIKKKCAAgpUqMA999wTbrzxxhiO0oSOHTsajDbztnz//ffDI488EqZOnRqWLVsWevfu7eX1TbQNCONuvfXW8Mc//jGGccVW8+STT4a33norLFy4MJx88smxN2+x6Xxv8wQIR5csWRLuuOOOcM0118Re7GvXri3sAwz14eX1m2fs3JUvYEBa+dvQFiiggAIKKKCAAgoooECZC3AZK6HcLbfcUqgpY48aShQ4muXFfffdFy644ILw+uuvx/W1a9fOkLqJ5Oml+Lvf/S68+OKL4YADDggjR44Mffr0CStXrgxz5swJd955Z3y9YMGCMGXKlLDddtsZkDbRtuDEwPPPPx+/9wSjW265ZRz2gNWlfcBjURPhu9iKETAgrZhNZUUVUEABBRRQQAEFFFCgEgXoqUgYdNddd4V33nmnEptQFXXmUmIuK77ttttiMM04jDwspRegRyg9phl3lPFdzzrrrPjco0ePQEA3Y8aM2HuRwJrejYzN+8wzz4T33nsvhneGdaXdJtyMjLFfBw8eHPr37x/22GOP8Jvf/CYsXry4tCtyaQpUsIABaQVvPKuugAIKKKCAAgoooIAC5S/ADYHOPffc2FuuZ8+e8VLX8q91ddXwww8/jD1HuUEWPXe32GKLQK86A9Km2c5PPfVUuP7668Mpp5wSxo8fH/baa6+CdZs2bcL+++8fzjjjjNChQ4d42Te1YHsQrHbu3DkOe9A0NcvnUgmm6cVLIXwmuGboAwLSdKLAfSGf3w1b/XeB1n9/6SsFFFBAAQUUUEABBRRQQIFSCjz99NPx8mECiQkTJoTjjz++lIt3WQ0QIBxl3NHJkyeHbt26ha997Wvx7unMaijUAMBGTLLjjjtG5y996Uthl112iUvI9grlsm56lu6www6FpfMeNwnKTlf40BebJYAp44zyIKBOY+9u1kKdWYEqEzAgrbINanMUUEABBRRQQAEFFFCgPAQI5q699tp4ef1uu+0Wjj322LDnnnuWR+VyVAvC6csuuyz2lqPnIjcD6tWrVxQwIC39FwHTbbbZJnzqU58KI0aMiL11i62lU6dO8UZl6bNBgwaFfv36OSZsAmnCZ3pRWxRQYEMB94oNPfxLAQUUUEABBRRQQAEFFNhsgVWrVgXGV+Su9StWrAjf/e53Y086xl+0NJ8A4y4y/usll1wSLzGmF++2227bfBXI4Zoa2gOUmzNxST1lv/32C5xEMLhrni8M26ih26l5auRaFGh5AQPSlt8G1kABBRRQQAEFFFBAAQWqTIDwh3FHuSnT0UcfHQ4++OB4+fBHH31UZS0t7+YQjF5xxRWhe/fu4Stf+UoYM2ZMWL16dXlXOie1mzlzZrwxEzcNYjxSQlJL8wuksNTAtPntXWN5CRiQltf2sDYKKKCAAgoooIACCihQ4QKvv/56vLT+/vvvj73iuKSbm6RQuGO3pekF6Kk7Z86ceGn9okWLwhe/+MWw9957xxUTUntpfdNvg7rWgD93sb/hhhsCd1f//Oc/Hw499NDCPlLXfL5fOgHD0NJZuqTqETAgrZ5taUsUUEABBRRQQAEFFFCgDARuv/32eEk3YypyU6axY8eWQa3yVYV58+bFcPSZZ54Jo0aNCv/yL/8Se5HmS6F8WsuJAe5Sv3LlynDvvfeGX/3qV2HatGnxLvbcXZ2bB1kUUECBlhTwKNSS+q5bAQUUUEABBRRQQAEFqkaAEOjRRx8NV199dXjttdfCb37zm3DQQQdVTfsqpSH0Hn3ggQfC+eefH3uNnnrqqWHgwIGVUv2qrCdDTkydOjVw8oDQetmyZbGdTzzxRPjWt74VzjrrrMD4sJxUsCiggAItIWBA2hLqrlMBBRRQQAEFFFBAAQWqToDxRn/3u9+FuXPnhkMOOSQ+uCu3pXkFbrvtthjGccOfz3zmM3E7NG8NXFtNAU4ecGk924TLu7l5FoWhDl566aVw0UUXBW5sdtxxx8WbaLVp06bmIvxbAQUUaFIBA9Im5XXhCiiggAIKKKCAAgookAcBesTdc8894eabbw4jR44MZ555Zhg8eHCtpmfv0k1QxN+GQbWYGvUGYdvixYtjOMoNgAjbjjzyyNCtW7cNlod3dgxGt8EGPE3yx5ZbbhlvkDVgwIDw4osvBrbPc889F958880YltKrlBtqtWvXLnzta19zn2iSreBCFVCgPgED0vp0/EwBBRRQQAEFFFBAAQUUaIDAQw89FH7xi1+Evn37hhNPPLHOXos1A1LCuux7DViVk9QhQEj9l7/8JXBzrKFDh4ZzzjmnzpA6BaQ88zCkrgO1RG9zkzLGGiXE5rF8+fI4FMWkSZPimKSshptqMTzF6aefHjp27FiiNbsYBRRQoGECBqQNc3IqBRRQQAEFFFBAAQUUUKCoAJcI33333eHJJ5+MAenDDz8cp+OSYcIgArj0fN999xWWMXv27HDhhReG7bbbLo6ROWLEiLDnnntu0LuxMLEvNipAj8TJkyeHl19+OYbOV155ZWjfvn1gTFL8KQRvb7zxRuzFyN8rVqyIAR0BKeOUdu7cOY6FSaBnKZ0A+0D2Rky9evUKJ5xwQtw29CJ95ZVX4iX4ixYtCkuXLg1du3Yt3cpdkgIKKNAAAQPSBiA5iQIKKKCAAgoooIACCihQl8ALL7wQe7+tXr06vPXWW4ExMLncnlAuBXNpXnrOpUKwunDhwhjK7bTTTnG8zDFjxhiQJqBNeOYO6fPnzw+zZs2Kc7366qvhggsuiP6Mf5kKQSjjXxLKUQixuVEQN9Xi8m5uEsSNtQxIk1jTPXfv3j32Kn388cfD22+/Hd59990YmHKne4sCCijQ3AIGpM0t7voUUEABBRRQQAEFFFCgqgQI4FLvuDVr1sSwpyENZFpCIR4EcvRmtDROgBsA0VOUnofvvfdeYJvQK3FjhQCb7ZAC0/T3xubz89II9OnTJ+y3335x7F72A4abcMiJ0ti6FAUU2DQBA9JN83JqBRRQQAEFFFBAAQUUUGADAS6R527pw4cP32jvT3rL3XnnnXF+pueSesYtZczM3XbbbaPzb7Bi/ygIdOjQIey4445h4sSJgd6kBNY1e+8yMZfccxn3ddddF3v7durUKeywww5h9913D/379w9c+t27d+/Ccn3RtAL0ImU/YLtQ2I49e/Zs2pW6dAUUUKCIgAFpERTfUkABBRRQQAEFFFBAAQUaKrD11lvHy+T32GOPorOkMUjpGcdl3Ckg3WabbcIRRxwRdt555xjKcadvprVsugCu2267bbxBFj1J63Ls0qVLYEiEBx54IAakBHL4H3vssTEo5RJ8x7/cdP/GzoE32y6F2WzDLbbYorGLc74GCiTvBk7uZArkQsCANBeb2UYqoIACCiiggAIKKKBAUwkQbPJoSCFMTaVbt25h++23D7vsskudgV6a1uf6BQja8OSxsULv0jQdr+nByxiwBNaW0gkQwhFWs23qCqyXLVsW5s6dG4eXIBzdf//94/Slq4VL2pgA2yk9NjatnytQzQKtq7lxtk0BBRRQQAEFFFBAAQUUKCeB7A2DUoBEiGRpPgG8sU8lbYf0t8+bL8CYsNyNnt66PNdVnn/++fC///u/YcmSJWHs2LHh5JNPjpfZ1zW975dGgONQdh/IHpdKswaXokDlCdiDtPK2mTVWQAEFFFBAAQUUUECBChXIhhLpdXqu0CZVXLXxzprX/LviGlSGFb733nvDRRddFD788MM4fATjw+69995xrN3OnTsHeo4+8sgj4fLLLw+zZs2KQ0187nOfCwMHDizD1lRflQitUyi6evXqMH/+/A32ieprsS1SYOMCBqQbN3IKBRRQQAEFFFBAAQUUUKAkAtlgjp6MKaQoycJdSIMFkjt3sLcHb4PZGjzh7Nmzw+TJkwvT9+jRIxx33HHxZljcmOmdd94Jt9xyS3jppZfie9/61rdigFqYwRclFeC4s2rVqrB48eIwb9688OCDD8aQmpUsX748PPzww+Guu+4KBx10UBwDlhtlMTasRYE8CRiQ5mlr21YFFFBAAQUUUEABBRRoUYHsWIwppGvRCuV05Yw9SkmX22eD65ySlLTZw4YNC6NHjw6PPfZYXC49FrmUnu8/NyujF+moUaPCmWeeGW+sRYBqIFfSTbDBwuglynAHv/jFL8K0adNiQJ0m4CQBNy3jseuuu4YvfvGL4fOf/3wYMGBAmsRnBXIhYECai81sIxVQQAEFFFBAAQUUUKAcBD71qU+FSZMmxZ6j3JRmxIgR3pSmmTdMnz59wr//+7+Ht99+O7Rv3z4MGTIk9OvXr5lrUd2rIxwljJszZ07stUjvRcJobo5F70SeCeCGDx8eb5JV3Rot3zpOCAwaNCh89atfDUceeWRgjNgOHTrEsJoTNWwbglK2C9sk3cSs5WtuDRRoPgED0uazdk0KKKCAAgoooIACCiiQcwF61vGwtIwAPUU7deoULyWuWQM+y/bwrfm5fzdMAMfevXuHcePGhf322y9eyr1y5coYxvXq1Sv6N2xJTlUqgTZt2gTs2SYNLe4PDZVyumoRMCCtli1pOxRQQAEFFFBAAQUUUEABBeoVqC8Are+zehfqhxsIZB25bJ4eu5bKE8hux8qrvTVWYNMFWm/6LM6hgAIKKKCAAgoooIACCiiggAIKKKCAAgpUh4ABaXVsR1uhgAIKKKCAAgoooIACCiiggAIKKKCAAo0QMCBtBJqzKKCAAgoooIACCiiggAIKKKCAAgoooEB1CBiQVsd2tBUKKKCAAgoooIACCiiggAIKKKCAAgoo0AgBA9JGoDmLAgoooIACCiiggAIKKKCAAgoooIACClSHgAFpdWxHW6GAAgoooIACCiiggAIKKKCAAgoooIACjRAwIG0EmrMooIACCiiggAIKKKCAAgoooIACCiigQHUIGJBWx3a0FQoooIACCiiggAIKKKCAAgoooIACCijQCAED0kagOYsCCiiggAIKKKCAAgoooIACCiiggAIKVIeAAWl1bEdboYACCiiggAIKKKCAAgoooIACCiiggAKNEDAgbQSasyiggAIKKKCAAgoooIACCiiggAIKKKBAdQgYkFbHdrQVCiiggAIKKKCAAgoooIACCiiggAIKKNAIAQPSRqA5iwIKKKCAAgoooIACCiiggAIKKKCAAgpUh4ABaXVsR1uhgAIKKKCAAgoooIACCiiggAIKKKCAAo0QKLuAdN26dY1ohrMooIACCiiggAIKKKCAAgoooIACCiiggAKbLtB202dp2jlatWoVli5dGubMmRNXxN8WBRRQQAEFFFCgpQQ+/vjjsOWWW4Y+ffqEvn37hjZt2rRUVVyvAgoooIACCiiggAIKNIFA2QWktPHZZ58NEydODPwgadeuXRM020UqoIACCiiggAINE1i9enX4xCc+EY466qgwfvz4sMUWWzRsRqdSQAEFFFBAAQUUUECBihAoy4B0+fLlYdasWeGjjz6qCEQrqYAC/1+gbdu2sWfVhx9+KIkCCihQVQIdOnQIixcvjidvq6phNkYBBRRQQAEFFFBAAQVCWQaka9asieEoYcuee+4Zdtttt7B27drg+KR+YxUoP4HWrVvHwOC5554LTz31VBwi4+ijjw5bb7113Gfdb8tvm1kjBRTYuABD/HD8WrJkSbjuuuvisY3/P/GYtnE7p1BAAQUUUEABBRRQoNIEyjIgTYhbbbVV+PKXvxy++tWvprd8VkCBMhW4/PLLw69+9as4RMb3v//9MGbMmDKtqdVSQAEFGi7w2muvhSeeeCJwmT0nhBwbveF2TqmAAgoooIACCiigQKUIlN1d7LNw9NLgB4lFAQXKX4DL6hk3mPLBBx+Uf4WtoQIKKNAAAY5nHNsMRhuA5SQKKKCAAgoooIACClSoQNkHpClwqVBfq61AbgSyl5263+Zms9tQBapagOMaQ/xYFFCgfAToyd2lS5fyqVCOatK+fftCazt16lR47YvmE8i6Z7dH89XANSWBrH92u6TPfW56AW+a2fTGeVtDWV9in7eNYXsVUEABBRRQQAEFFFCgbgFu4vrKK6+Ejh07Bm7saml6AULpzp07x7GY09reeOONwNVDS5cuTW/53MQCPXr0CLinsmzZsrBixYqwcuXKwlVc6TOfm06A/YFAFP9UFixY4P6QMJrpmf1h4cKFzbQ2V5MXAQPSvGxp26mAAgoooIACCiigQIULcOO0Y445JrRr185QqBm3JaEQ9ql897vfDeeee67bIIE0wzPb4P333y+sacqUKeH22293GxREmu8F2+Kdd94prPDb3/52+OEPf+i2KIg0/Qu2AScILAqUUsCAtJSaLksBBRRQQAEFFFBAAQVKLvDee+/FZTLsRbYXXclX5AIbJLB48eLAw9JyAvSgthd1y/ln1+z+kNVomderVq1qmRW71qoSMCCtqs1pYxRQQAEFFFBAAQUUqC4BbpI2ZsyYeAlr165dq6txtkYBBRRQoNECjBfPiYJhw4Y1ehnOqEASMCBNEj4roIACCiiggAIKKKBA2Qm0bds2XHDBBV6+WnZbxgopoIAC5SHAvxMWBTZXwG/R5go6vwJz8kNZAABAAElEQVQKKKCAAgoooIACCjSpQIcOHZp0+S5cAQUUUKCyBehNyhUHFgUaK9C6sTM6nwIKKKCAAgoooIACCiiggAIKKKCAAi0tYDja0lug8tdvQFr529AWKKCAAgoooIACCiiggAIKKKCAAgoooEAjBQxIGwnnbAoooIACCiiggAIKKKCAAgoooIACCihQ+QIGpJW/DW2BAgoooIACCiiggAIKKKCAAgoooIACCjRSwIC0kXDOpoACCiiggAIKKKCAAgoooIACCiiggAKVL2BAWvnb0BYooIACCiiggAIKKKCAAgoooIACCiigQCMFDEgbCedsCiiggAIKKKCAAgoooIACCiiggAIKKFD5Agaklb8NbYECCiiggAIKKKCAAgoooIACCiiggAIKNFLAgLSRcM6mgAIKKKCAAgoooIACCiiggAIKKKCAApUvYEBa+dvQFiiggAIKKKCAAgoooIACCiiggAIKKKBAIwUMSBsJ52wKKKCAAgoooIACCiiggAIKKKCAAgooUPkCBqSVvw1tgQIKKKCAAgoooIACCiiggAIKKKCAAgo0UsCAtJFwzqaAAgoooIACCiiggAIKKKCAAgoooIAClS9gQFr529AWKKCAAgoooIACCiiggAIKKKCAAgoooEAjBQxIGwnnbAoooIACCiiggAIKKKCAAgoooIACCihQ+QIGpJW/DW2BAgoooIACCiiggAIKKKCAAgoooIACCjRSwIC0kXDOpoACCiiggAIKKKCAAgoooIACCiiggAKVL2BAWvnb0BYooIACCiiggAIKKKCAAgoooIACCiigQCMFDEgbCedsCiiggAIKKKCAAgoooIACCiiggAIKKFD5Agaklb8NbYECCiigQIkEPvrooxItycUooIACCiiggAIKKKCAAgpUikDbSqlopddz3bp1YdmyZWH58uXx8cEHH8QmbbHFFqFr166hZ8+eoVOnToVm8vnSpUvDmjVrwlZbbRXatGlT+MwXCiigQDEBjjNr164NH3/8ceB1q1atCpPxmuNI69alOS/G8jk+ZQvv8aC0bds2ri9bh+y05fZ6yZIlYc6cOWH27Nmhffv2Yffddw8jR44st2paHwUUUEABBRRQQAEFFFBAgSYQMCBtAtS0SIKC1atXx0D09ddfD3Pnzg3z5s0LCxcujGEpQUX37t3DoEGDwogRI8KwYcNCv379YoDBj/Tnnnsuhg0TJkzYIDxNy/dZAQUUyAq8++678fhC2EdQSiGg5FhEYMnJmK233jpsueWWm3XSZdWqVeHNN98M8+fPL6wjvlj/H9bVuXPneFzr0aNHaNeuXfqobJ8JlJ999tkwefLkcO2118aAeeLEiWH48OGhQ4cOGwTNZdsIK6aAAgoooIACCiiggAIKKNBoAQPSRtNtfEZCihkzZoSbbropPProozFQ+PDDD+OPbXoodezYMRA08B69RwlIDzjggNhz6eabb47T77LLLuHoo4/e+MqcQgEFci/wxBNPhMsuuyxMnz49nphJvTgJADneEPgR/O2zzz4xJG0sGOuZMmVKuPrqq+PxjJM9qecoIezo0aPDqaeeGvbYY4/QrVu3xq6m2eZ7//334wksTkq99dZbcb2zZs2KoSnHYBwtCiiggAIKKKCAAgoooIAC1Svgr74m2LZcHv/444+Hu+++Oz7omcS4doMHDw6jRo2KPasIDbjcdcWKFbHH10svvRToZUqYev/994fnn38+Bhr09krBQxNUtWSLpI7p0l7a5ZAAJaN1QQo0WIDjxaGHHhqPNRxHODHDiZpUFi9eHPbbb7+w3XbbNTog5Vh27733httuuy0eu9Ky6ZW67777BgJFjnPbbLNN7H2ZPi/n59S7luMyPV4ZOqBXr15x6JNSDUlQzu23bgoooIACCiiggAIKKKBA3gUMSEv4DSAkZNzQp556KvauIux84403YlBAj63DDjssjBs3Lv6dXS3jkj722GNh2rRp4c477wz33XdfDEW5PJVL9On9Ve6FS3sJX+gNO2DAgBgslHudrZ8C1SZAD1EelHvuuSdceOGF8ViUTrJwQmbmzJkxxKTH+qaGf5wEee2118IjjzwSXn755QIfl9QzZueZZ54ZDj744MDYypVU6F27ww47xPCYcJRhCQh7hwwZ4uX1lbQhrasCCiiggAIKKKCAAgoo0EgBA9JGwhWbjaDz4YcfDr/+9a9jgLBy5cowdOjQcNJJJ8XL5D/xiU8U7VGVel7xOQ9CjQceeCCGowSklXBXZcISgl2C0k9/+tMGpMW+IL6nQDMKcHk7++Xll19e6IVOUPrQQw/FMJOepFwOvyk3UWL/JnhdsGDBBiduCEg5McKjEnuPY7DjjjuGvn37hsMPPzwOeUIP0k2xacZN66oUUEABBRRQQAEFFFBAAQVKLGBAWiJQelZxWT03+GB8vvfeey/ecInLXfnBveuuu9Z7sxIu8ezdu3c48MAD4+Wd9ETlknsC0nTH+xJVteSLodcoY/fRq4yxVBlX1aKAAi0rwL7Yp0+fDSpBQMrNlejlztAfe+655yaNr8m87Of0Is0WQlF6YdJztBIDUtpCvQlICUYrtQ3ZbeJrBRRQQAEFFFBAAQUUUECBhgu0bvikTlmXAJfAv/LKK+Fvf/tbHHM0jfm3/fbbx96UI0eOrDcczS534MCBMVAlKGU8QcLHcg5IuRyV8VIJTZ555plYV3tdZbeorxVoOYF0kyb2SQLTFPwRkDKcx6aczOCkzwsvvBDD1bS8bMu4XJ/3K33/T0bZtvlaAQUUUEABBRRQQAEFFFCgugUMSEuwfenl+eCDD8ZLzAlK6aXVr1+/eKOSxtwtmh5MXKZOr1MCUh7lOA4p7eSOz3fccUe87JZeZby3qeMalmATuAgFFCgiwL7YoUOHsO2228bhPhjXmPcIOhkj+e233y4yV/G36NFO7/hXX301Xo7OnepTSaFoek7v+6yAAgoooIACCiiggAIKKKBAJQh4iX0JthI3J5ozZ06YN29eIcjkRikECIzxt6mFXl9jxoyJYQQBBr00eXB3ZcYjzfbSSq9TKEmQyuX+BJWU9Hl6zXR1hRiMoUrAy/iC9CzbaqutwqBBg2LPs0WLFsX1d+/ePfCgLFy4MA4pcNlll4VZs2YFxiFk/dSR9ae6ss5Uvzhj5j+Ey/RApZ1Mjxd3v2bdDS0sg8uFeSZcJgxKvcDmz58f2/T+++/HejPGK2O+1izUl7YTAmHN9qPtdVnVnJ+/CbK5KRffA7wIo+gFzAOb+sqyZcvi+lnG4MGD41iOWNLTjx7J/fv3D0PW3zCGXoAWBRoqkE5Y8J2id3qXLl3Ck08+Gfdv9g3GE2V/4NLy+gr75osvvhiPc7xmfFN6tnM3+8YWjjPscxx32rdvH08qUc9i+2daB/sED9qV3Tf5O73Hvl/zeJOOS9l5WCbH2prvsf9yPGe/3XnnndOq631mSBTawnGM4y9DG2y33XZx2JR6Z/y/DzmWzp07Nw7NwjAFbCuOY+z7LJvjIstkGAOLAgoooIACCiiggAIKKKBA6QUMSDfTlBsxETTQI4ugNBUCtlGjRhWCuvR+Q5979uwZDjjggNCtW7cYahBAsg5+SPNjnx/1hACMW7rLLrvEB38TtBEWciMWgr4UABAecBOSvfbaK4aI2QCBeRhDlF6whJX8zef8GOdHOT3Q+KG+9957x7s8E5BSn1tuuSXccMMNMcSjTqyPYGHKlCnxJlOsk/pxd+vddtut0HSmpecpyyAA5EYyLJ9ggSCR3rfc7IW7bDNGIuFNtr4slwCXMJNQgro//fTTMUSkxy515rPHHnsshsyEloQ5WI4YMSJ86lOfiuE1hoQP1JnxYwkoGGORehDU4ErIvbGQhHmoA8ET4QrbiPYQ9BBsprCcdVO3VLhkmelpA/XnNe0eN25c4G7jt912W1wmN8ZhOYcddlgMpghPLAo0RCCFhnzv+P4RsL/00ktx/2E/v+6662LP0voCUvZXjm3sq/QeZTkMG8I+tqmF7zzrZ19hn2EZHEM5+cMxjxMjBIMsn+MVwSmFffKdd96J+ylBLSc82H9TuEkdOXZwcoXwlvZw7KOwHob/YD/Dg4CXEJIb6HF84XjDPksPeI5/s2fPjseEz372s7EO2WNPXOD//Yc6MT1tYR6OA+k4xskR9ln+DfjkJz8Z60Ubs4X5WS83t6NnLscpjqG0mWMs87M8jsMHrh9yhXDbgDQr6GsFFFBAAQUUUEABBRRQoHQCBqSbackPdX5YExzw4z8VAjbGIN2cQiBJoEmQQXh5zTXXxIAgG0wQvn3961+PgQI/5KkDP7b/+Mc/xh/f1C8VfvDTK5If3+lHP8Eh44deffXV8ZJbwgMCOIJN2kSQSQ8vCiEE4QPPhKNXXXVVDB0IUNNQAAQFBJ4sn55chCm8TgEpoQCB8rRp08LFF18c60pwSXBD2EF9WSeFHljnnHNOOPD/xmNNAQOBIaHm3XffHUNEwmDqTRBByMLysCK8JfSsWfCkpykO999/f5g6dWq4/vrrC+1M02N14oknhn/9138t2hOMttBT9K677orreuCBB6INAQf1IdAhyCXYIJRlWQcffHBcL58REDPvrbfeGl8T3hCO0luMZf/oRz+KHqk+hLk4EaKmYCh95rMC9QkQrPF9Zv/gWEJPR/Z9hsfgO8mJhdTruuZy6JlNuMj3lX3viCOOiCEmgWBDC8cMQv+HH3447psEs+wb7IMEmQSD7Jccvwg3jz322PCVr3wlHj840cD+wHGB/eXGG2+M+zXLzBaOhUceeWQYsr6nNe1kuexThJgcq26//fa4DuYhSD3mmGNiL1GmYTxWhhzgeEBQSSFAZb3pWBnf/L//UHeC3ksuuSQuFx9CUQrHMIJNlsu/A6eddlo4/vjj4wmfFNoyHX44/P73v4/HTOqNBxYcV6gHbWQZPAiNLQoooIACCiiggAIKKKCAAk0jYEC6ma6EDPSu4kEolgoBY32XiqbpNvZMEEbgR2Cw3377xZ5QP/nJT8Kjjz4aZyU05Ac8P8YpXBZ6yimnxBCD0I9ggFCCwo/zbLBG8EEISphIuEePyRNOOCH2qiLU40c64R3hKb2kmDcFBgR5BC6EnQQP9MAkJCUIPeSQQ2I4zI97QoMddtghrp//0FPyyiuvjMECPcdYDvUlTGb5BJ9//vOfY30IWn/+85/H8IBwN93sikD0vPPOi2EK9U/ubAvaQfhKmEgISrBAYEGozCW91ImbaRFiEqjQNtbJ+umBRkDDtGxPnpmWXmAEnNnen7SFQIe6YsS6Tz311LiNCHhwwZUQl56hhLUEH2wrAiYMCHoIUvic7UdARQB1+eWXxzCJIJTPeVAImAirUy+z+Kb/UaABAnxn2B922mmnGAby/eS7xveWEyocIzghkz0+pMXyvUu9o9lHGBuZXpd1Bappvuwz31v2kyuuuCLuo3y32acPP/zweHwjDGRfu/baa2PwyD5AAHnmmWfGfYrAk3104sSJsVf3pZdeGi/vTydv6G1++umnh5NPPjkeczhpQ6E99Lxmn+R4xYkjlvPlL385jvPMMYjjJCdJONGFSSrFglE+47g5ffr0cNFFF0UXjktnnXVWPD7xGSecaCeBMsv805/+FI9BhKRp3FbqPWPGjHh847j5+c9/Ppxxxhmx1yh/My/Lx4RSV13ih/5HAQUUUEABBRRQQAEFFFBgswUMSDeTkB+z/KimR1G2cAlnqQo/jgkseXDZJb2WCEh5Pz3SughB6YXEg0CVy+1TQEqgkQ1ACEfo+URAQiBIWME89Jyi0MuKeQgY6XGWekbyGWN58jnzEzByCStBJZfI0huNnq/8TX0IVQgACSjpAUYgQfjIuuhVmUKStE7Ww3xcYk7vL4IVlkFIQuBJ0EGvN9pCzy8uU2X59MiivgSZhx56aAyDCGjZPoy1SG85Qld6uRKMEJASMB911FGxZyzT0k5C1hRSEsByCSyhUDYgxYTQiF5nvD7ooIPC5z73uehCOwiiWB5tIXyhDgS7BNgMOUDvWEJXAlmCUr4/POjxynq4vJghFjDDl+kIn+nduynBFHWxKMCJDfYhgkT2XS475zvJfsOl8/Qq5UQAx5hs4XP2CcYa5XjBSRQCRk7+1OzBmZ0v+5r9g/2YXuesh+8v+xw9OFkehZ7mHLNYJuEi07Pf0WOafZSeoYSeHF/Y9wl8CXk54cKxguMt+w3Ba83CZ/TK5pn9juMOxweOJZx8YN0sn+PgzJkzC73Oi4WS1I91cmyiLfRaZ7/npnqsg8LxibqyPzMtISknShg6gGMO03Hc5LjMcZD1c6k/x8xUCHTZZtQPf4sCCiiggAIKKKCAAgoooEDTChiQbqYvASkBAD9mUyEUS5eDp/dK9Uxg0NCeqQQO2VCvZh2oO6Eil3sTfhAI8F62EIbsv//+sVdUNhQhbOFBTyjqROhBYMlres+y7mwhLGBM0Bnre00R2lIIOggm6CGbCiEoPcsIDggXCAgJX+n9Rk8tlsuYoAQNhCTUm8tiqQfbgfUTPBK+EIakwvsEKoSpTMc4hiyTHrP0MGN5FAIQQhbCHHrO8aAnGz1Ss4X3CG4JWwlJ9t133xi4UKf0XSD84XPCJZZD0EGwTT0IkVkv7aOtvIcRQSjLO+mkkwqfswzWz/IIuAxIs1vC1w0RIOjke8P+xTAZhPuEpBTCOnqA8x3k+5U9drFfsa8QHjIvQR4hJctraEDKyRdODnDige833316UXMSIFs4qcDxh3qxr/Cdv/nmm+MJG/Z5gkeOURzT6KXOPkrdOAawXOrPg/plw032SaZjP6J93ACPZVFoEyc32Oc4ccOxsNiwHKmeeNAOwltec3KHExkcG6kHxtTvwPXDgnDig2MYhfVz3GN/JyBln+cYQj05jvLMcSPt25xcGT9+fDx2sK7sia1UF58VUEABBRRQQAEFFFBAAQVKJ2BAupmW/KDnhzGBAYUfuvy4bcqbaRDAsp60zrqawI/q+n5YMz+9PAlEuFyc8JJAlBAy3QiIYHHI+rHxuDSUy2qzy+MHPY9sPdIya9aJ5ROS0DOMQihAKElIWbPQNoIYwodJkybF0IQwgd5dBBzUjzoT0NDjDW/CCnq00jPsuOOOq9WTjPYQmFIHAlJCUHqv0pMthSXUg3VjQHDCZb+0h/WwnXmd2k+gRC9T3qO3GMMRsGwCDt5LDwJZPk/zpbEF6cXHe+n7gjOFcIfwh3bQLtpKfagDbaa3nEWBxgik4J6AkqCeXo30pGbfoWc1+xcnN7InVRj+Ie0zHAP43hIGsg/xHW9IIQzkknTCwXSZP+vIBrEsh/2E3pT0ZOU4QUBKuEm9ODZx0oD9hUI9OSlB8MjnBKoEoDzYt9N0TEv7mI7gldCR/anm8Zl10676ev5z+Xw6cfPq+p7l6fjHsYle3niwT3MM4N8EHqnwmjFUMSAYTscHpqdunOShlzonQVIdOEYSZrPe9F5ans8KKKCAAgoooIACCiiggAKlFTBt2UxPAisCyxSAEWTREzCNi7mZiy86O+vi0dCAouhC1r9JKMClnAQDFEIJLt/nmRCFMQn5nCCTXp38SM9ewtrQ9RMO0LOLIICAkLoTVhJy1FUIEQ5c3wtrypQpcRIuByaIoIcXwQQhBCEIIQv+FNpBfQkWawaJBJCEjSkYoe1D/u9mLnHmzH+YlmVQaCPbNPUMTcslKCHsYP0vvPBCnIZQlToxPYV20kOXMIm60QbWS283lpemYRnMx/Rcgk/Qm5bFNKlXWZzB/yjQSIG0v7LfEcTxIFzku8h3mR7evJcNSLn8nvFz2W8ILunlmU4CNKQa7KuErIzLyXGA3pMcQwj/+L7XLHzOeuixStjJcfTV9WFkGsIjhao8cyKB+tEGjrlMRwhKD1H2Hwpt5rjBZe7Mw3jInISoWWgTx5G0f9f8nL8JKtmfCToJlvmbYTvojZvteZ986DnLfk87WS7HBY4FPHOyiX2d+nE8oFcq748dOzYeezHgmHDg+mMgl+YztErN4Q+K1dH3FFBAAQUUUEABBRRQQAEFGidgQNo4t8JchIb8cM2GWPzg5cdzUxV+VKewY3PWQehBGDdkfVDIj3wCPMbqJFDgclAuvaUHE2EmwUnqubqp6yRMoDcmvby41Jz1ss4UzBZbXuo5iS3zE66wDOpIoJO8CR8IEiiEEDyK2dQMQJiHsLKuwnppL8siuOCRCiFtunESyyHUoWccQwXwd3b9fJYu9ec7QfjE2Icp1KX+KShiXpZBQJveS+v0WYHNFch+L9mf6aXMfs/+xPeZGwNxEoPvK99/jmP0lOaECcNBENpxAoKS3R/qqxe9N+lFzb5LIRhl365r32M/5dhAeEigSUBK73OWwbEj25OS3qaM58t7BKSchCFUJcTk2ML87EcEqPSQZZkEpHWdmMnui8XaxP7Lvk99aD/7NvsrJ1OyAWma98D14SYBcdqXqW86wcQxgCFDqDuhKfXj+Ig1J1wY1iQNK8D2wCEd89LyfVZAAQUUUEABBRRQQAEFFCidgAHpZloS9vFDueYPfgK9ci8ECIQG9LgiFCUModCbjECD3lEEpJ/5zGcCd2BOYwBuarsIDwgVCDj4oU8oQA+vmmY1l4stPacIDlgG4QTLIHQoVgiA0qPY5ymoSJ8RcmRDo/Q+zwStBJbZIIj5mZ5esAS1FMIeLts9df0d7Ak/CDGy88SJavynZhBTs16pDTXfr7EY/1Sg0QJcZs74v7///e9juEjAmG62RnhKSM8N1eihSfjPjY3SOL2bslIuk08nE5iP/Ypl81ys8N1nn+KYmgJB9nfqxzGEurBfpkKISHh7++23x2MWbSBsZEgNlsO+yBie9CBl3FPC1/rWXdfxgPVx7GK/50Gd6Nn5/e9/Pw77sbF9nvnT/swzJ0oYsoDQlN6xhK8c2+jFy4Mbu3Hc5bjCzZvqqjPLtSiggAIKKKCAAgoooIACCmy+wN9/aW7+snK5BHoC8kOcR7bQ4ymFaNn3y+k1QQNB5YQJE8IZZ5wRL1lNl9cSFNCzjN5Xf/7zn8PPf/7z8Le//S2O57epbSBYoBcoIQeFcIHgpFivq+yysSUgJVBlGYTO1CkbRhA2ZAOT7Pylfs26cKHuhBmUVC8CjhToUJ/6HikoqS+MKXXdXZ4CNQXoPc7d1+lRyT7FJeGEddykiJMR1113XbzUneCfITc4mbKphf0k7SvMy/7CcYDnugrhKD1A037NfsIxo+a+z/xDhw6NwSfTMx2X2dOLNPXyTHeRp5cnbaBnbGMLdaBHLMchvOipmkp9+3v6jP0+7fvMx5ij559/fjj99NPjuKjZEJTL+K+++urwzW9+M/zwhz+MAW/2uJfW67MCCiiggAIKKKCAAgoooEBpBIp34ynNsnOxlNTLkRCBS9JTGMClqoQN/ChvbOEHcQoF6O2Z/QHd2GXWnI9Qj5CBMJJggrHwuIELl3rSFoI/XhMKMg31oEcTr7M/9msuN/s3AQF1TwEibWIMTy4tra8wfbpUljAV63TZbH3zNfVn2bakS/+5vHfI+t5pKdQpVgfagCfTEPrWN22x+X1PgVIKcFLnmGOOicete++9N4aQ7Ou8Jgh88MEHY+jIDdPocbqxHt/F6sb+yiMV9gFOHLEfFCscU9g3WFf2+MK+wnvpGJLmJdzdbbfd4rAA9Owm5OWkDpeoM/+tt94ahwqglzyX4zemDWldLI/1pzowBEEakmBj+zLt5UGIS0jLMz1p+fcBH8JnxmnFnx78GNEWHrSLgJdtRa9ViwIKKKCAAgoooIACCiigQOkF7EG6mab8yOXSc+6unh3bjpuF8EN9Y70k61s9P47pzUVv1Owl+9nggPn5sc1jUwu9uAg+6S1G3T/3uc+Ff/7nfw6nnXZa7E3KeH2pZyyXud92223xztcpBK5Zj7rWT5jKcghgeU1ASqDIeusrLJ8HbWM+xj9kGSlwaUyb61vfxj5jfdQHK8YepNAbjl5rjBu4scCX7cjYrrQ9uz03tl4/V6ApBAgLCei4M33ap/guc7n65MmTY1DHzdK4hD193ze1HvRQTzdMYl72EY4l9Civa/8lbMweW6gboSInS7Lvszw+43J6hgLh5kvsjxx3Of4yviq9YAlcGT+V43QKN5l3UwsnRnBIvVA5gcXd51lXfYXjHZf4Mx37PvMRQDOMCR4E0GeeeWaYOHFiHMqEMJcTbmmbMA83z2OM2LqC5frW72cKKKCAAgoooIACCiiggAIbFzAg3bhRvVPwI5Yf5vxApydm+gFOsPnQQw/F3llcmrmphQCNH9+XXnppDN8IFFIhQEjr4cc2yy+2Dn7Q80iFQCIbSvDjnF6urIfLUincEOS4444LP/jBD8JZZ50VDjrooMKNWegtxSWr9JxKYWFadn3PBBSEJISb9AKl0CuK0KC+UJE2sS5CD+Yj4GA5hKXNXVJQyzN3oKYtFPzZ1g8//HDc1oQhdRWCGwIbrOtrd13z+74CjRWoGSyyHI4jhP2MhcmDwv7GMeHOO++MJzLonUlvzMbuc5wYYR3peMVJH8YJTeN4xpXW+A/7OyeW2Lco7PP0sOQGT8UK+yK92tPN0FLIe9VVV8UhAghHCSEbU7JuHEvTiR6O+4SVrIMb2xU7/qb1MR3jOXOCiWMFhRMq06dPjxYcC2gDwSgnp7is/qSTTorBL9MyP8dLjr/pZle8b1FAAQUUUEABBRRQQAEFFCidgAFpCSzpUcSPW+5KnHpcEjQQJt5yyy1h3rx5m7QWQrabb745hhQECvRayoYD9PxKl4rSC5Qf0MWCOS5jz66bH/GEIik0ZT7CBG4KQmjHsggEWB83Pzn88MPjGIWEvwQkhKL0/uIHPeFFNjyggXzOOrLvp+CA3p/09ErBItPTm5Iwpq5CKEyvS+rFzVm4SQzP2eVn52X9PEpRii0nvUevYdqStgHjBRJ+Xn/99UV7kzEf3wVuFoMz86XeYTXrimtaT83P/FuBTRXgu5R91Jyf4JLjFscvTmRQCCfpJc7NmggWGZeY40a2pGWm99LfPGcLxw32FY4nrIvjIjeE47hU10kCepbTsz0dOwg+0zEou+z0mpMn9HTlhkfsm9SBkz4El7xm3p122ilNXuczx5Wax5Zse9hv6dlJYMt62FcJOrmM/6abbiraI54gmP2e8Zs5dvLvAw6MX8pQJgSnqSc9/pwE4oZY3KDpgAMOiGMwUweO1YyrSs9TiwIKKKCAAgoooIACCiigQOkFNvzVW/rl52KJhAeM0bf33nvH8fBSL0nCx2uvvTb2FCIQSD/460MhGGAc0ClTpsQQgfCCy/ezASkhIw9+OBMyENDRsyiFpPTAorcRd6HmMtNUeJ8f2Kk3KtPzA56gkss3+dGeem0xD722xo4dG8fuq6sHWQoVMCDI5Mc+IQjLYdkEg4ypR7BJW7I3euEO2YQHxYIS6siYrrSLdTD2HvOznFR4H4PkymsexQrTZgvTZdua/YxpWWb285rLJozZd999Y9CJI97XXHNNuPHGG2PPYepNuE3bGcuRG67QXoJRQpB0mW52vayDbcTyatY3O52vFWioAMEa3yue2T+LFfYtxudk30w9PQnrOEFCuFissKzs8lgH+wwPXmcLN4M68MADC/su+wTHOHqQ1yzMy77Evs9+QChJL1aC2nRip+Y8vM8+RUhKL36ORVyWzskVgll6kDZkiADWna07+3/2GEBdWA+BbbqZHZ/Tlr/85S/xhBZjiLLfcywlCCYApZcpx3+OXfw7QeH49vLLL2/QqzS1i2MDPXoxI1ymcDxg26Ttk6b1WQEFFFBAAQUUUEABBRRQoDQCf7/+ujTLy+1SCBAPOeSQ+AOWH/f8OCb4o3cmP/QJzI4//vgYdtb1I5ceQoRsv/vd7+IYlVxmefLJJ8ceS1lYLunnwTLplUTvxSHrbxBEaMo4fdzs47e//W0M6ghPU+EyTQJTAlx+5BNwECYQSBBacCltCl/TPPSUotcTIQQ/0vnBTtiQ2sAzbedBOwla6SXJ3ecxoHcVYxyecsopYdy4cfGS0ieeeCL2UiNMuPvuu2PwSdjIulLhMlwuScWE4Iaghrs+075UqA/rTON5Es7wdzbkSNPyHu1lGgp/1zUty2WZTE+703LTvMxPYMPlsFizHAIP2n3eeefFy+gJQrgUn5CGYBRfwhrGfMQwhT2sKy2XsIVtZC8xhC2bK0AoykmK9FzsRATrYH/m+8o+xgmOJUuWxACQ4TUYh7hYYVnZ5fEdpudpujQ+HR+Yl/2XYyMnCjhe8f2++OKL437A8rMnX9jvGJqEYxr7AyEhx6XsiZWa9eEYxmX8LIt2cOxgXvazCRMmxFCz5jw1/2Z69uO0L/I5f1MfglEK66EnPCeNUi9YbDHjOMZ6WT+9TFleNuhlv8eXzyjs/xwzHn/88RiiErwybyr4Uf90IoXAmr9TMJum81kBBRRQQAEFFFBAAQUUUKA0Am1+tL6UZlGlWwrB2eWXXx5/uPPDsrHjx5WuRg1bEj9i+aHOj3l6AnKJOz+wCSnpLcSPYX5YE5rxo5qeRkxDqMil+PRCmjZtWgwfCd8++9nPxmURomULQSJBA+Ne8kOcXqf8GOeyUi7z5vJ8Qjl6hfHD+9X1PVkphCVcEkqvTX6gc6kovbiYj16khHO8TxsISrnMllCDulF3LrnlTsqM95dCAwIRxtXjBiS0h9CENnEnbOZl/WxDwgvuxMwPfupMmwkgqTvzEVgSCtD7lHDkr3/9a7jhhhtiKEHIccIJJ8RL7FOwyLx8T5hmxowZsX0EGoS5BKmsCzfWRRBB6IItPVqZjkKv3MGDB8cwN76x/j+snx5h3KQmXeZLMMI2JfTFhuWyrWlL2oasg3CF9rO96TGGNevDg2CXHnnjx48P9KijrWwPwuKpU6dGj7QtWQdhCNunrkvxU33L6ZnwncAYE4L9IetDe0vLCBDccbMljqMMY8F3iyCUgI7vYvZ7xXeR/Y9jEscNpuW7yr7Od7BmYR9hv+NBT00K62MZ7FOsh/lYLoVjRerxzrycLEj7Cccx9mnWyYkljl+p9zyXxXPjIgJS9rf6Cvsk+zXfPY5FhLD0Jv23f/u3+D1MdSm2DNZNj0/GXeXYyGsKx1nawf6ajnccC+gJSns5plN/2p2CUk5acYynDjzYx9mfzzjjjHDg+rA3nQTiZAr7CscIPJiO7cL68OD9K6+8Ml6az78hGHDsoJespfkF+F7xvaTw7x//tmaD/eavkWtUQAEFFFBAAQUUUECBUgvYg7TEovQwoucnvTQJ6wjI+MHNj38e/DCmpxDB4f9j70zApSrO/F2uKKsIqCCyi4iAgKLijgsq7gvuUcf4xGSSidnM8uSZMTOTbbKPWR2TPEk07nEFcUHFBVBEQNlB2QUR2RRE3PLnrfzrprneC3fp7nu6+63nObf7nj6nTtVbXdXn/Or7vuJzHs55+OIzhDWEsTPOOCNaXCI01JR4SOZhGwtLxDcerrkOGwnLRdz9eaDmIZ74dwgiPJwjIiDeIjDysM/DOEIf/yO4cgzCIPE+EUwQTxFf+Z9yER8vPeRzLR7qcX3HOpIHfR7mEWQQFCgn5cByimuxD0tR3sMEkRQhA1ECgQELLPLjfIRDjsfyDIGUPJKoAy8EWzZ4kuDNtfkft1byR/zkIZZ6IX5QD4QUxBK4I5piiYvIC3fKQhmwBuM95SRfeCFm0F6c322L8AcDzv3Upz4V8+OaWN6RVxJ+4QhfynHiiSdG0QlOlGnRFtGa8iMiUy7E1VQHuLCYE217+OGHx7LFSvpHAtsggFCHYIc4j1CHgIkFO+IigiQTD/QvxB3czhH++D6TEOaYAGFsoi+efPLJcZIhXY7vJxMo5I0AiPjK2MJ3lkQ+9EsmK+gDjGXkhzhIH6B/IbhyHBviIX0VwZR86SP0H/oZ4xllPPPMM8Mpp5wSy5zKsa1XJjAYi7COp76MP9RzW4m+ythLubk2fZZxh/oi/hJblPECl3fqwBhEnY7fMv5SRwRhxEzqAX+uy8QSdYQ14yaW8/R/zkuJPBlDOJ+xgLGca1IW2itZ18MOS17YEdbDJAEJSEACxSeAYQP3hvy+cW+dO54XvzReUQISkIAEJCCBQhFQIC0AWR5+WQkey1duqBAZeYjm4RuBEoEBq0setjkWgRILRR6CsRTCAnJ71ikIZ1//+tdjfDuECh7IeZhGJGBxDyxQEfYQHbCk4maOh3w+Q6TkOD5DGOHBO4mBiHJ/+MMfYjnJE7GAGIU84LMhoFDmlHjAx+UUQZH6UC/KgfUX4gbiAMJiSggqiKzUF+s2hAkEEZjAiHKQDxansEAkQUzO5YGISRgC3O9JWKimhEiBpQ8LoHA+AgXWoOSPFRtscxNCD0IHZeIYrCARLLl+buIYykr5uDlG3KBMXAOGiDEpL4RaykE94Az3yy67LHKGJ4m8iFdKvggviK25ic8RT+HF5yYJbI8A3zksQAnTgQDJgxz9jI3E2ENcYiZSGJ+S4MdnfM/4ziOMkli0iXGJRL6IpkxaIOTRR8gLIbJ6QiDke434+ZnPfCbmQ78jEUsZS3CsWLEURRjE8poykehP9CX6F2MHImTqL/GA7fzBapzxCVGUMY++ub3E2MNY8Ze//CXWKZcX9WZsvfnmm+NYOmLEiCrRmHHlq1/9ahznsNhHiEZsZWPcZHyAJ5NKTPBUrwfiKQI1ZUUYJfE7wcr2TN6kcZDfBMZAxu0kRm+vTn4uAQlIQAL5JcDvEpOMpGuvvTb87ne/y+8FzE0CEpCABCQggUwQ2GHLQ+DWK2pkoFhYPvFgiDCGCPiFL3whA6WqfxF40MUKEwspLLt4zwM5YiKCAw/RPCgjCqRV3hEy6/IgzIM4AicP8MlllbywHoUbG5ZMiIlYZPLgzz4EuyRYUgZmxSkbYgrCJnliCUY5EUJxJ+W8blusJilbrlCZiKR6kheCHxZQHEuduBYP+9UT5ed4Nq6JxSdiCflzzVReYu7lCrLkk+qNsEDeuZ+zj40ywBUBlzACiJYIlrllodxscENc4fq0DcIyxyJ0kOgilDcJODDObSPYwQxxmfpTPgQkrg9vBCEE0FyRhGPhznFwT9fiepSJ65EQoeBYCulPW+JKEvuW7xyxZxF1TMUjwPeUMYY+hVDJdyr3u0W/4LuVhHu+l+l7x7l8F/lOso8+yPc1fc65aSxL1tX0u/Q5tSQP8icf+gcCIP2fMqREPkxs0E8YF9PYSD5YzKfxK4UCSOfV9ZVxC7GSxBiCYLqtxBhI38UyljLk8qIubOxHTKYfwi43URd4Y7FLPowhHMP4xzmUgXGgemLM5jyuD0fGHM5PYwe/DYwd3baMu+TBGGVqGgJ8rxnTEKp5T9gHJiD5bTFJQAKVQYB7Su4jSXg24TVkkoAEJCABCUig/Aj888m1/OrW5DVCjEPgY8OikodnNm6yEAoQIHgQ5kErV+SrS8F5kOeBnY38yJe8coU7buiwbERkQwDMFQe5Bg/yiJ+4t6bEA2ASCREGsCIj322l3HpyPudtL1F+rs2GCIGwgVhAmbA4yxVVcvMifwSHmkSH3ONy39fn2Nzz6vqedkQAZUMsRZhG4KQetEFNCdGDzSSBfBGg3yHMsdU3cS4TALV9Jxmf0nhT37xzjycfxFc2EsIg7umMIWkszD2+vu/pcymkR02TOdXz4xiETLaGJARgNsZZxs00EUM5qo+3ufkjfnLN3LEyjR38NlAu8jVJQAISkEDTE8BTCo8wEl5BJglIQAISkIAEypOAAmkR2xUBYHtiY0OKgyiaK4ymPBAjEDiTq2zan155OM99QGc///Nwz9aQVD2/uuSBkICAW5fUkPzrkm++jkEsZTNJQALbJ8AEQm2TCNs/+5NHpPHrk58Ufg9WnnW19KxpQsyxo/Bt5BUkIAEJNIQAYWEIL4OXAyFWTBKQgAQkIAEJlCcBBdLybFdrJQEJSEACEpCABCQgAQk0kgCGBsTvN0lAAhKQgAQkUN4EFEjLu32tnQQkIAEJSEACEpCABCSQQ4AY2Cw+OHfu3BjqhdAnQ4cOjSGxcg6Lbzl25syZMXQKLvbVYxATR5/FCfHmIo/k7cTCiSy+R3goFiocPnx4DKGSmz/xp0eNGhXXE2CBQRZJ5NUkAQlIQAISkEDxCSiQFp+5V5SABCQgAQlIQAISkIAEikyAWNHf/e53w09/+tOqhZdyi4DAed9990V3+rT/uuuuC7fffnv894c//GH4xje+kT6Kr1/5yleqPn/xxRdjTP2LL744LF26dKvjiD196623hmHDhsW1CCjHD37wgxi/PvfAU089Ndx11111DtuSe67vJSABCUhAAhJoOIFPLi/e8Lw8UwISkIAEJCABCUhAAhKQQCYJfPGLXwzf+973ahRHKfDEiRPD008/vVXZWUw0JRbSq55yP7/lllvCCSec8AlxlHOWL18eRowYEbAsPeOMM8J3vvOdT4ijHPfII4+Ek046ibcmCUhAAhKQgASKSECBtIiwvZQEJCABCUhAAhKQgAQkUHwCCJM333xz1YVvuOGGsGDBguje/vDDD4fzzjsvusfvuuuuVcfU982NN94YRU/c7S+99NLw29/+NoqiKR8sWA8++OAogrIP1/7rr78+/OIXvwgHHHBAOixMmjQpPPbYY1X/+0YCEpCABCQggcIT0MW+8Iy9ggQkIAEJSEACEpCABCTQhASef/75qqsnC860A/f30047LSxbtiyKlml/Q147dOgQxo0bVxXP9DOf+Uw4++yzY6zR3PyOPfbYMGbMmNC8efO4+7LLLgv9+/cPxDQlYY1K3FKTBCQgAQlIQALFIaAFaXE4exUJSEACEpCABCQgAQlIoIkIbNy4serK69evr3qf+6Zz585h550bbj/Srl278MQTT1SJo+S94447hq997Wu5lwlHHnlkGD16dJU4yoft27cPV155ZdVxCxcurHrvGwlIQAISkIAECk9AgbTwjL2CBCQgAQlIQAISkIAEJNCEBLDOTOnZZ58NxCPdsGFD2pWX1y996UvRCrR6ZoMHD95q1y9/+cvQsmXLrfbxz8CBA6v2EbPUJAEJSEACEpBA8QgokBaPtVeSgAQkIAEJSEACEpCABJqAAC7tAwYMqLoyImW3bt3iqvSvvfZa1f7GvMFatKbUqlWrraxFazsO9/yUiFdqkoAEJCABCUigeARq/hUv3vW9kgQkIAEJSEACEpCABCQggYISYPGlv/3tb1tZeK5evTr86Ec/Cr179w4jR46MCzYVqhA77bTTdrOuyzHbzcQDJCABCUhAAhJoEAEF0gZh8yQJSEACEpCABCQgAQlIoJQI9OrVK7z44ovhV7/6VejZs2dV0T/++ONwzz33RAvTefPmVe33jQQkIAEJSEAClUNAgbRy2tqaSkACEpCABCQgAQlIoKIJNGvWLHz+858P8+fPD48//ngYNmxYFY81a9aEz372s1X/+0YCEpCABCQggcohoEBaOW1tTSUgAQlIQAISkIAEJCCBLQR22GGHcNJJJ4Unn3wyXH/99VVMxo8fHz744IOq/30jAQlIQAISkEBlEFAgrYx2tpYSkIAEJCABCUhAAhKQQA0Errvuuqq9iKPvvvtu1f++kYAEJCABCUigMgjsXBnVtJYSkIAEJCABCUhAAhKQQKUS+I//+I+w2267BcTQFi1abIXh2WefrfqfleTbtGlT9b9vJCABCUhAAhKoDAIKpJXRztZSAhKQgAQkIAEJSEACFUvgrrvuCnPnzg0//elPw2WXXRYGDRoUdt999zBhwoTw+9//vorLiSeeWPXeNxKQgAQkIAEJVA4BBdLKaWtrKgEJSEACEpCABCQggYoksM8++0SBlIWYfvnLX9bIoHv37nGF+xo/dKcEJCABCUhAAmVNwBikZd28Vk4CEpCABCQgAQlIQAISwEr0kksuiVaj1Wkk13usSffcc8+tPs51x2/ZsuVWn/HP9j5PJ6Tjdtxxx9C8efO0e6tXjmHxKFI6fqsD/EcCEpCABCQggYIR0IK0YGjNWAISkIAEJCABCUhAAhLIAoFevXqF2267Lbz//vth5syZYeXKlVGMxGq0W7duYdddd62xmDfffHP4wQ9+EHbaaafQrl27Txyzvc/TCQsXLgzr1q0LiKw1Ca0cN2TIkHgMi0RVF2pTPr5KQAISkIAEJFAYAgqkheFqrhKQgAQkIAEJSEACEpBAxggghBJ/tK4Ji8+99tqr1sO393k6EStV3Py3l1q3bh3YTBKQgAQkIAEJFJeALvbF5e3VJCABCUhAAhKQgAQkIAEJSEACEpCABCQggQwRyLRAyozsLrvskiFcFkUCEqiNAH2VPktq1qxZbYe5XwISkEDJECAWIFZfKSZgyRTcgkpAAhKQgAQkIAEJSEAC9SKQaRf7Dz/8sCoOz+bNm8PHH39cr8p5sAQkUHgCO++8c/joo4/C2rVrY1yvv//972HVqlXh7bffDvRh/jdJQAISKDUCTPgwtr3xxhvhgw8+CIx1JglIQAISkIAEJCABCUigPAlk8m4/WWoguIwdOzYKLTykKLSU55fQWpU2AUQEJi+mT58eFzxAFL399tsDK8E6qVHabWvpJVDJBLgXYQxbvXp13Lp06VLJOKy7BCQgAQlIQAISkIAEyppApgVSVnAcP358mDx5cmwEBdKy/i5auRIlkCY0sPJmZVgEhYceeqjK2sp+W6INa7ElUOEEGNsYvxjTNm7cWOsK1xWOyepLQAISkIAEJCABCUigLAhkUiDNJduuXbuw9957x4cUhZZcMr6XQDYIJBFhzZo10bX+vffeCx07dgytWrXS6jsbTWQpJCCBBhBIYxtj2uzZs7WIbwBDT5GABCQgAQlIQAISkECpEMikQJrccjt37hy+9KUvheuuuy4Yg7RUvlKWs9IIpBikt9xyS7jpppvC3Llzw4033hiOP/54Y5BW2pfB+kqgjAikGKSMaSNHjoxWpGVUPasiAQlIQAISkIAEJCABCeQQyKRAmsrHw0mLFi2iq66LIyQqvkogmwRatmwZ+ypWV61bt44rP2ezpJZKAhKQQN0JtG3bNo5tafK27md6pAQkIAEJSEACEpCABCRQKgR2zHJBcalncSaTBCSQfQK5C6mxUJNJAhKQQDkQYAV7Q/yUQ0taBwlIQAISkIAEJCABCdROINMCKcX2oaT2xvMTCWSVgP02qy1juSQggfoQYCxzPKsPMY+VgAQkIAEJSEACEpBAaRLIvEBamlgttQQkIAEJSEACEpCABCQgAQlIQAISkIAEJFAKBBRIS6GVLKMEJCABCUhAAhKQgAQkIAEJSEACEpCABCRQEAIKpAXBaqYSkIAEJCABCUhAAhKQgAQkIAEJSEACEpBAKRBQIC2FVrKMEpCABCQgAQlIQAISkIAEJCABCUhAAhKQQEEIKJAWBKuZSkACEpCABCQgAQlIQAISkIAEJCABCUhAAqVAQIG0FFrJMkpAAhKQgAQkIAEJSEACEpCABCQgAQlIQAIFIaBAWhCsZioBCUhAAhKQgAQkIAEJSEACEpCABCQgAQmUAgEF0lJoJcsoAQlIQAISkIAEJCABCUhAAhKQgAQkIAEJFISAAmlBsJqpBCQgAQlIQAISkIAEJCABCUhAAhKQgAQkUAoEFEhLoZUsowQkIAEJSEACEpCABCQgAQlIQAISkIAEJFAQAgqkBcFqphKQgAQkIAEJSEACEpCABCQgAQlIQAISkEApEFAgLYVWsowSkIAEJCABCUhAAhKoAAJ///vfK6CWpVlF28Z2K00ClloCEpBA3QjsXLfDPEoCEpCABCQgAQlIQAISkEBhCeywww7ho48+Cu+8807g/W677RaaNWtW2Iuae50I0B4ff/xx2LBhQ2wj2qV58+Z1OteDikfg3XffDZs3bw477rhjaNOmTexHxbu6V9oWAdrlvffei4fQNqZsEeC3Z9OmTeGDDz4ILVq0CLvuumu2CljBpeG3J/Wf3XffPd4X8JuU76RAmm+i5icBCUhAAhKQgAQkIAEJNJjA0qVLw/e///3AQ9Cpp54aTjvttAbn5Yn5JfDWW2+F//3f/w1LliwJJ598crjiiivyewFzazSBu+66Kzz99NOhbdu2sR8xyWDKBoFx48aFxx57LBbmhz/8Ydhll12yUTBLEQksXLgwjB49OkydOjV89rOfDUcccYRkMkJg7dq14cknnwxjxowJ559/fhg2bFhBJugUSDPS4BZDAhKQgAQkIAEJSEACEgjh7bffDo888kj48MMPw4IFC8JLL70UreCwIDE1HQEsRhGvEXhWr14d37/++uvRqtS2abp2SVfeaaedYp8ZO3ZsmDNnTrSAY1/79u3D+++/nw7ztQkI0A60wZQpU8KMGTNiCXbeeecoYmOtaGp6ArTHa6+9FqZNmxYWL14cLUkHDhwY+1TTl66yS4A1/Jtvvhlmz54dXn755bBo0aKwYsWKcOWVV+Z9kkGBtLK/a9ZeAhKQgAQkIAEJSEACmSKAYMDDDwLpqFGjoliaqQJWcGEQQpMYipXi+PHjK5hGNqtOvyGtWrUq/PznP9fFPkPNlNqGIv3kJz+JYRAyVLyKLwou9inWMpbY9957b8UzyQqA3N8exNKWLVuGiy++WIE0Kw1kOSQgAQlIQAISkIAEJCCB/BMgrhiup4gJxIAzDlz+GTckR9oFAYEYijys0ka4bydBoSF5ek7+CNA+tAXtQ9/hf9oH6yvbKH+cG5MTVqTJYpQQIrZNY2jm91z6C/2G9uEVi3l+e+w7+eXc0Nz4zaFtUv8p1H2BFqQNbSHPk4AEJCABCUhAAhKQgATyToAHUjYWADrrrLPCZZddFsUeHlpNTUeARUtwb/zZz34Wli9fHo499tjw1a9+NYqmCKempiWAYIA4euONN4ZxW2Jd7rHHHuF//ud/Qvfu3cPGjRubtnAVfnUmE1g867777quyiMeCtFOnTlWLNlU4oiatPuIo/WfixInhoYceijFIr7766vj7w8JAafKhSQtZoReHPSEq5s+fHwgfQozYs88+O1x11VUxTnm+sSiQ5puo+UlAAhKQgAQkIAEJSEACjSKAQIogRwy4M844o1F5eXL+COy3337h5ptvjhn26tXLBbTyhzZvOSEgIJBioXjBBRfEOJd5y9yMGkWA2ImEpkD0ufDCC+MY16gMPTmvBPjNIeY1izQNHTo0LhKY1wuYWYMJsIAWMa8Z34YMGRLbB+E032nHfGdofhKQgAQkIAEJSEACEpCABBpLAJe6TZs2NTYbz88jARbQol1IWFaZskUAS960IBPttH79+mwVsIJLQ39hPGPyh7ZZt25dBdPIZtU3bNhQ5cKNxa8pOwQYy9JvDm1TqPZRIM1Om1sSCUhAAhKQgAQkIAEJSEACEpCABCQgAQlIoMgEFEiLDNzLSUACEpCABCQgAQlIQAISkIAEJCABCUhAAtkhoECanbawJBKQgAQkIAEJSEACEpCABCQgAQlIQAISkECRCSiQFhm4l5OABCQgAQlIQAISkIAEJCABCUhAAhKQgASyQ0CBNDttYUkkIAEJSGAbBAhonxaG2MZhfiQBCUhAAhKQgAQkIAEJSEACEqgXgZ3rdbQHS6CRBFh5jG3XXXeN2447qtE3EqmnS2ArAqyMyQqZbB9++OFWn6V/6Hf0wdatW4cddtgh7c7cK+V/5513wpo1a8KqVatCmzZtwt577x323HPPzJW1oQVKK5qmVRmr50P77LzzzqFVq1Zhl112qf6x/0tAAhKQgAQkIAEJSEACEpBAHggokOYBolnUncCCBQvCq6++Gvbdd9/Qo0ePsMcee9T9ZI+UgAS2S+D9998Ps2fPDq+88kp44403oriWBx8orwAAQABJREFUexIWmM2bN4/976STTgrNmjXL/Tgz7ynnokWLwgsvvBAmTpwY5s+fH4455pgwYsSIshJIFy9eHKZPnx7HRcTQXMEaBgjZHTp0CCeccELo1KlTZtrHgkhAAhKQgAQkIAEJSEACEignAgqk5dSaJVCXyZMnh/vuuy907tw5XH311WHgwIElUGqLKIHSIfDee++FSZMmhdGjR0dREatDRNOPPvooVgKrTKwwEdyOPfbYzAmk69atC88//3x47LHHAhMqr7/+eli5cmW0IkUgxKK0nBIi8JgxY8LYsWOjOIp1b7IapZ4tW7YM+++/f+jXr58CaTk1vHWRgAQkIAEJSEACEpCABDJFQIE0U81RvoXBEgqh4+WXXw5PP/10fOg/6qijFEjLt8mtWRMRQABdunRpmDlzZrTARGA79NBDo7iGSMqGi3r37t3DTjvt1ESlrPmyhAdA4H3rrbfCwoULw9y5c8OSJUvCu+++G0/gtbawATXnmP29bdu2Db179w7r16+PwigWoxs3bgxTp06NdUcwhUtikP0aWUIJSEACEpCABCQgAQlIQAKlR0CBtPTarCRL/MEHH4QpU6ZEi7a1a9dGazAEHISQ9u3bl2SdLLQEskoAC0RENVKXLl3Cf/3Xf0X39KyWN5WLcuPyP2jQoDiJwoTK/fffH6ZNmxYPQdDNdUFP55Xy65AhQwJbbsKK9hvf+Ea49957w+rVq8uuzrl19b0EJCABCUhAAhKQgAQkIIEsEHCFnCy0QgWU4e23345uv1iEJeEGwXT8+PEVUHurKAEJ1JUAC0f16tUrHH/88eHCCy8Mffr0qeupZXNcuYnAZdMwVkQCEpCABCQgAQlIQAISKFsCCqRl27TZqRirM7MQyaxZs2IswVQy/mcBlnKLKZjq56sEskKglNzSsRLFipQF3Hr27BlwQa+0hMU9YUlSUjBNJHyVgAQkIAEJSEACEpCABCRQGAIKpIXhaq45BNasWRPjIRKDlPiCKS1btqwqTiKLyJgkIAEJ5BJAGFQczCXiewlIQAISkIAEJCABCUhAAhIoBAEF0kJQNc+tCCxfvjzMmDEjLkKy8847h9133z1+jpUUIunEiRMDMfdMEpCABHIJYE3KIkUmCUhAAhKQgAQkIAEJSEACEpBAIQm4SFMh6Zp3XHn5tddei5aie+21V1wwZtOmTdG1HrfflStXxsWbhg4dGvjcJAEJND0Bwl4wacErq963atUqLqbWsmXLohauJuvR3H24ob/xxhuxnJSNBd9wz2/qtGHDhrBq1arAWMekEOEC2rVrFxB8TRKQgAQkIAEJSEACEpCABCSQPQIKpNlrk7IpEYsxIRLMnj07vPrqq3EV7YMPPjiuYP/iiy/GeiLCzJkzJyxcuDB07949rlxdNgCsiARKiAATFoTDIF7wvHnzApbf9E8EUuKAdu7cOXTr1i1OcjCZUSwhMlcQxZoUURQBcsWKFYFF3xg7KDciJGNI7969w3777RdatGhRVPqECaFM8EsbAvNuu+0WOnbsGOOp9ujRI+y7775xX1EL58UkIAEJSEACEpCABCQgAQlIYJsEFEi3iccPG0MAYQWhABFj9erVUbg4/fTTo4jwk5/8JCAopAWcEFEPPPDAsP/++zfmkp4rAQk0gAB9FUvMO+64I4waNSpMnz49Wj8igrJt3LgxCqVdu3YNZ511Vrj88stD//79G3Cl+p/CREtKu+yySxRHn3322fDzn/88TJo0KX6EaEodOnToEIYNGxauvvrqcPTRRxctfiljGRM9t9xySxg9enQMHZLiKqcwAQjMxx57bPjsZz8b+vbtWzSBObHzVQISkIAEJCABCUhAAhKQgARqJ6BAWjsbP2kkARZkwlKUxZkQPvv06RMtuxBchg8fHp588skYlxRhhhXtDznkkNCrV6+iiRqNrJ6nS6AsCCBALlq0KNx///1RICUkBkLo+eefH4W8d999N4wbNy48+uijUQTEenPPPfcMzZs3j1aRxYRAzOIxY8aEJUuWxLFl/fr1W12eCRkEXlzbmZQ555xztvq8EP9gZfv888+HP/zhD5EPIu3IkSMD1qIIy4yBd999d/yMchGD+aKLLgpDhgyJ7veFKJN5SkACEpCABCQgAQlIQAISkED9CCiQ1o+XR9eRABZdb731VhQOECqOOuqoKKbsuuuu0V33vPPOC0uXLg2TJ0+OK9tjZcp26KGHhjZt2iiS1pGzh0mgsQQQ7ebPnx+FxZdeeinGyjz55JPDpz/96dCpU6eYPW7hiJH33ntvtI7EgvOggw4qukCKeLt27dpAOIDBgwfH2KhYjhIOgPGEkB6MOw899FAUIg877LDo3p7rpt9YXtXPnzZtWrjzzjvD2LFj4wTPGWecES677LLIDvEZy3gmgLB2RcBFiGbCiP2EBTBJQAISkIAEJCABCUhAAhKQQNMTcHngpm+DsiwBllMInqxej5iBOy5x+EhYniHAHHDAAVV1X7BgQVzICWtTVrc3SUACxSGAQErsTOKOkojjecwxx1TFA0aARNAbOHBgVQgMLE6J/Vns9Oabb8ZV7QnV8c1vfjP8+Mc/Dt/73vfCtddeG1jojYWQiFOK1StWnYiWCKqFSIifiLGPP/54ePDBB6NVLeEHmPxJwjLCbL9+/cIRRxwRrecpByIpYi5jZG74gEKU0TwlIAEJSEACEpCABCQgAQlIoG4EtCCtGyePqicBVqcnFh9iJ8IK1l5p0RREg7333jsMGDAgTJgwIQotWH4h0GAhRqw+LE1NEpBA4QkgKBInM62wnlaDJ94nif241OM6jsUj/RdxDxGy2AmrS9zmL7jggihC4q6OgMt4QrkpK6IoiyMhRP7lL3+JYw/lz3dibMNSlVAhb7/9dmABOiaCCE+Qm5gQOvLII6MIjSDKqvawTHxzj/W9BCQgAQlIQAISkIAEJCABCTQNAQXSpuFe9lfFuuyZZ56JggrWU4MGDfrEys243WNhipCBSz5Wabjccyxu9iYJSKDwBIgJTLxMXMOJ8UmYiy5dukQXda7O5AUu+K+++mp0s0fkwyq8KSy9mTxhYoWV6lNCFEUgZZxhYoYF3ygrlrHE/yTERyESizAhxr788stxwSXKhpU8Amhugi/xleEFZ/5PE0aFdP3PLYPvJSABCUhAAhKQgAQkIAEJSGDbBLZ+ktv2sX4qgToRwA32lVdeiRahCANt27aNcUZZtAlxBVGArVWrVtHaCoEDgZTFmiZOnBjOPvvsKnfUOl3QgyQggQYT2G233eJiTNdcc020DKW/MkGBFSaCKX0ZoZG+SR9NiT5b7IQ1ZrJEr35txEms1bHgJGQAMVOx7Ky+kFP18xr6PwIsEzy8cu327dvXWDYEU8IWYH2LJSmWo7ynLiYJSEACEpCABCQgAQlIQAISyAYBBdJstENZlYLFSJ5++ukoHLA4Cas7P/HEE1EcTQIpFd68eXNYtMVqNFmi4baL4IC1Ws+ePaOIUFZgrIwEMkgAF3sEO9zDEe8QRumHxNV84YUXotiI1SNCIJMZTZkYP9hqSrjb77PPPjEOaQrRwUTMmjVrYtn5PJ+J+KMpzADcEDyrW4+m68ENN/8UogDmWo8mOr5KQAISkIAEJCABCUhAAhJoegIKpE3fBmVVAuIBsjgKGyJA69atozsuQmh1YQOBgOOJx4cbLBZp69ati675LAqD9alJAhIoPAH6KtuUKVNiTM1x48bFlddxG2fhof322y+6rhM2A8GxKaxH60IBq3SsX5NAyjkIu1iv51MgJT9CD6TJHV4RSxnPakuJcW2fu18CEpCABCQgAQlIIMRnRu6pmGB2QtlvhAQKR4BnGJ7reHayr/2DswJp4b5vFZczcQlZZAmRBesq4uwRFxDXU6xFq3c6fvQQL1jR+bnnngvLly8PxPVj0ZPDDjtMgbTivkFWuKkIYDU6Z86c8Kc//Sk8/PDD0ZW+b9++4dxzzw2XXHJJ7MP33ntvFEnpx9UnO5qq3NWvy5iCNSdiJImyYv2aK5hWP6ch/3PTzliVEoIpYx5W8NtLnMuNCGWrzeJ0e3n4uQQkIAEJSEACEignAjxHch9FqDbCI3FPh8EMi3CaJCCB/BDgGQ5dhmc/tBf6HAYmLITrc8k/GCuQ5ue7Zi5bCBDvj0VLWCClV69e4ctf/nI46aST4gIquWJCgkUn5Adw2rRp0cLrqaeeip117ty5ceETOi4/itWF1XS+rxKQQOMJIO5NnTo1/Pa3vw2PPvpoFD+xGv3KV74SJym4Qd2wYcN2LSQbX5LG58DNNZMuybITYXTfffetMTZoY66GNSqW7+lGghsNbui3tyAU4ihCKsyJ/brXXns5vjWmITxXAhKQgAQkIIGSJ8D9Ed6GGMngrUQs+W7duoWvf/3r4YADDij5+lkBCWSFAHoNC8yiu2CghmB69NFHh+uvv77quSYrZW2qciiQNhX5MrwuC7jwo4brKRagxx13XBRHqWptFlwsCMOK1AcddFC0YEMUJbEwDD+Sp59+up01EvGPBApDgJtQFmGiv61duzYuJITVaL9+/ar6XpqkSK+FKUnjc0V4RKxMAimLIxH7M98JC1Us47FWJXG9xYsXByZ3BgwYEEXZmq7JLC3xmBFxmUQiDwRokwQkIAEJSEACEqg0AslzELEGD8SVK1eG119/vcrFnvs6kwQk0DgCiKA8pzz++ONh/PjxcSFtDDuwIEWL6dGjxzbDhDXu6qV39j/8EEuv3JY4YwSYjcBFl0WZeOg/9NBDA/EL65JYuITZQVafTq6xCA10YmKSmiQggcIR4Mdx9uzZ0QKSq9APWQ0+d5V1hFF+XJnhJ/E+N/F/2scxxOPEOrwmy/Hc8+r7nnLUJtIiUjI5g8iLEMm4woxou3bttroM7u0IlJQPMbWhCXcUrFNJXBuOCM3c4JN/9cQxWNcjkLIQHdauJglIQAISkIAEJFCpBLgnW7JkSTSMwZtp5syZMdY9nkvco/G5SQISaBwBntEwQuM5BM9dnlUIi8jzCpMQPKOY/klAC9J/svBdIwgsWLAgrnjNzB9u9SeccEKdc0OIwZqKbfLkyVHgYPZw0qRJUUhAiCCOoEkCEsg/AdzCcftOIig/ktyY8orlN4InP6pMViA8ktiXBD6O5T1u51hDYklOXGEESCZJWOCJhZPykfiBr+1mmTogPDJ2cFNNLJ0zzzwzTtika1Nuxqhly5bFG/COHTuGLl26xNnTdExdX7EePfzww6NLGDcZTBK98MILUZAlT+JmMbZRXjYmkMZtWfwKMbpnz55xvEsTQnW9psdJQAISkIAEJCCBciFAqCLupfbZZ59w1FFHhbvuuqsq3j33SLVNipdL/a2HBIpFoFOnTuG8884Lffr0iV6DjzzySHz+o5/5PLJ1KyiQbs3D/xpAgNkHHvoRNxEpECbqswI9P36YdtNhieuHGIPggogxZsyYuA/x1CQBCRSeALOLTz/9dOx3WIPz/+jRo+PGRAgiJeInFpO4azz00EMxlAbWmvRZ3KQQChFOsd4cNmxYuPDCC0Pr1q0bdKObLFOpOSItFqI1Jco2YcKE6DaCAHnGGWfEReKYYCEhjmKZQCiBiRMnxrwo0zHHHBMuu+yy6IpfnxtxxOMLLrggMkAgJSEME8cVPljRUw5ijWIdQZyf6dOnRyaMZ4x19blevIB/JCABCUhAAhKQQJkQYGKdUGt45LDuBFak3EtxD2mSgATyQ4DnDTzrCJ/G+gc8p2CIhpFMbYYn+blyaeaiQFqa7ZaZUuNKSwdDFCFuKGIGlmfJuqyuBaXjcm6uGIIQ8thjj8WOfNpppwVmPrBSM0lAAvkjgAi69957V/U9guSzYj2THS1atIii54wZM6JlaIoljOs8/f5Xv/pV3I/FOH3+pZdein32+eefjz+4HM8Y0W1LoP2hQ4fWeyVSxoXcGJ2E8ECARHQkbjEiI2VhguZvf/tbtNDkBvuUU04JI0aMiJ8nUkzk4FZC6A7ESsYp8uYmgQkahNL6WLpybv/+/aMATLBzGFEWBGWE3Hnz5sUxKwmkiMmMXwi3ffv23SqEQSqjrxKQgAQkIAEJSKBSCHCfx70RG8INceO5d1S0qZRvgPUsBoH0PMVzHdba9DX6HPtNnySgQPpJJu6pIwEETAQHxJRxW1xHEVRIWGkRZw8rUkTN3FiG1bNGVEFMIBYGAgPv048ibrKIrnfeeWd0hx0+fHi0MmUGxCQBCeSHAC7wzCjibo57PH2Q/oyVJSIgFpjECMYyHEEScTFZY9Lnk7sGYTCwIEUITK74iJKIh2PHjo2iIOJlfRPu6pSR8QZLzPvvvz++nnzyydHqgHGC/CkzYif7KVN1K3aOS+XDHT4lxh0mYhAt6yOQcj6uYQirxD696aabotUDbAh8zobLCgzZRx2OPPLIKN5iWWqSgAQkIAEJSEACEgjx2Q8jGV19/TZIoLAE0Fnoa4qjtXNWIK2djZ9shwCxK7797W9H4QIrsfSjhtiAuII4+q1vfSsgbCY31+pZYm1FvJn77rsvrgCNkJBmOTgWKy8WPsGqDbeLz33uc1GQYNbDJAEJNJ4AwigiH33sgQceiEG7+eFE3ETIO/3008NVV10VxUfc6ZkAQRilf5977rnh2muvjdachMYgr7RqPP2YfJI1Jfk1JHHtQYMGhQcffDBaf+LO/uyzz8aQHsQB5Tr82LN6PJbmWGgiqqYV5tM1maihfFjMklL5KDfxQZOom46v6yuMLrnkkug6f8cdd8Sxj4Dn1J1yUQ4E5vPPPz+MHDkyWqs6ftWVrsdJQAISkIAEJFAJBLgvS1sl1Nc6SqApCGDcgfEGfc1UMwEF0pq5uLcOBLAoQ7BEGKWzsZGw1ELYxLWUhUqSW25NWSKm4HpLrEIEimTunTotIgNuq3RkjunevXvVdWrKz30SkED9CNBviYl5+eWXRytKLEDpc7hhsKI91qWsas8kCFaiiIy8RyBFuCR2MIn+fuyxx8bxAEtJ+j3u7FilptnK+pXsH0fT79Nq9ATyX7hwYbTYTBbrbdu2jWXC5R6RtNsWd/6aEuVhrKEsgwcPjsIlsVYRhtnH1pDE2AQnhGSYICCzEBTxs2CLGwvjIKwQStNEUkOu5TkSkIAEJCABCeSPAM8rxOHDA4XnF+5zeDbh3sPf6/xxrmtO6fmvpuNpK7xzuL/iHpX7q209Y9aUh/sKQwBjiDVr1kTjCgwD6ENs9qHC8K5Prni58cxE/2HtBYzW6GdJJEVrMW1NQIF0ax7+V0cCdCZEE7bGJH7ccIllM0lAAk1DANd3BDz6MzeeWEBiaZl7o8rNKAIjx/AAkXvTw3jADRExOXElx4Wd8Bm4xJMfq9k35iaWcw8++OC4kS8/9NwkI0Di9s+2vcSNAGIuIibjDYIo+XDjQJkReBuTyJeN+KcpVAGciPVTmwV9Y67nuRKQgAQkIAEJNIwAXi38VhMvfNGWiVLec7/C/RALBuEdwr0Bk8Lc/5iahkC618R7CK9D2ot7NwRsJveZgM7HPVzT1K60r8qEAvfQ3OvTh3hlooH7ae77aRs27tGTEVVp17g0Ss8zGYYsqW3oNxi/8GyXjM3mz58fxWyOzX3WK40aFr6UCqSFZ1yWV7AzlWWzWqkKJ0C/5uGArbY+zo1P9c9y/ydGMA8T3MRiSclNERab+RIJyY9FpZhcIeVeuy7Nx+wp7vbpgQihlBXn8xXbmPIlsbQh5atLHTxGAhKQgAQkIIGGEcBLZsyYMeGvf/1rePLJJ6NlFROx3E9gZUW4L+51CNfz9a9/PYbRadiVPKuhBGiLtLHw53/+53/GhUAR4JjwRjhF3MHD6IYbboiT/IYvaijt+p+HscLkyZPD73//+3D77bdHIwjaI218jnBNmL0vfvGLVd5m9b+SZ9SXAB65o0aNimu4PPPMM3FMo2/QZwgrlvoJx/EMRH8ybU1AgXRrHv4nAQlIoOwI1EdE3N6x2/sc61FWs2fxNqwxcIvH5R7RNV8p3TQ3JD/KxOJvrHqPFSriKDFY8yWQUqZk8dCQ8nFOY+rX0Gt6ngQkIAEJSKDcCSCwsYYCMcOfeuqpGN6LGOHcByCSzpo1KxB+h3UPcBm+7bbbolh65plnagVXpC9HugfCyveWW26JlnDcV9J2CNgI3CmNHz8+/OhHPwpXXnllDPOEhZypsARef/31MG7LwqjcR0+fPj1aiRL/H0GUcBWIcojaWP2ydgGGAxdddFE46qijClswc49WvIxft956a1xfoduWsGNnnXVWDAVGf2LhXD6nbehLppoJKJDWzMW9EpCABMqGwPZEzXxUlBtWVol/4YUX4kr3xOIkJuiIESOiq1pjXOzzUT5uBJYvXx5nvJ977rl4k0AcZVzie/fuHcMG5OM6+cijsQJrPspgHhKQgAQkIIFyI4Ar/cMPPxxFAgQ3wvdctWUxyFNPPTVWFTdhvGCWLl0aXbm5XyBUzoknnhjj95UbjyzWh3sgLBCZxH700UfjBDvthPjJvdyKFSuiwIOAjRUcC4wyyc123HHHNXqSOotMslIm+sykSZPixAEiKfH/P/OZz4TzzjsvxhzFQhGhFHdu+g7PBUxG4PV12GGHfWIB1azUqxzKQRxYnsGw6OWVZ5tPfepT4eqrr64KEzJ79uzYn7Awxc2+oesvlAOvbdVBgXRbdPxMAhKQQIkSSKIoN5ncRHLTwg0Lidlc4mOmRdHyUUXyHzt2bBg9enScQeYmFYsLbmqbWhylfsTjYdaU2Wxu2HDLonxYkDY2/mhj+BHDiXZJFhG4/xOagJt+3PxSOzbmGp4rAQlIQAISqHQC3AcgrnEPwD1LmzZt4j0ArvQp8Z7JU+Kwc++EVwyiKsIQIXpMhSeQJolpJ+LBEjd+2LBhMR4s90Z4AT344INhwoQJsW04HkGImKQsLIqQmvIofGkr5wqIaRg/EJYC93pii44cOTJcc801VRC4n8ZzDHEUa2z6ELEwaUvec45tU4Urb2941kP85DkMC14WyMKq98ILL6xyqedixITFMARLX4xGGAcJi2DamoAC6dY8/E8CEpBASRPgh44ZdoQ3ErFAiaHFjyWCGxs3KLiTffnLX86b6zuCK7OVzBITb7R79+7R6iLFumlqqIi03DxffvnlURBlAQYWX0CQbMqEaJtu9BFDEa9pu4ULF8YHM8qGW4yzvE3ZSl5bAhKQgARKnQCx9rgX4LcWQYH/EUOrh9ghzjkiG59zP8Wx/C7zO6y4U/hvQbrf4X7y0ksvjZPZvOc+k3tcLHq5j03iNcczscxiNLgOcw/alBPfhSdU/CvAGIGT0BMvvvhiWLt2bTjppJOiVWhuaViwFQtSQmsxGYELPiG2unbtmlejjNxr+v4fRiDPPvtsFKYxujjkkEPi+g9M9OSOWTxj9OjRIz6v8VyoQFrzt0eBtGYu7pWABCRQkgS4OUGcPOKII6LIxo8h1onMupPSjT6v+UzcjPbt2zfewGJlkTXLRx6KEHApIzfPWQlKTjsggNI+MGPjZoYbGBICLsKuliv5/LaalwQkIAEJVBoB7ocQ144//vj424pAgLVbilvJ7zArpM+YMaNKOOA3OU08a2lVnG9MEkgRqnHL5p42NzG5zX0cVqNz5sypsghGkCM+JlakpvwSwLgCgRS37AULFkRjC8JoVW8broogSrvRd3DBZwJi6NChsc+xz5RfArQN4xZWvViRpucdhOqannUY9+hb9KE0vuW3RKWfmwJp6behNZCABCRQRSC5t/AQgEtY9R9Hbjy5eeGHk9n4fCUePJjhz2qCAzOpWUsHHHBAuOCCC+JsO2XLvXnkYQyuPLzRniYJSEACEpCABBpGgPsAXLbxJDn99NNjPEQs27gvQlhDXMAKCxfVxYsXV1mZ8lvMMQqkDeNe37PgzEQxE8O1eSFxH4uVIm129913x7bCohQRL98GAPUtfzkejwjHMwXhJrAepS8hslW3vk5179OnT+jcuXO0MkWwQ4zjftaUfwJYtxMzGeGavsNzICIozGtKKcQaBjW5zxw1HVup+/ymVmrLW28JSKAsCXAjwowtwhs39NV//NKNJzcq3qw0/VeAeGdYQ3DzWVviRjSfYnZt13G/BCQgAQlIoJwJ8FvKBHG3Las7cz9EHD4W+WHhJtyBcd3esGGDKzxn5EtAG9WWsF7EMyglBFLEu23dT6Vjfa0fAZjijs3CWQjQiGv0JV5rSjxfEOM3WSlWfxap6Rz3NYwAXmgsLse4RUK0ZnKB58GaEm2Rtpo+d9+WtTqEIAEJSEAC5UOAHz1uWhTUSqNNubms7QazNGpgKSUgAQlIQAKlQ4BJRyyucNFmwRniKiIysKgkC0ziqv3YY49F60Qmmk1NQ2Bb4iglqu5dQ7xYQkrZZvlvL5iyyFkS4bhCWmC0Nitfnkfoa6bCEqAdEEhpHxLW12zwNzWMgAJpw7h5lgQkIAEJSEACEpCABCQgAQmUCAHcUXGnx2r0jjvuCJMmTYoxv88555y4IBCLmyCcslAii/4gnJqySaC6MQD/416MOGTKLwHE6urCc3K3x1J0Wwnr0xT2AKtGhbtt0ar/Z0wMsCo9ryTGLETTxLz+OXqGAqnfAQlIQAISkIAEJCABCUhAAhIoWwIIPIsWLQo33XRTGDVqVLQiZRX7L3zhC3Gl9E6dOsW6IzAoLmT/a4AIlKzmKC1x5onXrldO/tsOS1AWDW3RokXMnL40d+7c2Ie6bQlXsa3EAkLEhkUY7dmzp+2zLVgN+AyuCM/JWpdQE+vWrYsiaQOy85QtBJxi8WsgAQlIQAISkIAEJCABCUhAAmVLAKFmypQpYfz48XE1bsSekSNHhhNPPDHGJU0CAwByrdySq3fuvrKFVEIVQwRCeCMhECGQInIbXz//jYhVLgIp1qLwRSCdOHFieOWVV7Z7sbFjx4YxY8bERYSceNgurnofgOU0C2al0GowJkwI411dEuNbGuPqcnwlHKNAWgmtbB0lIAEJSEACEpCABCQgAQlUKAEEg5kzZ0arNxCw0vMRRxwRxdFcJIgFuKvmigaIo+n/6q7Guef6Pn8EYL4tUXrx4sVh3rx58YJt27aNq6bvu+++WijmrwmqcmLygIV/EOLoN/QF2DPZMG3atEDoiuoJoW7OnDkxnAVxfhFWt9We1c/3/7oRIAZsty1WvAjYJMan2bNnxxAhGzdu/EQmuTFKaQ9CIDDe2Tb/RKVA+k8WvpOABCQgAQlIQAISkIAEJCCBMiOAWMAq3Ek0QBjACrF6nFH2rV+/fquYiwgIrOKN+yrHK5IW/suBCJdE6Zqu9tJLL4Xnn38+CqI9evQIffr0iSKpLvY10WrcPsRNLHQR4ghjkNKzzz4bfvOb30SLbPpTbkKku/XWW2MbIeIddthhVVaOucf5vnEEYNu9e/fYPuSEMD158uQYX5lJhOrtwtjFPl4RRVnYjDHRMe2f7WAM0n+y8J0EJCABCUhAAhKQgAQkIAEJlCEBBIFkKYV7Nos1dezYMRx++OFRFGX1+vvuuy9Mnz49CgdYWyGWYiXH4k245Q8ePDgu7JRcWssQU5NUKQmitA9izapVq8LatWtrLMuLL74YhTdiyrZq1Sqcdtpp4YQTTqiKkVnjSe5sMAH6AVa6AwYMCDNmzIiCKBMFy5cvD4888khc3f7QQw+NQh3hDubPnx8mTJgQQ1r06tUrHHXUUWGPPfZo8PU9sXYCTAgQWuLII48MCKIsMEdsXtqFdvv85z8fJw9SDrNmzYoCKm74CKXJJZ/F62g7EoudpXEynVdJrwqkldTa1lUCEpCABCQgAQlIQAISkECFEcBFGBdsRE5ETyxFx40bF8UA4iliRYUrMAIDAgEWowh1S5YsCXfddVc8b+DAgQEhqJLFg0J8beCJGzeCTrJkQ8C5/fbbo9XuwQcfHONfJrftO++8M8bApC3PPPPMMHz48LD//vsXomjm+f8JMCHQv3//KMQxgYCFKO2xdOnS8NBDD8VJhc6dO0eRDfd7+g3iNe0zbNgwORaIAH0H8fr444+PbYHQiVXoggULwv333x9DGzBuERqBcQ+rX0IjMAGRLLRfffXV8Nvf/jb069cv9O3bN45xWKZWalIgrdSWt94SkIAEJCABCUhAAhKQgAQqgECHDh0CQhsraeMqv2HDhrBy5crw5z//OdYeoQEhAREI4QALLETSN954Izz66KNRhOvatWuMWZosrSoAW1GqCHtiKOK+jUXv6tWroxXczTffHC13L7300mgFRxzZ5557LrYNbYjV6Ne+9rVw0EEHFaWclX6RLl26hKOPPjpaiNJ/sFhE0OY9lqVsKdGWCNfnnXde4DxT4QhgRTpkyJA4VmG9i4DNhM+yZcvCL37xizjh07Jly1gA9iOgkuh3bFhq33TTTTEMwoUXXhiFUgXSiMg/EpCABCQgAQlIQAISkIAEJCCB8iKABRVxEBHbsBAlhiXiDm6mxFccNGhQ/Ix4fljHIfZgBcfCNIcccki46KKLwjHHHBMqWTgo5DcCN+FrrrkmttETTzwRVz5HnMaS9I9//GNsMywWsTJFyD7rrLPCiSeeGBCtFawL2TJb542F4XXXXRdFz9GjR0c3evoRGxMLxCslDMXpp58e2wirbVPhCRDCAEG6TZs2MfYr4xtWosRPxjqbdqEtmFRg3zPPPBPHN6xPaa/jjjuuKnwI1vaVnLQgreTWt+4SkIAEJCABCUhAAhKQgAQqgABi56mnnhqwJkUExZoKcQ1rt969e0fXUgQGBFNi92FhioCA5SnxF9lvKgwB2gGRFCEbIQerUPhjNYqFGwIcVnAcw4JMQ4cOjeJ1YUpjrrURwFqRSYRzzz03vtKPCFfx3nvvRSGO/kLbIbpxnKl4BBjfcLVnEofJHGLE0nfoW4xdWPLSLlhfcywW8lhs41pPmzEumkJQIPVbIAEJSEACEpCABCQgAQlIQAJlTQDrw25bVuJm27x5cxR2cO0mVmJuQkj413/91yj64IKKxampOARgTZgDNixGcbcndiLtgPjWrl07Y8AWpym2eRXET7azzz47WvmmyYa99torhkvY5sl+WDACWH+efPLJ0bqavoMVNmMc4meyDEXQRiDlf4RTLExN/ySgQPpPFr6TgAQkIAEJSEACEpCABCQggTInwKIziAYIbzWlJIzW9nlN57gvvwRwC6aNkihKW9ge+WXc2NyYdMAKEQtf2ob/TU1PgHag3zCpUL1dsJLHGptjbK9PtpUC6SeZuEcCEpCABCQgAQlIQAISkIAEypjA9sQBxbimb3xFnKZvg+2VwDbaHqGm+by2dmFcY/LBVDOBTEv81dXumqvgXglIIAsEGITTjaSm+lloEcsgAQk0loA3kY0l6PkSkIAEJCABCUhAAhIoDQKZlo5ZCQ1z7ZT43yQBCWSLQBJFWQU09VFiBqWU9qX/fZWABCRQCgQY27gHYTxzHCuFFrOMEpCABCQgAQlIQAISaDiBTAqkSXAh2O+MGTPCY489Fj744AMfUBrezp4pgYIRwFoUcfTll1+OQdR5P3HixLBp06a4v2AXNmMJSEACBSSQBNJly5aFDRs2xDhOBbycWUtAAhKQgAQkIAEJSEACTUgg0wIpK9aNGzcuLFy4MFpxaMHRhN8ULy2BWgggItA3V6xYEd58881obfW3v/0tPPnkk/EM+20t4NwtAQlkmkAa25isXbNmTVzxM9MFtnASkIAEJCABCUhAAhKQQIMJZFIgTbXBEm3BggVhyZIlcZdCSyLjqwSyQyCJCPRXNlxSp0+fHrAstc9mp50siQQkUD8CaWxjHGNsM6B9/fh5tAQkIAEJSEACEpCABEqJQCYF0iSqtG3bNpx77rnh7LPP1sW+lL5VlrWiCCQX+6eeeiqMGTMmvP766+Hb3/526N+/v5bfFfVNsLISKC8CCKRM+Cxfvjx897vfDe+++255VdDaSEACEpCABCQgAQlIQAJVBDItkDZv3jz07ds3nH766WHz5s3xQaWq5L6RgAQyQQCrKqyr3nrrrTB+/Pjoan/YYYeFYcOGubhJJlrIQkhAAg0hsOOOO8axbd68eaFly5ZxPGtIPp4jAQlIQAISkIAEJCABCWSfQCYF0oQNy7Tdd989uuoilpokIIHsEqCP0mexukJMaNasWdyyW2JLJgEJSGD7BBjPEEuTd8v2z/AICUhAAhKQgAQkIAEJSKDUCOyY5QLzMIJ7m0kCEsg+gdy+ikWpSQISkECpE/A+pNRb0PJLQAISkIAEJCABCUigbgQyLZDWrQoeJQEJSEACEpCABApDQMvRwnA1VwlIQAISkIAEJCABCWSJgAJpllrDskhAAhKQgAQkIAEJSEACEpCABCQgAQlIQAJFJaBAWlTcXkwCEpCABCQgAQlIQAISkIAEJCABCUhAAhLIEgEF0iy1hmWRgAQkIAEJSEACEpCABCQgAQlIQAISkIAEikpAgbSouL2YBCQgAQlIQAISkIAEJCABCUhAAhKQgAQkkCUCCqRZag3LIgEJSEACEpCABCQgAQlIQAISkIAEJCABCRSVgAJpUXF7MQlIQAISkIAEJCABCUhAAhKQgAQkIAEJSCBLBBRIs9QalkUCEpCABCQgAQlIQAISkIAEJCABCUhAAhIoKgEF0qLi9mISkIAEJCABCUhAAhKQgAQkIAEJSEACEpBAlggokGapNSyLBCQgAQlIQAISkIAEJCABCUhAAhKQgAQkUFQCCqRFxe3FJCABCUhAAhKQgAQkIAEJSEACEpCABCQggSwRUCDNUmtYFglIQAISkIAEJCABCUhAAhKQgAQkIAEJSKCoBBRIi4rbi0lAAhKQgAQkIAEJSEACEpCABCQgAQlIQAJZIqBAmqXWsCwSkIAEJCABCUhAAhKQgAQkIAEJSEACEpBAUQkokBYVtxeTgAQkIAEJSEACEpCABCQgAQlIQAISkIAEskRAgTRLrWFZJCABCUhAAhKQgAQkIAEJSEACEpCABCQggaISUCAtKm4vJgEJSEACEpCABCQgAQlIQAISkIAEJCABCWSJgAJpllrDskhAAhKQgAQkIAEJSEACEpCABCQgAQlIQAJFJaBAWlTcXkwCEpCABCQgAQlIQAISkIAEJCABCUhAAhLIEgEF0iy1hmWRgAQkIAEJSEACEpCABCQgAQlIQAISkIAEikpAgbSouL2YBCQgAQlIQAISkIAEJCABCUhAAhKQgAQkkCUCCqRZag3LIgEJSEACEpCABCQgAQlIQAISkIAEJCABCRSVgAJpUXF7MQlIQAISkIAEJCABCUhAAhKQgAQkIAEJSCBLBBRIs9QalkUCEpCABCQgAQlIQAISkIAEJCABCUhAAhIoKoGdi3o1LyYBCUhAAiVD4O9//3v48MMPw7vvvht4X1PaYYcdwq677hqaNWsWdtwxu3NuH330UazH6tWrw6ZNm0Lr1q1Du3btwm677VZTtba57/3334951MaEk8kXLllmss1K+qEEJCABCUhAAhKQgAQkIIEKIqBAWkGNXYiqfvDBB+Gdd94JmzdvDh9//HHVJRBNahIP2I9gsPPOO4dddtml6pV9aavKxDcSkECTEqB/r1q1KsyaNSu89957YaeddqoqD/07iaP77bdf6N69e+zT7MtSQuDduHFjeOutt8KiRYtiXdavXx/69+8fDj/88LDPPvvUq7iMcytXrgxz584NCKWJQ8qEz2HQu3fvsO+++4bmzZunj3yVgAQkIAEJSEACEpCABCQggYwSUCDNaMOUQrGwyEIoGDt2bFiwYEG0qKpuMYVYwMaxSUhAZOE4LKxatmwZrbi6desWBZaOHTuWQtUtowQqggDC4ssvvxx+97vfhTfffDNOaNCfSfRnJjXatGkTzj777Cg0MumRpUQZn3/++TBlypQwb9688Oqrr8ZXxqBzzz037L///vUWSBFcye/3v/99WLt2bbSwhQOJV/jA4aqrrgqnnHKKAmmWvhCWRQISkIAEJCABCUhAAhKQQC0EFEhrAePuuhFAEEDoxGJqxYoVUXzYsGFDFAn4bPfddw9t27bdypUVqzSs0RBXcd3dY489Qo8ePcIBBxwQDjrooDB06NCw55571q0AHiUBCRSMAP10+fLl4cUXX4xiIFaiffr0iX02WZMyybHXXnttZV1asALVM2ME0qVLl0arUQTSadOmxXowLq1bty6Km/XMMo51jGmIq1jPI4hynbfffjsKsEwWYVl60kknxdf65u/xEpCABCQgAQlIQAISkIAEJFB8AgqkxWdeNldEAMV6bPDgwWHvvfeOllKTJ08O8+fPj6IBFe3atWvAOnTAgAEx5h9CAlZpa9asieLCkiVLoqgwderU0L59+9CvX79oiXr00UfX27KrbMBaEQlkhACW38TrRAgkMZFxwQUXxFdERsRBhNIOHTpUTZRkpOhVxSDWKJbp1GH69OlxP/FSsfJsSDgAwoP07ds3isRYk5IHgihC7L333hsWL14cQ44k9/uqgvhGAhKQgAQkIAEJSEACEpCABDJLQIE0s02T/YIhDBBfr2fPnjHeHrH8ECBwO8UdFxECYXTkyJHh1FNPjRVCIEVUQVjAgmvSpEnhzjvvDM8++2x47bXXolXpjBkzwvXXXx+uvfba7EOwhBIoYwL0cTYmQwiLwaJGWHpjRdqiRYsYOoPq8zlb1hJlGjZsWBQ0X3rppbBs2bIwfvz4qgmchpQXHli4Y/lOQiDG0hYeWNIy7pE4ziQBCUhAAhKQgAQkIAEJSEACpUFAgbQ02imzpUQESK62iCeIpGlREsQJRAP2JzEhtyJYnWLdhfCCYIpwgXs+26OPPhpFVyxJsxbXMLcOvpdApRBIfR0BMIXVwJoy64nxiLGGjXGI8YaJmsak6oIwTMgXHgqjjSHruRKQgAQkIAEJSEACEpCABJqGQPZMfpqGg1fNEwEEUYSC3LQtMQLXV2L1HXfccdESNZ1HzMOHHnoouqqmfb5KQAJNS4C+jNs9ExqllpjIYbIlTejks/wwYcM63iQBCUhAAvklkEUPhfzWsLRyy50MtG2y13bc56R2YdK2FCazs0exMCWqfh+qEVBhODcmV/pL6j+FeGZoTNkq/Vz6S27bFKp9FEgr/ZuWx/qnH+FcCyoElW0JpFwed1Xcdrt06VL1pccVFpfYzZs357GEZiUBCVQyAcam3PGpkllYdwlIQAKlQIAxOz0QlUJ5K6GMuQ+l/qZms8Vz2yW3vbJZ2sopFWNZahvHtmy2e24b+duTrTaq3jaFap/s+0dmq10sTT0JMPinH4LaTuXzVq1axQ3rU+L5kVhURYG0Nmrul0BpEMCycv369bFfY2FJH6e/s8hTMVNN41Duvg8++CCOOSyuhFs+Zcz9vJhl9VoSkIAEKp0A4y/bW2+9FW6//faqRfa2N+le6dwKXX8seFauXBmWL18eL/XEE0+ESy65JHpQ2DaFpr/9/BEMuO/CE4/EuhDXXHNNDDHEfY6p6QjQNrTB3LlzY7tQkn/5l38JLVu2rIrp33Sl88oQYDIBIy0WnCb9+te/Do8//rjtE2k07R/uBxjPFi5cGAvyxz/+MRrhfetb34qh3/JZOgXSfNI0rwYTQBRFDOVHPSVuwhQoEg1fJVBaBPgRW7JkSdxYtO3tt9+OD1BpMSNiExNio0ePHkVx/0pjCQ9wvGfjZpX/WVyOG6JVq1ZFIZfYyMRT3m+//WL5CjVDWVotamklIAEJFJdAGrdnzZoV2EzZI7Bo0aLAZsomAZ6vHn744WwWzlKFUaNGSSHDBKZMmRLYTNkjsHTp0vD888/HSQfWxshnUiDNJ03zahABhJPFixfH2eg0u4kFV6dOnYpuZdagCniSBCSwFYE1a9bERdcee+yxMGfOnIBVJn0bMZLZWaxH2fr16xdnz7t161bwxdiSZUt64OZ/xh5Cefz5z38Or776ali9enUsK+MPAungwYPDxRdfHLp27Vrw8m0F0H8kIAEJSKAqRBMhmPidIKWxPP7jn6ITID4fE6BYwW3atCkugNinT5/YLrZN0ZvjExdMFqRYwGHpi9fOwQcfHBfNzTVC+cSJ7ig4AdqGGP5MyK9YsSJeb+DAgdFrybYpOP46XYA2wmsBC3nGuV69eoV9993XNQbqRK+wB/H8hndx8mBg4d0DDzywIEY2CqSFbcuKz52BZluxb959993oBvLUU0/Fm60EjC/8iBEj8m4ynfL3VQISKAwBbvqefPLJKDq+/PLLAUvRk08+OXATyA3gK6+8EsaMGRNef/31MHPmzPiAhYvRgAEDClOgGnLlR5ab1Pvvvz+60YwdOzaKpRzKZ1ivszI95WPy5qqrrgpHHXVUDTm5SwISkIAECkEAsY2NcCenn356+Ld/+7d4GYWEQtCue564A2O1841vfCN6iBxxxBHhxz/+cfxNtW3qzrFQRyKIIlz/+7//e1zsFo+Y//7v/45rPWzYsKFQlzXfOhDg3nLjxo0B1+C77rornvH9738/dNsy+UObmZqeAPf+PBPceuutYcKECTF8yBVXXFEV/q/pS1i5JWBybsaMGeG+++4Lt912WzjvvPNi++TbehTCCqSV+z0reM25seXHmJkYfhAQS9mHMIHLxxtvvBGtt0aPHh1eeOGFgNUZCctRboaHDx8eZz4LXlAvIAEJ5I3AtGnTwgMPPBAfoJjp69+/f7jgggviLCziI27rCKfEkFmwYEEUUw8//PD4OZabhU78wFKuSZMmxfGJ6x1yyCGBh4h169ZFS1LEW6xeGb+4aaXMe+21V9h///0LXTzzl4AEJCCBHAI8sDIGM3FuygYBfhdTHHF/G7PRJtVL0aFDh7gLUY57nPbt21c/xP+biAACHEI2aciQIfH+s4mK4mVrIID1KNaJpJ49e8bnkxoOc1cTEOAZjgk6EhMLhGnj2TLfSYE030TNr+qLykwybgQECucHGoUfgRRxlEVbiPv33HPPhcmTJ1dRw6313HPPDWeeeWZ0a636wDcSkEDmCdC/Z8+eHcVHREgebA866KBwzDHHVJUd6xNc1xFIiR/DGLFoS/wy3NuLIZBi0c4kDSItDxDHHntsYHaYB3DKw43ro48+GsVbwgKw75lnngndu3ePP8aMZSYJSEACEigOAX5XXLCzOKzrehUmD1l0kZRCY9X1XI8rPAGev1K70H9oLwXSwnOvyxUYy9hoFxL3ykzQm7JDAO9WnhNIaBam7BBgLMOAhUTbFKp9FEiz0+ZlVxIGF4Lq46KKKwEKPzdU7OeHu/oXG+usCy+8MJx//vlaCpTdt8EKVQKBdEOewmrsueeegS038RkxfbhZR3xkXOBmsVA/crnX5n16qOvcuXP45je/GWOMsnAUs5LERB00aFC0FmXMIhwAad68eXEiBzGV81L94of+kYAEJCABCUhAAhKQgAQkIIGSJ6BAWvJNmN0K4FJPYGNEB8RPZsuYlSHoMdZibLxnw7WVoLvjxo2LQglCxKGHHhrd7bNbQ0smAQnkEsBliL5+2GGHRRGR2GS4z6eEOEk/J+RGilXGuMCkSZqtTccW6pXrYM2OFStuZ9UFXATQc845J1q1YuVO+VjMiXK/+eabUTxNroWFKqP5SkACEpCABCQgAQlIQAISkEBxCSiQFpd3RVwtuQ1gkYVYcvbZZ8d4oogjmEYTazSJDUuWLImrXGOphcvt+PHjYwBeVl/kuDPOOEO3kIr41ljJciFAzFGswFnVlkkOXOyZAEmrQrJaPP09xRym3owNadwoNAeuhZDbbUvsGhb/qClRZgRUXO0JAYA7B25QTOpgJatAWhM190lAAhKQgAQkIAEJSEACEihdAgqkpdt2mS85FqQEOcaKlI1UXQTBehSx5I477ghPPPFEeO2112J8Ula5RlDhPKzQahMyMg/BAkqgwgggPHbp0iWcddZZseasao9l+NSpU2P/Jvg5EyOIjaTqY0LcWcA/uPRzTYTOZMVa0+UIzD5w4MC4mBwhALB6xZK0WJauNZXJfRKQgAQkIAEJSEACEpCABCRQGAIKpIXhaq7/nwBiBEJpSvyfm3BvxVILCzPEB1xYeUW8QCzFgguRtG/fvrmn+V4CEsgwAfo8AigLHmEVThxiLMpZ6Ii+jBUpCx/Rx7Oa2rVrFxduoi6MR8RIJUTItkTVrNbFcklAAhKQgAQkIAEJSEACEpDAtgn8U7na9nF+KoEGEcBSC5fWbSVW78NSa8CAATEeIEIKCaF02rRp0YJrW+f7mQQkkB0CCIlYhf/1r38NN998c3j88cfjIkzEIh4+fHg47bTTwpAhQ+IK8tkp9SdL0qxZs2i5niZ1GJfY0v+fPMM9EpCABCQgAQlIQAISkIAEJFCqBBRIS7Xlyqzce++9d7TWatu2bZXFKZZauNkjlJokIIHSIDBr1qxw2223hRtvvDE899xzoU2bNnGl+GuvvTbGFD7wwAOjOEoc0CwnJnZwp2eSB2GUiRws3nfZZZcsF9uySUACeSDwne98Jw+5mIUEJCABCUhAAhKQQCkR0MW+lFqrjMvKoicIEFhtJZd8hAndWcu40a1aWRFAUExu9Q888EB4/fXX4yJt5557brjoooti/y6lCuNOT4xk6sX4hDjasWPHOEaVUj0sqwQkUH8C//mf/xlPUiitPzvPkIAEJCABCUhAAqVKQAvSUm25jJYbUbMhCbfc9evXxzh/ySV/p512CsQBbNmyZUOy9BwJSKCIBJjMWLp0aZg7d26MOUo/7tWrVxg0aFC0Ik2u6UyAME5UHyvS59WLnO+JknRdrlfbNSkD8ZCJkYoVKWNQhw4dwj777KNAWr2B/F8CZUoAkVSBtEwb12pJQAISkIAEJCCBGghoQVoDFHc1jADCA2JCEjjJZXsiBMe8//77Yfbs2QHXXFzq0yrRuOb2798/4H5vkoAEsk0AgRRRkYmONAZgEV5dhHznnXeipemmTZuqKkSfT6vE48Ke3NixSMWKk8/32GOPaMXZvHnzqvMa8obyJNE1lbN6Plxv/vz5UexloqZLly5R7MWKtHp9qp/r/xKQQPkQ0JK0fNrSmkhAAhKQgAQkIIHtEVAg3R4hP68zAUQHxA8Ez5QQExAYaksci5XW6NGjwxNPPBFWrFgRxRXO6dGjRxgxYkQUJ2o73/0SkEA2CND/6c+s+M570vTp08OkSZPC4YcfHq1IETtZeG3ChAlh+fLl8RiEVcYNVrZHYN13332jpSb5PPTQQzEP3hO79Jhjjgl9+/YNLVq0iOc25A9jEgIoZcFyvXris8mTJ8dyv/HGG3GC5qSTTgonnHBCyHrc1Op18X8JSKDxBBRJG8/QHCQgAQlIQAISkEApEFAgLYVWKpEyrlq1Kixbtixs2LAhlhjhgziEL730UlV8UQQGBAqECUSRJUuWhClTpoSnnnoqrnzNObiyHnrooeGUU06pcs8tEQQWUwIVSwDX+fbt28e+zqJGiKWMB+PGjYv7sL5EcMRSfNGiRVUTKRw3derUsG7dumghesYZZ0SBdc6cOXGxJyw5yY9jiAuKdSmW5duaeKneCIw5lA+LUcYYrFdnzJgRHnnkkXgokzG40ZM/IQLuuOOOKJASF5lJmpNPPjlakJKPSQISqDwCiqSV1+bWWAISkIAEJCCByiOgQFp5bZ63GiM2ICgggiB8IITOnDkzWmZxEYQPRA4S1mGIDYgQiAyIowgiCKhYkOJKi+ssAstRRx0VBQleda+P+PwjgcwTQMTcb7/9Qp8+faLVN32fiZAXX3wxhs5IK8BzXM+ePcOaNWvifo4hxAZjyeDBg+OCSGnseOGFF6JFKpVnrNhrr73iufvvv3+9rEi5JiE7evfuHeOjIoIyJt1zzz3RkvWII44Ibdu2jePQK6+8EsaPHx/Ho8MOO3L4C6IAAEAASURBVCxccMEF4eCDD65y+898Q1hACUigIAQUSQuC1UwlIAEJSEACEpBAZggokGamKUqvILi9Yt31m9/8JgqjxA9lkZbcuH4rV66MQghWorvttluVi+rmzZujRRfWYAij/fr1i+IFQgRiBYu7IGiYJCCB0iCARSfu8cOGDQv0e8YC4opirYnVKJbhfHbmmWdGEfXXv/513E/tEDARPc8555woRr799tux/+NKz0RKSrjgI5SSLyvLYxVal0T+nTt3DhdddFEUcR999NEwduzY6L6PFftzzz0XxycmbrCAR0gdOXJktGJnLHKhuLpQ9hgJlCeBG264ISRxNL1+5zvfKc/KWisJSEACEpCABCRQwQQUSCu48Rtb9SQ6XHrppVULqeTGHyT/FIuQ9wgoyUUVERVxA4GUhVxatWoVLbhYtZ4N8cMkAQmUFgH6NJMdn/70p8MhhxwSQ2ggkNK/ESgRG7t16xbFz8997nNhyJAh0WoTYRXLUz7H0pz+P3z48MBECgIm8UKxVGfMQcDETb4+iXGHiZgDDjggji8DBw6MAihiKxM7SXDFipSV6rt27RotVSkX45NJAhKoXAJJDE3iaHpN+yuXjDWXgAQkIAEJSEAC5UVAgbS82rOotUHwxCrsuOOOi9etqzVXUQvpxSQggaISQODEEpzFlLAkReREIMXFHoEzJdzXEVMJr8GkSO7q9IiSnE9eCJi4xGP1iTUpnzGxkiZbUn7be2V8QnglDAAbluq4+VNGykC+hPhAIG3MIlDbK4efS0ACpUcgiaFJHE2vaX/p1cgSS0ACEpCABCQgAQlUJ/DPp9Xqn/i/BOpIQGG0jqA8TAIVRAARE6vRbSVE0VxhNPdYBFCETOIQE5+UDcEUq07Oqa9Amps37xm3EETZTBKQgAS2RyCJoUkcTa9p//bO93MJSEACEpCABCQggWwTqFsAt2zXwdJJQAISkEARCTRWnKxrUXGlZ+G3p59+OixcuDAKrqxgn7UQHPBIW13r5nESkEDpEUAMJSZpSoikCqSJhq8SkIAEJCABCUigtAloQVra7WfpJSABCRSFQBIACa2R6ypfiIsTy/iNN94IkydPDqxkjzhKjFLc8nv06NFo69F8lxkeuTGW852/+UlAAtkhkATRZEGaXtP+7JTUkkhAAhKQgAQkIAEJ1IeAAml9aHmsBCQggQoikBZZ4/XDDz8MrPLOYklYcLKx2BrCIKu8E2c0X5alXGf27NlhzJgxcZGmjh07hjPPPDMcfvjhcYGnpmwCWLCo0/r162P9cdUnzipc2AcnkwQkUN4EkhiaxNH0mvaXd+2tnQQkIAEJSEACEihPAgqk5dmu1koCEpBAXggggrIRA3Tq1Knh//7v/wKrvScrUoTRY489Npx88slRNM2HSMq1WK2+e/fu4cgjj4yLPvGeazV1ev/996Nl66hRo6JgjGAKH8TRWbNmxYWfKCP72UwSkEB5EkhiaBJH02vaX561tlYSkIAEJCABCUigfAkokJZv21ozCUhAAo0isOuuu8ZFkg499NAo/O2xxx7hvffeiyvLkzFiKP9jUZlPMRAhlFXscaffc889YxlYZT4LCTEU8XbFihVVVqRwwHIU4figgw6KxezUqVPISpmzwM0ySKAcCSQxNImj6TXtL8c6WycJSEACEpCABCRQrgQUSMu1Za2XBCQggUYSYLV4Yn9efPHFURTEnZ6Fk5J1JMIgx3Tp0iValObDepQis1o9Iinu61lLlGmfffYJQ4YMiVa1CKapnPCBDa8DBgyIoQeyVn7LIwEJ5JdAEkOTOJpe0/78Xs3cJCABCUhAAhKQgAQKRUCBtFBkzVcCEpBAiRNo0aJFYNV4rDm3lRAIEQXzlRBa8yW25qtMKR+sQgcPHhzd/rdlNQuPJJymc32VgATKk0ASQ5M4ml7T/vKstbWSgAQkIAEJSEAC5UVAgbS82tPaSEACEsgbgSRUKvRtjRQeMtmaif9VJoGsTmQ0RWskMTSJo+k17W+KMnlNCUhAAhKQgAQkIIG6E8ie/2Ldy+6REpCABCQgAQlIQAISyAQBxNAbbrihqiyIpAqkVTh8IwEJSEACEpCABDJNQIE0081j4SQgAQlIQAISkIAESoWAImmptJTllIAEJCABCUhAAlsT0MV+ax7+JwEJSEACEpCABCRQTwLbislbz6xK/vBkNZrc7NNr2l/yFbQCEpCABApI4P333w8rV64Mc+bMCUuWLAnvvPNOIAb83nvvHbp37x569OgR2rRpU8ASmPW2CGzatCm89tprYdGiReGNN94I69evjwuTdurUKXTt2jXst99+oW3bttvKws+KRIB7s8WLF4eFCxeG1atXxzUUunXrFnbZZZcilaD0LqNAWnptZoklIAEJSEACEpCABDJMIImhSRxNr2l/hotu0SQgAQk0CQHEnNdffz288sorYcKECWHmzJlh2bJl4d133w277bZb6NChQ+jZs2c49NBDw9ChQ+N7hZ7iNRXtgNg2derUMGnSpDB//vywatWqsGHDhsDCrh07dgxdunQJAwcODIMGDQp9+vSJ+4tXQq/08ccfhw8++CC8/fbbUbxesGBBeOmll6KgTV9p3bp1bCf7Te3fFQXS2tn4iQQkIAEJSEACEpCABBpEIImhSRxNr2l/gzL1JAlIQAJlSOCjjz4Ka9euDc8880y4++67w5gxY8LmzZtDWjAU4YfE/3379g1XXHFFOOecc0Lv3r3LkEb2qoTohtXoww8/HO64444wd+7cgCUp7VHdgwRhdMSIEWHkyJGhf//+iqRFak76yMaNG8Py5cvDvHnzwuTJk8Njjz0WpkyZErDKHjJkSLQipS1NtRNQIK2djZ9IQAISkIAEJCABCUigwQSSGJrE0fSa9jc4Y0+UgAQkUEYEsHhDHL3vvvui5ejBBx8cLd2aN28eLRQRfHC3R5RDnPvLX/4S3nvvvfDNb34z7LrrrmVEIntVQbwm5MGoUaPCPffcE8U33On32WefsPvuu0drRSx9cbdHpCM0Atamb775ZvjqV78aLUqzV6vyKxF9A4vRp556KsyYMSP2k5dffjmKo/SRNNlQfjXPb40USPPL09wkIAEJSEACEpCABCRQRSCJoUkcTa9pf9WBvpGABCRQgQSwFMU6EWu3devWRRf6Y445JsazxHWbGJdYwT399NPRKg6XbtzvJ06cGEU5Yl4i/pgKQwCrxFmzZoUXXnghts/RRx8djjjiiBgPltAHtA+iNW00bdq0+D9i9pNPPhmOPPLIsNdeewUEVVPhCey8886hffv2YcCAATFOLxMLCKc77rhj3Own228DBdLtM/IICUhAAhKQgAQkIAEJNJhAEkOTOJpe0/4GZ+yJEpCABEqcAIInbsFYIB500EHhpJNOigIcQg/pww8/DAcccEDYaaedYsxLxDj2cQ4bAhxCnakwBBCtiQuLENqvX7/wqU99KlqFYkFKmyBwE5uUxbNw5cZ6kYW1aJtnn302xiJVIC1M2+TmSlxR2uSoo46Ki2YhUiNa034pREXu8b6vmYACac1c3CsBCUhAAhKQgAQkIIG8EUhiaBJH02van7cLmZEEJCCBEiKAeMOq56effnoUSBHhWrZsWVUDrOIQSFmcCZdhVk9HIOU8xFXemwpHAIGNVdCJLYpF6PDhw2P7YJVI/FHEaSwWCYeAWz3Hz549O1r1Tp8+PVoHDxs2rHAFNOdIADd6+tEee+wRhWv6BaI1gjXxfU11I6BAWjdOHiUBCUhAAhKQgAQkIIFGEUhiaBJH02va36jMPVkCEpBACRJo1apVFN9YAX3PPfcM/F9TYhV7LOQQ5HD7RpDr3r17fK3pePc1ngAiG4v6YClKXNjDDz88roSecs512cZKFOtF3OwRsXHtXrp0abT6Tcf7WlgCiNYpYVFKX+K1+kJa6RhfP0lAgfSTTNwjAQlIQAISkIAEJCCBghBIYmgSR9Nr2l+Qi5pp0QkgLLCIDIvP4ILK/4gJLGqCsMOWFs4oeuG8oAQyRADBsy4u8iwWlDb6Ee74iKq5olCGqlU2RcEikRXQWZEe3rWlZs2ahV69esV4o4xvCKTsQ6AzFZ8AoijW1/aP+rFXIK0fL4+WgAQkIAEJSEACEpBAowgkMTSJo+k17W9U5p7cpAR4KGUFZ1Z9ZuEZFpPhPRZvWGHtu+++cfEZLN+6du0aXSJ5iDVJQALbJkA/wjKRiYcTTjghnHnmmYpv20bW6E8Zm3r27Bldtcks12K0euZ8xqRPsljkf1zvOd9UfALw5zdnW21W/FJl/4r+Gme/jSyhBCQgAQlIQAISkECZEUhiaBJH02vaX2bVrZjqsJAJqzezIjfx93g4bdeuXbQYRSR95plnoljKwjLnnHNOjOdHzEWTBCRQOwFctYmluHr16jB06NBw4YUXhuOOO672E/wkrwTqIrKlmLBYjrJYE5NFxI7dltVpXgtpZhLIA4FMC6R0xLp0xjxwMAsJSKCRBHL7au77Rmbr6RKQgASajABjma5JTYa/Ii6cxNAkjqbXtL8iIJRRJRFHWTX47rvvDmPHjo0upqzIfdhhh4W99947vPXWW+H++++Px6SVuFu3bh3jKiKiev9URl8Gq5IXAghtrMb91FNPhaeffjr2IRZrIh4m8UpN2SFAGBEWaWJBIOKW4mbft2/fsN9++2WnkJZEAtshkGmBlFkHtpRy36d9vkpAAk1LIN3MM2uYUu57+22i4qsEJFBKBBjbGMvYHMdKqeVKr6xJDE3iaHpN+0uvRpVb4uXLl4fHH388bli6EbPvyiuvDKzgTBy/d955J066YGHFatxTp04NL7zwQhg4cGD8XFf7yv3uWPOtCSC20V8WLFgQJkyYEO65554wadKk6MLNZ2vWrImW2C1atNj6RP9rMgKEPkDMJhQCk8usoE6cWKzlTRIoFQKZFkh5KKGjMQPB7BFBmU0SkEC2CHAzT9+kr/KKkMCNP1v6X3EhW21maSQgge0TIG4TD2G4xHI/wv8mCRSKQBJDkziaXtP+Ql3XfPNLYNWqVVH4JAYpiYVkevfuHcVP/m/ZsmUYPHhwFHoQSHnGQehBUPBeCUImCYRogTh+/PjwyCOPxBi+WCWm2KP8LhO+gj5DDNIrrrgiiqZya3oCtBNhRebPnx/Dilx66aVh//33b/qCWQIJ1INAJgXSZJHGTcadd94ZXnnlFS046tGoHiqBYhKgv3JTzwwvs4bc7P/sZz8Lf/3rX73ZL2ZDeC0JSCCvBJIFKStQr1ixwpv8vNI1s5oIIIbiQjpu3Lj4MSLp8ccfH7eajndf9gggiOL2y6QxYwiLMOFanxL7sKrq2LFj3MX9E8cyEaNAmij5WukEsD5kVXtctFn0h76BMEridfHixTEWKe+7desWjjjiiDj5UOncmrL+hBeZPXt2tPbFQOaQQw4Jp556amjfvn1TFstrS6DeBDItkGI1iusJAqk3DfVuW0+QQFEIJIE01xWVhzv2myQgAQmUOoH0YMaqrCYJFJIAAmkSR7nODTfcoDhaSOAFyLtTp07RnX7OnDlRsDnmmGNCq1at4pV4rtmwYUNYtmxZYOIlJcQENpMEJPAPArjNE54Ci2teEd5wr6dfYaWIMQZ9ifAUGFMR45LFgExNRwDR+sUXXwzEVsZq/pRTTonu9QjcJgmUEoFMCqRJDGUWlhkhAjEnV91SgmtZJVAJBJjlRRydOXNmmDZtWnQVY1VWrCbYb5KABCRQigSY5GEMw/2V2GebN28uxWpY5hIhgDia3OopMuIo+0ylRQDL0EsuuSRaTjGpgjhKeA7cgblPYqGZRx99NMyaNStWLE0yp2ef0qqtpZVAYQgQvqtDhw7RGnvQoEHRypr4vg8++GD8PWY1eyyvWQzoySefDOeee64CaWGaok65IlYjjiJYE2uZ58ARI0YY+qBO9DwoawQyLZC2adMmHH300eHTn/50nClSbMna18fySCDEG38mMO69995oFYGLxdlnnx2GDh1qaAy/IBKQQMkSYPKHse21114LTzzxRIyFXrKVseCZJqA4munmqVfhGDdwC2bD/ZfxY+LEiTEuH5ajCAm4DrNiPW71JglIoGYC9CU2UrNmzQK6AIkJB/oOcS7pY+vWrYsTEFhlt27dOh7jn+IRwDKeMY7F6QhHhFv9cccdF7p06VK8QnglCeSRQCYF0lQ/BsPOnTtHS7S0z1cJSCCbBPgh5IGAmxkCcvfs2TObBbVUEpCABOpBAPcwBA0naesBzUPrTEBxtM6oSuZABAOEAhZhwqJqypQpMV4isUnTis4ICsRt13K0ZJrVgmaAwIEHHhhFUdztcbVfvXp1fO5AHGXyQYG0uI1EqANc6rHsZTKoe/fu0UiGdjLUWnHbwqvlj0CmBVIeRrjJMElAAtknQF9NAgJuLyYJSEACpU4A8WLTpk2KGKXekBktv+JoRhumEcXiXohYfA888EC4//77Y8xEFmUiHt/w4cNDv379osUbC9GSFEgbAdtTK5IAYSyIS8oEBAIpiX5kXyr+12HevHnRg3DMmDFxbLvssstiaESF6uK3hVfMH4FMC6T5q6Y5SUACEpCABCQgAQlIIBsEFEez0Q75LgVWVMQsJuwQC8rgCXf55ZeH448/PnrXsL4Cky7JdTjf1zc/CZQ7ATw6WASIMBUkLBVxv2dBJ1PxCBAH9k9/+lMYNer/sXee0VZWd/7fUVREQBCk9w5SBEG6IFhJxJLEqMmUzMSZWStr5s3MrDWz5sXMvJnyYlqyZjItTZ0YNMaGFVERKdKRIkjvvRdBTfL3s/1vPFzuhVvOuec553z2Ws897Sn7+ey79/M83/0rM6Ng/dWvfjW61qdQCI1XE48kgfwSUCDNL0/3JgEJSEACEpCABCQggRoJKI7WiKakf8CLBosqYhaTtJLwHMOGDYvJSvr06XPu3FhPa7dzOHwjgToRYHKBRECE4qPQz9q2bXsuRmmddubKdSZA3NfNmzeHn//852HevHmRO0mypkyZEtq1a1ft/vAsPHHiRAyBQHvpfl8tJr/MCIHPIx9npDJWQwISkIAEJCABCUhAAuVKQHG0XFs2hMOHD0f3+q1bt8aT7NChQ4zHjhVpbiH5WwpJlL7PdRFWPE1UfJXAhQToP8QcTZbYnTt3rlGYu3Brv2kogS1btoRnn302PPPMMwGL+D/+4z8OX/nKV0KnTp0u2DVjGe2EtencuXPDkSNHnBy6gFJhv6h6Pan6ubBHL829a0Famu1mrSUgAQlIQAISkIAESoiA4mgJNVYdq8pDJwIpMRHPnj0bt+bzrl27Ytbt3N2xDr9R2C4tiKZYWhHHFHdh3fBzqfleAp8TOH36dHjnnXfC2rVrQ/v27cPv/d7vxeRA8ik8AUKIIIxiPTp8+PDw0EMPhenTp9d4YMayxx9/PLz55pvR0vemm25yXKuRVmF+SNcX9s57y6UJKJBempFrSEACEpCABCQgAQlIoN4EFEfrja5kNmzSpEkUQ3EfZSGr9oYNG6LLPUllcE0l4/OsWbPC0qVLz50XYumqVaviNq1btw5YxJHtXoH0HCLflDkBLEJJboalIQVrxBRnFJfsJPLs3bs3vP3222HhwoXRxX7ChAnhrrvuii72ZY6oqKdHtvqdO3dGy1GsRz/44INAsixe+Y1JoRQ6hLbCyhchm/Z64403ohXp+PHjA/FjLY1LgNAGtBGFaxDvFUov3gYKpBfn468SkIAEJCABCUhAAhKoNwHF0XqjK5kNEUSvu+66KBrwevDgwfggisXVD3/4wzB27NgogC5YsCDw3Z49e86dG1amuJ+uWbMmjBgxItx6663nfvONBCqBAP3h9ddfD//1X/8VRZwbb7wxCp+DBw+OyZgQdLBGXLx48TnBbdKkSeGBBx4I3bt3rwRERTtHxE7Ea5IxPfnkk2HZsmWxLkuWLIljVm64kCSOIpgieqffSFJHjFKz2xe+GWGOCMoEG6I2IV+YrON72oTrDQtiNXF8L7/88sJXqsSOoEBaYg1mdSUgAQlIQAISkIAESoOA4mhptFM+aknimIEDB0aRc/fu3THeHu70WFy9+uqrAevQbt26RbdULEsRTnloxcqKV9yFsTRlwRrVIoFKIXDs2LEo5iCUIuYg6mBpTZKzrl27hiuuuCKKOwcOHIiu2l/72tdi8jN+txSWAG1CW3zve98LxB9NhUmg2pYePXoE3OuxBrYUjkCKz8sk3Pbt28N7770XJ9+w5qXQflyL6GOjRo0KI0eOjNcdrzfnt4lX3/N5+EkCEpCABCQgAQlIQAINJqA42mCEJbcD3IIRb7DKQQTlQZSHVmKK9u7dO4wZMybccccdMds94umOHTuiGMpvU6dOjeJqmzZtSu68rbAEGkKA7OdYjWJpiNXbqVOnots2lnD0oRYtWkTrQ4Q2+hju2v379z+Xyb4hx3bbixPAcpfxDO4knENMw2KeSZ2aXLX5nYIVI6LouHHj4rZaK16cdUN/pU0QQ7H45fqDez3XHFzrYU97cH0hrAvhEfr06ROuv/76hh627LZXIC27JvWEJCABCUhAAhKQgASKSUBxtJj0i3dshB5EnmuuuSa60mMZx0Np27Zto0CKhSkPqFiTUrD0IRM0AimWo6yXxIXinYVHlkDjEiCeJfFE6QtYLNJvcNPGcpTJBayzWbDA7tmzp6JOIzYPY9mgQYNiOyDA1VbkRDxlLKMN2V4rxcI3GrzhTCgDYllzPaJfpWsKbYJYSt9iPdzs02+Fr13pHEGBtHTayppKQAISkIAEJCCBTBIo15vsmixkLtYIiqMXo1P+v2Hthkg6evTo+CBK30D4Id5b6idY7ZBcBgsfHlT5HeEh/V7+lDxDCXxBgL6B8Elypo8++iicOXMmCjmIa/QNFvoJkw2WxiWAyMZ4RRzl+hbbrb7k6rYdfYT2whuhNvcutIvXnAsZK5BeyMRvJCABCUhAAhKQgAQkUGcCiqN1RlZ2G/DAidiJ5RtLTYWH2WRJWtM6fi+BSiGAWJPEUMQdFvqSAk5x/wNsg+Lyr+vRba+6ErtwfQXSC5n4jQQkIAEJSEACEpCABOpEQHG0TrhcWQISkEC1BBR5qsXilxKQQCMQUCBtBMgeQgISkIAEJCABCZQbgdq4cJXiOdfHYklxtBRb2jpLQAISkIAEJCCBLwgYyOMLFr6TgAQkIAEJSEACEpBAnQgojtYJlytLQAISkIAEJCCBTBJQIM1ks1gpCUhAAhKQgAQkIIGsE1AczXoLWT8JSEACEpCABCRQOwIKpLXj5FoSkIAEJCABCUhAAhI4R0Bx9BwK30hAAhKQgAQkIIGSJ6BAWvJN6AlIQAISkIAEJCABCTQmAcXRxqTtsSQgAQlIQAISkEDhCSiQFp6xR5CABCQgAQlIQAISKBMCiqNl0pCehgQkIAEJSEACEsghoECaA8O3EpCABCQgAQlIQAISqImA4mhNZPxeAhKQgAQkIAEJlDYBBdLSbj9rLwEJSEACEpCABCTQCAQURxsBsoeQgAQkIAEJSEACRSKgQFok8B5WAhKQgAQkIAEJSKA0CCiOlkY7WUsJSEACEpCABCRQXwIKpPUl53YSkIAEJCABCUhAAmVPQHG07JvYE5SABCQgAQlIQAJBgdR/AglIQAISkIAEJCABCVRDQHG0Gih+JQEJSEACEpCABMqQgAJpGTaqpyQBCUhAAhKQgAQk0HACf/u3f3tuJ3/9138dEEwtEpCABCQgAQlIQALlR0CBtPza1DOSgAQkIAEJSEACEsgjAcXRPMJ0VxKQgAQkIAEJSCCDBJpksE5WqYwJ/OY3vwlpSad52WWXhS996Uvp43mvv/71r+NvNf1+3sp+kIAEYv+i31ysXKzPXWy7xv6N8/j444/Dp59+GqjzVVddFS6//PLGrkZejverX/0qnsfZs2fDFVdcEc+Fc6IwJl6qzRgD05KXCrkTCUig1gQUR2uNyhUlIAEJSEACEpBAyRJQIC3ZpiutiiMAIAywIHh88sknURRAILjyyitD06ZN45LED8SEM2fOxPWvueaaKCaU1hlbWwk0PgGExNOnT4dTp05FMa66GtDHWrRoEZo3b17jxER12zX2d5zHsWPHwo4dO8KRI0fCtddeG/r37x9at27d2FVp8PE++uijeA579uwJ27ZtCz169Aj9+vWLbcDO+f348eOxzdKkUO5BGSebNWsWF0RiiwQk0HgEFEcbj7VHkoAEJCABCUhAAsUkoEBaTPoVcGwE0QMHDoSdO3dGYQCB4NChQ1EMQDTlYR+xpmPHjqF79+5x6dChQ9i7d29Yv359FEjGjRsXevfuXQG0PEUJNIwAfW358uVhwYIFsY8lq8VktY3Qdt1114UpU6aEW2+9NVPWmNSRSZH9+/dHUXTTpk1h7dq14f33348TJePHj4/iaKkIpEwCHTx4MGzdujWkc+F8EEi/+c1vxjEPkRpBdN26deGVV14JjI+MmbQT32NpysIE0o033hhGjRoV+vTp07B/EreWgARqTUBxtNaoXFECEpCABCQgAQmUPAEF0pJvwmyeAA/3+/btiw/+a9asiWJnevinxogHWLKlBYEA4QNxdMCAAWH79u1h9erVUShAEFAgzWY7W6tsEcDSEoH0ueeei2IbAhzWivQzxFJe27dvH60ZESSzVBgzTp48GT744IOwdOnSeB68IjDiWt62bdv4e5bqfLG6YBW6efPmMGfOnLBy5cq4MOlDGTt2bBRCUxtw3ljKbtmyJYrECKS0F2Pm0aNHo/UsYyaTSAqkF6PubxLIHwHF0fyxdE8SkIAEJCABCUigFAgokJZCK5VgHXfv3h1ef/31MGvWrCh0YDXarl27MHjw4HDDDTdEsQPrUdzt+W3Dhg1hxYoV0eIKa1Is4RAGBg4cGIWEEkRglSXQ6ASwPqQ/YYXJK27p9957b3Tlxv0eobFly5bRVR0RLksFgRRRkYkVLM4ZQxAIKdSZ8SJrdb4YP6xhsSBF9Ny1a1c4fPjwudWxCKUtKJxTly5dwh133BHbDCGU32iv//u//wsbN26MY+CJEyfixNK5nfhGAhIoGAHF0YKhdccSkIAEJCABCUggswQUSDPbNKVbMdx7Z86cGWbPnh0+/PDDcPXVV4fRo0eHu+66KwwbNix07tw5xtJr0qRJFAEQRRB0WHfRokXR+g2BhO2wrEIwsEhAArUnkCwTcaefPn16tM5GcKNgRUrfyprYSL2wIp8wYULo27dvGDRoULQ8R/RNYmLtCRR/TUKHDB8+PLRq1SpaxD7zzDNx4qe6mjEmsl5qI84XwZix9L333rsgsV11+/A7CUggfwT+5m/+Jn87c08SkIAEJCABCUhAAiVBQIG0JJqpNCqJSyiWoLj3Pvvss9E1FquviRMnhm9961tRJO3UqVNAGK1akutot27doqXVyy+/HC1IEUcUSKvS8rMEaiaAuJYERfof1om8Zr0g2JKQrWfPnqHHZ2EBqDNCLiUJvlk/h9z6YSXatWvXaC3PuSF21lQ41+raCJGVktumNe3D7yUgAQlIQAISkIAEJCABCUig/gQuVKrqvy+3rHACuMU///zzAXEToRQhFAuq+++/PzzwwAPRcq0mRAgIbdq0CSRiISkJ7qmIrFhRIZJaJCCBuhNAWKT/VCe+1X1vhd8i16oV61esSku1JJEaoRTrUF7rWph0skhAAhKQgAQkIAEJSEACEpBA4QkokBaecUUc4dixY2Hx4sXRtZ7EJBTiBuLeO3ny5FoLHYiqZK3H3Z4YhKdPn44LQk8SHCoCqCcpgQonUMriaG7TMW4h/OaKv7m/+14CEpCABCQgAQlIQAISkIAEik8gW1k6is/DGtSTAIlEyNZMBmpETaylyEZ/8803R3fZuu6W7UhagqjA/kjmZJGABBqHALEwseImPnCx+l51gmLVSRLCb2Ahi6V5lgrM4IcFKAtib3Xnk6U6WxcJSEACEpCABCQgAQlIQAKVTEAL0kpu/TydOwLF+vXrYyISMs9TSLYyatSoGE+wPochJumkSZPC8uXLw5VXXhlFhvrsx20kIIFLE8BCG7Hx+PHj4ciRI/EVcRRxj5AXuLtfe+21gZiYzZo1axSxDzE0CaLpfYpFSh0PHTp0Lk4x1uq4sbMQx7SxxUjqxUQOmeYZA1kQSImhSn2oq6FCLv1/6BoSkIAEJCABCUhAAhKQgASKRUCBtFjky+S4CCh79uwJuNXzmgQMBJWxY8eG5s2b1+tMERWwQJ02bVro06dPowse9aq0G0mgRAkghm7dujUsW7YsWoGn8BZYQjJBQbIhEqjRJ0eMGBEnQBrbBR6RNNXznXfeiWE4du7cGU6dOhUTITFODB06NNx0002xfklcbYwmIcQI7NasWRO2bNkS9u/fH8VSBNIOHTrEcCO7du1qjKp4DAlIQAISkIAEJCABCUhAAhKoBwEF0npAc5MvCODaum/fviiu5AqkWJvdeOON0eLsi7Xr9q5t27bhrrvuiuICIo1FAhLIP4GTJ0+GlStXhmeeeSbGEca9HrGRbPK83759e3j11VfjgQcPHhwtTCdOnBg6deqU/8rUsEcmXqjne++9F4VHErgx3mC1SWEihvHihhtuCHv37g233HJLwAq9MQp83nzzzfDSSy9FNljP9+jRI3Ts2DHWkTpTd+prkYAEJCABCUhAAhKQgAQkIIFsElAgzWa7lEytsCDFfRSRFPfcVIhBitUZSZfqWxBFERosEpBA4Qjs2LEjYJH53HPPhQMHDoThw4eH0aNHhyFDhkSLcMJcrFu3LlpHIvJdddVVsW9jGdlYruxYsmLhyitWpIcPH47u64wvuNtTLxYsXxEjcblHMMUSvZCFsW/27Nnhqaeeinz69+8fJ4YIL8IYSGxmxF0EVNa1SEACEpCABCQgAQlIQAISkEA2CdRfvcrm+VirRiaAQIogwZJbiFtIrEKLBCSQXQKIdyRWmzt3bhQg+/btG6ZOnRruu+++0Llz5xgDlIkOrDKJr4lIybp33313GDlyZHS/b4yzI54n9SS2J1asjz76aBRpcWWfN29eFCkZgxAhZ82aFRAqsYLForRQhZiiL7/8cnj88cfDokWL4rEefPDBMH369HD99ddH8RhG1JcwAG+//XbAFd8iAQlIQAISkIAEJCABCUhAAtkjoECavTYpqRph0YXlKAJGbiEGqUUCEsg2AQRSrC6Jm8l7kjDRd3FZTzE827RpE2OPYpGJQIq1OGIkkyONVbAU7dKlS/ja174W7rzzztC7d+84AcP4M378+CiWvvjii2Hbtm0xGRJWncRMLaRAihj7k5/8JAqf7du3D+PGjYvxT3mfCpNE1HXChAkxVAHWuBYJSEACEpCABCQgAQlIQAISyB4BBdLstUlJ1QiRBEsqYhWmggtuoV1b07F8lYAE6k8AEZSYmcTLJIkQIS0QFnP7L+vwmX5NIe4nwiSCamMVwm306tUrTJ48OUyaNOm8w2KtiYUmVq6IvZ988kmMqbpkyZLz1svnB1z8CUuwYsWKyIFwAzfffHO1cU8RnQlXgEWuAmk+W8F9SUACEpCABCQgAQlIQAISyB8BBdL8sazIPSGeEIcwNxYhiZsa07qsIsF70hLIAwH6L5nfv/zlL0cRFCtILB4pCKG41ROjlEREiJCp0McbsxCyA8vMXOvMdPx0DgiUZJH/8MMP4/iD4MvkTRJ20/r5eN2wYUNMaoXlPGMfVra49RP7tGrhdwTUVq1aVf3JzxKQgAQkIAEJSEACEpCABCSQEQIKpBlpiFKtBuIDGetJSJIKFlzECrRIQALZJ9CvX7/ovv7www/Hfoz4iQBIYiYsJMlwz2eE0mIWLFars1pFgMQKlvipLCRGYoIGK1fCARBDFRE1n4XYp1iDkjAK61YWxkGE3KqFY19++eV5r0PV4/hZAhKQgAQkIAEJSEACEpCABOpPQIG0/uzc8jMCxAbEhTTXJRcwxCjEuipXOBWYBCSQPQJMcrAQdxRRdPHixWHZsmUxtjBC49VXXx1dx4k1XDUZW2OdTRJHqxNIqQMCJVacxElN1uwIpAcOHIhWp/m2Ij1y5EjkQ304HsIonGoqiKT5FmlrOpbfS0ACEpCABCQgAQlIQAISkEDdCSiQ1p2ZW+QQQBzArRT3UUQKRAkK7rg7d+4MPXv2jNZTOZv4VgISyBABLEaxtEQUnTNnTli6dGnAQpIs8CNGjIixPxEEycCO23pWCyIoEzJJiOS8iI1ck6ha3/NAJGZJx6nNfvJdh9oc03UkIAEJSEACEpCABCQgAQlIoPYEFEhrz8o1qyGAQErWa2ID8orQghiAmILggkWXsfeqAedXEsgIAfrsm2++GX70ox+FtWvXhnbt2sWYpHfffXeMT4oQOH/+/ItaSGbhVKoKlgimjEtM3OSzYBnPkuKwMt4xMVQs69p8npv7koAEJCABCUhAAhKQgAQkUKkELqvUE/e880OA2HpdunQJxDEk1l9yb8W1dfbs2Q2KRUosU1x+EVo3b96cnwq7FwlI4DwCZGN/7LHHAlnfieV52223hQceeCAMHz48fiZ8Bi7kVQXI83aSgQ+MFyxJuGRyBrE3jUn5qiJWqixpvxyPZFBMCiUL+ksdC1FVq9JLUfJ3CUhAAhKQgAQkIAEJSEACjUdAgbTxWJflkRBNEFUGDRoUhgwZEuMYcqK45C5YsCB88MEH9cpoj3iwbdu28Mtf/jIKN8Q/tEhAAvklQJKh9957L7zxxhsxpiaZ2CdPnhxGjhx5LiM7cUirinn0+2IIphc7JmE9Tpw4Eccb4oEyYdOsWbP8Avtsb8RqJe5yEkgRZRnvSGSFSFq1VMcqCaQXO5+q+/GzBCQgAQlIQAISkIAEJCABCRSOgAJp4dhW1J7JHj1+/PhoTYq1GaIBAuesWbNitue6wiDWIfEQn3766Sg+dOzYsa67cH0JSOAiBBA+Dx06FLPT51pdkuwoiX9sznosaR2+SwJf1feshxUlC++rCqus35BS3f74DnEUq3UW6sl4hNhbtVAnxibq15D4pGSsR4TFgp7j7969O7z77ruRZdVj8nta0m/UsRB80v59lYAEJCABCUhAAhKQgAQkIIG6ETAGad14uXYNBBAwsTpjQXTZu3dvtOZ65ZVXojsqLqkkfeH1YgXRYvv27dHll7iIkyZNiguxBC0SkED+CCDSHT58OJw+ffrcTknOtGfPnugyTgxPhD368urVq8PBgwfPrUc/xVqS7YnHiUUl669atSps3LgxCpCIlEOHDo1xiM9tWMc3uaIs76lP1YIVJnVesWJFjKGKcIkV7MSJE8+tynZYoRNjFUtPBFXGI6zeO3TocG692r7p3r17mDp1anjyySfjvtg3IQqGDRsWOnXqdN4+EZuxbMVaNxXeU4dUqJ/WpImGrxKQgAQkIAEJSEACEpCABBqfgAJp4zMvyyPycE/G+vvuuy8KAW+//XbMhE0M0ZdffjlapE2YMCGKEiRzQkxp0qRJFAWwpCKG39GjR8OWLVsCMRFx+yW507333htFjLKE5klJoIgE6LP0w9xJiw8//DDMnTs3utcTvxNRlBjAWEdinZkKIiP9mj47cODAKAry/qmnnopiKhaa3bp1Cw8++GCc4Lj++uvTpnV6TaIhIiwiKPXDdb5ly5Yx+RKiKd+/9dZbccxA7MWSHYGUuMipIFAi8mKRjpCKQEns5Pvvvz/GXK2rSMq5feUrX4nHRBSmftTttddei2PamDFjApa4CJ9Yl2JJj3CcCuMcnBGZEVvhU4hwAOl4vkpAAhIoZQLpWlDK51BOdc/1MrFtsteytEluu+S+z15tK6tG9J3c9sjtS5VFIrtnm9t/ctsquzWunJrl9p/cdso3AQXSfBOt4P1hRfblL385igKIn4gqiBdYbRGjDwHhpptuiq6vJFAh+Qv/6IgV/L5169YoYpAxe8CAAVFcGTt27HkCTgXj9dQlkFcCuIdj+Y3Yh0jKJEUS8RBGsYTEopTvEB6TlSOvTGDQnxFCERoRIBcvXhyeeeaZuA0VZR3WxR399ttvr3PdU/2wKKds2rQpCo1YryLKEvsYK8z3338/zJw5M7q3M2489NBDcZzBkjQVxNvly5fH+u3cuTN+vWjRoihsUr977rknrVqrV47NhA8W7pw7YxdiJ1bv+/bti1aqTBhRSDDHpE9uojmYYl3PdrBBHFUgrRV6V5KABCqQANcSS3YI5Hp32DbZaZdUE9okt11y36d1fC0OgareULl9qTg18qhVCeT2H/tOVTrF/Zzbf3LbKd+1UiDNN9EK3x/xR6dMmRKFF9xXsZLCwoqYoognfEaQwWKKZCcUBFJEBgrff/3rXw+33HJLGDFihOJopOIfCeSfADNv9EEsLhHsSNSEJSRW31iIMuGByzi/I5ZipYmFJOtgjTl69OhoMc4kBkIl/Zjfcsu8efNiArf6CKTU7dvf/nbo3bt3FEERZBlDcGXHfR9LdETJHTt2hJMnTwasNu+4444oWla1COWCSuzRqvVbuHBhnLCpq0DKOSKsfuc734lj3fPPPx8QXKkPEzyIsVi5cg6sR33hA7dUmBxCmEbIZdy0SEACEpDAhQTwMmKMZ+KO6xZjuaV4BLimEV6HyUoK1zYmIfmcvite7Twy9xXpngwa3P/gAYRXkAlvi/v/gdcWz7uMZ4xrjGe0DfeLyRChuDWs7KPTHvQfjLYwGqFwX8/COMfvCqbF+R+BPcZ3uaHh6EuFGtMUSIvTzmV9VG6ebrzxxugiT5w/LEix/kIkZcBBGODiwCCDFSnrY8nGxZv1hw8fHkURLarK+t/Ek8sAAfoicYN5qMF1HbGRmwBu4hAgsfhGCOU9IS+YwOAhlT7LbwifnTt3jg9HxBu9++67owUlN3pYavLQhBV5fQrC4V133RXHgjVr1kRxkRtJrFZZOAYiLuMFYwcTKrwnXnFVwZGbz0GDBsX6pXNkPMLak8/1KVyob7jhhpioCS5MCKVz5gEeK1Osa3v06BHHNURmxjtc6hFMWbAyRQB2rKtPC7iNBCRQzgR4IGLhAYiJp3/8x3+Mp6vFVXFbnfsDPDsQEShM/P393/99FOJsm+K2DUfn3oR7EO6bKIil//3f/x3v35LoE3/wT6MTwDOK+1c8rngOZnz7wQ9+EO8Xnfhp9Oa44IC0B22EkcjWzzy8KITIQpSzfSKOov1J9wM8tyVjE8I59urVKz5PXXnllXmtmwJpXnG6s0SAGRjcXbEWxcIMYYNYfIgr3FRxw8s6iC7E6kMgZUFoQESwSEACjUOAPko/HDx4cOyj3EAjgNIXscRE6GMyA5GRdZixo88i+PFKYX2EVERNhEvcyX/+85/HGwpu1utTuElBTERkZMKFMYSEUQiujCMcCzGU36kndeHBrbpC/RBQqQtjD6LojBkz4oNDVTG1uu1r+i6JpNQBC1YeGqkbgjP8YEvdEKIRkhFUiY2arOgVRmsi6/cSkIAEQhQQEN0WLFgQF5lkjwBCXBLjslc7a4RA+r//+7+CyCgBxGtLdgngXcdiyR4BPJRnz54dvfkUSLPXPtboIgQQMRBCsfDq379/dCngZhfXAkQDFoQQhAZe+WyRgAQajwB9DgERd3AsuBFD6Yu5/ZGZO8RIYgfTf9PvqZb0X34nJif9nfijP/zhD+P6WKY2pHCsZMHKTCFjBwIkdeK4CJxpLKnpOOwDAZVwAdSPi+rjjz8e69fjMwvPhhTqkcuP+sEwt258RkDFWpeLOL851jWEuttKQAKVQICxk7Fy1KhRcbKdc9ZKsbgtnyxICbmDlwjeGXh70C62TXHbhqNzf4G1G5ZvhExiIpaEmUzaakFa3PbhXhQLUpKfEj+fQtx8jBS0UCxu23B07udpI7xeCZWF0QNhA/FOs32K2z60DQu5MfBMJuEuRie33nprfK7Kd+3qZ9qT71q4v7IlkP6hucFtiKVW2QLyxCRQYAL0wUsV1uGmmqWmQh9mqanwG+LjoUOH4o0FF7Hp06fHeMI1bVPb79OxL1a/S+0r1Y8HupUrV0ZrWWId33bbbZfa9JK/14Yfk0V1LbVpu7ru0/UlIAEJlAIBxFEWvIrwIvj93//9+IBknMvith6TqUyCYtXL9ZSJ1UcffTROXDJBaCkuASZhCZW0ZcuW8wRSvFdw67YUjwDPwVj0Mq6lpKjf+MY3orcUbWYpPgEmgLBK5BkGgXTcuHHhW9/61gU5DIpf08qqAc9DiNd4K9B/EEjTxGkh9KWan4Yri7tnKwEJSKAsCTSGyIbVCDd9uMCTsX3OnDnRjXzq1KnRtb3YYKkfrv/EriGWHTc/WLxSP0IDWCQgAQlIIJsEeGAljAkhXizZIIDQxoQoBctEQmpZskUAjx8K4gEJNwmLZMkGAVy2aRfuz7FOTG2VjdpZC/IJ4BlG6fGZlxkesJZsEKDPMDlHIVwZ7VOI51wF0my0t7WQgAQkkHcCCIPMSmOBg9UNs25cSJiFu5g1aF0rgvhIlvkXX3wxkLme4/zO7/xOmDhxYowVWtf95Xt9stdjTTFz5swwd+7cyAS3psmTJ2ci5jHtlFzz04UehlpK5fs/wf1JQAKlRsCxMHsthrsp7ULRajR77UObpHahnXDrtmSDAGEO0r0dbWPYg2y0S24tGN+4L6ektsr93ffFI0DbpLGNtilU+yiQFq+NPbIEJCCBvBLgZosLR4qVQ2K0p59+OmZ753vENzK/Dxw4MM6I5kskxc1u62cZH8n0SDIk3CEnTJgQE6/l9QTruTMSS+Eqg8sM8dKGDh0a69fQ+Kj1rM55m3ETtm3btuj2TwIpPtNOtCWiMyXdEPCdRQISkIAEJFBMAl6LiknfY0tAAhKoTAKNde1RIK3M/y/PWgISKEMCuOwQ7J2M6YhsuMBhMcn3CKRYjpIwjRhixKPKV2H/uKyTiAjREREyZbjP1zEash9il1If4tWQVR5XTThkoSCIEpoA139CACCGIlxzE4BlLgmqWrduHds131kas3D+1kECEpCABCQgAQlIQAISkEAWCCiQZqEVrIMEJCCBPBBo2bJltAwlq1+yRkQYZcm1TMz3DBzxk4jXgwCJiJfcxPNwSnnZBaIxVq0s1C9flrP5qBxtQdvQRsldJNUPS1/EXBI8ITojlFokIAEJSEACEpCABCQgAQlIIP8EFEjzz9Q9SkACEigKAawiiauJEIjYhviWxFBeES5JeIE1ZRLh8lHRFNM0a8JoOrcs14+6IX5iKUosqtRe1J02gimvCNAKpKlFfZWABCQgAQlIQAISkIAEJJBfAgqk+eXp3iQgAQkUjQCWhrjV40aeK7TlViiJmOk197eGvM/3/hpSl+q2zWr9ED+xcE0ZM6urO99R/6yeQ0119nsJSEACEpCABCQgAQlIQAKlQkCBtFRaynpKQAISqAWBJKKl11ps4ipFJqD4WeQG8PASkIAEJCABCUhAAhKQQMUTuKziCQhAAhKQgAQkIAEJSEACEpCABCQgAQlIQAISqFgCCqQV2/SeuAQkIAEJSEACEpCABCQgAQlIQAISkIAEJKBA6v+ABCQgAQlIQAISkIAEJCABCUhAAhKQgAQkULEEFEgrtuk9cQlIQAISkIAEJCABCUhAAhKQgAQkIAEJSECB1P8BCUhAAhKQgAQkIAEJSEACEpCABCQgAQlIoGIJKJBWbNN74hKQgAQkIAEJSEACEpCABCQgAQlIQAISkIACqf8DEpCABCQgAQlIQAISkIAEJCABCUhAAhKQQMUSUCCt2Kb3xCUgAQlIQAISkIAEJCABCUhAAhKQgAQkIAEFUv8HJCABCUhAAhKQgAQkIAEJSEACEpCABCQggYoloEBasU3viUtAAhKQgAQkIAEJSEACEpCABCQgAQlIQAIKpP4PSEACEpCABCQgAQlIQAISkIAEJCABCUhAAhVLQIG0YpveE5eABCQgAQlIQAISkIAEJCABCUhAAhKQgAQUSP0fkIAEJCABCUhAAhKQgAQkIAEJSEACEpCABCqWgAJpxTa9Jy4BCUhAAhKQgAQkIAEJSEACEpCABCQgAQlkWiC9/PLLwzXXXGMrSUACJUCAvkqfpbRs2bIEamwVJSABCVycwJe+9KXQqlWrOLb95je/ufjK/ioBCUhAAhKQgAQkIAEJlCyBJlmsOQ8klKNHj4Y333wzXHXVVeHTTz8Nv/71r7NYXeskgYomgChK35w7d27Yv39/7KtPPfVUWL16dfxeUaGi/z08eQmULIHLLrssjmG7d+8Ohw4dCtdff33JnosVl4AEJCABCUhAAhKQgAQuTiDzAukTTzwRWCwSkEDpEPiHf/iH0qmsNZWABCRQCwLdunWrxVquIgEJSEACEpCABCQgAQmUIoFMCqS5ILt27Rrat28fsELTEi2XjO8lkA0CWHzTN7GwOnDgQDhz5kzo3bv3OTd7+2022slaSEACdSOQxjbGtLVr14Zf/epXdduBa0tAAhKQgAQkIAEJSEACJUMgkwJpElRat24dbr/99nDPPffoYl8y/1JWtNIIJBf7t956K7z66qth165d4ZFHHglDhgzRxb7S/hk8XwmUEQFc7BFFGdP+7u/+Lpw9e7aMzs5TkYAEJCABCUhAAhKQgARyCWRaICXRy+jRo8N9992XW2ffS0ACGSTwySefhMWLF4e9e/eGu+++O/bdDFbTKklAAhKoE4EtW7aE//iP/wgff/xxnbZzZQlIoPIIYOTBwnjBK5PIV155ZeWBKJEzTkY5udVNuTByv/O9BCRwIYHUf3hN/Sa9Xri23xSTQGor2+fSrZBJgTRVm8QviC4WCUgg+wR4GEiJ1LS0yn57WUMJSKB2BHCxz735r91WriUBCVQaAcaJEydOxHBDGzdujKffuXPnMHDgwCiUVhqPUjjfjz76KLCk500SAzdr1iwmCC6F+ltHCRSLAAm06TvcI9F/mjRpEq6++urYf5gYsmSLQGqrNL4plNbcPpkWSKl2UrtrPgV/kYAEskbAfpu1FrE+EpBAfQgwljme1Yec20igMggwPpw8eTJ6z+zcuTNgcb5hw4YYt7hVq1Zh0qRJoV+/fgqkGft3OHLkSNi2bVtAyCaG/unTp2MNW7RoEXNfdO/ePfTv31+hNGPtZnWKTwBBFG/BTZs2hT179oRjx47F/tO0adNAeMR27dqFHj16BCaHrrnmmuJXuIJrgIhNfhCuS7t3744hK4cPHx569uypZ8NF/i8yL5BepO7+JAEJSEACEpCABCQgAQlIoCgE8Jw5ePBgWLRoUVi6dGlYvnx5FEf3798fOnXqFMU2E7wVpWmqPSjthSBKe82dOzesXLky0FZYV2FRRXi3jh07hsGDB8dwUYMGDQrXXntttfvySwlUGoFTp07FCaD58+fHPrR169Zw9OjRcwJpmzZtYv8ZMWJEGDt2bBg2bFgUSbVWbLz/lOSBffz48cCk3fvvvx/bigkhxjfGM65Nhn6puU0USGtm4y8SkIAEJCABCUhAAhKQgASqJYD4ifUhIum+ffvigmBAwV1bV9NqsRXtS6zdXn755fCLX/wivPvuu1Hcya1MihmbBO/vfve7Ydq0abmr+F4CFUmAsW7VqlXhhRdeCM8991y0wE6W1wBBBMXN/oorrgjvvfdeWL16dfjGN74RJk6cGJo3b16RzBr7pBFHEUZpp4ULF8bcIFjJY0HKbyRQJgwMlqWWmgkokNbMxl8kIAEJSEACEpCABCQgAQlUSwBBDZfSMWPGRMscHkJxZUxJ3bScqhZbUb5EGMDKd8aMGVHcGTBgQHQ1bdu2bcAybv369dHaivV27doVcMMnfmzv3r1D3759w2WXXVaUentQCRSbAIIa1oivvvpqFEhxr+/Vq1cgFAXi5+HDh2O4ih07dsTxy//PAABAAElEQVR4pJs3b45W2Yh1119/fRg5cmSxT6Eijp8sfBGoEUZplzVr1sTrEeJ1br6QigBSz5NUIK0nODeTgAQkIAEJSEACEpCABCqXAKIZAgCx93DNxop03rx5MS6f8Yuz9X+BqDNnzpywffv2KHzeddddYejQobHdEHKwGv35z38elixZEoUFrOMWL14ciNnXp0+fbJ2MtZFAIxJAeENoW7BgQQxRMW7cuHD77bfH/kPcXsY9+gqu97h0E5eZ+KSvvfZajMOMSzeLpbAEmKDjukObYC3avn37GEYEDwcEUib0nLS7dBsokF6akWtIQAISkIAEJCABCUhAAhI4j0B62OTBk4QkLDyIWrJDAMGAxDK4nSLejB8/Pjz44INh6tSp0e00WYZiEce6ZOR+++2343usgbEsVezOTntak8YngCXiihUrons2ief+9E//NNxwww0xYz19g3Hw1ltvjRMQ3/ve98KyZcuiVfbZs2fDW2+9FRPVKZAWvt2ILzpq1Khoscu4hkUvbfHmm2/qVl8H/PoK1AGWq0pAAhKQgAQkIAEJSEACEsglgECASMpDaRJNc3/3fXEJYFlF5ubp06eHb37zm+HGG2+MFUriKB+uvvrqKCxgVUoyEwpiKe7FCqQRh38qkAD/+1hYE3aCvnHPPffE12bNmkUaabxLrvS33XZb7Gv8SNzSdevWxZAWFYiuKKdMe6RxjQk7hGleGQMttSPgFGftOLmWBCQgAQlIQAISkIAEJCCBGgkksSB3hdzveEhFdKOQzCQ9yOau7/v8EoA/Vr39+vWLMRMRcpo2bXrBQRCC+I2FBFsUXFSxLM1twws29AsJlDEBxiz+/wkj0r9//xhvOfWPqqdNfyEeM2EqiIGJ5TaxfHG5tzQ+AQRqxFEy1jvJU3v+CqS1Z+WaEpCABCQgAQlIQAISkIAELiCAiJCW3B/TgylWWIgFZLlHGMUdEtEBy0Xd8nOJ5f89gg7JtC5VcAlmSdZWw4YNiy75CtmXIufv5UyAcQrhk4RlF3OVZxzDUpt4zFiYIpAyvtUkqJYzs6ycG2OXEzx1aw0F0rrxcm0JSEACEpCABCQgAQlIQAIXJZAeSj/66KMYx5LMwmR3PnDgQBRIEewQE26++eYwePDg6KJ/0R36Y0EJ0F7EHN26dWsUdnDDnzhxYrQ8VSAtKHp3nmEC/O936NAhJltC6MQasabCuljGpwkf+tSAAQNCt27datrE7wtIAP4mZqo7YAXSujNzCwlIQAISkIAEJCABCUhAAjUS4OEUa1ES/pDZngzqe/fujeIbIkKrVq2iVSNZ1bEuRZAj+7ClOATIxE0Wbl6xHCWREwmdEBgsEqhUAoxjjFcslyq4dJ8+fTqOcR9//HF068Ytv3v37pfa1N8LRID2s9SNgAJp3Xi5tgQkIAEJSEACEpCABCQggYsSwFV706ZN0a1+7dq10TIRd3tikOJ6ilhKAhNeT5w4ERMDISZUFx/zogfyxwYRoE2wHMXCd9asWVEgHT16dLjjjjvOJZtp0AHcWAIVQoCEZkwwEEoEgZSxbODAgaFLly4VQsDTLAcCCqTl0IqegwQkIAEJSEACEpCABCSQCQJYHe7ZsycmJ8FSdNy4ceGRRx6JCTOWL18e3nnnnZjEhMoios6ePTu6cl933XWha9eumTiHSqkE4vVrr70WXnzxxbBixYoYgxRXYtqJhE1t2rSpFBSepwQaRIDJnx07dsSxD8vFvn37Rsv4tm3bNmi/biyBxiSgQNqYtD2WBCQgAQlIQAISkIAEJFD2BEj0gzj627/922Hy5MkxGzqx+YhrecMNN4QZM2ZEES6JCgsWLIjWVsT7q407a9kDLPAJrlq1KvzP//xP2LBhQ9i2bVu08CVeLGX9+vXhe9/7XowXe++99+oiXOC2cPflQQBreCYZyGBPjOXf+q3fiuNeeZydZ1EpBBRIK6WlPU8JSEACEpCABCQgAQlIoOAEcNsmmcmQIUPCd77znfOSlOBuSpZnRFBcu3fu3Bnj9q1ZsyYmcRo6dKhWiwVuIdrn0KFDYeHChdElGNdg3IGJoYhr8LFjx+Jv6fuHH37Y+LAFbhN3X9oEcKtnDFuyZEkMIzJhwoRw//33O5aVdrNWZO0VSCuy2T1pCUhAAhKQgAQkIAEJSKAQBLAeRQQlOz1u2lUL1lVf//rXw8yZM2MMUqxIyW5/+PDhkKwYq27j5/wRwP135MiR4cc//nF0CSYWLC71iDu4CJ88eTImmFm5cmX4xS9+EdfF6hfXe4sEJHAhgc2bN8dJBayvb7rppjB9+vQYLsQkZxey8ptsE1AgzXb7WDsJSEACEpCABCQgAQlIoMQIXHbZZTEDOq/VFdzvyZKOezeiAhaNWC6S3MlSeALXXHNNIClWt27doqUvFm9Lly4Nr776anj77bdjWyBc79q1K37fqVOnQPgDiwQk8AUBrLGxHp0/f35YtGhR6Ny5c5g2bVqYNGmSEwpfYPJdCRFQIC2hxrKqEpCABCQgAQlIQAISkED2CSAcYEnKUl3BinHQoEHR0hSBFMvRU6dORffU6tb3u/wSgD8xYVu0aBEXhJ3u3bvH0AdHjx4NxIRFrD5x4kTAwhTBR4E0v23g3kqfwJkzZ8K7774b5s6dG44fPx6mTp0aYy737Nmz9E/OM6hIAgqkFdnsnrQEJCABCUhAAhKQgAQkUCwCCHRYkTZr1uxcFYh5SRxMS3EIEA5h8mcJtfbt2xdwr0cgRbgm9AGxSS0SkMAXBJj82bJlS0w4R7IzLLKJO8or45tFAqVIoHqfj1I8E+ssAQlIQAISkIAEJCABCUigBAggIBCfL7ngY82I2zfJnSzFI9C1a9cwevToc+7BtA8JtVI7Fa9mHlkC2SJAzN5//ud/DvPmzQvE6P32t78dX5s3b56tilobCdSBgAJpHWC5qgQkIAEJSEACEpCABCQggYYSwAUfC8Vkmdi+ffuY8fnqq69u6K7dvgEEEENxtce6l0JipjZt2ihcN4Cpm5Yfgffffz/89Kc/Da+88koYMWJEuO+++8LYsWPDtddeW34n6xlVFAFd7CuquT1ZCUhAAhKQgAQkIAEJSKDYBBBIDx48GOP2UZcuXboERFKsSC3FJYBInYRqrOGwKs0NhVDc2nl0CRSPAOPWnj17wmOPPRYTmtEvHn300Rijt7o+wvpMAhE+pGnTptFqvni1r+wj0xaWSxNQIL00I9eQgAQkIAEJSEACEpCABCRQJwK40dcUi4/4fRs3bozxLnGrJ0t6u3btFOLqRLgwK588eTLGHWXv1113XejTp0/QbbgwrN1raRH44IMPws9//vPwwgsvhIEDB4Y/+qM/CrfcckuN4xZ9iXi+W7duDbfeemtMSme4isZrc0XRurNWIK07M7eQgAQkIAEJSEACEpCABCRwHoHch1GSLWE1VZNAun379pj9GWusFPeyR48e52JfnrdjPzSIAO1Ctu3Tp0+HTz75JFqHkr2+OqFm79694e233w4HDhyIrvU33XRTGDRoUMx036BKuLEESpgAY9natWujMDpz5szYN8aNGxdFUvoVycxYh0J/4/2RI0fC/PnzA+74TAIhpFbX50oYS6arzrWHibh0XeI1vc90xYtcOQXSIjeAh5eABCQgAQlIQAISkIAESptAshblgZSCaIDYtnnz5tCzZ8+Y6IfveUAl8/OsWbOiZRUxLkkKhNiAm70lvwTgferUqWitu379+vi+bdu2Mc5o586do1hKsiyEU6zdEEeJq4i78Pjx48PUqVMD69UkdOe3tu5NAtkjQP9hzMJq9LnnnotC6eTJk6P4tnDhwuhCn8Y9XlkQTPft2xfefPPNKJZOmjTpXNiK7J1hedaI0AaHDx+Osa4ZB/nMdSnFvS7Ps274WSmQNpyhe5CABCQgAQlIQAISkIAEKpgAIhsJfrCUQkzjwXTp0qVhxowZYcKECaF3797xN0TTV199NTz11FNRSJg4cWKYPn16GDp0qG7cBfj/QRjAGvSNN94ITz/9dDh06FB084X3sGHDQq9evWLc12PHjoV169aFOXPmBNyIEYAeeuih6BZcgGq5SwmUBAEsQZnkefLJJ8NLL70U+wbfMbbRX3ItQulrLEw2IJAy4cD7O++8M/Ynw1Q0bpPv2rUrfPjhh4GxjYJF744dO6JwTTgXJ32qbw8F0uq5+K0EJCABCUhAAhKQgAQkIIFaEcASFNENUW3evHlhyZIlYc2aNTEJ03vvvRe6desWmjRpEnCt58GVh9OHH344TJkyJdx88826cNeKcv1WgjWWU3Bn2bRpU7SCw1qU2K9YiyLkEBaB7PUPPvhgFHSGDBliu9QPuVuVCYFt27bFCZ3HH3887Ny589xZkWCOpTaF5HNkumeMtBSOAGMYE3BY9SKMrlq1Kr5nXKPQls8880wUtm+44YZw3333hb59+9ouVZpEgbQKED/WngCxfJiROHHiRLyhYAYpdxaJPaWZJN7zGzeGDI7MrjPTzsJ3zLjz3iIBCWSLABfb3bt3hw0bNsSLLv2YCy19mwcO3GjIuIv7GTG6WrZsWdYzksyWM5OOBQoMKHCAC58Ti379+sWHrGy1prWRgAQkIIFCEeB+lrGf+1xc6rFMRCDFkuro0aNRgCMzOu6NWJOS4OSuu+6Kr61bty5UtSp+v1yjiTfKPQru8lzHaY90L8N9Dutce+21MSETVqVjx46N7UKbWiRQyQToJ2SfHzBgQOjxWYxk+gT9JfcZvyY+3BszHhJ71DAVNVHK3/e0Cda9aDNoNLQVHgo8qyWdhbGQ9mMMPHv27LlnmfzVovT35Khf+m1YtDOg8xHLh1lYOiE3GLmDJZ0vLQyQiKAMkgyyvNJRec9MLQs3h4grzOKmTly0k/PAEpBAJMCDHTOQZKxctGhR7J/03/TQwIW4Q4cOYcyYMdEKgz5czmX16tUxNhnudxTGOG4eGf+wTrn++uujNRAPWoxrFglIQAISqBwCjP1YkZL1/Pbbb4+u3VhdYbWIYQG/d+/ePYoFbdq0iZ+95y3s/wfXaTLR0x60zdbPsmnv378/xiLl+aRjx47xPobnEJ5BEBB45TeLBCqdAAnksKieNm1afM6nP9Wl0I+4H67rdnU5hut+TgCthfGMtpr8/2PEVscdwZR2wc0eozXL+QQUSM/n4ac6EEAMII4FggECClZVxFtCMKEz0vGINcKCVRWdlt+IR4KgivDCb8yicyPJrDuz6Zjg07m9MalDY7iqBApEgD7LgwQWpCzcKGGFgShKP0cc5CGPz5VwkeUBiodbbi5SYbJo48aN0XWFMRC3FWZlLRKQgAQkUJkEENgwAiAZEJakXBOSFU+uoUB1D6+VSaywZw3nZISBJRtWvOk6zvMJ9y9M/PLs4fNHYdvCvZcWAcYr+gdjWX2Lfaq+5Oq2HeMcRiwYazC+8bnqNSbXmI3JOdvmQsYKpBcy8ZtaEmA29qabboqz4HREhBIE05QZLZl1Y5KfBlduEAkQTMySPXv2xBn15cuXx4DP7AOXJOIwkenuxhtvjDcztayOq0lAAgUgkNw1mNCgEKvr7rvvDsOHD4+W3lyA6d8Ih5UwQ4w4zE0iomi66SAEwcyZM+P4R6bPZE1fgOZwlxKQgAQkUCIEePBEWGDBKtFSXAJcsxFDWTDcsEhAApcmQL/Ryv3SnLKyRmov26z+LaJAWn92Fb8lN3uInyyImwgoWJghklIQEb761a9GsRMRhRsShAMEhOPHj8e4hsuWLYtZJXFXxUoNl30WxFPWI2aJNzEV/68mgCIT4CGPCy6THlh3jxo1KowbN67ItSrO4Tl/ltyyb9++GAwd6xQmf5yNzaXjewlIQAISkIAEJCABCUhAAtknoECa/TYqiRoiluJim2L2IIgyY96/f//Q47OAzlihVS1YmmKBSobIGTNmhPnz50dxAZH1wIED0bqU2Bj8zr4sEpBA8QggkFJwuSeOGhbjzk5+3h5MDiWr0cTp81/8KwEJSEACEpCABCQgAQlIQAKlQECBtBRaqQTqiHUobrYIJrkCQUrkkvtdOh1iZBDLDwtRhFWsr1588cUYn5TMaosXLw4//OEPw+/93u+FkSNHps18lYAEJCABCUhAAhKQgAQkIAEJSEACEpBA3giYni9vKCt7RwigacklgSXpxQqCavv27WPW59tuuy307ds3Cq1sg8v97Nmzw9KlSwOCqUUCEpCABCQgAQlIQAISkIAEJCABCUhAAvkmoAVpvolW6P6qc6GvCwqsR0n6MmbMmLBz586wd+/emH0NV/uVK1dGN/uxY8eeZ51al/27rgQkUBwCuOQTTgMXdNzyGSuYGMHqnNAZvC9WzE4mcKhTqh+fmejB8p26sVRn/V4ckh5VAhKQgAQkIAEJSEACEpCABApFQIG0UGTdb50J9O7dO9x///3hvffeCyQ9QUjBcnTt2rVxGTFixDnr0jrv3A0kIIFGJ3DkyJGwbdu2sHHjxhhT+PDhwzGG6XXXXRe6dOkSunXrFjp16hSTHjV2nGGE0V27doUtW7bExHK8P336dBxjiH3cp0+faNGOhTsirkUCEpCABCQgAQlIQAISkIAEypeAAmn5tm3JnRmxSAcPHhx69eoVM0IfO3YsiqRYkyKyILYgVhTL2qzkgFphCRSJANaiO3bsCHPnzo2xhHl/9dVXR6GR306ePBlrhlBKIrfbb789WokzBhS6YCWKUMvEy1tvvRU2bdoU60biKcacEydOROt1MtUPGzYsTJw4MQwaNCi0atWq0FVz/xKQgAQkIAEJSEACEpCABCRQJAIKpEUC72GrJ9CiRYsokLZp0yaKFayFmIKr/aFDhwKCCsmdLBKQQHYJ0FdfffXVMGPGjPD+++/HRGx33nln6NevXzh79myMKzxv3rzYp7t27RqtShFHhwwZUvCTYiwhAdzzzz8fBVxc6G+99dY47jAJs3r16lg/hNKFCxfGcB+PPPJIGDVqVMHr5gEkIAEJSEACEpCABCQgAQlIoDgEFEiLw92j1kAAsQLXW4TQzZs3x7WID4hIeurUqWjZVcOmfi0BCWSAAK7r69atC0888URYvnx5tLycMmVK+M53vhMtMnFjX7NmTYz9+dJLL4U9e/aEOXPmRHf7gQMHxvifhToNxFlCeDz22GPh9ddfj6Ln17/+9TB16tTQtm3baFk6f/78GNpjxYoVYfv27eG5554LPXr0iPXDgt0iAQlIQAISkIAEJCABCUhAAuVHQIG0/Nq0pM8I93kE0tatW587D0QNrLkQSBFfLBKQQHYJEDeYuJ7EHcVtvXnz5jGWJ6EzmjVrFhcSrhHjk0ISJ8JoIJSm9QtxdhwHYRa3+kWLFkV3f4Tbe++9N3To0CEmY2LcYYzBvR7LV8IBEN6DyZr9+/fHEB+FqJv7lIAEJCABCUhAAhKQgAQkIIHiErisuIf36BI4nwAWpFiP5sYizM2CTfxAiwQkkF0CCIz02dRXid2JGEoM0lRIyIQomcJlYCWOOMpkCMnZClGYZMG1fsGCBeHgwYNh+PDhYcKECVEMzc1UzwTNzTffHN39r7322kAIgJYtW5qoqRCN4j4lIAEJSEACEpCABCQgAQlkhIAWpBlpCKvxBYGqAgkZpBFUrrjiimjl9cWavpOABLJGgAzwJF4iOz1W37wOHTr0PIGUOiOYIjwSE5Q+j6CKsFqIwn6xAF21alXYunVrHE/Gjx8fxdGqx2vatGn49re/HX9DTOV8iJ/at2/fqqv6WQISkIAEJCABCUhAAhKQgATKhIACaZk0ZLmcBkIJ7rZkk04FwQIhhQROTZr4L5u4+CqBrBIg2dK//du/RYEUS9GePXtGC1Fc1XFzJzbprFmzAkmRKFhw0vfTkmvRmY9zxFX++PHjMSkU8YwRZzt37hzd/6vunzAfiLpf+cpXAqEAsHJFJGWCxiIBCUhAAhKQgAQkIAEJSEAC5UlAtak827VkzwqBZOfOneeEE04EMQM3XURSBdKSbVorXkEEiOVJZngKru3r16+PiZs2bNgQ45Pu2rUr9vNci1H6fqEKx0EgJT5qinPKxAvW6dUVRFKEXRaLBCQgAQlIQAISkIAEJCABCZQ/AQXS8m/jkjpDhIyqAimJXRBIsSCtSdAoqZO0shKoAAL05U2bNoWlS5cGMsOTFf6jjz6KMT2nTZsWJzxefvnl+F0hxVFQUxfc/RFJiZHK8aiLSd8q4B/RU5SABCQgAQlIQAISkIAEJFALAgqktYDkKo1H4PDhw9HC7NChQ+cOijDapk2bKKhg2WWRgASyTQA3dkRRBNCUFGnkyJGBuJ+jRo2KMUoRLckmv2PHjihYFvKMEESJcZoEUY69Z8+ecPr06Vofln3k2/W/1gd3RQlIQAISkIAEJCABCUhAAhIoKAEF0oLided1IYAoiphCnEIEFgpusP369QsDBw6M7+uyP9eVgAQanwCWmStXrgxPPvlkmDNnThQhBw8eHO6+++4wadKkGI+UWl133XUxWVJj1JCJFWKJEq6DWKIIo1i23nXXXaFPnz41VgFRlRABGzduDOyDzPcWCUhAAhKQgAQkIAEJSEACEig/AprjlV+bluwZffjhh+GVV14JxCekEG+0a9eu0eKMLNjGHy3ZprXiFURg+/bt4e23347Wo1u2bInZ4B9++OEoRpKsKRUSJ1XnWl8IK01E0ebNm8dQHddcc02MQ4r1KsLnxcrHH38c3n///fDGG2+EJUuWXGxVf5OABCQgAQlIQAISkIAEJCCBEiagQFrCjZe1qlcndtS2jvv27QvLli0LixcvjnEC2Q7X+ltuuSWMHj06iiy13ZfrSUACxSNA3NHcfky2+DFjxkSL0dxaYZGZxNDcsSN9l7tuQ98zuYJASqI3rNIpBw8eDPPmzQvLly+vcffELX3qqadiXGQST1kkIAEJSEACEpCABCQgAQlIoDwJ6GJfnu3a6GeFwIE7aq7QQSVqk1SJpEzPPfdcePbZZ6NFF1ZblG7duoX7778/DBo0KH72jwQkkH0C+/fvD1u3bg2pHxPvE7f7qmMBITWIOUxBFGVBND1y5Eh0gyc5W/rMGMH6nTp1Cl26dAn8VpeCe/31118fLdIRSffu3Rs3f+2116JgilUpoTxyC+fwwgsvhLfeeitav/bv3z/3Z99LQAISkIAEJCABCUhAAhKQQBkRUCAto8Ys5qkghmBtles2i1h65syZWC1EklQQUln4DRFi7ty54Wc/+1m0IGU/iB99+/YNX/7yl8PEiROj1Vfa1lcJSCDbBFL/TpMliJEkbLr22mtD+/btw9GjR2MiNuKUklWewviAWLpu3bo4jnTs2DEmciJW6LvvvhtjmWJlTixiEj2R8AmL0LpYm5LobciQIXGcwfWfsWrbtm1xcobfsFZHgKX+xEAmwdRLL70U64Y4yphkkYAEJCABCUhAAhKQgAQkIIHyJKBAWp7t2uhnhbsqVl6IpAgMFAQIBFAsQRE+cXMlizTCKIlPcMUlViFWWgcOHIgWZliHDRgwIPzWb/1W+OpXv1pnS7FGP3EPKAEJnEcAEZRYo+vXr4/9HjGShE1nz56NoTIQJWfOnBnFSZImIUYybhBiA0tTxNI777wzWnviAv+DH/wgYOmJBSqiKDFB//RP/zSKnXWxJMWKdNy4cXFMog7Uj/GIceuf//mfw4svvhi6d+8ekzmtXbs2jk9YljIWIcom1/zzTtYPEpCABCQgAQlIQAISkIAEJFAWBBRIy6IZi3MSuLyS5ISkSggZs2fPDrt37z5XGSzH/uVf/iVaaCE0IGYglOJCiyCKdRgLwgVu9L169QojRoyIMUfJFs02FglIoLQI4Ko+YcKEsHr16rB58+ZoJUpM0h07dgQsNYnlSV/HKhOhkkkSrEoRLCm33XZbtBRlQmXrZxMsrENBzDx27FjcL9aniJl1EUhx1yce6uTJk2OdEGmpIxM67JckTHzmuHzXrl27aMH+4IMPht69e8c6+EcCEpCABCQgAQlIQAISkIAEypOAAml5tmujnBVWoFiHbdiwIcb0Q6xA6MS1Nrm+Jjf6lBwF6zCsxdiW9RFJsDDFtbVPnz5RGOG7qvEKG+WEPIgEJNBgAliBExoDcRNhlIkSBMdkWU5/nz59ekzCtmLFioDrPGMCguTQoUOjgIkrPZnniRuKazuTMQiXvDLJgmjK5EpdCyJpGqPYP4ItYxjiKxau1JGJGSxgR40aFaZMmRJuvPHGeOy6Hsv1JSABCUhAAhKQgAQkIAEJSKB0CCiQlk5bZa6mCBbEFUQQ6dChQ5g6dWqNdUzxCBEoECZwrWVBOEUYadu2bRRM+M0iAQmULgH6NULnd77znSgybt++PYqa9HXEUSZACKPBJAqxRrEgZyKFSZJhw4ZFcbJFixZRrERoZVKlR48ecR0sRxExETMRNetT2DfiJ2MWFutYrhIihEmbK6+8MtaJOnIOCKVpsqc+x3IbCUhAAhKQgAQkIAEJSEACEigNAgqkpdFOmawlwubYsWNjrFEqiPhZVUxIwmh65XcWLERZn1dEUcTWqttm8qStlAQkcEkCWIdjBYpLO9ahiJzE8MQ6kwVRlIJ16HXXXRdFT35nwgWRksL4gIh5xx13ROF0//79UWjFVR83/YZMpjDuMLHDsRFJEUcRXRmHEFARc3l1TIpN4R8JSEACEpCABCQgAQlIQAJlT0CBtOybuHAniJCRxIzCHcU9S0ACpUgAwfNSiY2wNkWorKkgWJL0CVd4XOqxNOU7hFUEzIYU9oMQykLBMjVN4DRkv24rAQlIQAISkIAEJCABCUhAAqVH4LLSq7I1loAEJCCBYhNoLOtKXOmJObpgwYIYr5S4pEOGDDknbOaLQ3UW8Pnat/uRgAQkIAEJSEACEpCABCQggWwT0II02+1j7SQgAQlkgkBumAzERJZCFxIyzZs3Lzz77LPh9ddfD8OHDw/33XdfjGXaEBf7fNc7hQxhv4lTvo/h/iQgAQlIQAISkIAEJCABCUigcAQUSAvH1j1LQAISKAsCuJ+zEEv08OHDYcOGDaFVq1ZRJEUQJNQGLu/EJc5X2A3E0YULF4Y33ngjEHf0lltuifFIx40bF4hxWqxCLNQjR45Ed//kkr9r166we/fuGG81sSpW/TyuBCQgAQlIQAISkIAEJCABCdSdgAJp3Zm5hQQkIIGKIYAIiLVm8+bNo/hJQqPFixdHd3esSHGBRyzt06dPGDNmTN4EUva7d+/eaJGJ5ei0adNi4ieSPBWzbNq0Kbz//vsBoTRZ0R47dixs2bIlVouYpiShSr8Vs64eWwISkIAEJCABCUhAAhKQgARqR0CBtHacXEsCEpBARRLAfZwkSQMGDIhWkyRW+uCDD8K6desiD6xKO3bsGH8jNigZ5vNRsETFWnT8+PFRnEWgpS7FLps3bw5z584NCKWIxwihWNFiOUrCKWKkdurUKYqkxa6rx5eABCQgAQlIQAISkIAEJCCB2hFQIK0dJ9eSgAQkUJEEyEQ/cODAmD0eN3dEwVw3ct4jXnbr1i2viZMQHslgT7Z5jpmVMnjw4GglS6iBVKgf4i1CKSy6du0a2rZtm372VQISkIAEJCABCUhAAhKQgAQyTkCBNOMNZPUkIAEJFJMAlpwIfsQX/eSTTy4QKxEFEQdZD+vSfBVExywlYkrn1a9fv9C9e/cYjzV9l15hgbCLiz3CskUCEpCABCQgAQlIQAISkIAESoOAAmlptJO1lIAEJFAUAgiViH0Kfp/jRwTOpxBclEb1oBKQgAQkIAEJSEACEpCABCRwHoHLzvvkBwlIQAISkIAEJCABCUhAAhKQgAQkIAEJSEACFURAgbSCGttTlYAEJCABCUhAAhKQgAQkIAEJSEACEpCABM4noEB6Pg8/SUACEpCABCQgAQlIQAISkIAEJCABCUhAAhVEQIG0ghrbU5WABCQgAQlIQAISkIAEJCABCUhAAhKQgATOJ6BAej4PP0lAAhKQgAQkIAEJSEACEpCABCQgAQlIQAIVRECBtIIa21OVgAQkIAEJSEACEpCABCRQXwJf+tKX6rup20lAAjkE7Es5MHwrgUsQaKz+0uQS9fBnCUhAAhKQgAQkIAEJSEACjU6AB6ImTXxcaXTwFznglVdeGdKD6uWXX36RNf2pGARok9QutFPTpk2LUQ2PWQ2Bq666KlxxxRXn+g+fLdkiwPiW+g9tZckOAfpLuh+gbQrVPt5xZKfNrYkEJCABCUhAAhKQgAQk8BkBxJ0zZ86ELVu2hIULF8bPn376qWyKSKB58+ZhyZIl4fTp07EWe/bsiZ9pl1/96ldFrJmHhgDizkcffRT27t0bgXz88cfh3XffDX369AmnTp0SUhEJIObQbzZt2hTOnj0bazJ37tzQrVu32GZFrJqH/owA1xv6z4oVK8KhQ4cikw8++CCOb6m9BFUcArQNojXtsWPHjliJDRs2hHXr1oV27dqFyy7Lr1O8Amlx2tmjSkACEpCABCQgAQlIQALVEOCBiHLy5MmwePHigNBD+c1vfhNf/VMcAog8iG/Hjh2LFeAB9fvf/3749a9/bdsUp0nOOypCAUL1+vXr4/cIck888URo3bp1+OSTT85b1w+NS4C2oQ3Wrl17Tqx+7LHHQsuWLYMTP43bFjUdDREOAS6JcHPmzAn79+938qcmYI34Pf3n4MGDcYKBw86fPz/0798/jB07NuTbEluBtBEb1kNJQAISkIAEJCABCUhAApcmkETSVatWBRZL9ghs3rw5sFiySQBr0ueffz6blbNW4dlnn5VChgkwOcdiyR6BrVu3hkWLFsVJBwXS7LWPNZKABCQgAQlIQAISkIAE8kQAS1EW4o1NmDAh3HbbbdEFUjfuPAGu526IZ4mL8C9+8Yvohjp8+PDw4IMPRgsrrEgtxSVAf8FK8Ze//GVYuXJlaNGiRXj00UdDhw4dYriK4tauso9O2+CqjVt9Et3+6I/+KLRp0+achXxlEyru2TMhRxth4btgwYKwcePGcM8994Rx48ZpfV3cponXfixId+3aFZYtWxZD7tx8881h+vTpebce5VS1IC1yg3t4CUhAAhKQgAQkIAEJSOB8AgikuJ8ikP7lX/6lMUjPx1OUT7jYIx7Mnj07CqRDhgwJf/EXfxHFbN2Ei9Ik5x2U9sFq9MMPP4wC6TXXXBMQ4fr27avIcx6pxv9A2xAyhEIsRcp3v/vd0L17d9sm0ijunySQvvjii4HYygikd955Z2wjw1Nko22If007EZN8ypQp4Y477ihIoiYF0uK2t0eXgAQkIAEJSEACEpCABKohwMMQceGwHqEgMliKSwArK9qFktqFz7ZNcdslHZ1EM6ld+C61S3pN6/na+ARoA8az1H/oSxTbpvHboqYj0iap/9g+NVEqzve5bUMb0ZcKUfKb8qkQNXSfEpCABCQgAQlIQAISkEBFEkhiQkWefAZPOrc9ct9nsKoVWaWqbVL1c0VCychJ0xa57ZH7PiNVrPhqVG2jigeSIQC5/SX3fb6rmGmBFFW4WbNm+T5n9ycBCRSAAH01zeQ0b968AEdwlxKQgAQalwA3YLj4MlNt9uzGZe/RJJAI2PcSiWy85rZH7vts1M5aVG2Tqp8lVDwCtEVue+S+L16tPHIugaptlPub74tLILe/5L7Pd60y7WJPDBUCgRMD4uOPPw4G/85387s/CTScAKIoSROId0RsHfop2WaJe8T3hRzAGl579yABCUigegKIooxhZGg+ffq0E7bVY/JbCUhAAhKQgAQkIAEJlAWBTAqkKe7Dvn37wr/+67+G//zP/1RkKYt/N0+iHAlgYYUIyiTGmTNnokD6J3/yJzETYDmer+ckAQlUFgFE0uPHj4dhw4ZV1ol7thKQgAQkIAEJSEACEqggApkUSHP5Y0XKYpGABLJPIFmLpiyN2a+xNZSABCRwcQJpXCtkvKOL18BfJSABCUhAAhKQgAQkIIFCE8ikQJoeRpo2bRpuuummaLWhq26h/xXcvwTqRwCLb9zqcbFfvXp1OHLkSJg2bVro3LlztCxN/bl+e3crCUhAAsUhkKzjGdNefPHFaCVfnJp4VAlIQAISkIAEJCABCUig0AQyLZC2a9cuPPzww+G73/1uoTm4fwlIoIEEfvrTn4bvfe974dSpU+HP//zPw8SJExu4RzeXgAQkUHwC69atC0uXLtWbpfhNYQ0kIAEJSEACEpCABCRQMAKZzmLPWaes2AUj4I4lIIG8EMCSNLmg2m/zgtSdSEACGSDQpEmTc2NbBqpjFSQgAQlIQAISkIAEJCCBAhDItECKa+6nn35agNN2lxKQQL4J5IbB+OSTT/K9e/cnAQlIoNEJcB9CAjpDhTQ6eg8oAQlIQAISkIAEJCCBRiWQaYG0UUl4MAlIQAISkIAEJCABCUhAAhKQgAQkIAEJSKDiCCiQVlyTe8ISkIAEJCABCUhAAhKQgAQkIAEJSEACEpBAIqBAmkj4KgEJSEACEpCABCQgAQlIQAISkIAEJCABCVQcAQXSimtyT1gCEpCABCQgAQlIQAISkIAEJCABCUhAAhJIBBRIEwlfJSABCUhAAhKQgAQkIAEJSEACEpCABCQggYojoEBacU3uCUtAAhKQgAQkIAEJSEACEpCABCQgAQlIQAKJgAJpIuGrBCQgAQlIQAISkIAEJCABCUhAAhKQgAQkUHEEFEgrrsk9YQlIQAISkIAEJCABCUhAAhKQgAQkIAEJSCARUCBNJHyVgAQkIAEJSEACEpCABCQgAQlIQAISkIAEKo6AAmnFNbknLAEJSEACEpCABCQgAQlIQAISkIAEJCABCSQCCqSJhK8SkIAEJCABCUhAAhKQgAQkIAEJSEACEpBAxRFQIK24JveEJSABCUhAAhKQgAQkIAEJSEACEpCABCQggURAgTSR8FUCEpCABCQgAQlIQAISkIAEJCABCUhAAhKoOAIKpBXX5J6wBCQgAQlIQAISkIAEJCABCUhAAhKQgAQkkAgokCYSvkpAAhKQgAQkIAEJSEACEpCABCQgAQlIQAIVR0CBtOKa3BOWgAQkIAEJSEACEpCABCQgAQlIQAISkIAEEgEF0kTCVwlIQAISkIAEJCABCUhAAhKQgAQkIAEJSKDiCCiQVlyTe8ISkIAEJCABCUhAAhKQgAQkIAEJSEACEpBAItAkvfFVAhKQgAQkIAEJSEACEpCABCRQCQSOHDkSjh07Fs6cORN+85vfhGuuuSa0bt06tGjRohJOP9PnSHvQPkePHg0fffRRaNKkSWyfVq1ahebNm2e67lZOAlkgQB/as2dPHOOoT8uWLcP1118frrzyyixUL7N1UCDNbNNYMQlIQAISkIAEJCABCUhAAhLIF4EkvG3bti2sW7cu7N+/P5w4cSIKpIhvHTt2DN27dw+9e/eOYumXvvSlfB3a/dSCwKeffhoOHDgQNm3aFGijffv2xfa54oorYnt06tQptg1tpJBdC6CuUnEE6EOMa/ShVatWxfdAQBzt1atX6NOnT+jatWto2rRpxbGpzQkrkNaGkutIQAISkIAEJCABCUhAAhKQQMkS+PWvfx0OHToUnnvuufDCCy9EAeHUqVPhV7/6VRRIsay66qqrQs+ePcO3vvWtMGXKlCiYluwJl2DFEXVee+218Itf/CIKO1iPfvLJJ+Gyyy6LVqRY+N5www3hm9/8Zpg8eXK4+uqrS/AsrbIECkOACaCtW7eGZ599Njz//PNh165dcWyj/zD+0X/oN4888kgYPHiw/aeaZlAgrQaKX0lAAhKQgAQkIAEJSEACEpBA+RDAquq///u/w8yZM8PKlSvDxx9/fMHJISTs3r07bN++PWzevDk8+OCDoX///hes5xf5JYDV2wcffBBmzJgRxes1a9ZEQafqUXAZRvRZu3ZtuO+++8Jf/dVfhcsvv7zqan6WQMURYKKHCYbHH388TjDQV+6///4wceLEaG2NNemsWbPCiy++GEXUP//zPw8jR47U5b7Kf4oCaRUgfpSABCQgAQlIQAISkIAEJCCB8iFAPMuFCxdG61HEtWbNmkVLROKOIs7x+969e8Px48ejSzfrPP300zHuZbt27aLlVfnQyN6ZIF6/9dZb4ZVXXgnr168PnTt3ji7BtBMWpPyOu/3p06ejCz5u+Ajc48aNC2PGjDEuafaa1Bo1MoEdO3aEN998M45xCKVYiD788MPREp4YvsOGDQtYzGOdjZU2YSqwwB4+fHgj1zTbh1MgzXb7WDsJSEACEpCABCQgAQlIQAISaAABrBMRBQ4ePBhd6LGquvfee6MQRwzS999/P7z++uth2bJl0YIUd9TVq1dHsQEBDhFBd+4GNMBFNkX03LBhQxR3ED4HDRoUpk+fHsXP9u3bR/H63XffDW+88UZYunRpTNpE+yAIff/73w9t27YNN95440WO4E8SKG8CJ0+eDMuXLz83AdS3b9/w0EMPhVtuuSWGpuDs+/XrF+64446YuAn3+5/85CeB/qVAev7/hgLp+Tz8JAEJSEACEpCABCQgAQlIQAJlQICYfIgHGzdujK7ZuJROmzYtCgXXXXdddC9lnQEDBkSLK6xGU/xLvsdycfHixdHaCqtGS/4JYL1LOANCG9x6663hy1/+chRHaR+SM2FBOnDgwNhGxFZEyCaWLMI2bsMkcxoyZIiu9vlvGvdYAgQYp5gsWLJkSVyYPBg6dGi0HK2asR6RlN8WLFgQ3eyxqmfyYezYsfaf/9/WCqQl8E9vFSUgAQmUIoEzZ86Es2fPRvc04kOZCbYUW9E6S0ACEpCABEqXAOLB4cOHw9GjR6Mb9qRJk8Ltt98eunXrdt5JkeF5/PjxcV3E1Dlz5gTuYxDh+MyrpTAEEEhZunTpEgVS2odkMqkgkuJqT3IZ2oTwB4RCQDg9duxYtIhjeyxJLRKoNAKEmsBCHit4Jg7oK717946TOlVZdOzYMfTo0SO0atUq/kQs5pdffjlOPth/PqelQFr1v8bPdSZAQGAuUMTvoSCC5Aoh3Jikkvs+fZe7Lu9ZhzgZLAbdTpR8lUDjE6Bv80BAkG/6eOqf1IR+ymf6aJs2bWKcKBIb4CaF+xrbEEOqadOmYdSoUfGmt+osZuOfUcOPyHlzE06cMsa8xIE9545lKV5ZOZxzw6m5BwlIQAKVTYBrBddUFkq6fnqf2zj/F0zWtmzZMlpOIZAiElRXePbAEpG4losWLYpiHOID90LpOae67fyuYQToF7QPbXPTTTedJ47m7hkRm3vKXr16RatRRG/uPYmrSLZ7iwQqkQCTBlhSr1u3Lp5+165d4xjHM1juswk/8h1C6LXXXhvfY3399ttvh69//eux33lNCkGBtBJ7UR7PmRs+BBHEAmLGIKI0tGAWjuDSqVOn+Fq1Yzd0/24vAQnUjgA3nMSz+a//+q8oel511VXnLrT0fW5KW7RoEd3UcIfiO2b1cX365S9/GS0ucGUjSyJ9uhzEQh6QcLV74oknojUK41Uaozh/fufm4pFHHglTp06t8SGsdi3gWhKQgAQkUA4EsHbjXhl3ba4TJAZiIq3HZ5Y8lsIS4BqNIIDoidiJmzwWiTUV1sWdO92z8IqYcLFtatqX39eOAM98WO9yX1mTeJ32hOUbyWUQVJNA2rx5c+PDJkC+VhwBBFKMUrZs2RKfQehDPHcx4VNdYTxjHWIqsy3XJWIAY1XPdpVeqqdW6VQ8/1oTQBBARMGk+5133omxLMgwyCweFzkKnRNhhRsMvmObqoWZQzoo23HzQkDhBx98ML56Q1KVlp8l0DgEmPzgYjt//vx48eSiSTyoJJTSn3nQw1qUGDZkH0VQ5SLLg2CylkkWM41T68IehfGLcYoJISxJEUgpWKdwo853lAkTJsTv4gf/SEACEpBARRLYuXNnzMq9Zs2aGP8Sd2CunQg6PKAixJEAiGzDSZCrSFAFPGkEUiZzcTulwDlNbFZ3WJ5bci2v2BbhIG1f3TZ+1zACiJ70CfrGpZ77aB8monPbkMkGhZ2GtYFblyYBdBOeubjW8LxF/0EAZRKuaj9JZ8hvHTp0iOMc3/FcQ/xfNB37kRak6f/E13oS4OLETQSdjKC/XLSYwWBJhRuK/v37xxtB1k2CQvqdz6lzI7QgPLANAkPVddM2vkpAAoUngPhJYgNc5hEAcW2a/Fn8J/p7uoHlhpaZfx44EE65OHOhTaIo35eTuwbngmsXmW8RkClwYtwi4Dk3KVjS85vjV+H/Rz2CBCQggSwS4DpATLhZs2aFGTNmxHiJ3ANzn4y7NtdVrhNYwuHiyHWExBmsY8k/Ae5Z0n3LpfbOPQyTnek+BkvFPn36RJH1Utv6e/0I1KV96FtMSKd7MCbuEUhzBdP61cKtJFB6BHg+Q9xk8o1CP8AylGsJEw7VFZ7XUoI6fk/PMalPVbdNJX2nBWkltXYBzpVOyKwfbhEsdCwucj/60Y+iYMAhyQr5wAMPhLvuuit2RsRQSrqQcQNC5960aVOYO3du+NnPfhbFFr6rzto0buwfCUig4AToo1xceaBjNnLEiBHhD/7gD8KgQYPOOzZ9mIcJJkIICv7MM89Ea9Jy7MMIpDzEsuQWsq/CCotbJnp4n8a43PV8LwEJSEAC5U2Ah008q/7xH/8xkBGd6+Lv/u7vxok1hBy8Mn7yk5+EF154IRoUPPnkk1Hw+bM/+7M4AVdOk4ql2NLcz3AtT88rPOcwMYrVlaX4BLBy27VrVxSEsO4lZqlWb8VvF2tQHAJMGJCEjlcKzx6Ioxio1CSQco1BJE2/sy2GHgqkn7ehAunnHPybJwJYfnIjiCsKHY1CJ+WGsGfPnlEgTR246iH79u0bt0Uoxd2eGXYF0qqU/CyB4hCgL7Lw4EcfzrXE4ELLTCRxu2644YZARsR33323YlzMsRSFC6+OWcX5//SoEpCABLJCAFfHf//3f4/Wo1wbH3rooXDPPffE5D/U8c477wwffvhhFEj5jNizevXqGMM7hbLhe0txCOAJQnvgQcPzzM033xwtfXPve4pTM4/KxDsW11iQImBj2fvVr371knFLJSeBciXA8wfWo7n6CtpLrgBa9dx5bmOdNBnHtoRIVCD9nFT1drdVKfpZAnUggCsKSyrMTnBTQUel8L66hZlZ3PSJxURcJlxcLBKQQHYIIP4hAia3s9yapVnI1P/TRTd3nXJ9Dw8WXerLtYU9LwlIQAK1I0CyC7yhSFaIiDNs2LBw//33nxNH2QvGBHhkILxhAcf9MdcQDANyH3Jrd0TXyicB2oDQCCxYYo0ePTomXMx9rsnn8dxX3Qhs3749LFu2LHrqEPZp7NixMSQbXk4WCVQiAa4dWFXzSkkWpEl3qY4Jz2w8pyVPN0TWQ4cORQO16tavtO+0IK20Fm+E86XD4ZKbysVElbROeqUzc7HjRiQF606/+SoBCZQGgSSWlkZtraUEJCABCUggPwTWrVsXLUNx08argtAzTP5XvS7ibfXwww/HdRFSWad9+/bnjAnyUxv3UhcCiAQkmiTpJDH9evToEW6//fYwceLEuuzGdQtEAItRLHuZgCCG75QpU8L06dNjfPwCHdLdSiDzBJJ3X64HG+71F7N4x6Aj1+stiaxO0H3e3F+oWJlvfitYSgTSjERd64y4SizTkSNHxlkNOrhFAhIoHQL0/aoPgtS+vmNC6Zy5NZWABCQggUomwEMm7vK4z+OqiOhJ2JnqLHlIboi407Vr17guoaiGDBkSjQMqmWExz504fvPmzYthgjDUePTRR8PkzxJT5hp9FLN+lXxsxJytW7fGZJhr166NsfDpPyT0tUigkgnwzMU1prpnr5q40J8IV8ErhW3xbHCs+5yYAunnHPxbZAK40xOzlFl0ZtV1ZSlyg3h4CdSTQHVCaK5oSgIjEhoRL4cLOhl8O3ToULSHQmZcqQsxx6gbYxCzrq1bt46hPog/5g1DPf8Z3EwCEpBABRE4fvx4dFPkOkIhuQ9WodVdF4n/Rmx+XIOxXOR6iLt9JYWnydK/Bm22YsWKMGfOnBjmAMvRadOmxeRMWapnpdaFvvXOO+9E8ZoM3V/5yleiQQ0xfi0SqGQCPKNwHcm1GOWaklzuq2ODMIpFdhJI2QfaS3WTedVtX+7fKZCWewtn4Py4MUxLTdXBFWnVqlWB2DLcUJopsiZSfi+B0iNA0rWNGzfGTPfEjsJFCksNZitxP8TCZuDAgfFBhBvf6h4m833W3DhQB8Ra6kNwchbctrhh4EEVcZTsqNSRuMjUzSIBCUhAAhKoSiBNtjHhlh5Mscq5mODJtc7s21VJNv5n2mvDhg3htddei9nrhw4dGhNrkTz2Yu3X+DWtzCNiRLN+/foY15fnReLCYj3aq1evygTiWUsghwDCKNeRJJByLcI6FAG0psKYl2tByjiH/qJA+jkxBdKa/nP8Pm8E6KhpqW6n/LZjx444c8vrpEmTqlvN7yQggRIkQDwbLDO5uZ0/f36MHcVFm35PYdYSN8S77747PPLII/E98YcLWZhZpU7EsXrppZeiVQJWPsSL46aBDMSMRdR90KBB4Rvf+EbMQDxgwAAflgrZMO5bAhKQQAkTIMEPS3owJXEGgk663pXwqZV11QmL8MYbb4RnnnkmTop+7Wtfiwm0DPOVjWbftGlTeOqpp+JkNpPWxO5FvFbMyUb7WIviEqgqkFKbJJBi8FGd6z3PQVyfeKXwLKZAGlF8zuOLt76TQGEIMPOHpRYu9NwkphvH9J7f3nrrrbBkyZLAzUgy9y5MbdyrBCTQmAQQIlM2X/r+4MGD4+F5IMGtnYtzyhbLRR6RFGtSLtaFKtTpiSeeCM8//3y0GCWG1R133BEtRakjCRqefvrpmCl1zZo1cT3qg4BK1tTqbjYKVVf3KwEJSEACpUGAaxhLsjrEIwHPqEsV7oe5FjJBx7WmkNe/S9Wl0n7H4nfGjBnh1VdfjeF+cN3mngAvEkvxCeDl88ILL4TZs2fHe0PCHtx88816Gha/aaxBRgignfB8glcehesJ4if6S00CKTGyeRZiHQohX/r06RNF0vhFhf8p3BNohYP19L8gsH///hhUm5s/4lukDGl0YGY4uIFEkOAVCy2+t0hAAuVBgIcPxFBirdG/e3yWFZaCyz2TIkuXLo0XaJJaYMGBuz3JKrDoLERhnFmwYEEUPVeuXBmTYmCNwANRimXVpUuX6G5HOADGK0RSXLmISeYMayFaxX1KQAISKH0CeD8grCGSUrj/5dqGIQCxtmsqxL8kxAsPq1x/mIizFJ4A7UNSJjxJuFd56KGHwtSpU0Pnzp2rPXgy4HCStFo8ef2SyQL6xC9/+ct4b8ikA271ZK6vTrzm2TE9P9o+eW0Kd5ZxAkyo8fxCwj/+9+k7Ka8L2gt9p2roMjwdMFIhBBqF0IZ4zBny5fPGViD9nIN/C0jg0KFDUQjBZZWbRm4w6KhcyOiY3JTs3r07JmlBQKnaiQtYNXctAQkUmAB9ngc+RMgxY8acEyG5eBNwn1lOMpIyWcKDJEkSiPlZKIEUsfOVV16JMY+Zcb3tttvikmZewcEsKjcKBD2nfszOcpPBDQWvunUV+J/G3UtAAhIoMQLcu2IEwMI1g4dSrhmEl2GyjUk4fquucO179913o0BKuBkF0uoo5fc7ROs333wz/NM//VO02H3ggQeiB0unTp0uOBDPK9yjIGAjQCDQKcJdgCmvX2zbti0K1z/+8Y+jePOHf/iHMWlWdX2D9uFejQlt7jm5n7N98toc7izjBBA4sazGIw/jj61bt0ZtBa+46p5ZTp48GbAiRUylIIwStqK6yYeMn3pBqqdAWhCs7jSXADcb3BiOHDkydjwEBgoXMkQSbgyZwaWjcpFjsUhAAuVBAHGUB77x48fHjPWpf/+/q35r4AAAN/NJREFU9u4sSK7qvgPwQQK0ICEEAiGxCBBggwgIKBtMgIAXggnEGAwJcXBMpez4KXG5UkkllbdUKi/JQxJnw3GoUMYuvEAcY7CNCZvNJnYjEEIgdhBGCCQhxCKIf8d1lUGM8KDpO3O757tVTY96uu89/R26p/t3/+ecVGLmS2QqZ/793/+9VmzmA24qSzMH6OLFizdX4fRCIsfNsbIYXL6s5v3mpJNOqpP9Dw1Hm2OlWjQncK677rr6pfa4446r1a/DfdBoHuOaAAECBCauQL5c5sTb7Nmz69+xfPnMMMYrr7yy3pbFZbYMbjLC4tZbb60nB/M5eWsh6sRV7f0zT1FGptjJ9D/5+3/mmWfWecazMONwW+aRzWiXFHTkM03mwdyyH4d7nNveu0A+qyXkyZQHGVqf0ObUU08t55xzTn0NDbfHfJfMSMR8r0yhTU5y+6w2nJTbBlUg/79nBF7+/09AmqK0vM/lu05GNgwtPsv7WF4zCUkToCanyXe0/O2y/VJAQOr/hNYFUvb9a7/2a3XYSs5Q5MWYLR8c88LNh8cMPcoLOmf+hr6IW2+cAxAg0KpA/jDnC0UzbGPo6zvD2BJSZrGkrCCb94QM+UjVeX7O+0GvtlSup2IkHxgybCtbvgwtXLhw2EPkA/a5555bspptgtwMXUnlgrnhhuVyIwECBCa8QP6+LViwoJ7gy8n/VB3mxNz1119fR08kwNnvF9PMTJs2rRYDZMqXFAhk2peckMuChb6ktve/UT5XJJBO5WgW/cnnjiwMmz5J4JmqqwR0ueQzQ65TBdxU+Ca8zlx9Qz/HtNfaibfnvF5WrlxZK0evuOKK2j9ZJDMhab4vJthp+iU6zee6VGmnAjvTM+X1l36zEZhIAvluku8zGf2W10GmD8n7W4pOthyRlyKU3J7vWtmOOuqoehIiVai2XwoISP2f0LpAzmrkA1/+aA1XqZUFWfKBIx8YE144K9t6lzgAgTEXyAfZLbcMQczcpBlSP2/evHqyJJUazYfgLe8/mn/nA3MC0uy/mXMnQ+hTyTrclveqfCjPxUaAAAECBEYikJNrqXhLKLp27dr69yYBWxb+y3W+jKYoICMmEuzcdNNNNdDJKIX8LczfJVs7AqmqSjh68cUX16rdfO/IloA6I0uazyn5vJDRbvmskEqrPC7X6df0jxOlve+feGdY/X//93+Xb3/727WKNEFPc4Ih/ZYtfZN+yiWvoQRBWQgtP6d/8phenlzv/TO1RwK9F8hJm3yPOuKII+qI3auvvrrcd9999f0utzVD53OiIQVpd911V31tpVAk8/rmRJHXzf/3i4D0/y381JJA/pjlrG0ztH64w+QPWhZByX3zAs21M7TDSbmNQH8K5DU93JbXearMc0k1ecLRfKnMh99evg9kfwlH82E7VQrZsv/cbiNAgAABAr0QyPD6zAV39tlnl0suuaSGaxk5lcq4VOzky2lGViR8SwVp/uZ98pOfrPfPF1xFAr3ohbfvI99BUh2aqsSEbwkO4p/bM4KlCQaGfk7JZ4NU/CZ4y5ZhqPmesrVh+G8/on+9F4FYZ374LJaVyt6cSMh8rwmls3p9Cm3SV83WfHZL/+R++X7ZLAKa11BOvtsITDSBFHYkDP3EJz5R/+6kgvTyyy+vhSiZ6jB/WzKdS15jWSQ337s+97nP1WnQmvfAiWa2tecrIN2ajNvHVCBDV4888si6cmQ+XApHx5TfwQiMi0Be5/kgm2EdTXV5bmvjC2I+UOeDdL4UNSdr8sU0gakvPOPS/Q5KgACBgRRImJYpWjI9S76gZu7rnJhL4JNLs2XqmTPOOKN86lOfqpWlTUVj83vXvRHIMPlMZZA5LTMUu9kSsKU6dCRbArgMYd3aCvcj2Yf7vFMgn80SQqdC9Ktf/Wp55JFHNt8ptzcB9eYbt/JD+iYjEgU9WwFy84QQyPvTySefXEfMXXbZZWXZsmXlX//1X8u1115bK9+zKG4qrjP1WdZayPzLGfVge7uAgPTtHv41TgI5m54/bpnnrykDz9nCVJLlzGE+NApNx6lzHJZAywJ5bTev7wx5zzxfCUmb23px+Owrw+ISyOaSkDQfEvJhPPOMvtuWISm55D0pJ3DypddGgAABAgSGE8jfmJz0T1CaE3D/8A//UBdtakYs5G9J5oXLwhh/9md/VhfXGG4/bhu9QHNyNFN45SRpPmMkRBvp54t8Vsg0YfmcsN8v5io1vH70fTJ0D+mfnLjOCKIMl0/BzEj7Jo/NffO5LK8lUyINlfXzRBTIe1teB5/97GfrSIWMYsiiZ6kYzWsl31+yLsxZZ51VPv3pT9fpXkb6eptIngLSidTbHX6u+TCZkHTolqFHOdObOZlyVjD3sREgMDgC+XCbL4wJH5sqgZzVzPxsvf4Skg8A+WKUS+Y8TjVPzqRm3rHTTz99q8dLGxOkZnhkfs7QSYtoDM7/g54JAQIE2hLI9FFZffuEE06of0eyQGDCoFSOpiAgl4Q7tvYE8rc//fBHf/RH5fd///frsPn3Egjk736+f6RQw/ywve+nnAzPUN8///M/L1/4whe2aQRR9pG+schM7/vHHvtTIO95n/nMZ+q8vA8//HA9+ZBnkiko8ncnJ+hSjPJe3gv7U2LbWi0g3TY3j2pZIB8iMy9Qhiadd9555bDDDmv5iHZPgMB4COTLRxZPygmRbPnjnYC018Ok8iEg1ek5EZOq9GwZWnf33XfX+a4yfG64of1pX+6TIZK5z9B5sOpO/IcAAQIECAwjkL87+RKaSxYkzFDvDOvO3yFhzjBgLd2UgDNBdC/C6HwmECr0tqPSPzlpkIuNAIHRC+T7TPO3J4FoU4SS23pdgDL61nZvDwLS7vVJ37coHx6aYUR5Ms0HieZ6JE8wkwh/5zvfqUPsvZBHIuY+BLohkNf/0C2v+3z4HS58zPtEgtFUZyYkTRXBwQcfXIclDn2/SCiZBZZSaZrqz/cyBKtpS46fM6Y5q5r5TrP/HD9DTzIvWTMspbl/rnPcvBflZE3mKs0qw024OvR+fiZAgAABAu8mkL8x+Rtn62+BoZ9N+vuZaD0BAhNBIN9bfHd5bz0tIH1vXu49AoGcHc+l2RIy5DI0NG1+t+V1Vvp88skna+XoD3/4wzokZr9fzPljI0CgPwS2/PKQ135e17necks1TYa4J6TM+8NRRx1VFi9eXKtIm/vmvSTvCbfcckt56qmnajia4YqZiPy9/MFvAtKsQpvHZj6ytCtVpF/72tfqmdacjGkWYMjzePDBB8tFF11Uq0cz/1im+thyKpCmna4JECBAgAABAgQIECBAoH8FBKT923edbXlCj1RbNVvKunPbrwpI169fX8OSL3/5yyXhaM60H3PMMXW4bbMv1wQIdFugqSBvVorPir0Zop7wM/N/Dt1SOfqVr3ylZH6chI9ZzTcBaYaANFvmCc1KjAkxU2WaIVgf+MAHyl/8xV/8ysWVmn0Mvc5jf/u3f7s89NBDdU6ezEWan//+7/++/OhHP6qLZaSdK1asKEuWLKnzxuUxCWUzP6qK9qGafiZAgAABAgQIECBAgMBgCAhIB6Mfx/VZpMIr4WaGwKYq64YbbqjhQtOoLHCS4CFb5hccWmGWMCWVZVlZMtVh99xzT7nqqqvqAiqLFi3aHFY0+3JNgEC3BTKvWjOUPdWZmU/4iiuuqK/zLHCUkDFbQsnrr7++VmlmxcVTTz21fPjDH66PHfoMH3vssXLzzTfX1eZze06+JCj92Mc+tk0LXCxYsKAeJ6Fths6nOjWVpFnNPj/fdddddTGGBLtr164tqWA/+eSTy4knnmj1+qEd42cCBAgQIECAAAECBAgMkICAdIA6czyeSgLOVIimEmzp0qV1KGquUz2WBVHy+1yywEkC1EyQnjkEmy1VpQlYE3o888wzJaFEtoQoWZgpgaqNAIH+EchrPCc3PvKRj9RV4hNwphrzm9/8Zlm2bFk59NBD63ykGTKfkPTAAw8sH/3oR2vgmSrSzFc6dMt7SYbHZ2h7qj2b94u8zxx99NHvedGFVICmDb/7u79b34t+8pOf1Pee7DfvRzlRk/esPI8EuieddFI57bTTSoJVGwECBAgQIECAAAECBAgMpoCAdDD7dcyeVQKFDJ/PENkMhc0iKgktjjzyyLe1IVWjW1uoJXdMIJrQIvtLIJKqrQ996EMqtt6m6B8Eui+Q4fFZzCiLLd1xxx3l9ttvr1WiqTJPpXjmHE2VaYbKZ17PVIJmWH1Wrh9uIaesHJ/q0mw5GZNFnXIy5aWXXqoVntsikkWaPv7xj9f3nRw7FaqrV6+uAWz2l/a9733vq+9BGVqfhZ1sBAgQIECAAAECBAgQIDC4AgLSwe3bMXlmCTRSaZVANCFnKq8ShG5ZBZbbE37mOpdma4bb57q55PcJWebMmVNXlm7u65oAgf4QyOJJWewoQWSGzz/33HN1WHxOpqRSM9Wged/IUPxUZm45N+nQZ7nPPvuU3/zN3yz77rtvrTTPqvJXXnllDTF33HHHoXd9Tz9nReFUumau47x/JSDNCZ68D+X9Z/78+fU9bffdd39P+3VnAgQIECBAgAABAgQIEOg/AQFp//VZp1qcMCFhR4bJ5mIjQIBAI5AQNJcMnc88nxkinxMlmWZjpCvQZ6qOPH7hwoVl+fLlddGkadOm1cB0tJWdacN+v6hWzyXt27hxYw1IE+xueZKneU6uCRAgQIAAAQIECBAgQGDwBASkg9ennhEBAgQ6J5Bqz9FUfCawzFymCUkTYGZKjlSV9mobbft61Q77IUCAAAECBAgQIECAAIGxFxCQjr25IxIgQKDvBJopMBJUZnj6WG6Zd/SKK64oF198cZ179Oyzzy6Zm7QrVZ5Z+CmX4eZQHUsnxyJAgAABAgQIECBAgACBbRMQkG6bm0cRIEBg4AWaOYMzLD6XDJFfu3ZtWbNmTa3i3LRpUw0FE5iOpjr03SAff/zxcsMNN9SANEPgjznmmHL66aeXefPmvdvDWvtdTLKQXCzyc0LatCuLRuU6JtnyOxsBAgQIECBAgAABAgQI9IeAgLQ/+kkrCRAgMOYCqRpNVWSqI7O40gsvvFCWLl1asthS5hFNaJpgNAu0ZTGlNio677nnnnLNNdfU8PH888+vCzZlztDxqtbMc161alVZuXJlNYlRbJ566ql6e8LTbOPVvjH/n8QBCRAgQIAAAQIECBAgMAACAtIB6ERPgQABAm0IJOTLfJ9ZbT6rvD/yyCPlK1/5yuZq0fx+1qxZ5cwzzyy/8zu/UxdsS2DYy+2www6rK81nsaZUjWbV+fEMH7OY02233Vb+8z//s7z44oubK0YTjKa6NtW0Wfk+i9e1ERj30ta+CBAgQIAAAQIECBAgQOCXAgJS/ycQIECAwLACWS3+wAMPLGeddVYNAxNMJiBshtzn3wku58yZ01oYOH/+/BqMpmK1C1sC4ITCBxxwQK2kbaYZiEXC0fw+FbeLFi0qO+20UxearA0ECBAgQIAAAQIECBAg8CsEBKS/AsivCRAgMFEFEvAdcsghtWozw8iHVm5mjs0mDNxtt93qkPteV4/GfcqUKZ3iTwh6+OGHlz322KPORbpl4xqXPffcs1aRbvl7/yZAgAABAgQIECBAgACB7gkISLvXJ1pEgACBTggkDMyQ9l122aUuOrS1ADTB6dDwtBONb6kRGTafQHj27NnvuhBT7rc1r5aaZrcECBAgQIAAAQIECBAgsI0CAtJthPMwAgQITASBiRR+jrQ/mYxUyv0IECBAgAABAgQIECDQHwKT+qOZWkmAAAECBAgQIECAAAECBAgQIECAAIHeCwhIe29qjwQIECBAgAABAgQIECBAgAABAgQI9ImAgLRPOkozCRAgQIAAAQIECBAgQIAAAQIECBDovYCAtPem9kiAAAECBAgQIECAAAECBAgQIECAQJ8ICEj7pKM0kwABAgQIECBAgAABAgQIECBAgACB3gsISHtvao8ECBAgQIAAAQIECBAgQIAAAQIECPSJgIC0TzpKMwkQIECAAAECBAgQIECAAAECBAgQ6L2AgLT3pvZIgAABAgQIECBAgAABAgQIECBAgECfCAhI+6SjNJMAAQIECBAgQIAAAQIECBAgQIAAgd4LCEh7b2qPBAgQIECAAAECBAgQIECAAAECBAj0iYCAtE86SjMJECBAgAABAgQIECBAgAABAgQIEOi9gIC096b2SIAAAQIECBAgQIAAAQIECBAgQIBAnwh0OiCdNGlSmTJlSp9QaiaBiS2Q12pes9mmTZs2sTE8ewIEBkJgu+22K9OnT6/vbW+99dZAPCdPggABAgQIECBAgACBdwps/86bunPLK6+8Uh5++OFy//33l9dee634ctKdvtESAo3A5MmTy6ZNm8ry5cvL+vXry5tvvlnuvffeMnXq1Pqz120j5ZoAgX4SSDia97OVK1eWl19+uey000791HxtJUCAAAECBAgQIEDgPQh0MiDNl5Jsa9asKT/60Y/KY489Jmh5D53qrgTGUiBVowkRHn300fLss8+WN954o1xyySXl6quvrs0QkI5lbzgWAQK9Eshnkbx/rV27tjz//PNl11137dWu7YcAAQIECBAgQIAAgY4JdDogff3118tdd91VLx1z0xwCBN5F4LrrrnuX3/oVAQIE+k9ghx126L9GazEBAgQIECBAgAABAiMS6GRAmmC02Y455phy7LHH1iG8KtEaFdcEuiPQVJBmWP3tt99eMjXGGWecUfbbb79afeV1252+0hICBEYu0AyxX716dbn00ktLrk33M3I/9yRAgAABAgQIECDQTwKdDEgzz9f8+fPLvvvuW/74j/+4nHfeef1kqq0EJqTA//zP/5QLL7ywPPjgg+Wv//qvyxFHHDEhHTxpAgQGS+Cpp54quWSu5QyzbxajG6xn6dkQIECAAAECBAgQmNgCnQxITzzxxLJkyZKy/fbblxkzZkzsHvLsCfSJwCmnnFKOO+64Ogfpbrvt1iet1kwCBAi8u8C8efPKd77znXqnnMCdNm3auz/AbwkQIECAAAECBAgQ6DuBzgWkGY6b1a9TQWojQKB/BPK6zcVGgACBQRJIxegee+wxSE/JcyFAgAABAgQIECBAYAuBSVv8e9z/2axgP+4N0QACBAgQIECAAAECBAgQIECAAAECBAZeoHMB6cCLe4IECBAgQIAAAQIECBAgQIAAAQIECHRGQEDama7QEAIECBAgQIAAAQIECBAgQIAAAQIExlpAQDrW4o5HgAABAgQIECBAgAABAgQIECBAgEBnBASknekKDSFAgAABAgQIECBAgAABAgQIECBAYKwFOreK/VgDOB4BAgQIECBAgAABAt0TyOKtU6dO7V7DJnCLZs6cWSZN+mWNzY477jiBJbr51CdPnlyafkk/pb9s3RCYMmVKfT/L+1ouO++8czcaphWbBXbaaaeyww471H9PmzZt8+1+GH+BvJflNZQtfdNW/whIx7+vtYAAAQIECBAgQIAAgS0EXn311bJy5cpy991310DhjTfe2OIe/jmWAvmCumTJkvLKK6/Uwz7zzDPlvvvuK5s2bSr6Zix7YvhjJTxI3zz77LP1Dnn93HzzzeWggw4q69evH/5Bbh0TgYTWL7/8cnnkkUdK+iUB6U9/+tOyYMGC2mdvvfXWmLTDQYYXSH/k9XPPPfeU1atX1zstW7asLF26tPZXbtBHw9u1fWv6Zvvtt6998cQTT9TDrVixojz44INlt912q6+lXrZhu190tFdjL0XtiwABAgQIECBAgACBbRa48847y/HHH1+Dg3wBmjNnTv0S5GvLNpP25IGpSNywYUNJMPraa6+VWbNmlXnz5tV965ueEI9qJwkS3nzzzRqQrl27toYK++67bw1+crtt/ASavkn49tJLL9WGpG8SnHrtjF+/DD1y+mjdunVlzZo19X1u7ty5Zfbs2fpnKNI4/Zy+2bhxY33tpH8SmP7BH/xB+cd//Mcyffr0nrZKBWlPOe2MAAECBAgQIECAAIFeCSRQaCp6erVP++mNQIKeJuzpzR7tpZcCqepNxaKtmwL6ppv90rRq1apVJRdb9wTy3vbkk0/WE0K9bp2AtNei9keAAAECBAgQIECAwKgEmqqqww8/vCxevLhWkKqCGxXpqB+cardUj95444210mrhwoXlhBNOqF9Sm/4a9UHsYJsFMv9ogoObbrqpBqOZo+/UU0+tVXCvv/76Nu/XA0cvkOrr9EGGbC9fvrzu8LTTTqvzkJqeYvS+vdhDXj+PP/54ydD6p59+uhxzzDHl0EMPNX1IL3BHuY+8fp5//vnSDK3ff//96yiTZr7YUe7+bQ8XkL6Nwz8IECBAgAABAgQIEBhPgYRtuWRo/TnnnFP+6q/+ajyb49hDBO69997aJxmKetJJJ5X/+I//GPJbP3ZB4IILLqgB6S677FL++Z//efM0CF1o20Rvw9/+7d+WL3/5y/WEz7/927/V97iJbtKl53/NNdeUv/u7v6sB6ec+97nyh3/4h11q3oRuywMPPFAuvPDCOvfo+eefX/umWbSplzC/XIKwl3u0LwIECBAgQIAAAQIECIxSICGpqtFRIvb44VmQqdlUjTYS3boe2i9D+6tbrZx4rcl7WdM3udY33ft/YOjfm6avutfKidmivF6aPsl183OvNQSkvRa1PwIECBAgQIAAAQIEeiIw9AtrT3ZoJ6MSyHDg5oupvhkVZSsPTojQ9Ev6yfDtVpi3aacZYj80FNU328TY6oPSJ83rZ2hftXpQOx+RwJZ901b/CEhH1B3uRIAAAQIECBAgQIAAAQIECBAgQIDAIAoISAexVz0nAgQIECBAgAABAgQIECBAgAABAgRGJCAgHRGTOxEgQIAAAQIECBAgQIAAAQIECBAgMIgCAtJB7FXPiQABAgQIECBAgAABAgQIECBAgACBEQkISEfE5E4ECBAgQIAAAQIECBAgQIAAAQIECAyigIB0EHvVcyJAgAABAgQIECBAgAABAgQIECBAYEQCAtIRMbkTAQIECBAgQIAAAQIECBAgQIAAAQKDKCAgHcRe9ZwIECBAgAABAgQIECBAgAABAgQIEBiRgIB0REzuRIAAAQIECBAgQIAAAQIECBAgQIDAIAoISAexVz0nAgQIECBAgAABAgQIECBAgAABAgRGJCAgHRGTOxEgQIAAAQIECBAgQIAAAQIECBAgMIgCAtJB7FXPiQABAgQIECBAgAABAgQIECBAgACBEQkISEfE5E4ECBAgQIAAAQIECBAgQIAAAQIECAyigIB0EHvVcyJAgAABAgQIECBAgAABAgQIECBAYEQCAtIRMbkTAQIECBAgQIAAAQIECBAgQIAAAQKDKCAgHcRe9ZwIECBAgAABAgQIECBAgAABAgQIEBiRgIB0REzuRIAAAQIECBAgQIAAAQIECBAgQIDAIAoISAexVz0nAgQIECBAgAABAgQIECBAgAABAgRGJCAgHRGTOxEgQIAAAQIECBAgQIAAAQIECBAgMIgCAtJB7FXPiQABAgQIECBAgAABAgQIECBAgACBEQkISEfE5E4ECBAgQIAAAQIECBAgQIAAAQIECAyigIB0EHvVcyJAgAABAgQIECBAgAABAgQIECBAYEQCAtIRMbkTAQIECBAgQIAAAQIECBAgQIAAAQKDKCAgHcRe9ZwIECBAgAABAgQIEOgLgTfffLO89dZbfdFWjSRAgAABAoMqsP2gPjHPiwABAgQIECBAgAABAl0WWL9+fdmwYUOZNm1avWy/va9nXe4vbSNAgACBwRXwF3hw+9YzI0CAAAECBAgQIECgYwKpGF2+fHlZsmRJeeihh8rkyZPLSSedVA4//PAye/bsjrV2YjRn3bp1ZeXKlWX69Oll7733LlOmTCnbbbfdxHjyffAsn3nmmfLSSy+VHXfcsey11161f/qg2QPdxLyPPfbYY+Xpp58ur732Wpk1a1bZb7/9yq677jrQz9uTG2wBAelg969nR4AAAQIECBAgQIDAOAu88cYbZc2aNWXFihXlwQcfLPfff38NSB9//PEyd+7csu+++5aDDjpIQDrG/fTzn/+8htX33Xdf7ZeE1KeffnoN4gSkY9wZWxwu004kGF22bFm5/fbbS15DeY0kiEuAbRsfgfTLo48+Wu688856yXtYAtKc3Fm4cGE58sgjy6JFi8q8efPGp4GOSmAUAgLSUeB5KAECBAgQIECAAAECBH6VwCuvvFISwv3Lv/xLueGGG2pY+vrrr9cqxalTp5aNGzeah/RXIfbw9wnbXnzxxfL973+/XHbZZeXGG28sa9euLRdccEGt5lXJ20PsbdhV+ifViVdddVX5xje+Ue64445anXjOOeeUD37wg7VKUYC9DbCjfEgTWl944YXlu9/9bq2AT1XvDjvsUFJRmqD0uOOOK5/+9KfLeeedVyuyR3lIDycwpgIC0jHldjACBAgQIECAAAECBCaaQIbRz5kzp5x77rl1iPB1111Xli5dWqviLNA0dv83bNq0qQbVP/7xj2s4mmH1qSJ9+eWXayPye9v4CSSk/tnPflZ+8IMf1NA6U1CsXr26vPrqqyV9k0teL7kISMe+n+65554aWH/rW9+qJxQ+/OEPly984Qu1WjSVvpdeemm56667yj/90z/VfvvMZz5T9txzz7FvqCMS2EYBAek2wnkYAQIECBAgQIAAAQIERiLQzJ04f/78GhgkMM0w1cyrmKBH2DMSxdHdJ6FaKnXjnkuGaWdRrKEB9aRJk0Z3EI8elUDC0CeeeKKGazvttFNduCzhaLb0jdfJqHhH9eCcTLj22mvL9773vTpf7/HHH18+//nPl0984hO1b97//vfX/acP77333vL1r3+9HHjggeWUU04pM2bMGNWxPZjAWAn4CzBW0o5DgAABAgQIECBAgMCEFEgQl8VLdtttt7oY07HHHlvDnwmJMU5POkFopjXIcODMNfqlL32pZMj2wQcfPE4tctgtBdI/M2fOrNMcfPGLXyyf+tSnSoLSoZuQdKjG2Py8YcOGctttt5X//d//rfMoZx7Yj33sY+Xss8+u4WhakdsShp544oll5513Lqk2vfLKK2tYOjatdBQCoxdQQTp6Q3sgQIAAAQIECBAgQIDAiAQS8FglfURUPb1TKhAT3Jx88sl1vsTsPIHcww8/XO6+++6eHsvOtk1g//33L/vss0/tn2nTptW5evPvDN/OHJe2sRfIayQr1S9ZsqSGnpnm4IQTTihHH3302xqT97UMp89CTQsWLKhVwNdcc009AXHUUUeVzLVsI9B1ARWkXe8h7SNAgAABAgQIECBAYGAEUk2ai0q4se/ShKQJ3lKVmEsqehOa2rohkOrepn/SV6lKzCWvlaFTIXSjtROjFZniIAtm3X///XX6gzzrww47rCTM3nJLn+233371d3mPywr3WWArJyCygJONQNcFBKRd7yHtI0CAAAECBAgQIECgLwUS6mQF+8w1mlXTEzZkhe4EQQLS8e3S9E0CncwHa+uuQFNtLSAdnz5av359rbLO3LDZ8t6VCtHdd9992Abttdde9fd5XaXqd/ny5eXmm2+u8/8O+wA3EuiQgCH2HeoMTSFAgAABAgQIECBAYDAEEuisWrWqZCXup556qg7n3nvvvTcv0iQgHf9+TkCqH8a/H7bWgvSPPtqaztjcnpM7eQ/Ldbbp06eXOXPm1Llih2vBHnvssfk9Lr9/5plnytKlS1WQDoflts4JCEg71yUaRIAAAQIECBAgQIBAPwvcdNNN5Vvf+lb52c9+Vufiy+rpmbsv4cLcuXPrHKRr1qzp56c4MG0XkHa7K/XP+PZPgtEHH3xwc0CaqSkyn+jWKq8zZUUzLUJanqr57CMLPdkIdF1AQNr1HtI+AgQIECBAgAABAgT6QmDt2rV1QZmLL764XHbZZTUUzVx9BxxwQB1imkqsBx54oFaTpsJU+DP+3Wro9vj3gRZ0UyBD5BNsZpGmJuCcMWPGu04Rkjlkc2ne27KPhKQZqm8j0HUBAWnXe0j7CBAgQIAAAQIECBDovEACgCxI8jd/8zfllltuqcNQL7jggnLuueeWQw45pKxbt65885vfLJdcckm59tprO/98NJAAAQJZxT7vbc3cyQlIswDT1rYEozvuuOPmgDSV8wlIc/IoCzXldzYCXRXY+v/ZXW2xdhEgQIAAAQIECBAgQKBjAlmp+aKLLqohaSqofuM3fqP83u/9XjnooINqS2fOnFnOOeecGhY88sgjdUXoVFfZCBAg0EWBVFcn1MwCc9myQNOvqiBt7je0gjQL1SUgTVAqIK2U/tNRAavYd7RjNIsAAQIECBAgQIAAgf4QyBDU2267rfzkJz+pYcKhhx5azjjjjM3haPMsMj/fBz/4wXLcccfVYajN7a4JECDQNYEEpKkcTcCZLZWjOfmT6yYAHa7NQ3+Xk0CpQs0+cm0j0GUBAWmXe0fbCBAgQIAAAQIECBDotECGkGYxpjvvvLM8++yzta2LFy8uH/nIR8pw81vOmzevHH/88XXBpk4/MY0jQGDCC+Q9rHkfmzRpUq0izfW7bXlPbB7T3E+1fCPhussC7/5/dpdbrm0ECBAgQIAAAQIECBAYZ4EsXpJVnlesWLG50mr33Xcvs2fPHrbKKkNU58+f/67z+I3zU3J4AgQIVIEMq8/K9dm2DD3rjcP8Z2ilaKpJU3E6ZcqUra58P8wu3ERgXAQEpOPC7qAECBAgQIAAAQIECPS7QAKDLL703HPPlRdeeKE+nYQJu+6661afWsKCqVOnDhuebvVBfkGAAIExFki4mTlDd9lll3rkZsGl4SpEm6alUjTD8pswNdWmzXterm0EuiwgIO1y72gbAQIECBAgQIAAAQKdFUgQkMVHsohJM09fwoTM02cjQIBAPwskIE3lZ074pJK0mUs073tb23KfLOzUBKTZRx47ffr0er21x7mdQBcEBKRd6AVtIECAAAECBAgQIECg7wQSFKSCNCHpxo0ba/t/1WIkTXDQd09WgwkQmFACTUCakz4JShN+rl+//m0VoluC5P0v044073OTJ0+uFfOZWiRBqY1AlwUEpF3uHW0jQIAAAQIECBAgQKDzAgkDEiZky1D7BKYj3ZrHjfT+7keAAIGxEMh7U6YM2XvvvWsFaIbP5/0tIejWFl1KNX3u0/w+j587d26tQvVeNxa95hijERCQjkbPYwkQIECAAAECBAgQmLACmV8vlVWZU3RoddTPf/7zWmU1EpiEq0211Uju7z4ECBAYK4FZs2aV973vfZvnVV6zZk1ZvXp1rRIdrg3PP/98yftfE5BmwbqDDz64zJw5c7i7u41ApwQEpJ3qDo0hQIAAAQIECBAgQKBfBLLoSL74bznv6OOPP17uueeeEYWkCRJyEZL2S69rJ4GJI5CAdNGiRbWKNM/65ZdfLo899lhJEDrclnB01apVmwPSffbZpyxevPhtJ5CGe5zbCHRBQEDahV7QBgIECBAgQIAAAQIE+k4g8+slQMgiJhlK2mx33nln+e53vztslVVWhU7FaapPs2VF6ASkzb+bfbhuX2DLULqpemv/yI4wEoEtq6u3/PdI9uE+oxPIe9W+++5bq0hTDZp5lx944IHy5JNPDrvjJ554ogaouV/eGw855JByxBFHlLzv2Qh0XUBA2vUe0j4CBAgQIECAAAECBDorkGD0/e9/f1m4cOHmKqlHH320XHPNNeXqq69+R6VVqktvvvnmzaveZz6/zNmXoavZhHRj09XDzYfYBNXD/W5sWuUoQwXSDzmB0ASjuc5t+meoUrs/Z+qQPffcs4acCTtTNX/HHXeU++677x0Hfu6558rDDz9cVq5cWd/HjjnmmHLccceVPfbYwwmgd2i5oYsCAtIu9oo2ESBAgAABAgQIECDQFwKpjDrqqKNKwoAsZpKq0tdee60GCF/96lfLD3/4w5KqqgSgGZp61VVXlW984xtl3bp19fnletmyZTU0vfvuu+sCTwmFbO0KxDiLaWVV7mbL8OHcxr8RGd/r9M1LL71UA9K8ptI3OaGgf8auXxJGZwqRI488sr7HpYr0oYceKj/96U9rJenGjRtrYzIvaU78ZGqRvNflMWeeeWb59V//9bFrrCMRGKXA9qN8vIcTIECAAAECBAgQIEBgwgokQFiwYEE56aSTyooVK8rXv/71OrQ+Yc71119fQ4Ss4rzzzjuXVFilgrSpFg1aAqDLL7+8fP/73y8nn3xy+cu//Mty+OGHl2nTpk1Y07F44nG/9dZbS0LpZnvkkUfKDTfcUIPuBDy28RPI62TJkiXl3nvvrY149tlna+ViTibstddeFv0Zw67Je1yGyec1k/e4H/zgB/XETyp6P//5z5fZs2fX11He+1I5P3/+/PLFL36xnHbaabV6dAyb6lAERiUgIB0VnwcTIECAAAECBAgQIECg1IVMzj///Bpspmp0+fLlNSjNcPtcpk+fXsOCVJrOmTOnfO9736uBQ4af7r///uXAAw+sw1EznDXDWG3tCCQATXCdRWYSwD3zzDPVO1WJTz/9dLn00ktrqJ2q4KOPProcdthhhge30xXv2OuLL75YK6/TP6m2zly+2VKVnZAur6OLLrqohnMf+MAHyrnnnltmzJjxjv24ofcCGWqfKtILLrigvpelgjRh6IYNG+qcylmcKaH2hz70oXLKKaeUs846q85d2vuW2COB9gT85W3P1p4JECBAgAABAgQIEJggAglqTjzxxBqCZhjqj3/84zoU+PXXX68Cmas04ehHP/rRep/MO5pQIdWiJ5xwQn1sglJbuwKZH/HGG28sr776ag160idZICsBXBaWye233357bUQq4RKQ2sZGIMPnE4LedNNNdeqDVCaeccYZdYh9WpAQO8Pub7nlltqgDOG2jZ1AFqM7/fTTayg9b9682k8JstMvM2fOLMcee2z5rd/6rfpelulGbAT6TUBA2m89pr0ECBAgQIAAAQIECHRW4OCDDy5f+tKXymc/+9lakZg5RqdMmVKHnSY4zc+57U/+5E9qqHDAAQfU+fqs8jw2XXreeeeVs88++x0HS0CaIcPZcp0q3lTNJTy1jY1ApqJIVegnP/nJzX0x3JHTP6kqNQ3FcDrt3pbXSU4EpZo0VdirVq2qAWmmEEn1e6amyHucjUA/CghI+7HXtJkAAQIECBAgQIAAgU4KJFBLtWguGT6fxWUStg0NcxLupHIxQcLUqVM7+TwGtVEJooXR3ezdvHb0Tzf7Zmir8v6VIDSXzAebwDonE3KxEehnAQFpP/eethMgQIAAAQIECBAg0FmBBKDDVVMlMJ01a1Zn261hBAgQGInA0BM/I7m/+xDosoDxAl3uHW0jQIAAAQIECBAgQIAAAQIECBAgQKBVAQFpq7x2ToAAAQIECBAgQIAAAQIECBAgQIBAlwUEpF3uHW0jQIAAAQIECBAgQIAAAQIECBAgQKBVAQFpq7x2ToAAAQIECBAgQIAAAQIECBAgQIBAlwUEpF3uHW0jQIAAAQIECBAgQIAAAQIECBAgQKBVAQFpq7x2ToAAAQIECBAgQIAAAQIECBAgQIBAlwUEpF3uHW0jQIAAAQIECBAgQIAAAQIECBAgQKBVAQFpq7x2ToAAAQIECBAgQIAAAQIECBAgQIBAlwUEpF3uHW0jQIAAAQIECBAgQIAAAQIECBAgQKBVAQFpq7x2ToAAAQIECBAgQIAAAQIECBAgQIBAlwUEpF3uHW0jQIAAAQIECBAgQIAAAQIECBAgQKBVAQFpq7x2ToAAAQIECBAgQIAAAQIECBAgQIBAlwUEpF3uHW0jQIAAAQIECBAgQIAAAQIECBAgQKBVAQFpq7x2ToAAAQIECBAgQIAAAQIECBAgQIBAlwUEpF3uHW0jQIAAAQIECBAgQIAAAQIECBAgQKBVAQFpq7x2ToAAAQIECBAgQIAAAQIECBAgQIBAlwUEpF3uHW0jQIAAAQIECBAgQIAAAQIECBAgQKBVAQFpq7x2ToAAAQIECBAgQIAAAQIECBAgQIBAlwUEpF3uHW0jQIAAAQIECBAgQIAAAQIECBAgQKBVAQFpq7x2ToAAAQIECBAgQIAAAQIECBAgQIBAlwUEpF3uHW0jQIAAAQIECBAgQIAAAQIECBAgQKBVAQFpq7x2ToAAAQIECBAgQIAAAQIECBAgQIBAlwUEpF3uHW0jQIAAAQIECBAgQIAAAQIECBAgQKBVAQFpq7x2ToAAAQIECBAgQIAAAQIECBAgQIBAlwUEpF3uHW0jQIAAAQIECBAgQIAAAQIECBAgQKBVAQFpq7x2ToAAAQIECBAgQIAAAQIECBAgQIBAlwUEpF3uHW0jQIAAAQIECBAgQIAAAQIECBAgQKBVAQFpq7x2ToAAAQIECBAgQIAAAQIECBAgQIBAlwUEpF3uHW0jQIAAAQIECBAgQIAAAQIECBAgQKBVAQFpq7x2ToAAAQIECBAgQIAAAQIECBAgQIBAlwUEpF3uHW0jQIAAAQIECBAgQIAAAQIECBAgQKBVAQFpq7x2ToAAAQIECBAgQIAAAQIECBAgQIBAlwUEpF3uHW0jQIAAAQIECBAgQIAAAQIECBAgQKBVAQFpq7x2ToAAAQIECBAgQIAAAQIECBAgQIBAlwUEpF3uHW0jQIAAAQIECBAgQIAAAQIECBAgQKBVAQFpq7x2ToAAAQIECBAgQIAAAQIECBAgQIBAlwUEpF3uHW0jQIAAAQIECBAgQIAAAQIECBAgQKBVAQFpq7x2ToAAAQIECBAgQIAAAQIECBAgQIBAlwUEpF3uHW0jQIAAAQIECBAgQIAAAQIECBAgQKBVAQFpq7x2ToAAAQIECBAgQIAAAQIECBAgQIBAlwUEpF3uHW0jQIAAAQIECBAgQIAAAQIECBAgQKBVge1b3budEyBAgAABAgQIECBAYBsEJk2aVKZNm7YNj/SQtgR22WWXMnny5Lr7KVOmtHUY+91GgfRN0y95/aS/bN0QSL9Mnz69pF+yzZ49uxsN04rNAjNnziw77LBD/fdOO+20+XY/jL9A3sumTp1aG5LXUVv9IyAd/77WAgIECBAgQIAAAQIEhgi89dZbZe3atWXJkiXl29/+dv3Npk2bhtzDj2MtkC+k9957b1mzZk099AMPPFAuv/zykn7RN2PdG+88XoKdV199tSxbtqz+cv369eVrX/taWbBgQdmwYcM7H+CWMRNI36QPbr311rJu3bp63P/6r/8q8+fPLxs3bhyzdjjQ8ALbbbddDUbTP48//ni903XXXVdmzJhRX1PDP8qtYyGQvsmJnxUrVtS/PznmTTfdVBYtWlTOOOOMzSfsetWW7X7x4eOtXu3MfggQIECAAAECBAgQIDAagbvuuqscf/zxQp3RILb82FTBvfnmmy0fxe63VSChQjZf9bdVsL3H6Zv2bHu1Z+9vvZLs/X7y+sn72sc//vFy6aWXllT99nJTQdpLTfsiQIAAAQIECBAgQGBUAttvv32ZO3dueeGFF+pwYdWJo+Ls6YPz5TT9k+sEpG+88UZP929noxdI/yTgSYiQ/hGSjt60V3tIJVwzxF7f9Eq1d/tJ3zSX9I+TQL2zHe2e8jcnfZPX0OrVq+sUFc1rabT7Hvp4AelQDT8TIECAAAECBAgQIDCuAglH//RP/7S88sorm+eDG9cGOTgBAgQIECDQCYFMS3HIIYeUHXfcseftMcS+56R2SIAAAQIECBAgQIDAtgik2i2VIjYCBAgQIECAwFgK/HIJtbE8omMRIECAAAECBAgQIEBgGAHh6DAobiJAgAABAgRaFxCQtk7sAAQIECBAgAABAgQIECBAgAABAgQIdFVAQNrVntEuAgQIECBAgAABAgQIECBAgAABAgRaFxCQtk7sAAQIECBAgAABAgQIECBAgAABAgQIdFVAQNrVntEuAgQIECBAgAABAgQIECBAgAABAgRaFxCQtk7sAAQIECBAgAABAgQIECBAgAABAgQIdFVAQNrVntEuAgQIECBAgAABAgQIECBAgAABAgRaFxCQtk7sAAQIECBAgAABAgQIECBAgAABAgQIdFVAQNrVntEuAgQIECBAgAABAgQIECBAgAABAgRaFxCQtk7sAAQIECBAgAABAgQIECBAgAABAgQIdFVAQNrVntEuAgQIECBAgAABAgQIECBAgAABAgRaFxCQtk7sAAQIECBAgAABAgQIECBAgAABAgQIdFVAQNrVntEuAgQIECBAgAABAgQIECBAgAABAgRaFxCQtk7sAAQIECBAgAABAgQIECBAgAABAgQIdFVAQNrVntEuAgQIECBAgAABAgQIECBAgAABAgRaFxCQtk7sAAQIECBAgAABAgQIECBAgAABAgQIdFVAQNrVntEuAgQIECBAgAABAgQIECBAgAABAgRaFxCQtk7sAAQIECBAgAABAgQIECBAgAABAgQIdFVAQNrVntEuAgQIECBAgAABAgQIECBAgAABAgRaFxCQtk7sAAQIECBAgAABAgQIECBAgAABAgQIdFVAQNrVntEuAgQIECBAgAABAgQIECBAgAABAgRaFxCQtk7sAAQIECBAgAABAgQIECBAgAABAgQIdFVAQNrVntEuAgQIECBAgAABAgQIECBAgAABAgRaFxCQtk7sAAQIECBAgAABAgQIECBAgAABAgQIdFVAQNrVntEuAgQIECBAgAABAgQIECBAgAABAgRaFxCQtk7sAAQIECBAgAABAgQIECBAgAABAgQIdFVAQNrVntEuAgQIECBAgAABAgQIECBAgAABAgRaFxCQtk7sAAQIECBAgAABAgQIECBAgAABAgQIdFVAQNrVntEuAgQIECBAgAABAgQIECBAgAABAgRaFxCQtk7sAAQIECBAgAABAgQIECBAgAABAgQIdFVAQNrVntEuAgQIECBAgAABAgQIECBAgAABAgRaFxCQtk7sAAQIECBAgAABAgQIECBAgAABAgQIdFVAQNrVntEuAgQIECBAgAABAgQIECBAgAABAgRaFxCQtk7sAAQIECBAgAABAgQIECBAgAABAgQIdFVAQNrVntEuAgQIECBAgAABAgQIECBAgAABAgRaF/g/RE62JEAF4isAAAAASUVORK5CYII=)"
      ],
      "metadata": {
        "id": "KnOtJmz7Z6Xr"
      }
    },
    {
      "cell_type": "code",
      "source": [
        "# Co-occurrence Matrix\n",
        "sim = defaultdict(int)\n",
        "# Review Count Matrix\n",
        "num = defaultdict(int)\n",
        "\n",
        "for uid, items in tqdm(train_reviewer_items.items()):\n",
        "    # For each movie in the list of movies reviewed by the current user\n",
        "    for i in items:\n",
        "        # Count the number of times movie i is reivewed\n",
        "        num[i] += 1\n",
        "        # Count the co-occurrence times of movie i and movie j\n",
        "        if i not in sim:\n",
        "            sim[i] = defaultdict(int)\n",
        "        for j in items:\n",
        "            if i != j:\n",
        "                sim[i][j] += 1"
      ],
      "metadata": {
        "id": "QcCr89AAKmer",
        "colab": {
          "base_uri": "https://localhost:8080/"
        },
        "outputId": "61db26c6-ad16-492c-8cee-3a68f3c66933"
      },
      "execution_count": null,
      "outputs": [
        {
          "output_type": "stream",
          "name": "stderr",
          "text": [
            "100%|██████████| 6964/6964 [00:02<00:00, 2399.05it/s]\n"
          ]
        }
      ]
    },
    {
      "cell_type": "markdown",
      "source": [
        "#### Similarity Matrix"
      ],
      "metadata": {
        "id": "9qE_TCpZcc_W"
      }
    },
    {
      "cell_type": "markdown",
      "source": [
        "The next step was to calculate the similarity among each movie. The formula is shown below.\n",
        " \n",
        "$$W_{uv}=\\frac{|N(u)||N(v)|}{\\sqrt{|N(u)||N(v)|}}$$\n",
        "\n",
        "*N(u)* represents the number of customers who like the movie *u*, *N(v)* represents the number of customers who like the movie *v*, and the intersection of the two represents the number of customers who like both movie *u* and *v*, that is the value in co-occurrence matrix. "
      ],
      "metadata": {
        "id": "bj4e0l__bTdt"
      }
    },
    {
      "cell_type": "code",
      "source": [
        "# Similarity Matrix\n",
        "for i, items in tqdm(sim.items()):\n",
        "    for j, score in items.items():\n",
        "        if i != j:\n",
        "           sim[i][j] = score / math.sqrt(num[i] * num[j])"
      ],
      "metadata": {
        "id": "ysjcSv3NKuji",
        "colab": {
          "base_uri": "https://localhost:8080/"
        },
        "outputId": "4d1aaae3-d187-4ebc-8a3e-608dd365a0b3"
      },
      "execution_count": null,
      "outputs": [
        {
          "output_type": "stream",
          "name": "stderr",
          "text": [
            "100%|██████████| 1220/1220 [00:00<00:00, 1638.22it/s]\n"
          ]
        }
      ]
    },
    {
      "cell_type": "markdown",
      "source": [
        "Therefore, based on the similarity matrix calculated above, we could sort the similarity and recommend top-n movies to customers."
      ],
      "metadata": {
        "id": "2dlbvpkVcSR6"
      }
    },
    {
      "cell_type": "code",
      "source": [
        "items_rank = defaultdict(int)\n",
        "print('Recommending．．．')\n",
        "for uid, _ in tqdm(test_reviewer_items.items()):\n",
        "    # Store recommended candidates for customer\n",
        "    items_rank[uid] = defaultdict(int)\n",
        "    if uid not in train_reviewer_items.keys():\n",
        "        continue\n",
        "    # Run through the customer's historical favorite items to find similar items below\n",
        "    for hist_item in train_reviewer_items[uid]:\n",
        "        for item, score in sorted(sim[hist_item].items(), key=lambda x: x[1], reverse=True)[:80]:\n",
        "            # Recommended items should not appear in historical favorites\n",
        "            if item not in train_reviewer_items[uid]:\n",
        "                # Calculate the similarity score of the current item by the current uid\n",
        "                items_rank[uid][item] += score\n",
        "    \n",
        "print('Recommend Top - 10 movies with the highest similarity score for each customers...')\n",
        "items_rank = {k: sorted(v.items(), key=lambda x: x[1], reverse=True)[:10] for k, v in items_rank.items()}\n",
        "items_rank = {k: set([x[0] for x in v]) for k, v in items_rank.items()}"
      ],
      "metadata": {
        "id": "aZzy49CpKxOT",
        "colab": {
          "base_uri": "https://localhost:8080/"
        },
        "outputId": "d5b34a84-b64f-4730-d5c3-b445af5368f9"
      },
      "execution_count": null,
      "outputs": [
        {
          "output_type": "stream",
          "name": "stdout",
          "text": [
            "Recommending．．．\n"
          ]
        },
        {
          "output_type": "stream",
          "name": "stderr",
          "text": [
            "100%|██████████| 3732/3732 [00:14<00:00, 249.59it/s]\n"
          ]
        },
        {
          "output_type": "stream",
          "name": "stdout",
          "text": [
            "Recommend Top - 10 movies with the highest similarity score for each customers...\n"
          ]
        }
      ]
    },
    {
      "cell_type": "code",
      "source": [
        "print('Recall:', Recall(items_rank, test_reviewer_items), '%')\n",
        "print('Precision', Precision(items_rank, test_reviewer_items), '%')\n",
        "print('Detection', Detection(items_rank, test_reviewer_items), '%')"
      ],
      "metadata": {
        "id": "MCh9a474K6S7",
        "colab": {
          "base_uri": "https://localhost:8080/"
        },
        "outputId": "bfd5b959-5e88-497f-cd2d-534cee6ffffa"
      },
      "execution_count": null,
      "outputs": [
        {
          "output_type": "stream",
          "name": "stdout",
          "text": [
            "Recall: 2.17 %\n",
            "Precision 2.32 %\n",
            "Detection 16.87 %\n"
          ]
        }
      ]
    },
    {
      "cell_type": "code",
      "source": [
        ""
      ],
      "metadata": {
        "id": "rqxz8Q_7fVul"
      },
      "execution_count": null,
      "outputs": []
    }
  ]
}